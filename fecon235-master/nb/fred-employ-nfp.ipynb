{
 "cells": [
  {
   "cell_type": "markdown",
   "metadata": {},
   "source": [
    "# Employment data: NFP\n",
    "\n",
    "We examine U.S. employment data, in particular, \n",
    "**Nonfarm Payroll**, which has considerable influence \n",
    "on the financial markets. \n",
    "\n",
    "We focus on forecasting the monthly change in NFP\n",
    "using a variety of optics:\n",
    "\n",
    "- Baseline expectation since 1939\n",
    "- Holt-Winters method\n",
    "- Visual selection of local range\n",
    "- Regression against S&P 500\n",
    "\n",
    "The ideal point forecast would a weighted combination of\n",
    "different techniques, but the standard errors\n",
    "are inherently very large due to survey measurement error.\n",
    "\n",
    "Examining the NFP data, much more volatility is involved than\n",
    "what is commonly understood in the financial news.\n",
    "Secondarily, we are left to also consider the\n",
    "difference from \"street\" expectations\n",
    "to assess possible impact on the markets\n",
    "and the Fed's monetary policy."
   ]
  },
  {
   "cell_type": "markdown",
   "metadata": {},
   "source": [
    "*Dependencies:*\n",
    "\n",
    "- Repository: https://github.com/rsvp/fecon235\n",
    "- Python: matplotlib, pandas\n",
    "     \n",
    "*CHANGE LOG*\n",
    "\n",
    "    2016-05-24  Consider SPX and lagged corporate earnings.\n",
    "    2015-11-12  Preliminary draft."
   ]
  },
  {
   "cell_type": "code",
   "execution_count": 1,
   "metadata": {
    "collapsed": false
   },
   "outputs": [],
   "source": [
    "from fecon235.fecon235 import *"
   ]
  },
  {
   "cell_type": "code",
   "execution_count": 2,
   "metadata": {
    "collapsed": false
   },
   "outputs": [
    {
     "name": "stdout",
     "output_type": "stream",
     "text": [
      " ::  Python 2.7.11\n",
      " ::  IPython 4.2.0\n",
      " ::  jupyter_core 4.1.0\n",
      " ::  notebook 4.1.0\n",
      " ::  matplotlib 1.5.1\n",
      " ::  numpy 1.10.4\n",
      " ::  pandas 0.18.0\n",
      " ::  pandas_datareader 0.2.1\n",
      " ::  Repository: fecon235 v4.16.0329 devNFP\n",
      " ::  Timestamp: 2016-05-25, 23:03:04 UTC\n",
      " ::  $pwd: /media/yaya/virt15h/virt/dbx/Dropbox/ipy/fecon235/nb\n"
     ]
    }
   ],
   "source": [
    "#  PREAMBLE-p6.16.0428 :: Settings and system details\n",
    "from __future__ import absolute_import, print_function\n",
    "system.specs()\n",
    "pwd = system.getpwd()   # present working directory as variable.\n",
    "print(\" ::  $pwd:\", pwd)\n",
    "#  If a module is modified, automatically reload it:\n",
    "%load_ext autoreload\n",
    "%autoreload 2\n",
    "#       Use 0 to disable this feature.\n",
    "\n",
    "#  Notebook DISPLAY options:\n",
    "#      Represent pandas DataFrames as text; not HTML representation:\n",
    "import pandas as pd\n",
    "pd.set_option( 'display.notebook_repr_html', False )\n",
    "from IPython.display import HTML # useful for snippets\n",
    "#  e.g. HTML('<iframe src=http://en.mobile.wikipedia.org/?useformat=mobile width=700 height=350></iframe>')\n",
    "from IPython.display import Image \n",
    "#  e.g. Image(filename='holt-winters-equations.png', embed=True) # url= also works\n",
    "from IPython.display import YouTubeVideo\n",
    "#  e.g. YouTubeVideo('1j_HxD4iLn8', start='43', width=600, height=400)\n",
    "from IPython.core import page\n",
    "get_ipython().set_hook('show_in_pager', page.as_hook(page.display_page), 0)\n",
    "#  Or equivalently in config file: \"InteractiveShell.display_page = True\", \n",
    "#  which will display results in secondary notebook pager frame in a cell.\n",
    "\n",
    "#  Generate PLOTS inside notebook, \"inline\" generates static png:\n",
    "%matplotlib inline   \n",
    "#          \"notebook\" argument allows interactive zoom and resize."
   ]
  },
  {
   "cell_type": "markdown",
   "metadata": {
    "collapsed": true
   },
   "source": [
    "## NFP data\n",
    "\n",
    "Federal Reserve FRED states: \"Total **Nonfarm Payroll** is a measure of the number of \n",
    "U.S. workers in the economy that *excludes proprietors, private household \n",
    "employees, unpaid volunteers, farm employees, and the unincorporated self-employed*. \n",
    "This measure accounts for approximately 80 percent of the workers who \n",
    "contribute to Gross Domestic Product (GDP).\"\n",
    "\n",
    "It provides useful insights into the current economic situation \n",
    "because it is a good proxy for the number of jobs added or lost in an economy. \n",
    "Increases in employment might indicate that businesses are hiring which \n",
    "might also suggest that businesses are growing. Additionally, those who \n",
    "are newly employed have increased their personal incomes, which \n",
    "means (all else constant) their disposable incomes have also increased, \n",
    "thus fostering further economic expansion.\n",
    "\n",
    "Generally, the U.S. labor force and levels of unemployment \n",
    "are subject to fluctuations due to seasonal changes in weather, major holidays, \n",
    "and the opening and closing of schools. The Bureau of Labor Statistics (BLS) \n",
    "adjusts the data to offset the seasonal effects to show non-seasonal changes: \n",
    "for example, women's participation in the labor force; or a general decline \n",
    "in the number of employees, a possible indication of a downturn in the economy. \n",
    "\n",
    "To closely examine seasonal and non-seasonal changes, the BLS releases \n",
    "two **monthly** statistical measures: the seasonally adjusted All Employees: \n",
    "Total Nonfarm (PAYEMS) and All Employees: Total Nonfarm (PAYNSA), \n",
    "which is not seasonally adjusted.\"\n",
    "\n",
    "**The financial market keenly watches PAYEMS, thus we set *m4nfp* to that measure.**"
   ]
  },
  {
   "cell_type": "code",
   "execution_count": 3,
   "metadata": {
    "collapsed": false
   },
   "outputs": [],
   "source": [
    "#  Nonfarm Payroll workers in thousands, seasonally adjusted:\n",
    "nfp = get( m4nfp )"
   ]
  },
  {
   "cell_type": "code",
   "execution_count": 4,
   "metadata": {
    "collapsed": true
   },
   "outputs": [],
   "source": [
    "#  We know the number of total workers, \n",
    "#  so test the assertion that NFP\n",
    "#  \"accounts for approximately 80 percent of the workers.\"\n",
    "workers = get( m4workers )\n",
    "nfp_ratio = todf( nfp / workers )"
   ]
  },
  {
   "cell_type": "code",
   "execution_count": 5,
   "metadata": {
    "collapsed": false
   },
   "outputs": [],
   "source": [
    "# # Uncomment to see plot:\n",
    "# plot( nfp_ratio )\n",
    "\n",
    "#  nfp_ratio gradually rose from 55% in 1950's\n",
    "#            to about 75% currently."
   ]
  },
  {
   "cell_type": "markdown",
   "metadata": {},
   "source": [
    "So NFP currently accounts for **approximately 75% \n",
    "of all workers** *currently*. The nfp_ratio plot \n",
    "clearly shows the shift away from farms and into \n",
    "corporations since WWII."
   ]
  },
  {
   "cell_type": "code",
   "execution_count": 6,
   "metadata": {
    "collapsed": false
   },
   "outputs": [
    {
     "data": {
      "image/png": "[encoded data removed]",
      "text/plain": [
       "<matplotlib.figure.Figure at 0xaafae04c>"
      ]
     },
     "metadata": {},
     "output_type": "display_data"
    }
   ],
   "source": [
    "#  MAIN PLOT of plain NFP, in thousands of workers,\n",
    "#            seasonally adjusted monthly.\n",
    "plot( nfp )"
   ]
  },
  {
   "cell_type": "code",
   "execution_count": 7,
   "metadata": {
    "collapsed": false
   },
   "outputs": [
    {
     "name": "stdout",
     "output_type": "stream",
     "text": [
      " ::  regresstime slope = 128.909629362\n"
     ]
    }
   ],
   "source": [
    "#  NFP has a linear trend over the long-term...\n",
    "nfp_trend = trend( nfp )\n",
    "\n",
    "#  ... dataframe contains points of the computed uptrend."
   ]
  },
  {
   "cell_type": "code",
   "execution_count": 8,
   "metadata": {
    "collapsed": true
   },
   "outputs": [],
   "source": [
    "#  Set slope for later calculation:\n",
    "nfp_slope = 128.91\n",
    "#  as of 2016-05-20: 128.91\n",
    "#  as of 2016-04-19: 128.92\n",
    "#  as of 2015-11-12: 128.98"
   ]
  },
  {
   "cell_type": "markdown",
   "metadata": {},
   "source": [
    "The slope of the trend gives us a **baseline expectation: \n",
    "on average, 129,000 nonfarm workers can be expected to be added monthly** \n",
    "(given data from 1939 to 2016). We suspect that at the core, \n",
    "this trend could be modeled mainly by population dynamics,\n",
    "but it is also related to the birth and death rate of business firms."
   ]
  },
  {
   "cell_type": "code",
   "execution_count": 9,
   "metadata": {
    "collapsed": true
   },
   "outputs": [],
   "source": [
    "#  Take the first difference, i.e. Month over Month:\n",
    "nfp_dif = dif( nfp, 1 )"
   ]
  },
  {
   "cell_type": "code",
   "execution_count": 10,
   "metadata": {
    "collapsed": false
   },
   "outputs": [],
   "source": [
    "#  Subtract the long-term base expected change:\n",
    "nfp_dif_base = todf( nfp_dif - nfp_slope )"
   ]
  },
  {
   "cell_type": "code",
   "execution_count": 11,
   "metadata": {
    "collapsed": false
   },
   "outputs": [
    {
     "data": {
      "image/png": "[encoded data removed]",
      "text/plain": [
       "<matplotlib.figure.Figure at 0xa97d108c>"
      ]
     },
     "metadata": {},
     "output_type": "display_data"
    }
   ],
   "source": [
    "#  Our data goes back to 1939, \n",
    "#  so let's plot a recent subsegment:\n",
    "plot( nfp_dif_base['2000':] )"
   ]
  },
  {
   "cell_type": "markdown",
   "metadata": {},
   "source": [
    "The last plot depicts deviations from nfp_slope,\n",
    "that is, deviations from our baseline expectation.\n",
    "\n",
    "During the Great Recession, there were several months where about \n",
    "one million jobs were lost each month.\n",
    "Consistent above average job additions started after 2011. \n",
    "\n",
    "The cumulative effect can be seen by looking at the deviations from trend."
   ]
  },
  {
   "cell_type": "code",
   "execution_count": 12,
   "metadata": {
    "collapsed": false
   },
   "outputs": [],
   "source": [
    "nfp_dev = nfp - nfp_trend"
   ]
  },
  {
   "cell_type": "code",
   "execution_count": 13,
   "metadata": {
    "collapsed": false
   },
   "outputs": [
    {
     "data": {
      "image/png": "[encoded data removed]",
      "text/plain": [
       "<matplotlib.figure.Figure at 0xa9a6a14c>"
      ]
     },
     "metadata": {},
     "output_type": "display_data"
    }
   ],
   "source": [
    "plot( nfp_dev )"
   ]
  },
  {
   "cell_type": "code",
   "execution_count": 14,
   "metadata": {
    "collapsed": false
   },
   "outputs": [
    {
     "data": {
      "image/png": "[encoded data removed]",
      "text/plain": [
       "<matplotlib.figure.Figure at 0xa97c232c>"
      ]
     },
     "metadata": {},
     "output_type": "display_data"
    }
   ],
   "source": [
    "#  Zoom in on deviations post-2000:\n",
    "plot( nfp_dev['2000':])"
   ]
  },
  {
   "cell_type": "markdown",
   "metadata": {},
   "source": [
    "From 2008 through 2011, over 11 million workers were removed from NFP. \n",
    "As of April 2016 the recovery has been gradual, but still sub-trend. "
   ]
  },
  {
   "cell_type": "markdown",
   "metadata": {},
   "source": [
    "## Forecasting NFP as univariate time-series\n",
    "\n",
    "*Presumably* examining the first difference series gives insight into \n",
    "how the economy is developing over the short-term. To forecast NFP, \n",
    "it is instructive to go back to the original series and use \n",
    "the Holt-Winters method."
   ]
  },
  {
   "cell_type": "code",
   "execution_count": 15,
   "metadata": {
    "collapsed": false
   },
   "outputs": [
    {
     "data": {
      "text/plain": [
       "         Forecast\n",
       "0   143915.000000\n",
       "1   144205.863284\n",
       "2   144428.671615\n",
       "3   144651.479947\n",
       "4   144874.288279\n",
       "5   145097.096610\n",
       "6   145319.904942\n",
       "7   145542.713274\n",
       "8   145765.521605\n",
       "9   145988.329937\n",
       "10  146211.138268\n",
       "11  146433.946600\n",
       "12  146656.754932"
      ]
     },
     "execution_count": 15,
     "metadata": {},
     "output_type": "execute_result"
    }
   ],
   "source": [
    "#  Forecast 12 months into the future:\n",
    "nfp_fc_holt = forecast( nfp, 12 )\n",
    "nfp_fc_holt"
   ]
  },
  {
   "cell_type": "code",
   "execution_count": 16,
   "metadata": {
    "collapsed": false
   },
   "outputs": [
    {
     "data": {
      "text/plain": [
       "Forecast    290.863284\n",
       "dtype: float64"
      ]
     },
     "execution_count": 16,
     "metadata": {},
     "output_type": "execute_result"
    }
   ],
   "source": [
    "#  Forecast NFP change for next month's release:\n",
    "nfp_fc_holt.iloc[1] - nfp_fc_holt.iloc[0]"
   ]
  },
  {
   "cell_type": "markdown",
   "metadata": {},
   "source": [
    "A large difference between such forecasts\n",
    "and the \"street\" expectations can cause\n",
    "major shifts in the financial markets\n",
    "on release day, especially the bond market.\n",
    "\n",
    "This is especially true when the Federal Reserve\n",
    "places more emphasis on labor market conditions\n",
    "than economic activity in making their policy decision.\n",
    "Note that employment is one of two mandates\n",
    "which drives monetary policy."
   ]
  },
  {
   "cell_type": "code",
   "execution_count": 17,
   "metadata": {
    "collapsed": false
   },
   "outputs": [
    {
     "name": "stdout",
     "output_type": "stream",
     "text": [
      "                Y\n",
      "count  196.000000\n",
      "mean   -61.894694\n",
      "std    229.548441\n",
      "min   -951.910000\n",
      "25%   -154.160000\n",
      "50%     -0.910000\n",
      "75%     89.840000\n",
      "max    393.090000\n"
     ]
    }
   ],
   "source": [
    "#  Show recent dispersion around baseline expection of 129:\n",
    "stat( nfp_dif_base['2000':] )"
   ]
  },
  {
   "cell_type": "markdown",
   "metadata": {},
   "source": [
    "Our point forecast is unfortunately clouded by a rather\n",
    "large standard deviation of approximately 230.\n",
    "\n",
    "\n",
    "### Forecast NFP dif by local range\n",
    "\n",
    "An *alternative* is to notice how nfp_dif has been range bound since 2011. \n",
    "The mean can serve as a point forecast for the change in NFP, \n",
    "and the standard deviation can estimate the standard error."
   ]
  },
  {
   "cell_type": "code",
   "execution_count": 18,
   "metadata": {
    "collapsed": false
   },
   "outputs": [
    {
     "name": "stdout",
     "output_type": "stream",
     "text": [
      "                Y\n",
      "count   64.000000\n",
      "mean   204.296875\n",
      "std     74.896263\n",
      "min     42.000000\n",
      "25%    149.000000\n",
      "50%    207.500000\n",
      "75%    266.000000\n",
      "max    346.000000\n"
     ]
    }
   ],
   "source": [
    "stat( nfp_dif['2011':] )"
   ]
  },
  {
   "cell_type": "markdown",
   "metadata": {},
   "source": [
    "2015-11-12:  Our forecasted NFP change for Nov 2015 = **+205,000** +/- 77,000 at 1 std.\n",
    "(So Fed would be discouraged by a change < +128,000 which happens to be \n",
    "our computed baseline trend.) \n",
    "The street mean prediction for Oct 2015 \n",
    "was +185,000, but the actual turned out to be +271,000 -- whereupon \n",
    "Bill Gross declared 100% chance of December rate hike,\n",
    "which in fact did transpire: indicating the divergence\n",
    "of Fed policy from both the ECB and BOJ.\n",
    "\n",
    "2016-04-27:  Our forecasted NFP change for April 2016 = **+205,000** +/- 75,000 at 1 std.\n",
    "There is street chatter of a recession,\n",
    "so perhaps a negative 2 std change would be convincing,\n",
    "that is to say, less than +55,000 NFP announcement.\n",
    "\n",
    "Interestingly the street expectation for April 2016 was also +205,000,\n",
    "and the actual released figure was +160,000 (thus -0.60 std from street expectation).\n",
    "\n",
    "2016-05-20: Our forecasted NFP change for May 2016 = **+204,000** +/- 75,000 at 1 std."
   ]
  },
  {
   "cell_type": "markdown",
   "metadata": {},
   "source": [
    "### Measurement sampling error\n",
    "\n",
    "So far we have looked at the raw data, but let us briefly look at\n",
    "the methodology which produces the NFP numbers by the\n",
    "Bureau of Labor Statistics (BLS).\n",
    "\n",
    "BLS uses the Current Employment Statistics (CES) program,\n",
    "also known as the payroll survey or the establishment survey,\n",
    "which is a monthly survey of approximately 146,000 businesses\n",
    "and government agencies representing approximately\n",
    "623,000 worksites throughout the United States.\n",
    "See http://www.bls.gov/bls/empsitquickguide.htm\n",
    "\n",
    "The survey is merely a statistical sampling of the entire working population\n",
    "and therefore subject to measurement error.\n",
    "Currently for NFP, the Bureau estimates the root mean squared error\n",
    "to be approximately 62,800 with respect to the monthly level.\n",
    "See http://www.bls.gov/web/empsit/cestn.htm#section1c\n",
    "\n",
    "Thus measurement sampling error at the source \n",
    "is consistent with our estimated forecasting errors,\n",
    "and should be regarded as the practical minimum error."
   ]
  },
  {
   "cell_type": "markdown",
   "metadata": {},
   "source": [
    "### Interim remarks on signal and noise\n",
    "\n",
    "Examination of the raw data and the sampling techniques\n",
    "reveal that much of what moves the market upon\n",
    "the release of monthly NFP is largely based on\n",
    "noise. That is to say, reading into any noisy changes\n",
    "within the error bounds of a single monthly release\n",
    "is statistically unsound.\n",
    "\n",
    "NFP as an indicator of economic activity obviously involves *lag*.\n",
    "A rear view mirror is only somewhat useful\n",
    "in going forward fast on the freeway.\n",
    "\n",
    "A *leading* indicator which correlates with NFP is\n",
    "the stock market, as demonstrated in the next section.\n",
    "(We tried corporate earnings as a proxy of economic activity,\n",
    "but the fit with SPX is comparable, moreover,\n",
    "SPX can be readily accessed in real-time.)"
   ]
  },
  {
   "cell_type": "markdown",
   "metadata": {},
   "source": [
    "## NFP relationship to economic activity\n",
    "\n",
    "Here we explore the relationship between a labor market statistic NFP and \n",
    "US economic activity using the SPX (S&P 500 index) as proxy.\n",
    "\n",
    "When the stock market is booming, it is reasonable to expect more corporate workers \n",
    "on the payroll. There is high correlation, but the data shows that \n",
    "something more than a linear regression model is needed\n",
    "to capture the volatile dynamics for short-term forecasting."
   ]
  },
  {
   "cell_type": "code",
   "execution_count": 27,
   "metadata": {
    "collapsed": false
   },
   "outputs": [
    {
     "name": "stdout",
     "output_type": "stream",
     "text": [
      " ::  S&P 500 prepend successfully goes back to 1957.\n"
     ]
    }
   ],
   "source": [
    "#  Resampled to monthly, the NFP frequency:\n",
    "spx = get( m4spx )"
   ]
  },
  {
   "cell_type": "code",
   "execution_count": 28,
   "metadata": {
    "collapsed": false
   },
   "outputs": [],
   "source": [
    "#  Data transformed logarithmically:\n",
    "lnfp = np.log( nfp )\n",
    "lspx = np.log( spx )"
   ]
  },
  {
   "cell_type": "code",
   "execution_count": 29,
   "metadata": {
    "collapsed": false
   },
   "outputs": [],
   "source": [
    "#  Define start and end:\n",
    "start = '1980'\n",
    "end   = '2020'"
   ]
  },
  {
   "cell_type": "code",
   "execution_count": 30,
   "metadata": {
    "collapsed": false
   },
   "outputs": [
    {
     "name": "stdout",
     "output_type": "stream",
     "text": [
      " ::  FIRST variable:\n",
      "count    436.000000\n",
      "mean      11.678566\n",
      "std        0.145405\n",
      "min       11.393793\n",
      "25%       11.583956\n",
      "50%       11.736881\n",
      "75%       11.795143\n",
      "max       11.876978\n",
      "Name: Y, dtype: float64\n",
      "\n",
      " ::  SECOND variable:\n",
      "count    437.000000\n",
      "mean       6.422434\n",
      "std        0.876755\n",
      "min        4.632396\n",
      "25%        5.722735\n",
      "50%        6.784095\n",
      "75%        7.157229\n",
      "max        7.657330\n",
      "Name: Y, dtype: float64\n",
      "\n",
      " ::  CORRELATION\n",
      "0.987661111947\n",
      "                            OLS Regression Results                            \n",
      "==============================================================================\n",
      "Dep. Variable:                      Y   R-squared:                       0.975\n",
      "Model:                            OLS   Adj. R-squared:                  0.975\n",
      "Method:                 Least Squares   F-statistic:                 1.726e+04\n",
      "Date:                Wed, 25 May 2016   Prob (F-statistic):               0.00\n",
      "Time:                        16:04:54   Log-Likelihood:                 1030.9\n",
      "No. Observations:                 436   AIC:                            -2058.\n",
      "Df Residuals:                     434   BIC:                            -2050.\n",
      "Df Model:                           1                                         \n",
      "Covariance Type:            nonrobust                                         \n",
      "==============================================================================\n",
      "                 coef    std err          t      P>|t|      [95.0% Conf. Int.]\n",
      "------------------------------------------------------------------------------\n",
      "Intercept     10.6259      0.008   1314.149      0.000        10.610    10.642\n",
      "X              0.1640      0.001    131.384      0.000         0.162     0.166\n",
      "==============================================================================\n",
      "Omnibus:                       10.493   Durbin-Watson:                   0.076\n",
      "Prob(Omnibus):                  0.005   Jarque-Bera (JB):               12.151\n",
      "Skew:                           0.275   Prob(JB):                      0.00230\n",
      "Kurtosis:                       3.605   Cond. No.                         49.1\n",
      "==============================================================================\n",
      "\n",
      "Warnings:\n",
      "[1] Standard Errors assume that the covariance matrix of the errors is correctly specified.\n"
     ]
    }
   ],
   "source": [
    "stat2(lnfp[start:end].Y, lspx[start:end].Y, intercept=True)"
   ]
  },
  {
   "cell_type": "markdown",
   "metadata": {
    "collapsed": true
   },
   "source": [
    "Given some lag $n > 0$, the regression using log transformed data implies\n",
    "(these equations may not render properly when viewed via GitHub):\n",
    "\n",
    "$$ \\eqalign{ \\log N_t &= b \\log S_t + c  \\cr        \n",
    "   \\log {N_t \\over N_{t-n}} &= b \\log {S_t \\over S_{t-n}} \\cr\n",
    "   \\Delta^\\%_n(N_t) &\\approx b \\Delta^\\%_n(S_t)  \\qquad\\hbox{for some  } n.\\cr }$$\n",
    "   \n",
    "Noting for the third equation that log(1+ψ)≈ψ, for small ψ\n",
    "where ψ can be expressed in percentage terms.\n",
    "The delta here signifies percentage difference over n lags."
   ]
  },
  {
   "cell_type": "markdown",
   "metadata": {},
   "source": [
    "### Approximate interpretation (where start='1980')\n",
    "\n",
    "The result appears almost perfect:\n",
    "correlation between the two variables is 0.99,\n",
    "and R-squared for the regression is 0.98\n",
    "(the *start* value was fortunate).\n",
    "\n",
    "Since the coefficient b is about 0.164, that implies the NFP will roughly change\n",
    "by one sixth of the change observed in the stock market.\n",
    "This is helpful because we can observe SPX in real-time,\n",
    "and thus it would seem we can forecast NFP accurately in lagged time.\n",
    "\n",
    "We note that our monthly resampling of daily SPX takes the\n",
    "monthly median for robustness (not the mean)."
   ]
  },
  {
   "cell_type": "code",
   "execution_count": 31,
   "metadata": {
    "collapsed": false
   },
   "outputs": [
    {
     "data": {
      "text/plain": [
       "                  Y\n",
       "T                  \n",
       "2015-11-01  2086.59\n",
       "2015-12-01  2056.50\n",
       "2016-01-01  1906.90\n",
       "2016-02-01  1915.45\n",
       "2016-03-01  2027.22\n",
       "2016-04-01  2080.73\n",
       "2016-05-01  2057.14"
      ]
     },
     "execution_count": 31,
     "metadata": {},
     "output_type": "execute_result"
    }
   ],
   "source": [
    "tail( spx )"
   ]
  },
  {
   "cell_type": "code",
   "execution_count": 32,
   "metadata": {
    "collapsed": false
   },
   "outputs": [
    {
     "data": {
      "text/plain": [
       "                 Y\n",
       "T                 \n",
       "2015-10-01  142595\n",
       "2015-11-01  142875\n",
       "2015-12-01  143146\n",
       "2016-01-01  143314\n",
       "2016-02-01  143547\n",
       "2016-03-01  143755\n",
       "2016-04-01  143915"
      ]
     },
     "execution_count": 32,
     "metadata": {},
     "output_type": "execute_result"
    }
   ],
   "source": [
    "tail( nfp )"
   ]
  },
  {
   "cell_type": "markdown",
   "metadata": {},
   "source": [
    "For May 2016, the SPX monthly percentage is -1.10% thus we can\n",
    "forecast -1.10\\*0.164 = -0.18% for NFP which translates to\n",
    "a loss of -259,000 NFP jobs.\n",
    "\n",
    "We duly note that our baseline expectation of +129,000 NFP jobs\n",
    "at the current level equates to +0.55% monthly SPX increase (+6.56% annualized).\n",
    "\n",
    "Next we examine respective annual volatility\n",
    "(third in the list from georet() output)."
   ]
  },
  {
   "cell_type": "code",
   "execution_count": 33,
   "metadata": {
    "collapsed": false
   },
   "outputs": [
    {
     "data": {
      "text/plain": [
       "[8.08, 8.91, 12.87, 12, 437, '1980-01-01', '2016-05-01']"
      ]
     },
     "execution_count": 33,
     "metadata": {},
     "output_type": "execute_result"
    }
   ],
   "source": [
    "#  SPX geometric mean return\n",
    "georet( spx[start:end], 12 )"
   ]
  },
  {
   "cell_type": "code",
   "execution_count": 34,
   "metadata": {
    "collapsed": false
   },
   "outputs": [
    {
     "data": {
      "text/plain": [
       "[1.27, 1.27, 0.65, 12, 436, '1980-01-01', '2016-04-01']"
      ]
     },
     "execution_count": 34,
     "metadata": {},
     "output_type": "execute_result"
    }
   ],
   "source": [
    "#  NFP geometric growth rate:\n",
    "georet( nfp[start:end], 12 )"
   ]
  },
  {
   "cell_type": "markdown",
   "metadata": {},
   "source": [
    "One can surmise the problem of forecasting NFP using the stock market\n",
    "over the very short-term: SPX annualized volatility of 12.87%\n",
    "far exceeds NFP annualized volatility of 0.65%.\n",
    "It is 19.8 times larger!\n",
    "The former partially reflects speculative activity,\n",
    "while the latter will be more rigid\n",
    "since employment is not instanteous transactionally.\n",
    "\n",
    "It is interesting to note how the geometric growth rate of NFP\n",
    "is 0.157 of the SPX geometric mean return, which is consistent\n",
    "with our regression result.\n",
    "\n",
    "It is a long-term result and should not be solely relied upon\n",
    "for short-term forecasting where trading is involved\n",
    "due to the relative magnitudes of the volatilities.\n",
    "\n"
   ]
  },
  {
   "cell_type": "markdown",
   "metadata": {},
   "source": [
    "## Closing remarks\n",
    "\n",
    "We have focused on forecasting the monthly change in NFP\n",
    "using a variety of lens. Here are some\n",
    "point forecasts for May 2016:\n",
    "\n",
    "- Baseline expectation (starting 1939): +129,000\n",
    "- Holt-Winters method: +291,000\n",
    "- Visual selection of local range: +204,000\n",
    "- Regression against S&P 500 (SPX since 1980): -259,000\n",
    "\n",
    "The ideal point forecast would a weighted combination of\n",
    "different techniques. Taking the simple average for the four above:\n",
    "\n",
    "- Mean point forecast: +91,250\n",
    "\n",
    "Clearly the regression with the stock market\n",
    "in this instance greatly reduces the expected NFP number to be released.\n",
    "\n",
    "But this exercise does not end here, for we must consider\n",
    "the difference from the street expectation\n",
    "to assess possible impact on the markets\n",
    "and the Fed's monetary policy.\n",
    "\n",
    "The standard error is relatively large.\n",
    "From the data alone, we observe the standard deviation of 74,900\n",
    "of which the survey sampling error acknowledged by the BLS is 62,800.\n",
    "\n",
    "Examining the NFP data, much more volatility is involved than\n",
    "what is commonly understood in the financial news.\n",
    "We shall later examine employment data in the context of a\n",
    "large-scale dynamic economic model with real-time components,\n",
    "which should improve our forecasting results.\n"
   ]
  }
 ],
 "metadata": {
  "kernelspec": {
   "display_name": "Python 2",
   "language": "python",
   "name": "python2"
  },
  "language_info": {
   "codemirror_mode": {
    "name": "ipython",
    "version": 2
   },
   "file_extension": ".py",
   "mimetype": "text/x-python",
   "name": "python",
   "nbconvert_exporter": "python",
   "pygments_lexer": "ipython2",
   "version": "2.7.11"
  }
 },
 "nbformat": 4,
 "nbformat_minor": 0
}
