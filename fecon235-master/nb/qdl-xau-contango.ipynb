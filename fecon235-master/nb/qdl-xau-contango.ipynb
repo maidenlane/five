{
 "cells": [
  {
   "cell_type": "markdown",
   "metadata": {},
   "source": [
    "# Gold contango\n",
    "\n",
    "We examine futures prices for gold, in particular, the contango situation. \n",
    "The futures price may be either higher or lower than the spot price. \n",
    "When the spot price is higher than the futures price, the market is said to \n",
    "be in **backwardation**. If the spot price is lower than the futures price, \n",
    "the market is in **contango**.\n",
    "\n",
    "The futures or forward curve would typically be upward sloping, \n",
    "since contracts for further dates would typically trade at even higher prices. \n",
    "A contango is normal for a non-perishable commodity that has \n",
    "a *cost of carry*. Such costs include warehousing fees and \n",
    "interest forgone on money tied up, \n",
    "less income from leasing out the commodity if possible (e.g. gold). \n",
    "\n",
    "Our study examines a segment of the futures curve, specifically the \n",
    "nearby contract versus another dated six months thereafter, \n",
    "for gold traded on the COMEX exchange. We use the expected \n",
    "LIBOR interest rate for the identical segment to adjust the \n",
    "cost of carry. We then compare this supply/demand indicator against spot prices. \n",
    "\n",
    "The *London Bullion Market Association* ceased publishing daily data \n",
    "on their *Gold Forward Offered Rate* (**GOFO**), as of 30 January 2015 -- \n",
    "so we develop an observable proxy called *tango*. \n",
    "\n",
    "During 2015 we detected strong *negative* correlation between price change and tango, \n",
    "however, in 2016 that strong correlation became *positive* -- \n",
    "thus we conclude the relationship is spurious. \n",
    "The observed correlations are mere artifacts \n",
    "which do not imply any significant economic relationships.\n",
    "\n",
    "Tango as an indicator is **not** insightful for price changes \n",
    "whenever it is at the extremes of its expected range. \n",
    "This can be verified by comparing various commits over time \n",
    "of this notebook in the repository.\n",
    "\n",
    "Short URL: https://git.io/xau-contango"
   ]
  },
  {
   "cell_type": "markdown",
   "metadata": {},
   "source": [
    "*Dependencies:*\n",
    "\n",
    "- fecon235 repository https://github.com/rsvp/fecon235\n",
    "- Python: matplotlib, pandas\n",
    "     \n",
    "*CHANGE LOG*\n",
    "\n",
    "    2016-12-04  Solve #2 by v5 and PREAMBLE-p6.16.0428 upgrades. \n",
    "                   Switch from fecon to fecon235 for main import module. \n",
    "                   Minor edits given more data and change in futures basis.\n",
    "                   Previous conclusion is negated. Correlation is artificial.\n",
    "    2015-10-11  Code review.\n",
    "    2015-09-11  First version."
   ]
  },
  {
   "cell_type": "code",
   "execution_count": 1,
   "metadata": {
    "collapsed": false
   },
   "outputs": [],
   "source": [
    "from fecon235.fecon235 import *"
   ]
  },
  {
   "cell_type": "code",
   "execution_count": 2,
   "metadata": {
    "collapsed": false
   },
   "outputs": [
    {
     "name": "stdout",
     "output_type": "stream",
     "text": [
      " ::  Python 2.7.11\n",
      " ::  IPython 4.2.0\n",
      " ::  jupyter_core 4.1.0\n",
      " ::  notebook 4.1.0\n",
      " ::  matplotlib 1.5.1\n",
      " ::  numpy 1.10.4\n",
      " ::  pandas 0.18.0\n",
      " ::  pandas_datareader 0.2.1\n",
      " ::  Repository: fecon235 v5.16.1107 develop\n",
      " ::  Timestamp: 2016-12-04, 17:25:44 UTC\n",
      " ::  $pwd: /media/yaya/virt15h/virt/dbx/Dropbox/ipy/fecon235/nb\n"
     ]
    }
   ],
   "source": [
    "#  PREAMBLE-p6.16.0428 :: Settings and system details\n",
    "from __future__ import absolute_import, print_function\n",
    "system.specs()\n",
    "pwd = system.getpwd()   # present working directory as variable.\n",
    "print(\" ::  $pwd:\", pwd)\n",
    "#  If a module is modified, automatically reload it:\n",
    "%load_ext autoreload\n",
    "%autoreload 2\n",
    "#       Use 0 to disable this feature.\n",
    "\n",
    "#  Notebook DISPLAY options:\n",
    "#      Represent pandas DataFrames as text; not HTML representation:\n",
    "import pandas as pd\n",
    "pd.set_option( 'display.notebook_repr_html', False )\n",
    "from IPython.display import HTML # useful for snippets\n",
    "#  e.g. HTML('<iframe src=http://en.mobile.wikipedia.org/?useformat=mobile width=700 height=350></iframe>')\n",
    "from IPython.display import Image \n",
    "#  e.g. Image(filename='holt-winters-equations.png', embed=True) # url= also works\n",
    "from IPython.display import YouTubeVideo\n",
    "#  e.g. YouTubeVideo('1j_HxD4iLn8', start='43', width=600, height=400)\n",
    "from IPython.core import page\n",
    "get_ipython().set_hook('show_in_pager', page.as_hook(page.display_page), 0)\n",
    "#  Or equivalently in config file: \"InteractiveShell.display_page = True\", \n",
    "#  which will display results in secondary notebook pager frame in a cell.\n",
    "\n",
    "#  Generate PLOTS inside notebook, \"inline\" generates static png:\n",
    "%matplotlib inline   \n",
    "#          \"notebook\" argument allows interactive zoom and resize."
   ]
  },
  {
   "cell_type": "code",
   "execution_count": 3,
   "metadata": {
    "collapsed": true
   },
   "outputs": [],
   "source": [
    "#  SET UP the particular (f4) futures contracts of interest:\n",
    "s_libor = 'f4libor16z'\n",
    "s_xau1  = 'f4xau16z'\n",
    "s_xau2  = 'f4xau17m'\n",
    "\n",
    "#  f4libor* refers to the CME Eurodollar futures.\n",
    "\n",
    "#  The second nearby contract for gold (xau)\n",
    "#  should be 6 months after the first using the \n",
    "#  June (m) and December (z) cycle\n",
    "\n",
    "#  RE-RUN this entire study by merely changing the string symbols."
   ]
  },
  {
   "cell_type": "code",
   "execution_count": 4,
   "metadata": {
    "collapsed": true
   },
   "outputs": [],
   "source": [
    "#  Retrieve data:\n",
    "libor = todf( 100 - get(s_libor) )\n",
    "#             ^convert quotes to conventional % format\n",
    "xau1 = get(s_xau1)\n",
    "xau2 = get(s_xau2)"
   ]
  },
  {
   "cell_type": "code",
   "execution_count": 5,
   "metadata": {
    "collapsed": false
   },
   "outputs": [
    {
     "data": {
      "text/plain": [
       "                 Y\n",
       "Date              \n",
       "2016-11-23  0.9950\n",
       "2016-11-25  0.9975\n",
       "2016-11-28  0.9925\n",
       "2016-11-29  0.9825\n",
       "2016-11-30  0.9900\n",
       "2016-12-01  0.9875\n",
       "2016-12-02  0.9875"
      ]
     },
     "execution_count": 5,
     "metadata": {},
     "output_type": "execute_result"
    }
   ],
   "source": [
    "tail(libor)"
   ]
  },
  {
   "cell_type": "code",
   "execution_count": 6,
   "metadata": {
    "collapsed": false
   },
   "outputs": [
    {
     "data": {
      "text/plain": [
       "                 Y\n",
       "Date              \n",
       "2016-11-23  1189.3\n",
       "2016-11-25  1178.4\n",
       "2016-11-28  1190.8\n",
       "2016-11-29  1187.9\n",
       "2016-11-30  1170.8\n",
       "2016-12-01  1166.9\n",
       "2016-12-02  1175.1"
      ]
     },
     "execution_count": 6,
     "metadata": {},
     "output_type": "execute_result"
    }
   ],
   "source": [
    "tail(xau1)"
   ]
  },
  {
   "cell_type": "code",
   "execution_count": 7,
   "metadata": {
    "collapsed": false
   },
   "outputs": [
    {
     "data": {
      "text/plain": [
       "                 Y\n",
       "Date              \n",
       "2016-11-23  1198.3\n",
       "2016-11-25  1187.0\n",
       "2016-11-28  1200.0\n",
       "2016-11-29  1197.0\n",
       "2016-11-30  1179.9\n",
       "2016-12-01  1175.3\n",
       "2016-12-02  1183.8"
      ]
     },
     "execution_count": 7,
     "metadata": {},
     "output_type": "execute_result"
    }
   ],
   "source": [
    "tail(xau2)"
   ]
  },
  {
   "cell_type": "markdown",
   "metadata": {},
   "source": [
    "Usually contango is described in price unit terms, however, we prefer the scale-free annualized percentage format. This places the measure on par with the way interest rates are usually quoted."
   ]
  },
  {
   "cell_type": "code",
   "execution_count": 8,
   "metadata": {
    "collapsed": true
   },
   "outputs": [],
   "source": [
    "#  Compute the contango in terms of annualized percentage:\n",
    "contango = todf( ((xau2 / xau1) - 1) * 200 )\n",
    "\n",
    "#  Multiply by 200 instead of 100 since \n",
    "#  the gold contracts are stipulated to be six months apart."
   ]
  },
  {
   "cell_type": "code",
   "execution_count": 9,
   "metadata": {
    "collapsed": false
   },
   "outputs": [
    {
     "data": {
      "text/plain": [
       "                   Y\n",
       "Date                \n",
       "2016-11-23  1.513495\n",
       "2016-11-25  1.459606\n",
       "2016-11-28  1.545180\n",
       "2016-11-29  1.532115\n",
       "2016-11-30  1.554493\n",
       "2016-12-01  1.439712\n",
       "2016-12-02  1.480725"
      ]
     },
     "execution_count": 9,
     "metadata": {},
     "output_type": "execute_result"
    }
   ],
   "source": [
    "tail( contango )"
   ]
  },
  {
   "cell_type": "code",
   "execution_count": 10,
   "metadata": {
    "collapsed": false
   },
   "outputs": [
    {
     "data": {
      "image/png": "[encoded data removed]",
      "text/plain": [
       "<matplotlib.figure.Figure at 0xaaf7d56c>"
      ]
     },
     "metadata": {},
     "output_type": "display_data"
    }
   ],
   "source": [
    "plot( contango )"
   ]
  },
  {
   "cell_type": "markdown",
   "metadata": {},
   "source": [
    "The largest variable component to the cost-of-carry is **interest**. We filter that out by subtracting the LIBOR rate obtained from the futures on Eurodollars. We shall call the result: **tango**."
   ]
  },
  {
   "cell_type": "code",
   "execution_count": 11,
   "metadata": {
    "collapsed": true
   },
   "outputs": [],
   "source": [
    "tango = todf( contango - libor )"
   ]
  },
  {
   "cell_type": "code",
   "execution_count": 12,
   "metadata": {
    "collapsed": false
   },
   "outputs": [
    {
     "data": {
      "text/plain": [
       "                   Y\n",
       "Date                \n",
       "2016-11-23  0.518495\n",
       "2016-11-25  0.462106\n",
       "2016-11-28  0.552680\n",
       "2016-11-29  0.549615\n",
       "2016-11-30  0.564493\n",
       "2016-12-01  0.452212\n",
       "2016-12-02  0.493225"
      ]
     },
     "execution_count": 12,
     "metadata": {},
     "output_type": "execute_result"
    }
   ],
   "source": [
    "tail( tango )"
   ]
  },
  {
   "cell_type": "code",
   "execution_count": 13,
   "metadata": {
    "collapsed": false
   },
   "outputs": [
    {
     "data": {
      "image/png": "[encoded data removed]",
      "text/plain": [
       "<matplotlib.figure.Figure at 0xa9a817cc>"
      ]
     },
     "metadata": {},
     "output_type": "display_data"
    }
   ],
   "source": [
    "#  MAIN chart <- pay attention here !!\n",
    "plot( tango )"
   ]
  },
  {
   "cell_type": "code",
   "execution_count": 14,
   "metadata": {
    "collapsed": false
   },
   "outputs": [
    {
     "data": {
      "text/plain": [
       "                Y\n",
       "count  512.000000\n",
       "mean    -0.131907\n",
       "std      0.422571\n",
       "min     -0.679746\n",
       "25%     -0.427747\n",
       "50%     -0.321510\n",
       "75%      0.197633\n",
       "max      0.869532"
      ]
     },
     "execution_count": 14,
     "metadata": {},
     "output_type": "execute_result"
    }
   ],
   "source": [
    "tango.describe()"
   ]
  },
  {
   "cell_type": "markdown",
   "metadata": {},
   "source": [
    "Usually *tango* has approximate mean of zero, with somewhat \n",
    "wide latitude: 2015-10-09 at 18 bp standard deviation (annualized), \n",
    "2016-12-02 at 42 bp standard deviation (annualized).\n",
    "\n",
    "Since warehousing costs for gold are fairly constant across time, \n",
    "changes in tango mainly reflect supply and demand. \n",
    "A major component of tango is the **leasing rate**. \n",
    "\n",
    "The *London Bullion Market Association* had published daily data \n",
    "on the *Gold Forward Offered Rate*, or **GOFO**.  These are rates \n",
    "at which LBMA members are prepared to lend gold on a swap against \n",
    "U.S. dollars. Historically there has been negative leasing rates, \n",
    "meaning that the lessors were willing to actually pay you to borrow gold from \n",
    "them [but mostly likely it is a  central bank is paying some \n",
    "bullion bank to take their gold]. \n",
    "Unfortunately, the GOFO dataset has been **discontinued** as of 30 January 2015."
   ]
  },
  {
   "cell_type": "code",
   "execution_count": 15,
   "metadata": {
    "collapsed": false
   },
   "outputs": [
    {
     "data": {
      "text/html": [
       "<img src=\"https://www.mcoscillator.com/data/charts/weekly/GOFO_1mo_1995-2014.gif\"/>"
      ],
      "text/plain": [
       "<IPython.core.display.Image object>"
      ]
     },
     "execution_count": 15,
     "metadata": {},
     "output_type": "execute_result"
    }
   ],
   "source": [
    "#  For historians:\n",
    "Image(url='https://www.mcoscillator.com/data/charts/weekly/GOFO_1mo_1995-2014.gif', embed=False)"
   ]
  },
  {
   "cell_type": "markdown",
   "metadata": {},
   "source": [
    "## Relationship to cash prices\n",
    "\n",
    "We now look at the current London PM gold fix series."
   ]
  },
  {
   "cell_type": "code",
   "execution_count": 16,
   "metadata": {
    "collapsed": true
   },
   "outputs": [],
   "source": [
    "xau = get( d4xau )"
   ]
  },
  {
   "cell_type": "code",
   "execution_count": 17,
   "metadata": {
    "collapsed": true
   },
   "outputs": [],
   "source": [
    "#  This matches the futures sample size:\n",
    "xau0 = tail( xau, 512 )"
   ]
  },
  {
   "cell_type": "code",
   "execution_count": 18,
   "metadata": {
    "collapsed": false
   },
   "outputs": [
    {
     "data": {
      "image/png": "[encoded data removed]",
      "text/plain": [
       "<matplotlib.figure.Figure at 0xa95d1b2c>"
      ]
     },
     "metadata": {},
     "output_type": "display_data"
    }
   ],
   "source": [
    "plot( xau0 )"
   ]
  },
  {
   "cell_type": "code",
   "execution_count": 19,
   "metadata": {
    "collapsed": false
   },
   "outputs": [],
   "source": [
    "#  Is there near-term correlation between price and tango?\n",
    "#  stat2( xau0[Y], tango[Y] )\n",
    "#  2015-09-11  correlation: 0.09, so NO."
   ]
  },
  {
   "cell_type": "code",
   "execution_count": 20,
   "metadata": {
    "collapsed": true
   },
   "outputs": [],
   "source": [
    "#  Running annual percentage change in spot price:\n",
    "xau0pc = tail( pcent(xau, 256), 512 )"
   ]
  },
  {
   "cell_type": "code",
   "execution_count": 21,
   "metadata": {
    "collapsed": false
   },
   "outputs": [
    {
     "data": {
      "image/png": "[encoded data removed]",
      "text/plain": [
       "<matplotlib.figure.Figure at 0xa955ff2c>"
      ]
     },
     "metadata": {},
     "output_type": "display_data"
    }
   ],
   "source": [
    "plot ( xau0pc )"
   ]
  },
  {
   "cell_type": "code",
   "execution_count": 22,
   "metadata": {
    "collapsed": false
   },
   "outputs": [
    {
     "name": "stdout",
     "output_type": "stream",
     "text": [
      " ::  FIRST variable:\n",
      "count    512.000000\n",
      "mean      -0.329825\n",
      "std       11.062097\n",
      "min      -17.529926\n",
      "25%       -9.403597\n",
      "50%       -3.585356\n",
      "75%        7.529238\n",
      "max       24.316317\n",
      "Name: Y, dtype: float64\n",
      "\n",
      " ::  SECOND variable:\n",
      "count    512.000000\n",
      "mean      -0.131907\n",
      "std        0.422571\n",
      "min       -0.679746\n",
      "25%       -0.427747\n",
      "50%       -0.321510\n",
      "75%        0.197633\n",
      "max        0.869532\n",
      "Name: Y, dtype: float64\n",
      "\n",
      " ::  CORRELATION\n",
      "0.807198796038\n",
      "                            OLS Regression Results                            \n",
      "==============================================================================\n",
      "Dep. Variable:                      Y   R-squared:                       0.652\n",
      "Model:                            OLS   Adj. R-squared:                  0.651\n",
      "Method:                 Least Squares   F-statistic:                     920.0\n",
      "Date:                Sun, 04 Dec 2016   Prob (F-statistic):          1.02e-114\n",
      "Time:                        09:46:52   Log-Likelihood:                -1628.5\n",
      "No. Observations:                 494   AIC:                             3261.\n",
      "Df Residuals:                     492   BIC:                             3269.\n",
      "Df Model:                           1                                         \n",
      "Covariance Type:            nonrobust                                         \n",
      "==============================================================================\n",
      "                 coef    std err          t      P>|t|      [95.0% Conf. Int.]\n",
      "------------------------------------------------------------------------------\n",
      "Intercept      2.2679      0.306      7.404      0.000         1.666     2.870\n",
      "X             21.0366      0.694     30.332      0.000        19.674    22.399\n",
      "==============================================================================\n",
      "Omnibus:                        4.414   Durbin-Watson:                   0.060\n",
      "Prob(Omnibus):                  0.110   Jarque-Bera (JB):                3.210\n",
      "Skew:                          -0.024   Prob(JB):                        0.201\n",
      "Kurtosis:                       2.608   Cond. No.                         2.39\n",
      "==============================================================================\n",
      "\n",
      "Warnings:\n",
      "[1] Standard Errors assume that the covariance matrix of the errors is correctly specified.\n"
     ]
    }
   ],
   "source": [
    "#  Is there near-term correlation between price change and tango?\n",
    "stat2( xau0pc[Y], tango[Y] )\n",
    "#  2015-09-11  correlation: -0.85, so YES.\n",
    "#  2015-10-09  correlation: -0.83\n",
    "#  2016-12-02  correlation: +0.81, but change in sign!"
   ]
  },
  {
   "cell_type": "markdown",
   "metadata": {
    "collapsed": true
   },
   "source": [
    "## Closing comments 2015-10-11\n",
    "\n",
    "So roughly speaking, **increasing tango is correlated to decling prices.** \n",
    "Thus increasing selling pressure in the near-term versus the \n",
    "distant-term (which in effect widens tango) is correlated to \n",
    "future declines in cash prices. \n",
    "Equivalently, **decreasing tango is correlated to increasing prices.**\n",
    "\n",
    "Since tango is currently near its mean value, \n",
    "it seems equally likely to decrease or increase \n",
    "(though its short-term trend is upwards), so the \n",
    "future direction of gold prices seems inconclusive.\n",
    "\n",
    "## Closing comments 2016-12-02\n",
    "\n",
    "The new data over the last 13 months has reversed the sign \n",
    "of the correlation. In other words, the relationship previously \n",
    "noted in closing is spurious. \n",
    "(Please see the previous commit of this entire notebook \n",
    "for specific details.)\n",
    "\n",
    "Tango as an indicator is [**not**] insightful for price changes \n",
    "whenever it is at the extremes of its expected range."
   ]
  }
 ],
 "metadata": {
  "kernelspec": {
   "display_name": "Python 2",
   "language": "python",
   "name": "python2"
  },
  "language_info": {
   "codemirror_mode": {
    "name": "ipython",
    "version": 2
   },
   "file_extension": ".py",
   "mimetype": "text/x-python",
   "name": "python",
   "nbconvert_exporter": "python",
   "pygments_lexer": "ipython2",
   "version": "2.7.11"
  }
 },
 "nbformat": 4,
 "nbformat_minor": 0
}
