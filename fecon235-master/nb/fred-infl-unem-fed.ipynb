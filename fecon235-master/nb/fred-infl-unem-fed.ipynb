{
 "cells": [
  {
   "cell_type": "markdown",
   "metadata": {},
   "source": [
    "# Score for the Fed's dual mandate\n",
    "\n",
    "The U.S. Congress established three key objectives for monetary policy \n",
    "in the Federal Reserve Act: *Maximum employment, stable prices*, and \n",
    "moderate long-term interest rates. The first two objectives are \n",
    "sometimes referred to as the Federal Reserve's **dual mandate**. \n",
    "\n",
    "Here we examine unemployment and inflation data to construct \n",
    "a time-series which gives a numerical score to the \n",
    "Fed's performance on the dual mandate. \n",
    "(This notebook could be extended to studies of \n",
    "the **Phillips curve**, see Appendix 1).\n",
    "\n",
    "The key is to find comparable units to measure performance \n",
    "and a suitable scalar measure to show deviation \n",
    "from the dual mandate. \n",
    "Our visualization features *time-sequential* scatter plots using color *heat* map.\n",
    "\n",
    "Short URL: https://git.io/phillips"
   ]
  },
  {
   "cell_type": "markdown",
   "metadata": {},
   "source": [
    "*Dependencies:*\n",
    "\n",
    "- fecon235 repository https://github.com/rsvp/fecon235\n",
    "- Python: matplotlib, pandas\n",
    "     \n",
    "*CHANGE LOG*\n",
    "\n",
    "    2016-11-14  Fix #2 by v5 and PREAMBLE-p6.16.0428 upgrades. \n",
    "                   Switch from fecon to fecon235 for main import module. \n",
    "                   Minor edits given additional year of data.\n",
    "    2015-12-15  Switch to yi_0sys dependencies. Phillips curve.\n",
    "    2015-11-18  First version."
   ]
  },
  {
   "cell_type": "code",
   "execution_count": 1,
   "metadata": {
    "collapsed": false
   },
   "outputs": [],
   "source": [
    "from fecon235.fecon235 import *"
   ]
  },
  {
   "cell_type": "code",
   "execution_count": 2,
   "metadata": {
    "collapsed": false
   },
   "outputs": [
    {
     "name": "stdout",
     "output_type": "stream",
     "text": [
      " ::  Python 2.7.11\n",
      " ::  IPython 4.2.0\n",
      " ::  jupyter_core 4.1.0\n",
      " ::  notebook 4.1.0\n",
      " ::  matplotlib 1.5.1\n",
      " ::  numpy 1.10.4\n",
      " ::  pandas 0.18.0\n",
      " ::  pandas_datareader 0.2.1\n",
      " ::  Repository: fecon235 v5.16.1107 develop\n",
      " ::  Timestamp: 2016-11-15, 20:53:09 UTC\n",
      " ::  $pwd: /media/yaya/virt15h/virt/dbx/Dropbox/ipy/fecon235/nb\n"
     ]
    }
   ],
   "source": [
    "#  PREAMBLE-p6.16.0428 :: Settings and system details\n",
    "from __future__ import absolute_import, print_function\n",
    "system.specs()\n",
    "pwd = system.getpwd()   # present working directory as variable.\n",
    "print(\" ::  $pwd:\", pwd)\n",
    "#  If a module is modified, automatically reload it:\n",
    "%load_ext autoreload\n",
    "%autoreload 2\n",
    "#       Use 0 to disable this feature.\n",
    "\n",
    "#  Notebook DISPLAY options:\n",
    "#      Represent pandas DataFrames as text; not HTML representation:\n",
    "import pandas as pd\n",
    "pd.set_option( 'display.notebook_repr_html', False )\n",
    "from IPython.display import HTML # useful for snippets\n",
    "#  e.g. HTML('<iframe src=http://en.mobile.wikipedia.org/?useformat=mobile width=700 height=350></iframe>')\n",
    "from IPython.display import Image \n",
    "#  e.g. Image(filename='holt-winters-equations.png', embed=True) # url= also works\n",
    "from IPython.display import YouTubeVideo\n",
    "#  e.g. YouTubeVideo('1j_HxD4iLn8', start='43', width=600, height=400)\n",
    "from IPython.core import page\n",
    "get_ipython().set_hook('show_in_pager', page.as_hook(page.display_page), 0)\n",
    "#  Or equivalently in config file: \"InteractiveShell.display_page = True\", \n",
    "#  which will display results in secondary notebook pager frame in a cell.\n",
    "\n",
    "#  Generate PLOTS inside notebook, \"inline\" generates static png:\n",
    "%matplotlib inline   \n",
    "#          \"notebook\" argument allows interactive zoom and resize."
   ]
  },
  {
   "cell_type": "markdown",
   "metadata": {
    "collapsed": true
   },
   "source": [
    "## Comparable unit for comparison\n",
    "\n",
    "A 1% change in inflation may have different economic significance \n",
    "than a 1% change in unemployment. \n",
    "We retrieve historical data, then let one standard deviation \n",
    "represent one unit for scoring purposes. \n",
    "Note that the past scores will thus be represented *ex-post*, \n",
    "which is to say, influenced by recent data.\n",
    "\n",
    "The dual mandate is not required to be explicitly \n",
    "stated numerically by the Federal Reserve, \n",
    "so we assign explicit target values \n",
    "for unemployment and inflation \n",
    "(those frequently mentioned in Congressional testimonies \n",
    "and used as benchmarks by the market). \n",
    "These targets can be finely reset below \n",
    "so that the Fed performance can be re-evaluated.\n",
    "\n",
    "Sidenote: \"The natural rate of unemployment \n",
    "[**NAIRU**, *non-accelerating inflation rate of unemployment*] \n",
    "is the rate of unemployment \n",
    "arising from all sources except fluctuations in aggregate demand. \n",
    "Estimates of potential GDP are based on the long-term natural rate. \n",
    "The short-term natural rate is used to gauge the amount of current \n",
    "and projected slack in labor markets.\" \n",
    "See https://research.stlouisfed.org/fred2/series/NROU \n",
    "and Appendix 1 for details."
   ]
  },
  {
   "cell_type": "code",
   "execution_count": 3,
   "metadata": {
    "collapsed": true
   },
   "outputs": [],
   "source": [
    "#  Set DUAL MANDATE, assumed throughout this notebook:\n",
    "unem_target = 5.0\n",
    "infl_target = 2.0\n",
    "\n",
    "#  The Fed varies the targets over time, \n",
    "#  sometimes only implicitly. So for example,\n",
    "#  there may be disagreement among Board members\n",
    "#  regarding NAIRU -- but we set it to what\n",
    "#  seems to be the prevalent market assumption."
   ]
  },
  {
   "cell_type": "markdown",
   "metadata": {},
   "source": [
    "## Unemployment rate"
   ]
  },
  {
   "cell_type": "code",
   "execution_count": 4,
   "metadata": {
    "collapsed": false
   },
   "outputs": [],
   "source": [
    "unem = get( m4unemp )\n",
    "#           m4 implies monthly frequency."
   ]
  },
  {
   "cell_type": "code",
   "execution_count": 5,
   "metadata": {
    "collapsed": false
   },
   "outputs": [],
   "source": [
    "# #  Starts 1948-01-01, uncomment to view:\n",
    "# stats( unem )"
   ]
  },
  {
   "cell_type": "code",
   "execution_count": 6,
   "metadata": {
    "collapsed": false
   },
   "outputs": [
    {
     "data": {
      "text/plain": [
       "Y    1.638152\n",
       "dtype: float64"
      ]
     },
     "execution_count": 6,
     "metadata": {},
     "output_type": "execute_result"
    }
   ],
   "source": [
    "#  Standard deviation for unemployment rate:\n",
    "unem_std = unem.std()\n",
    "unem_std"
   ]
  },
  {
   "cell_type": "code",
   "execution_count": 7,
   "metadata": {
    "collapsed": false
   },
   "outputs": [],
   "source": [
    "#  Uncomment to plot raw unemployment rate:\n",
    "#  plot( unem )"
   ]
  },
  {
   "cell_type": "code",
   "execution_count": 8,
   "metadata": {
    "collapsed": true
   },
   "outputs": [],
   "source": [
    "#  Score unemployment as standard deviations from target: \n",
    "unem_score = todf( (unem - unem_target) / unem_std )"
   ]
  },
  {
   "cell_type": "markdown",
   "metadata": {},
   "source": [
    "## Inflation"
   ]
  },
  {
   "cell_type": "code",
   "execution_count": 9,
   "metadata": {
    "collapsed": true
   },
   "outputs": [],
   "source": [
    "#  Use synthetic inflation\n",
    "#  which averages CPI and PCE for both headline and core versions:\n",
    "infl_level = get( m4infl )"
   ]
  },
  {
   "cell_type": "code",
   "execution_count": 10,
   "metadata": {
    "collapsed": true
   },
   "outputs": [],
   "source": [
    "#  Get the YoY inflation rate:\n",
    "infl = todf(pcent( infl_level, 12 ))"
   ]
  },
  {
   "cell_type": "code",
   "execution_count": 11,
   "metadata": {
    "collapsed": false
   },
   "outputs": [],
   "source": [
    "#  #  Starts 1960-01-01, uncomment to view:\n",
    "#  stats(infl)"
   ]
  },
  {
   "cell_type": "code",
   "execution_count": 12,
   "metadata": {
    "collapsed": false
   },
   "outputs": [
    {
     "data": {
      "text/plain": [
       "Y    2.458588\n",
       "dtype: float64"
      ]
     },
     "execution_count": 12,
     "metadata": {},
     "output_type": "execute_result"
    }
   ],
   "source": [
    "infl_std = infl.std()\n",
    "infl_std"
   ]
  },
  {
   "cell_type": "code",
   "execution_count": 13,
   "metadata": {
    "collapsed": false
   },
   "outputs": [],
   "source": [
    "#  #  Uncomment to plot inflation rate:\n",
    "#  plot( infl )"
   ]
  },
  {
   "cell_type": "code",
   "execution_count": 14,
   "metadata": {
    "collapsed": true
   },
   "outputs": [],
   "source": [
    "#  Score inflation as standard deviations from target:\n",
    "infl_score = todf( (infl - infl_target) / infl_std )"
   ]
  },
  {
   "cell_type": "markdown",
   "metadata": {},
   "source": [
    "## Expressing duality as complex number\n",
    "\n",
    "We encode each joint score for unemployment and inflation into a single complex number. \n",
    "Let *u* be the unemployment score and *i* the inflation score. \n",
    "(Note: we follow the Python/engineering convention by letting **j** \n",
    "be the imaginary number $\\sqrt -1$.) \n",
    "So let *z* be our dual encoding as follows:\n",
    "\n",
    "$ z = u + i \\mathbf{j} $\n",
    "\n",
    "(In the history of mathematics, this was the precursor \n",
    "to the idea of a *vector*.)"
   ]
  },
  {
   "cell_type": "code",
   "execution_count": 15,
   "metadata": {
    "collapsed": true
   },
   "outputs": [],
   "source": [
    "#  Let's start constructing our 4-column dataframe:\n",
    "scores = paste( [unem_score, infl_score, infl_score, infl_score ] )\n",
    "#  Third and fouth columns are dummy placeholders to be replaced later."
   ]
  },
  {
   "cell_type": "code",
   "execution_count": 16,
   "metadata": {
    "collapsed": false
   },
   "outputs": [],
   "source": [
    "#  Give names to the scores columns:\n",
    "scores.columns = ['z_unem', 'z_infl', 'z', 'z_norm']"
   ]
  },
  {
   "cell_type": "code",
   "execution_count": 17,
   "metadata": {
    "collapsed": true
   },
   "outputs": [],
   "source": [
    "#  Fill in THIRD column z as complex number per our discussion:\n",
    "scores.z = scores.z_unem + (scores.z_infl * 1j)\n",
    "#  The imaginary number in itself in Python is represented as 1j, \n",
    "#  since j may be a variable elsewhere."
   ]
  },
  {
   "cell_type": "markdown",
   "metadata": {},
   "source": [
    "## Computing the Fed score\n",
    "\n",
    "Each dual score can be interpreted as a vector in the \n",
    "complex plane. Its component parts, real for unemployment \n",
    "and imaginary for inflation, measure deviation from \n",
    "respective targets in units expressed as standard deviations.\n",
    "\n",
    "*Our **key idea** is to use the length of this vector (from \n",
    "the origin, 0+0**j**, representing the dual mandate) as \n",
    "the Fed score* = |z|.\n",
    "\n",
    "Python, which natively handles complex numbers, can \n",
    "compute the *norm* of such a vector using abs(z).\n",
    "\n",
    "Later we shall visualize the trajectory of the component \n",
    "parts using a color heat map."
   ]
  },
  {
   "cell_type": "code",
   "execution_count": 18,
   "metadata": {
    "collapsed": true
   },
   "outputs": [],
   "source": [
    "#  Finally fill-in the FOURTH placeholder column:\n",
    "scores.z_norm = abs( scores.z ) "
   ]
  },
  {
   "cell_type": "code",
   "execution_count": 19,
   "metadata": {
    "collapsed": false
   },
   "outputs": [
    {
     "data": {
      "text/plain": [
       "              z_unem    z_infl                                   z    z_norm\n",
       "T                                                                           \n",
       "2016-03-01  0.000000 -0.267127                    -0.267127172093j  0.267127\n",
       "2016-04-01  0.000000 -0.215273                    -0.215272534662j  0.215273\n",
       "2016-05-01 -0.183133 -0.214895   (-0.183133167021-0.214894532004j)  0.282343\n",
       "2016-06-01 -0.061044 -0.227335  (-0.0610443890069-0.227334832881j)  0.235388\n",
       "2016-07-01 -0.061044 -0.254444  (-0.0610443890069-0.254444040216j)  0.261664\n",
       "2016-08-01 -0.061044 -0.191617  (-0.0610443890069-0.191616963666j)  0.201106\n",
       "2016-09-01  0.000000 -0.138719                    -0.138718697292j  0.138719"
      ]
     },
     "execution_count": 19,
     "metadata": {},
     "output_type": "execute_result"
    }
   ],
   "source": [
    "#  Tail end of recent scores:\n",
    "tail( scores )\n",
    "#  ... nicely revealing the data structure:"
   ]
  },
  {
   "cell_type": "markdown",
   "metadata": {},
   "source": [
    "## Visualizing Fed scores\n",
    "\n",
    "z_norm is expressed in standard deviation units, thus \n",
    "it truly represents deviation from the dual mandate \n",
    "on a Gaussian scale."
   ]
  },
  {
   "cell_type": "code",
   "execution_count": 20,
   "metadata": {
    "collapsed": false
   },
   "outputs": [],
   "source": [
    "#  Define descriptive dataframe from our mathematical construct:\n",
    "fed_score = todf( scores.z_norm )"
   ]
  },
  {
   "cell_type": "code",
   "execution_count": 21,
   "metadata": {
    "collapsed": false
   },
   "outputs": [
    {
     "data": {
      "image/png": "[encoded data removed]",
      "text/plain": [
       "<matplotlib.figure.Figure at 0xaafd8a0c>"
      ]
     },
     "metadata": {},
     "output_type": "display_data"
    }
   ],
   "source": [
    "#     FED SCORE\n",
    "plot( fed_score )"
   ]
  },
  {
   "cell_type": "markdown",
   "metadata": {},
   "source": [
    "*We can say that a score greater than 2 is definitively cause for concern. \n",
    "For example, between 1974 and 1984, there are two peaks \n",
    "extending into 4 standard deviations mainly due to high inflation. \n",
    "Fed score during the Great Recession hit 3 mainly due to \n",
    "severe unemployment.*"
   ]
  },
  {
   "cell_type": "code",
   "execution_count": 22,
   "metadata": {
    "collapsed": false
   },
   "outputs": [
    {
     "name": "stdout",
     "output_type": "stream",
     "text": [
      "                Y\n",
      "count  681.000000\n",
      "mean     1.306697\n",
      "std      1.026325\n",
      "min      0.038818\n",
      "25%      0.469673\n",
      "50%      0.989438\n",
      "75%      1.793291\n",
      "max      4.224767\n",
      "\n",
      " ::  Index on min:\n",
      "Y   2001-09-01\n",
      "dtype: datetime64[ns]\n",
      "\n",
      " ::  Index on max:\n",
      "Y   1980-06-01\n",
      "dtype: datetime64[ns]\n",
      "\n",
      " ::  Head:\n",
      "                   Y\n",
      "T                   \n",
      "1960-01-01  0.158333\n",
      "1960-02-01  0.128790\n",
      "1960-03-01  0.254965\n",
      " ::  Tail:\n",
      "                   Y\n",
      "T                   \n",
      "2016-07-01  0.261664\n",
      "2016-08-01  0.201106\n",
      "2016-09-01  0.138719\n",
      "\n",
      " ::  Correlation matrix:\n",
      "     Y\n",
      "Y  1.0\n"
     ]
    }
   ],
   "source": [
    "stats( fed_score )"
   ]
  },
  {
   "cell_type": "markdown",
   "metadata": {},
   "source": [
    "## Remarks on fed_score\n",
    "\n",
    "Our fed_score *handles both positive and negative deviations from the Fed's dual mandate*, \n",
    "moreover, it handles them jointly using a historical fair measuring unit: \n",
    "the standard deviation. This avoids using ad-hoc weights to balance \n",
    "the importance between unemployment and inflation.\n",
    "\n",
    "The **fed_score is always a positve real number (since it is a norm) \n",
    "which is zero if and only if the Fed has achieved targets** \n",
    "(which we have explicitly specified). \n",
    "*That score can be interpreted as the number of standard deviations \n",
    "away from the dual mandate.*\n",
    "\n",
    "Our **fed_score** can also be simply interpreted \n",
    "as an economic **crisis level** indicator \n",
    "(much like a *n-alarm* fire) when Fed monetary \n",
    "policy becomes crucial for the US economy.\n",
    "\n",
    "Since 1960, ex-post fed_score averages around 1.31 where \n",
    "the mid-50% percentile range is approximately [0.47, 1.79].\n",
    "But keep in mind that this computation relies on our \n",
    "current fixed targets, so fed_score is most \n",
    "useful in accessing recent performance \n",
    "from the perspective of historical variance. \n",
    "This means that the fed_score for a particular \n",
    "point in time may change as new incoming data arrives.\n",
    "\n",
    "2015-12-15 notes: The current fed_score is 0.46 \n",
    "gravitating towards zero as the Fed is preparing \n",
    "its first rate hike in a decade.\n",
    "\n",
    "2016-11-14 notes: The current fed_score is 0.14 \n",
    "as the Fed is expected to announce \n",
    "the second rate hike since the Great Recession. \n",
    "The labor market has exhibited sustained improvement."
   ]
  },
  {
   "cell_type": "markdown",
   "metadata": {},
   "source": [
    "## CONCLUSION: visualize fed_score components over time\n",
    "\n",
    "When FOMC makes its releases, the market becomes \n",
    "fixated on the so-called blue dot chart \n",
    "of expected future interest rates by its members. \n",
    "The next scatter plot helps us to understand \n",
    "the motivations and constraints behind \n",
    "the Federal Reserve's monetary policy.\n",
    "\n",
    "We see that the key components of the U.S. economy, \n",
    "unemployment and inflation, came back \n",
    "\"full circle\" to target from 2005 to 2016, \n",
    "or more accurately \"full figure eight\" \n",
    "with *major* (3 standard) deviations seen in the unemployment component."
   ]
  },
  {
   "cell_type": "code",
   "execution_count": 23,
   "metadata": {
    "collapsed": false
   },
   "outputs": [
    {
     "data": {
      "image/png": "[encoded data removed]",
      "text/plain": [
       "<matplotlib.figure.Figure at 0xaafd83ac>"
      ]
     },
     "metadata": {},
     "output_type": "display_data"
    }
   ],
   "source": [
    "#  Scatter plot of recent data using color heat map:\n",
    "scatter( scores['2005':], col=[0, 1] )\n",
    "#  (Ignore FutureWarning from matplotlib/collections.py:590\n",
    "#   regarding elementwise comparison due to upstream numpy.)"
   ]
  },
  {
   "cell_type": "markdown",
   "metadata": {},
   "source": [
    "In this scatter plot: z_unem is shown along the x-axis, \n",
    "z_infl along the y-axis, \n",
    "such that the color *heat* map depicts chronological movement \n",
    "from *blue to green to red*. \n",
    "\n",
    "The coordinate (0, 0) represents our Fed dual mandate, \n",
    "so it is easy to see deviations from target. \n",
    "Geometrically a point's distance from the origin is what \n",
    "we have computed as fed_score (= z_norm, in the complex plane).\n",
    "\n",
    "- - - -"
   ]
  },
  {
   "cell_type": "markdown",
   "metadata": {
    "collapsed": true
   },
   "source": [
    "## Appendix 1: Phillips curve\n",
    "\n",
    "The Phillips curve purports to explain the relationship between \n",
    "inflation and unemployment, however, as it turns out the \n",
    "relationship is one of mere correlation during certain periods \n",
    "in a given country. It is too simplistic to assert that \n",
    "decreased unemployment (i.e. increased levels of employment) \n",
    "will cause with the inflation rate to increase.\n",
    "\n",
    "\"Most economists no longer use the Phillips curve in its original \n",
    "form because it was shown to be too simplistic. This can be seen \n",
    "in a cursory analysis of US inflation and unemployment data from \n",
    "1953-92. There is no single curve that will fit the data, but \n",
    "there are three rough aggregations—1955–71, 1974–84, and 1985–92 — \n",
    "each of which shows a general, downwards slope, but at three \n",
    "very different levels with the shifts occurring abruptly. \n",
    "The data for 1953-54 and 1972-73 do not group easily, \n",
    "and a more formal analysis posits up to five groups/curves \n",
    "over the period.\n",
    "\n",
    "Modern versions distinguish between short-run and long-run \n",
    "effects on unemployment. The \"short-run Phillips curve\" is also called \n",
    "the \"expectations-augmented Phillips curve,\" since it shifts up when \n",
    "inflationary expectations rise. In the long run, this implies \n",
    "that monetary policy cannot affect unemployment, \n",
    "which adjusts back to its \"natural rate\", also called the \"NAIRU\" or \n",
    "\"long-run Phillips curve\". However, this long-run \"neutrality\" of \n",
    "monetary policy does allow for short run fluctuations and the ability \n",
    "of the monetary authority to temporarily decrease unemployment \n",
    "by increasing permanent inflation, and vice versa.\n",
    "\n",
    "In many recent stochastic general equilibrium models, with sticky prices, \n",
    "there is a positive relation between the rate of inflation and \n",
    "the level of demand, and therefore a negative relation between \n",
    "the rate of inflation and the rate of unemployment. This relationship is \n",
    "often called the \"New Keynesian Phillips curve.\" Like the \n",
    "expectations-augmented Phillips curve, the New Keynesian Phillips curve \n",
    "implies that increased inflation can lower unemployment temporarily, \n",
    "but cannot lower it permanently.\"\n",
    "\n",
    "For more details, see https://en.wikipedia.org/wiki/Phillips_curve\n",
    "\n",
    "Curiously, according to Edmund Phelps who won the 2006 Nobel Prize in Economics,\n",
    "the **long-run Phillips Curve is *vertical* **\n",
    "such that the rate of inflation has no effect on unemployment at its NAIRU. \n",
    "The name \"NAIRU\" arises because with actual unemployment below it, \n",
    "inflation accelerates, while with unemployment above it, \n",
    "inflation decelerates. With the actual rate equal to it, \n",
    "inflation is stable, neither accelerating nor decelerating."
   ]
  },
  {
   "cell_type": "code",
   "execution_count": 24,
   "metadata": {
    "collapsed": false
   },
   "outputs": [
    {
     "data": {
      "text/html": [
       "<img src=\"https://upload.wikimedia.org/wikipedia/commons/e/e3/NAIRU-SR-and-LR.svg\"/>"
      ],
      "text/plain": [
       "<IPython.core.display.Image object>"
      ]
     },
     "execution_count": 24,
     "metadata": {},
     "output_type": "execute_result"
    }
   ],
   "source": [
    "Image(url=\"https://upload.wikimedia.org/wikipedia/commons/e/e3/NAIRU-SR-and-LR.svg\", embed=False)"
   ]
  },
  {
   "cell_type": "markdown",
   "metadata": {},
   "source": [
    "We know from our data that economic reality is far more \n",
    "complicated than the ideal diagram above.\n",
    "\n",
    "For example, in the late 1990s, the unemployment rate \n",
    "fell below 4%, much lower than almost all estimates of the NAIRU. \n",
    "But inflation stayed very moderate rather than accelerating.\n",
    "\n",
    "Since our z data captures the normalized version of \n",
    "unemployment vs inflation rates, it is easy \n",
    "to visualize the actual paths using our scatter plots."
   ]
  },
  {
   "cell_type": "code",
   "execution_count": 25,
   "metadata": {
    "collapsed": false
   },
   "outputs": [],
   "source": [
    "#  Uncomment for #  Scatter plot of selected data using color heat map:\n",
    "#  scatter( scores['1995':'2000'], col=[0, 1] )"
   ]
  }
 ],
 "metadata": {
  "kernelspec": {
   "display_name": "Python 2",
   "language": "python",
   "name": "python2"
  },
  "language_info": {
   "codemirror_mode": {
    "name": "ipython",
    "version": 2
   },
   "file_extension": ".py",
   "mimetype": "text/x-python",
   "name": "python",
   "nbconvert_exporter": "python",
   "pygments_lexer": "ipython2",
   "version": "2.7.11"
  }
 },
 "nbformat": 4,
 "nbformat_minor": 0
}
