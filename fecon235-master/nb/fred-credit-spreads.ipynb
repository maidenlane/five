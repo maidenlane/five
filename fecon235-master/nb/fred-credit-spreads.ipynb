{
 "cells": [
  {
   "cell_type": "markdown",
   "metadata": {},
   "source": [
    "## Robust profiles of credit spreads\n",
    "\n",
    "\n",
    "*Credit spreads* have become an important factor in setting U.S.\n",
    "monetary policy according to the Fed Chairman who spoke at the\n",
    "Federal Reserve Bank of Dallas on November 14, 2018\n",
    "(see video at https://youtu.be/vftR_APuIBM).\n",
    "They have become part of the toolbox which will influence\n",
    "the future path of interest rates.\n",
    "\n",
    "A **credit spread** is the difference in yields between two\n",
    "types of debt instruments which differ by default risk\n",
    "(that is, the failure of the debtor to pay interest and/or\n",
    "any principal due). A good example is the difference in\n",
    "yields between corporate bonds and Treasury bonds.\n",
    "An investor expects to get additional compensation\n",
    "for taking on default risk."
   ]
  },
  {
   "cell_type": "markdown",
   "metadata": {},
   "source": [
    "***How can default risk be calibrated and observed in credit markets?***\n",
    "In this notebook, we examine two types of credit spreads:\n",
    "mortgage and corporate. We derive a robust statistical technique to\n",
    "profile such spreads which facilitates comparison and aggregation.\n",
    "The unified profile gives a clear picture of composite\n",
    "credit risk in the financial system, thus providing daily insight\n",
    "into the health of the overall economy.\n",
    "\n",
    "The unified profile could be useful for formulating policy\n",
    "guidelines (e.g. postpone rate hikes if readings exceed +0.5\\*MAD)\n",
    "since the emphasis is not on basis point units in any particular\n",
    "bond market, but rather a neutral baseline and a robust dispersion\n",
    "measure called **MAD**, *Median Absolute Deviation*.\n",
    "\n",
    "The utility of MAD is demonstrated in non-Gaussian situations\n",
    "like the catastrophic Great Recession. Comparative insight\n",
    "is gained by observing dimensionless risk proportionalities\n",
    "across markets (rather than magnitudes expressed in terms of\n",
    "basis points). We conclude by a convincing\n",
    "visualization of ***unified credit profile*** in the U.S. economy,\n",
    "and hints for policy rules.\n",
    "\n",
    "---\n",
    "\n",
    "Appendix 1 summarizes this notebook as a Python function called\n",
    "`creditprof()`. URL shortcut to this notebook: https://git.io/creditprof\n"
   ]
  },
  {
   "cell_type": "markdown",
   "metadata": {},
   "source": [
    "*Dependencies:*\n",
    "\n",
    "- fecon236 >= 10.8.0, source code, https://github.com/MathSci/fecon236\n",
    "- Data herein downloadable from FRED database for U.S. Federal Reserve Bank.\n",
    "     \n",
    "*CHANGE LOG*\n",
    "\n",
    "    2018-12-02  First draft version."
   ]
  },
  {
   "cell_type": "code",
   "execution_count": 1,
   "metadata": {},
   "outputs": [],
   "source": [
    "import fecon236 as fe"
   ]
  },
  {
   "cell_type": "code",
   "execution_count": 2,
   "metadata": {},
   "outputs": [
    {
     "name": "stdout",
     "output_type": "stream",
     "text": [
      " !:  Code for this project straddles python27 and python3.\n",
      " ::  Python 2.7.15\n",
      " ::  IPython 5.7.0\n",
      " ::  jupyter_core 4.4.0\n",
      " ::  notebook 5.4.0\n",
      " ::  matplotlib 1.5.1\n",
      " ::  numpy 1.11.3\n",
      " ::  scipy 1.0.0\n",
      " ::  statsmodels 0.8.0\n",
      " ::  sympy 1.1.1\n",
      " ::  pandas 0.22.0\n",
      " ::  pandas_datareader 0.6.0\n",
      " ::  fecon236 10.8.0\n",
      " ::  Repository: fecon235 v6.18.0623 develop\n",
      " ::  Timestamp: 2018-12-03T02:03:22Z\n"
     ]
    }
   ],
   "source": [
    "#  PREAMBLE-p10.18.0714 :: Settings, https://git.io/236pa\n",
    "from __future__ import absolute_import, print_function, division\n",
    "fe.system.specs()\n",
    "%load_ext autoreload\n",
    "%autoreload 2\n",
    "#       Use 0 to disable autoreload when a module is modified.\n",
    "#  NOTEBOOK DISPLAY OPTIONS...\n",
    "fe.pd.set_option('display.notebook_repr_html', False)\n",
    "#       Represent pandas DataFrames as text; not HTML representation.\n",
    "from IPython.display import HTML  # Useful for snippets from web.\n",
    "#  e.g. HTML('<iframe src=https://en.wikipedia.org/?useformat=mobile \\\n",
    "#            width=700 height=350></iframe>')\n",
    "from IPython.display import Image\n",
    "#  e.g. Image(filename='holt-winters-equations.png', embed=True)\n",
    "#                  url= Also works instead of filename.\n",
    "from IPython.display import YouTubeVideo\n",
    "#  e.g. YouTubeVideo('1j_HxD4iLn8', start='43', width=600, height=400)\n",
    "from IPython.core import page\n",
    "get_ipython().set_hook('show_in_pager', page.as_hook(page.display_page), 0)\n",
    "#  Or equivalently in config file: \"InteractiveShell.display_page = True\",\n",
    "#  which will display results in secondary notebook pager frame in a cell.\n",
    "%matplotlib inline\n",
    "#  Generate PLOTS inside notebook, \"inline\" generates static png,\n",
    "#  whereas \"notebook\" argument allows interactive zoom and resize."
   ]
  },
  {
   "cell_type": "markdown",
   "metadata": {},
   "source": [
    "### Mortgage credit spread\n",
    "\n",
    "This credit spread in its *classic* form took the difference in\n",
    "rates between 30-year fixed rate mortgages and 30-year Treasury bonds.\n",
    "However, the maturity of a \"long bond\" is\n",
    "currently taken to be 10 years in global finance.\n",
    "Hence, we shall examine the spread between the\n",
    "\"**Freddie Mac 15-Year Fixed Rate Mortgage Average**\"\n",
    "and U.S. Treasury 10-year bonds."
   ]
  },
  {
   "cell_type": "code",
   "execution_count": 3,
   "metadata": {},
   "outputs": [],
   "source": [
    "#  Freddie Mac series is updated weekly on Thursdays,\n",
    "#  so we shall apply daily interpolation to be\n",
    "#  frequency compatible with the Treasury series:\n",
    "fmac = fe.daily(fe.get('MORTGAGE15US'))"
   ]
  },
  {
   "cell_type": "code",
   "execution_count": 4,
   "metadata": {},
   "outputs": [],
   "source": [
    "#  Retrieve daily rates for 10-year Treasuries...\n",
    "ty = fe.get(fe.d4bond10)\n",
    "\n",
    "#  ... then compute the MORTGAGE CREDIT SPREAD:\n",
    "mort = fe.todf(fmac - ty)"
   ]
  },
  {
   "cell_type": "code",
   "execution_count": 5,
   "metadata": {},
   "outputs": [],
   "source": [
    "#  We note mort extends back to 1991-08-30:\n",
    "start = '1991-08-30'"
   ]
  },
  {
   "cell_type": "code",
   "execution_count": 6,
   "metadata": {},
   "outputs": [],
   "source": [
    "#  The underlying data has DAILY frequency,\n",
    "#  but for visualization purposes we shall\n",
    "#  PLOT on MONTHLY frequency which produces\n",
    "#  clear lines over several decades \n",
    "#  (otherwise, the lines will smear over finer intervals.)\n",
    "\n",
    "def plotmonth(dfy, start=start):\n",
    "    fe.plot(fe.monthly(dfy[start:]))"
   ]
  },
  {
   "cell_type": "code",
   "execution_count": 7,
   "metadata": {},
   "outputs": [
    {
     "data": {
      "image/png": "[encoded data removed]",
      "text/plain": [
       "<matplotlib.figure.Figure at 0xac34a92c>"
      ]
     },
     "metadata": {},
     "output_type": "display_data"
    }
   ],
   "source": [
    "#  The y-scale is in (basis points)/100\n",
    "plotmonth(mort)"
   ]
  },
  {
   "cell_type": "markdown",
   "metadata": {},
   "source": [
    "### Profiling: rescaling a spread with robust baseline\n",
    "\n",
    "Credit spreads are generally expressed in basis points.\n",
    "However, the impact of 100 basis points on a mortgage spread\n",
    "is quite different than on a corporate bond spread.\n",
    "For example, mortgages are generally collaterized (by the\n",
    "property and the building), whereas many corporate bonds are\n",
    "not secured (esp. those of speculative ratings).\n",
    "\n",
    "We first propose to shift the median to zero,\n",
    "then to rescale the spread using a unitless\n",
    "measure called MAD, Median Absolute Deviation.\n",
    "\n",
    "A zero median allows us readily identify a\n",
    "neutral baseline, distinguishing abundant\n",
    "from sparse credit flows in the economy.\n",
    "The constructed baseline is robust in the\n",
    "sense that large deviations are not given\n",
    "undue weight (in contrast to the statistical mean).\n",
    "\n",
    "The MAD dispersion measure is also L1 robust,\n",
    "unlike L2 variance and its square root which is\n",
    "known as the standard deviation.\n",
    "Details are provided in the article embedded\n",
    "in the next cell, as well, in the code comments\n",
    "which follows.\n",
    "\n",
    "We shall call a *robustly rescaled* credit spread, a \"**credit profile**.\""
   ]
  },
  {
   "cell_type": "code",
   "execution_count": 8,
   "metadata": {},
   "outputs": [
    {
     "data": {
      "text/html": [
       "<iframe src=https://en.wikipedia.org/wiki/Median_absolute_deviation?useformat=mobile     width=700 height=350></iframe>"
      ],
      "text/plain": [
       "<IPython.core.display.HTML object>"
      ]
     },
     "execution_count": 8,
     "metadata": {},
     "output_type": "execute_result"
    }
   ],
   "source": [
    "HTML('<iframe src=https://en.wikipedia.org/wiki/Median_absolute_deviation?useformat=mobile \\\n",
    "    width=700 height=350></iframe>')"
   ]
  },
  {
   "cell_type": "code",
   "execution_count": 9,
   "metadata": {},
   "outputs": [
    {
     "data": {
      "text/plain": [
       "\u001b[0;31mSignature:\u001b[0m \u001b[0mfe\u001b[0m\u001b[0;34m.\u001b[0m\u001b[0mmad\u001b[0m\u001b[0;34m(\u001b[0m\u001b[0mdfy\u001b[0m\u001b[0;34m)\u001b[0m\u001b[0;34m\u001b[0m\u001b[0m\n",
       "\u001b[0;31mSource:\u001b[0m   \n",
       "\u001b[0;32mdef\u001b[0m \u001b[0mmad\u001b[0m\u001b[0;34m(\u001b[0m\u001b[0mdfy\u001b[0m\u001b[0;34m)\u001b[0m\u001b[0;34m:\u001b[0m\u001b[0;34m\u001b[0m\n",
       "\u001b[0;34m\u001b[0m    \u001b[0;34m'''Median Absolute Deviation is a robust measure of dispersion:\u001b[0m\n",
       "\u001b[0;34m    MAD = 0.67449*sigma if distribution is Gaussian, i.e.\u001b[0m\n",
       "\u001b[0;34m    3*MAD is about 2*sigma; however, MAD is resilient to outliers,\u001b[0m\n",
       "\u001b[0;34m    thus very useful in non-Gaussian situations.\u001b[0m\n",
       "\u001b[0;34m    See https://en.wikipedia.org/wiki/Median_absolute_deviation\u001b[0m\n",
       "\u001b[0;34m    '''\u001b[0m\u001b[0;34m\u001b[0m\n",
       "\u001b[0;34m\u001b[0m    \u001b[0mdev\u001b[0m \u001b[0;34m=\u001b[0m \u001b[0mdfy\u001b[0m \u001b[0;34m-\u001b[0m \u001b[0mmedian\u001b[0m\u001b[0;34m(\u001b[0m\u001b[0mdfy\u001b[0m\u001b[0;34m)\u001b[0m  \u001b[0;31m# Deviations from median.\u001b[0m\u001b[0;34m\u001b[0m\n",
       "\u001b[0;34m\u001b[0m    \u001b[0;31m#  MAD is defined as the median (not the mean)\u001b[0m\u001b[0;34m\u001b[0m\n",
       "\u001b[0;34m\u001b[0m    \u001b[0;31m#  of absolute deviations from the data's median:\u001b[0m\u001b[0;34m\u001b[0m\n",
       "\u001b[0;34m\u001b[0m    \u001b[0;32mreturn\u001b[0m \u001b[0mmedian\u001b[0m\u001b[0;34m(\u001b[0m\u001b[0mabs\u001b[0m\u001b[0;34m(\u001b[0m\u001b[0mdev\u001b[0m\u001b[0;34m)\u001b[0m\u001b[0;34m)\u001b[0m\u001b[0;34m\u001b[0m\u001b[0m\n",
       "\u001b[0;31mFile:\u001b[0m      /media/yaya/virt18g/virt/dbx/Dropbox/ipy/fecon236/fecon236/tool.py\n",
       "\u001b[0;31mType:\u001b[0m      function\n"
      ]
     },
     "metadata": {},
     "output_type": "display_data"
    }
   ],
   "source": [
    "fe.mad??"
   ]
  },
  {
   "cell_type": "code",
   "execution_count": 10,
   "metadata": {},
   "outputs": [
    {
     "data": {
      "text/plain": [
       "\u001b[0;31mSignature:\u001b[0m \u001b[0mfe\u001b[0m\u001b[0;34m.\u001b[0m\u001b[0mmadmen\u001b[0m\u001b[0;34m(\u001b[0m\u001b[0mdfy\u001b[0m\u001b[0;34m)\u001b[0m\u001b[0;34m\u001b[0m\u001b[0m\n",
       "\u001b[0;31mSource:\u001b[0m   \n",
       "\u001b[0;32mdef\u001b[0m \u001b[0mmadmen\u001b[0m\u001b[0;34m(\u001b[0m\u001b[0mdfy\u001b[0m\u001b[0;34m)\u001b[0m\u001b[0;34m:\u001b[0m\u001b[0;34m\u001b[0m\n",
       "\u001b[0;34m\u001b[0m    \u001b[0;34m'''Rescale data as unitless MAD multiples, after shifting median to zero.\u001b[0m\n",
       "\u001b[0;34m    The main character in the \"Mad Men\" series pretending to be Donald Draper\u001b[0m\n",
       "\u001b[0;34m    is akin to our data pretending to be Gaussian, which we robustly unmask.\u001b[0m\n",
       "\u001b[0;34m    [Cf. alternative normalize() where large deviations are squared.]\u001b[0m\n",
       "\u001b[0;34m    '''\u001b[0m\u001b[0;34m\u001b[0m\n",
       "\u001b[0;34m\u001b[0m    \u001b[0mdev\u001b[0m \u001b[0;34m=\u001b[0m \u001b[0mdfy\u001b[0m \u001b[0;34m-\u001b[0m \u001b[0mmedian\u001b[0m\u001b[0;34m(\u001b[0m\u001b[0mdfy\u001b[0m\u001b[0;34m)\u001b[0m  \u001b[0;31m# Deviations from median.\u001b[0m\u001b[0;34m\u001b[0m\n",
       "\u001b[0;34m\u001b[0m    \u001b[0;32mreturn\u001b[0m \u001b[0mdev\u001b[0m \u001b[0;34m/\u001b[0m \u001b[0mmad\u001b[0m\u001b[0;34m(\u001b[0m\u001b[0mdfy\u001b[0m\u001b[0;34m)\u001b[0m\u001b[0;34m\u001b[0m\u001b[0m\n",
       "\u001b[0;31mFile:\u001b[0m      /media/yaya/virt18g/virt/dbx/Dropbox/ipy/fecon236/fecon236/tool.py\n",
       "\u001b[0;31mType:\u001b[0m      function\n"
      ]
     },
     "metadata": {},
     "output_type": "display_data"
    }
   ],
   "source": [
    "#  This function performs the profiling:\n",
    "fe.madmen??"
   ]
  },
  {
   "cell_type": "code",
   "execution_count": 11,
   "metadata": {},
   "outputs": [],
   "source": [
    "#  Profile the mortgage credit spread:\n",
    "mortmad = fe.madmen(mort)"
   ]
  },
  {
   "cell_type": "code",
   "execution_count": 12,
   "metadata": {},
   "outputs": [
    {
     "data": {
      "image/png": "[encoded data removed]",
      "text/plain": [
       "<matplotlib.figure.Figure at 0xac39efac>"
      ]
     },
     "metadata": {},
     "output_type": "display_data"
    }
   ],
   "source": [
    "#  Here the y-scale uses MAD:\n",
    "plotmonth(mortmad)"
   ]
  },
  {
   "cell_type": "markdown",
   "metadata": {},
   "source": [
    "Profiling does not change the shape of the plot,\n",
    "but readily highlights the internal proportionalities.\n",
    "\n",
    "The huge credit distortion in the housing market\n",
    "during the Great Recession is quite evident visually.\n",
    "But that distortion does not in turn distort\n",
    "our robust statistical measures.\n",
    "\n",
    "For reference, +9\\*MAD would register as a\n",
    "*six-sigma* event if we had made traditional\n",
    "Gaussian assumptions.\n",
    "\n",
    "It is important to also note that credit spreads\n",
    "are *asymmetric* in that the lower end is bounded.\n",
    "This is because a risky bond will never yield\n",
    "less than a Treasury bond of comparable tenor."
   ]
  },
  {
   "cell_type": "markdown",
   "metadata": {},
   "source": [
    "### Corporate credit spread\n",
    "\n",
    "Here we examine the BAA10Y spread between **Moody's Seasoned Baa-rated\n",
    "Corporate Bonds** (https://fred.stlouisfed.org/series/DBAA) and 10-year\n",
    "Treasury Constant Maturity (https://fred.stlouisfed.org/series/DGS10).\n",
    "Such corporate bonds are regarded as low investment grade, not junk."
   ]
  },
  {
   "cell_type": "code",
   "execution_count": 13,
   "metadata": {},
   "outputs": [],
   "source": [
    "#  FRED publishes this CORPORATE CREDIT SPREAD daily:\n",
    "baa = fe.get('BAA10Y')"
   ]
  },
  {
   "cell_type": "code",
   "execution_count": 14,
   "metadata": {},
   "outputs": [
    {
     "data": {
      "image/png": "[encoded data removed]",
      "text/plain": [
       "<matplotlib.figure.Figure at 0xa7efbd6c>"
      ]
     },
     "metadata": {},
     "output_type": "display_data"
    }
   ],
   "source": [
    "#  The y-scale is in (basis points)/100\n",
    "plotmonth(baa)"
   ]
  },
  {
   "cell_type": "markdown",
   "metadata": {},
   "source": [
    "From the chart above, it would be difficult to\n",
    "visually estimate the median or the mean of the series,\n",
    "that is to say, the \"typical\" middle baseline.\n",
    "But that is remedied when spreads are profiled --\n",
    "simply look for the zero median."
   ]
  },
  {
   "cell_type": "code",
   "execution_count": 15,
   "metadata": {},
   "outputs": [],
   "source": [
    "#  See section on Profiling:\n",
    "baamad = fe.madmen(baa[start:])"
   ]
  },
  {
   "cell_type": "code",
   "execution_count": 16,
   "metadata": {},
   "outputs": [
    {
     "data": {
      "image/png": "[encoded data removed]",
      "text/plain": [
       "<matplotlib.figure.Figure at 0xa81dfcac>"
      ]
     },
     "metadata": {},
     "output_type": "display_data"
    }
   ],
   "source": [
    "#  Here the y-scale uses MAD:\n",
    "plotmonth(baamad)"
   ]
  },
  {
   "cell_type": "markdown",
   "metadata": {},
   "source": [
    "Although the crisis during the Great Recession was ignited\n",
    "by the blowout in *credit default swaps on mortgages*,\n",
    "it is instructive to *visually see* that corporate credit spreads\n",
    "suffered to the same extent when the measuring stick is historical MAD.\n",
    "\n",
    "(The best data source for traded credit default swaps is unfortunately\n",
    "not freely accessible, thus was ineligible for the fecon235 project.) \n",
    "\n",
    "Without profiling, that similarity would not be apparent,\n",
    "since the peak of the mortgage credit spread was \"only\" about 270 basis points,\n",
    "whereas the peak of the Baa corporate credit spread was about 600 basis points."
   ]
  },
  {
   "cell_type": "markdown",
   "metadata": {},
   "source": [
    "### Combining profiles for generality\n",
    "\n",
    "The peaks in the mortgage and corporate credit profiles appear\n",
    "vaguely similar on a long time scale, but at a local\n",
    "time scale they can be vastly different. This is because\n",
    "credit risk will vary in the *housing market* (according\n",
    "to the home buyer's ability to make mortgage payments),\n",
    "versus the *business environment* (where corporate profits\n",
    "are required to satisfy debt obligations).\n",
    "\n",
    "Each market also has its idiosyncratic issues regarding the\n",
    "*supply* of the underlying debt obligations.\n",
    "Such differences can be smoothed over by proper aggregation. \n",
    "\n",
    "*Which credit spread does a policy maker pay attention to?*\n",
    "The statistical profiling puts credit spreads on comparable\n",
    "terms. ***Thus we can aggregate profiles for generality to\n",
    "observe credit default risks in the economy.***\n",
    "(Think of the home buyer who depends on a corporate\n",
    "entity for his job and personal income -- so the profiles\n",
    "should be considered as integrable).\n",
    "\n",
    "Other types of credit profiles could be appended here,\n",
    "but for exposition purposes, we will simply average the\n",
    "mortgage and corporate credit profiles."
   ]
  },
  {
   "cell_type": "code",
   "execution_count": 17,
   "metadata": {},
   "outputs": [],
   "source": [
    "#  Take the mean of all profiles:\n",
    "madness = fe.todf((mortmad + baamad) / 2)"
   ]
  },
  {
   "cell_type": "code",
   "execution_count": 18,
   "metadata": {},
   "outputs": [
    {
     "data": {
      "image/png": "[encoded data removed]",
      "text/plain": [
       "<matplotlib.figure.Figure at 0xa81a50ac>"
      ]
     },
     "metadata": {},
     "output_type": "display_data"
    }
   ],
   "source": [
    "#  Here the y-scale uses averaged MAD:\n",
    "plotmonth(madness)"
   ]
  },
  {
   "cell_type": "code",
   "execution_count": 19,
   "metadata": {},
   "outputs": [
    {
     "data": {
      "text/plain": [
       "                   Y\n",
       "T                   \n",
       "2018-11-21  0.280590\n",
       "2018-11-22  0.284908\n",
       "2018-11-23  0.324748\n",
       "2018-11-26  0.258021\n",
       "2018-11-27  0.326707\n",
       "2018-11-28  0.350256\n",
       "2018-11-29  0.470755"
      ]
     },
     "execution_count": 19,
     "metadata": {},
     "output_type": "execute_result"
    }
   ],
   "source": [
    "#  Most RECENT values of UNIFIED CREDIT PROFILE, daily madness:\n",
    "fe.tail(madness)"
   ]
  },
  {
   "cell_type": "markdown",
   "metadata": {},
   "source": [
    "#### Closing remarks\n",
    "\n",
    "Elevated levels in credit profiles generally indicate\n",
    "greater default risk, usually due to a weak economy,\n",
    "and thus can provide additional signals for the\n",
    "policy maker to decrease interest rates.\n",
    "For example, \n",
    "\n",
    "- Levels approaching +1\\*MAD can be considered as early warnings.\n",
    "- Levels greater than +2\\*MAD should be considered excessive.\n",
    "\n",
    "Note how history is robustly encapulated in the Median Absolute Deviations,\n",
    "without reference to basis point spreads which can wildly vary among debt markets."
   ]
  },
  {
   "cell_type": "markdown",
   "metadata": {},
   "source": [
    "### SUMMARY\n",
    "\n",
    "(Please see top of this notebook.)\n",
    "\n",
    "---\n",
    "\n",
    "### APPENDIX 1: Unified credit profile, creditprof()\n",
    "\n",
    "Jupyter notebooks are excellent for purposes of experimentation and\n",
    "exposition, however, they are unsuitable for *direct* computation at\n",
    "the commandline or within a program. We converted this notebook into a\n",
    "script, using:\n",
    "\n",
    "    $ jupyter nbconvert --to script fred-credit-spreads.ipynb\n",
    "\n",
    "and then edited the resulting py file, to obtain a function\n",
    "which outputs the Unified Credit Profile as a daily time-series\n",
    "in pandas DataFrame format."
   ]
  },
  {
   "cell_type": "code",
   "execution_count": 20,
   "metadata": {},
   "outputs": [
    {
     "data": {
      "text/plain": [
       "\u001b[0;31mSignature:\u001b[0m \u001b[0mfe\u001b[0m\u001b[0;34m.\u001b[0m\u001b[0mcreditprof\u001b[0m\u001b[0;34m(\u001b[0m\u001b[0;34m)\u001b[0m\u001b[0;34m\u001b[0m\u001b[0m\n",
       "\u001b[0;31mSource:\u001b[0m   \n",
       "\u001b[0;32mdef\u001b[0m \u001b[0mcreditprof\u001b[0m\u001b[0;34m(\u001b[0m\u001b[0;34m)\u001b[0m\u001b[0;34m:\u001b[0m\u001b[0;34m\u001b[0m\n",
       "\u001b[0;34m\u001b[0m    \u001b[0;34m'''Credit profile derived from mortgage and corporate credit spreads.'''\u001b[0m\u001b[0;34m\u001b[0m\n",
       "\u001b[0;34m\u001b[0m    \u001b[0;31m#  Derivation in fecon235/nb/fred-credit-spreads.ipynb\u001b[0m\u001b[0;34m\u001b[0m\n",
       "\u001b[0;34m\u001b[0m    \u001b[0;31m#  See https://git.io/creditprof\u001b[0m\u001b[0;34m\u001b[0m\n",
       "\u001b[0;34m\u001b[0m    \u001b[0;31m#  First, note the oldest start date common among all series herein:\u001b[0m\u001b[0;34m\u001b[0m\n",
       "\u001b[0;34m\u001b[0m    \u001b[0mstart\u001b[0m \u001b[0;34m=\u001b[0m \u001b[0;34m'1991-08-30'\u001b[0m\u001b[0;34m\u001b[0m\n",
       "\u001b[0;34m\u001b[0m    \u001b[0;31m#  ----- MORTGAGE CREDIT SPREAD\u001b[0m\u001b[0;34m\u001b[0m\n",
       "\u001b[0;34m\u001b[0m    \u001b[0;31m#  Freddie Mac 15-Year Fixed Rate Mortgage v. Treasury 10-year bond.\u001b[0m\u001b[0;34m\u001b[0m\n",
       "\u001b[0;34m\u001b[0m    \u001b[0;31m#  Freddie Mac series is updated weekly on Thursdays,\u001b[0m\u001b[0;34m\u001b[0m\n",
       "\u001b[0;34m\u001b[0m    \u001b[0;31m#  so we apply daily interpolation to be\u001b[0m\u001b[0;34m\u001b[0m\n",
       "\u001b[0;34m\u001b[0m    \u001b[0;31m#  frequency compatible with the other series in this function:\u001b[0m\u001b[0;34m\u001b[0m\n",
       "\u001b[0;34m\u001b[0m    \u001b[0mfmac\u001b[0m \u001b[0;34m=\u001b[0m \u001b[0mdaily\u001b[0m\u001b[0;34m(\u001b[0m\u001b[0mget\u001b[0m\u001b[0;34m(\u001b[0m\u001b[0;34m'MORTGAGE15US'\u001b[0m\u001b[0;34m)\u001b[0m\u001b[0;34m)\u001b[0m\u001b[0;34m\u001b[0m\n",
       "\u001b[0;34m\u001b[0m    \u001b[0;31m#  Retrieve daily rates for 10-year Treasuries...\u001b[0m\u001b[0;34m\u001b[0m\n",
       "\u001b[0;34m\u001b[0m    \u001b[0mty\u001b[0m \u001b[0;34m=\u001b[0m \u001b[0mget\u001b[0m\u001b[0;34m(\u001b[0m\u001b[0md4bond10\u001b[0m\u001b[0;34m)\u001b[0m\u001b[0;34m\u001b[0m\n",
       "\u001b[0;34m\u001b[0m    \u001b[0;31m#  ... then compute the mortgage spread:\u001b[0m\u001b[0;34m\u001b[0m\n",
       "\u001b[0;34m\u001b[0m    \u001b[0mmort\u001b[0m \u001b[0;34m=\u001b[0m \u001b[0mtodf\u001b[0m\u001b[0;34m(\u001b[0m\u001b[0mfmac\u001b[0m \u001b[0;34m-\u001b[0m \u001b[0mty\u001b[0m\u001b[0;34m)\u001b[0m\u001b[0;34m\u001b[0m\n",
       "\u001b[0;34m\u001b[0m    \u001b[0;31m#  Profile the mortgage credit spread:\u001b[0m\u001b[0;34m\u001b[0m\n",
       "\u001b[0;34m\u001b[0m    \u001b[0mmortmad\u001b[0m \u001b[0;34m=\u001b[0m \u001b[0mmadmen\u001b[0m\u001b[0;34m(\u001b[0m\u001b[0mmort\u001b[0m\u001b[0;34m)\u001b[0m\u001b[0;34m\u001b[0m\n",
       "\u001b[0;34m\u001b[0m    \u001b[0;31m#  ----- CORPORATE BOND SPREAD\u001b[0m\u001b[0;34m\u001b[0m\n",
       "\u001b[0;34m\u001b[0m    \u001b[0;31m#  Examine daily BAA10Y spread between Moody's Seasoned Baa-rated\u001b[0m\u001b[0;34m\u001b[0m\n",
       "\u001b[0;34m\u001b[0m    \u001b[0;31m#  Corporate Bonds and 10-year Treasury Constant Maturity:\u001b[0m\u001b[0;34m\u001b[0m\n",
       "\u001b[0;34m\u001b[0m    \u001b[0mbaa\u001b[0m \u001b[0;34m=\u001b[0m \u001b[0mget\u001b[0m\u001b[0;34m(\u001b[0m\u001b[0;34m'BAA10Y'\u001b[0m\u001b[0;34m)\u001b[0m\u001b[0;34m\u001b[0m\n",
       "\u001b[0;34m\u001b[0m    \u001b[0;31m#  Profile the corporate credit spread:\u001b[0m\u001b[0;34m\u001b[0m\n",
       "\u001b[0;34m\u001b[0m    \u001b[0mbaamad\u001b[0m \u001b[0;34m=\u001b[0m \u001b[0mmadmen\u001b[0m\u001b[0;34m(\u001b[0m\u001b[0mbaa\u001b[0m\u001b[0;34m[\u001b[0m\u001b[0mstart\u001b[0m\u001b[0;34m:\u001b[0m\u001b[0;34m]\u001b[0m\u001b[0;34m)\u001b[0m\u001b[0;34m\u001b[0m\n",
       "\u001b[0;34m\u001b[0m    \u001b[0;31m#  ----- UNIFIED PROFILE for generality,\u001b[0m\u001b[0;34m\u001b[0m\n",
       "\u001b[0;34m\u001b[0m    \u001b[0;31m#  take the mean of all profiles:\u001b[0m\u001b[0;34m\u001b[0m\n",
       "\u001b[0;34m\u001b[0m    \u001b[0;32mreturn\u001b[0m \u001b[0mtodf\u001b[0m\u001b[0;34m(\u001b[0m\u001b[0;34m(\u001b[0m\u001b[0mmortmad\u001b[0m \u001b[0;34m+\u001b[0m \u001b[0mbaamad\u001b[0m\u001b[0;34m)\u001b[0m \u001b[0;34m/\u001b[0m \u001b[0;36m2\u001b[0m\u001b[0;34m)\u001b[0m\u001b[0;34m\u001b[0m\u001b[0m\n",
       "\u001b[0;31mFile:\u001b[0m      /media/yaya/virt18g/virt/dbx/Dropbox/ipy/fecon236/fecon236/rates/credit.py\n",
       "\u001b[0;31mType:\u001b[0m      function\n"
      ]
     },
     "metadata": {},
     "output_type": "display_data"
    }
   ],
   "source": [
    "fe.creditprof??"
   ]
  },
  {
   "cell_type": "code",
   "execution_count": 21,
   "metadata": {},
   "outputs": [],
   "source": [
    "dfappendix = fe.creditprof()"
   ]
  },
  {
   "cell_type": "code",
   "execution_count": 22,
   "metadata": {},
   "outputs": [],
   "source": [
    "#  Access pandas, and test for equality, up to 4 decimal places:\n",
    "fe.pd.testing.assert_frame_equal(madness, dfappendix, check_less_precise=4)"
   ]
  },
  {
   "cell_type": "markdown",
   "metadata": {},
   "source": [
    "In case of code revisions, it is always a good idea to check for\n",
    "consistency between the notebook and its summary function.\n",
    "If no errors were returned in the previous cell: TEST PASSED."
   ]
  },
  {
   "cell_type": "markdown",
   "metadata": {},
   "source": [
    "---\n",
    "\n",
    "### Questions or bugs?\n",
    "\n",
    "- Chat with fellow users at Gitter: https://gitter.im/rsvp/fecon235\n",
    "\n",
    "- Chat with fellow developers at Gitter: https://gitter.im/MathSci/fecon236\n",
    "\n",
    "\n",
    "- Report issues regarding our Jupyter notebooks at https://github.com/rsvp/fecon235/issues\n",
    "\n",
    "- Report issues regarding our Python code at https://github.com/MathSci/fecon236/issues\n",
    "\n",
    "- Please see https://git.io/econ for orientation and installation details."
   ]
  }
 ],
 "metadata": {
  "kernelspec": {
   "display_name": "Python 2",
   "language": "python",
   "name": "python2"
  },
  "language_info": {
   "codemirror_mode": {
    "name": "ipython",
    "version": 2
   },
   "file_extension": ".py",
   "mimetype": "text/x-python",
   "name": "python",
   "nbconvert_exporter": "python",
   "pygments_lexer": "ipython2",
   "version": "2.7.15"
  }
 },
 "nbformat": 4,
 "nbformat_minor": 1
}
