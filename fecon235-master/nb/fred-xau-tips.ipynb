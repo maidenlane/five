{
 "cells": [
  {
   "cell_type": "markdown",
   "metadata": {},
   "source": [
    "# Gold and 10-year Treasury TIPS\n",
    "\n",
    "Using monthly data we previously found that there is\n",
    "***strong correlation between gold and real rates***, so we\n",
    "investigate this relationship on a *daily* frequency.\n",
    "We then use this correlation to help\n",
    "make forecasts using the Holt-Winters time-series method.\n",
    "\n",
    "What are TIPS?\n",
    "**Treasury Inflation-Protected Securities** provide protection against inflation.\n",
    "The principal of a TIPS increases with inflation and decreases with deflation,\n",
    "as measured by the Consumer Price Index.\n",
    "When a TIPS matures, one is paid the adjusted principal or original principal,\n",
    "whichever is greater, by the US Treasury.\n",
    "\n",
    "Lastly, we show the history of gold prices in real terms.\n",
    "There are two notable peaks of same height,\n",
    "which leads to our **conjecture that\n",
    "real gold is a stationary time-series indirectly bounded by real interest rates.**\n",
    "\n",
    "The term \"conjecture\" is qualified in Appendix 1."
   ]
  },
  {
   "cell_type": "markdown",
   "metadata": {},
   "source": [
    "*Dependencies:*\n",
    "\n",
    "- Repository: https://github.com/rsvp/fecon235\n",
    "- Python: matplotlib, pandas\n",
    "\n",
    "*CHANGE LOG*\n",
    "\n",
    "    2016-02-19  Fix issue #2 by v4 and p6 updates.\n",
    "                   Include sections on real gold, conjecture and Appendix 1.\n",
    "    2015-03-10  Code review and revision.\n",
    "    2014-08-01  Use modules derived from notebooks.\n",
    "    2014-07-22  First satisfactory version."
   ]
  },
  {
   "cell_type": "code",
   "execution_count": 1,
   "metadata": {
    "collapsed": true
   },
   "outputs": [],
   "source": [
    "from fecon235.fecon235 import *"
   ]
  },
  {
   "cell_type": "code",
   "execution_count": 2,
   "metadata": {
    "collapsed": false
   },
   "outputs": [
    {
     "name": "stdout",
     "output_type": "stream",
     "text": [
      " ::  Python 2.7.11\n",
      " ::  IPython 4.0.0\n",
      " ::  jupyter 1.0.0\n",
      " ::  notebook 4.0.6\n",
      " ::  matplotlib 1.4.3\n",
      " ::  numpy 1.10.1\n",
      " ::  pandas 0.17.1\n",
      " ::  pandas_datareader 0.2.0\n",
      " ::  Repository: fecon235 v4.16.0123 develop\n",
      " ::  Timestamp: 2016-02-22, 04:15:04 UTC\n",
      " ::  $pwd: /media/yaya/virt15h/virt/dbx/Dropbox/ipy/fecon235/nb\n"
     ]
    }
   ],
   "source": [
    "#  PREAMBLE-p6.15.1223 :: Settings and system details\n",
    "from __future__ import absolute_import, print_function\n",
    "system.specs()\n",
    "pwd = system.getpwd()   # present working directory as variable.\n",
    "print(\" ::  $pwd:\", pwd)\n",
    "#  If a module is modified, automatically reload it:\n",
    "%load_ext autoreload\n",
    "%autoreload 2\n",
    "#       Use 0 to disable this feature.\n",
    "\n",
    "#  Notebook DISPLAY options:\n",
    "#      Represent pandas DataFrames as text; not HTML representation:\n",
    "import pandas as pd\n",
    "pd.set_option( 'display.notebook_repr_html', False )\n",
    "#  Beware, for MATH display, use %%latex, NOT the following:\n",
    "#                   from IPython.display import Math\n",
    "#                   from IPython.display import Latex\n",
    "from IPython.display import HTML # useful for snippets\n",
    "#  e.g. HTML('<iframe src=http://en.mobile.wikipedia.org/?useformat=mobile width=700 height=350></iframe>')\n",
    "from IPython.display import Image \n",
    "#  e.g. Image(filename='holt-winters-equations.png', embed=True) # url= also works\n",
    "from IPython.display import YouTubeVideo\n",
    "#  e.g. YouTubeVideo('1j_HxD4iLn8', start='43', width=600, height=400)\n",
    "from IPython.core import page\n",
    "get_ipython().set_hook('show_in_pager', page.as_hook(page.display_page), 0)\n",
    "#  Or equivalently in config file: \"InteractiveShell.display_page = True\", \n",
    "#  which will display results in secondary notebook pager frame in a cell.\n",
    "\n",
    "#  Generate PLOTS inside notebook, \"inline\" generates static png:\n",
    "%matplotlib inline   \n",
    "#          \"notebook\" argument allows interactive zoom and resize."
   ]
  },
  {
   "cell_type": "markdown",
   "metadata": {},
   "source": [
    "### Retrieve data, and set \"start\" date"
   ]
  },
  {
   "cell_type": "code",
   "execution_count": 3,
   "metadata": {
    "collapsed": false
   },
   "outputs": [],
   "source": [
    "#  Get gold and 10-y TIPS rates, both as daily frequency:\n",
    "gold = get( d4xau )\n",
    "tips = get( d4tips10 )"
   ]
  },
  {
   "cell_type": "code",
   "execution_count": 4,
   "metadata": {
    "collapsed": false
   },
   "outputs": [
    {
     "data": {
      "text/plain": [
       "               Y\n",
       "T               \n",
       "2003-01-02  2.43"
      ]
     },
     "execution_count": 4,
     "metadata": {},
     "output_type": "execute_result"
    }
   ],
   "source": [
    "#  The joint sample size is constrained by the more \n",
    "#  recent instrument TIPS issued by the US Treasury:\n",
    "head( tips, 1 )"
   ]
  },
  {
   "cell_type": "code",
   "execution_count": 5,
   "metadata": {
    "collapsed": true
   },
   "outputs": [],
   "source": [
    "#  START just before the Great Recession:\n",
    "start = '2006-01-01'\n",
    "\n",
    "#  The subprime mortgage crisis is about to begin..."
   ]
  },
  {
   "cell_type": "markdown",
   "metadata": {},
   "source": [
    "### Strong inverse correlation between Gold and 10-year TIPS\n",
    "\n",
    "Gold becomes more attractive as an asset as real rates decline.\n",
    "Especially when real rates are negative, gold (which has no income stream)\n",
    "is expected to preserve wealth.\n",
    "\n",
    "Here we test the daily correlation between gold and TIPS."
   ]
  },
  {
   "cell_type": "code",
   "execution_count": 6,
   "metadata": {
    "collapsed": false
   },
   "outputs": [
    {
     "name": "stdout",
     "output_type": "stream",
     "text": [
      " ::  FIRST variable:\n",
      "count    2645.000000\n",
      "mean     1144.163875\n",
      "std       347.474283\n",
      "min       513.000000\n",
      "25%       880.000000\n",
      "50%      1178.000000\n",
      "75%      1372.000000\n",
      "max      1895.000000\n",
      "Name: Y, dtype: float64\n",
      "\n",
      " ::  SECOND variable:\n",
      "count    2644.000000\n",
      "mean        1.016320\n",
      "std         0.967886\n",
      "min        -0.870000\n",
      "25%         0.360000\n",
      "50%         0.885000\n",
      "75%         1.800000\n",
      "max         3.150000\n",
      "Name: Y, dtype: float64\n",
      "\n",
      " ::  CORRELATION\n",
      "-0.911441035922\n",
      "\n",
      "-------------------------Summary of Regression Analysis-------------------------\n",
      "\n",
      "Formula: Y ~ <x> + <intercept>\n",
      "\n",
      "Number of Observations:         2644\n",
      "Number of Degrees of Freedom:   2\n",
      "\n",
      "R-squared:         0.8307\n",
      "Adj R-squared:     0.8307\n",
      "\n",
      "Rmse:            143.0140\n",
      "\n",
      "F-stat (1, 2642): 12965.7169, p-value:     0.0000\n",
      "\n",
      "Degrees of Freedom: model 1, resid 2642\n",
      "\n",
      "-----------------------Summary of Estimated Coefficients------------------------\n",
      "      Variable       Coef    Std Err     t-stat    p-value    CI 2.5%   CI 97.5%\n",
      "--------------------------------------------------------------------------------\n",
      "             x  -327.2683     2.8741    -113.87     0.0000  -332.9016  -321.6350\n",
      "     intercept  1476.7403     4.0334     366.13     0.0000  1468.8349  1484.6457\n",
      "---------------------------------End of Summary---------------------------------\n",
      "\n"
     ]
    }
   ],
   "source": [
    "#  Do linear regression on daily data:\n",
    "stat2( gold['Y'][start:], tips['Y'][start:] )"
   ]
  },
  {
   "cell_type": "markdown",
   "metadata": {},
   "source": [
    "2015-03-10: **The inverse relationship is very strong since the start of the\n",
    "Great Recession (-91% correlation)**: TIPS +100 bp move implies -\\$ 317 decrease in gold price.\n",
    "\n",
    "2016-02-19: Supplemented with eleven months of daily data:\n",
    "still -91% correlation such that **TIPS +100 bp move implies -\\$ 327 decrease in gold price.** "
   ]
  },
  {
   "cell_type": "code",
   "execution_count": 7,
   "metadata": {
    "collapsed": false
   },
   "outputs": [
    {
     "data": {
      "text/plain": [
       "                  Y\n",
       "T                  \n",
       "2016-02-11  1241.00\n",
       "2016-02-12  1239.75\n",
       "2016-02-15  1208.20\n",
       "2016-02-16  1209.50\n",
       "2016-02-17  1210.00\n",
       "2016-02-18  1210.10\n",
       "2016-02-19  1231.15"
      ]
     },
     "execution_count": 7,
     "metadata": {},
     "output_type": "execute_result"
    }
   ],
   "source": [
    "tail( gold )"
   ]
  },
  {
   "cell_type": "code",
   "execution_count": 8,
   "metadata": {
    "collapsed": false
   },
   "outputs": [
    {
     "data": {
      "text/plain": [
       "               Y\n",
       "T               \n",
       "2016-02-10  0.50\n",
       "2016-02-11  0.45\n",
       "2016-02-12  0.49\n",
       "2016-02-15  0.49\n",
       "2016-02-16  0.53\n",
       "2016-02-17  0.53\n",
       "2016-02-18  0.51"
      ]
     },
     "execution_count": 8,
     "metadata": {},
     "output_type": "execute_result"
    }
   ],
   "source": [
    "tail( tips )"
   ]
  },
  {
   "cell_type": "markdown",
   "metadata": {},
   "source": [
    "## Interim conclusions"
   ]
  },
  {
   "cell_type": "markdown",
   "metadata": {},
   "source": [
    "*General observation*: Depending on the timeframe specified by the *start* variable, the **regression coefficient tells us that the price of gold decreases by about \\$ 365 (midpoint) for every 100 basis point rise in 10-year real rates** (*so roughly \\$ 90 decrease per quarter point rise*)."
   ]
  },
  {
   "cell_type": "markdown",
   "metadata": {},
   "source": [
    "*August 2014 summary:* From current levels where gold is at \\$ 1290 and TIPS yield 0.25%,\n",
    "we can **expect gold to fall below \\$ 1000 if 10-year TIPS reach 1.25%.**\n",
    "Note that \\$ 1000 gold is only 0.61 standard deviations away from the 7-year mean of \\$1208.\n",
    "The long-term *support point* going back to 2005 is currently around \\$ 1260.\n",
    "It's not unreasonable for gold to breach long-term support if the Fed starts hiking rates up.\n",
    "The mean TIPS rate is 1.30% since its inception."
   ]
  },
  {
   "cell_type": "markdown",
   "metadata": {},
   "source": [
    "*March 2015 summary:* From current levels where gold is at \\$ 1162 and TIPS yield 0.25%,\n",
    "we can **expect gold to fall below \\$ 1000 if the 10-year TIPS rate reach 0.75%.**\n",
    "The Fed has ceased its QE quantitative easing program, and looks to raise rates soon,\n",
    "especially given that unemployment has decreased to the top of the Fed's NAIRU range\n",
    "(\"non-accelerating inflation rate of unemployment\").\n",
    "USD has become extremely strong against all major currencies --\n",
    "which further diminishes the appeal of gold."
   ]
  },
  {
   "cell_type": "markdown",
   "metadata": {},
   "source": [
    "*February 2016 summary:* The Fed had its first rate hike in almost a decade on 2015-12-16.\n",
    "TIPS rate since March 2015 went as high as 0.84%,\n",
    "and gold did fall to \\$ 1049.\n",
    "The 2016 surge to \\$ 1240 perhaps marks\n",
    "the end of a technical bear market which has lasted several years.\n",
    "That surge implies a 62 bp reduction in the TIPS rate\n",
    "which is considerable.\n",
    "The developed world has been in panic mode since the BoJ\n",
    "reduced their rate into negative territory,\n",
    "but unexpectedly the yen against the dollar has strengthened --\n",
    "which alters the FX/gold relationship. "
   ]
  },
  {
   "cell_type": "markdown",
   "metadata": {},
   "source": [
    "From the intercept term in our linear regression,\n",
    "we can **infer that gold prices will exceed \\$ 1477 (2016-02-14)\n",
    "if the TIPS rate falls below zero.**"
   ]
  },
  {
   "cell_type": "markdown",
   "metadata": {},
   "source": [
    "## Two univariate forecasts using Holt-Winters\n",
    "\n",
    "To forecast one-year ahead, we *resample* the daily data\n",
    "to monthly scale, and then apply Holt-Winters\n",
    "(described fully in the *yi_timeseries* module).\n",
    "This is a method distinct from the regression above,\n",
    "but the analysis is used to combine the two forecasts."
   ]
  },
  {
   "cell_type": "code",
   "execution_count": 9,
   "metadata": {
    "collapsed": false
   },
   "outputs": [],
   "source": [
    "#  Create a monthy dataframe for TIPS and gold:\n",
    "tau = paste([ todf(monthly(tips), 'TIPS'), todf(monthly(gold), 'XAU')])"
   ]
  },
  {
   "cell_type": "code",
   "execution_count": 10,
   "metadata": {
    "collapsed": false
   },
   "outputs": [
    {
     "data": {
      "text/plain": [
       "       Forecast\n",
       "0   1193.250000\n",
       "1   1098.434828\n",
       "2   1092.225182\n",
       "3   1086.015536\n",
       "4   1079.805889\n",
       "5   1073.596243\n",
       "6   1067.386597\n",
       "7   1061.176951\n",
       "8   1054.967305\n",
       "9   1048.757658\n",
       "10  1042.548012\n",
       "11  1036.338366\n",
       "12  1030.128720"
      ]
     },
     "execution_count": 10,
     "metadata": {},
     "output_type": "execute_result"
    }
   ],
   "source": [
    "#  We resample gold monthly, and project out 12 months from now:\n",
    "holtfred( todf(tau.XAU), 12 )"
   ]
  },
  {
   "cell_type": "markdown",
   "metadata": {},
   "source": [
    "2015-03-10: Possible dramatic change in Fed policy (rate hikes) does not seem reflected in the projected decline in gold price to \\$ 1127 in one year.\n",
    "\n",
    "2016-02-19: Forecasts new low to \\$ 1030 in one year. \n",
    "(Jeffrey Currie at Goldman Sachs is predicting \\$ 1000,\n",
    "even given the current surge to \\$ 1260.)"
   ]
  },
  {
   "cell_type": "code",
   "execution_count": 11,
   "metadata": {
    "collapsed": false
   },
   "outputs": [
    {
     "data": {
      "text/plain": [
       "    Forecast\n",
       "0   0.510000\n",
       "1   0.690252\n",
       "2   0.720290\n",
       "3   0.750327\n",
       "4   0.780365\n",
       "5   0.810402\n",
       "6   0.840440\n",
       "7   0.870477\n",
       "8   0.900515\n",
       "9   0.930552\n",
       "10  0.960590\n",
       "11  0.990627\n",
       "12  1.020665"
      ]
     },
     "execution_count": 11,
     "metadata": {},
     "output_type": "execute_result"
    }
   ],
   "source": [
    "#  We resample TIPS monthly, and project out 12 months from now:\n",
    "holtfred( todf(tau.TIPS), 12 )"
   ]
  },
  {
   "cell_type": "markdown",
   "metadata": {},
   "source": [
    "2015-03-10: Possible dramatic change in Fed policy (rate hikes)\n",
    "does not seem reflected in the projected decline into\n",
    "negative territory for TIPS rate. \n",
    "This 12-month projection to -0.06% (from 0.26% currently)\n",
    "would indicate a \\$ 95 increase in gold price to \\$ 1295.\n",
    "\n",
    "2016-02-19: The Fed raised rates on 2015-12-16, however,\n",
    "the bond market did not sell-off as expected into 2016.\n",
    "The nominal 10-year yield in fact has declined considerably.\n",
    "Our forecast takes a contrary view, expecting\n",
    "the TIPS rate at 1.02% in one year."
   ]
  },
  {
   "cell_type": "markdown",
   "metadata": {},
   "source": [
    "Notes:\n",
    "\n",
    "-  The directions of univariate forecasts may at times contradict the directions expected from the sign of correlation. In such cases, we suggest taking the average of point forecasts.\n",
    "\n",
    "\n",
    "- TIPS bond also reflects the current *forward* expectation of inflation in the next ten years (see our notebooks on BEI, break-even inflation)."
   ]
  },
  {
   "cell_type": "code",
   "execution_count": 12,
   "metadata": {
    "collapsed": false
   },
   "outputs": [
    {
     "data": {
      "text/plain": [
       "1047.19"
      ]
     },
     "execution_count": 12,
     "metadata": {},
     "output_type": "execute_result"
    }
   ],
   "source": [
    "#  2016-02-19:  average of between 12-m gold H-W forecast \n",
    "#  and 12-m gold extrapolated from H-W forecasted change in TIPS \n",
    "#  using regression coefficient [delta analysis]:\n",
    "coef = -327\n",
    "delta = coef * (1.02-0.51)\n",
    "\n",
    "#  Take the average between two forecasts:\n",
    "(1030 + (tailvalue(gold) + delta)) / 2"
   ]
  },
  {
   "cell_type": "markdown",
   "metadata": {},
   "source": [
    "So we took two independent univariate forecasts\n",
    "by the Holt-Winters method, and combined them\n",
    "using our regression analysis.\n",
    "\n",
    "2016-02-19: Nominal gold one-year out at \\$ 1047\n",
    "is the average forecast."
   ]
  },
  {
   "cell_type": "markdown",
   "metadata": {},
   "source": [
    "## Visualization of the data\n",
    "\n",
    "We use a scatter plot which marks chronology by a *color heat map*\n",
    "going from blue (start) to green then to red (end).\n",
    "\n",
    "This is the visual evidence of strong correlation:\n",
    "TIPS rate on x-axis versus nominal gold on y-axis."
   ]
  },
  {
   "cell_type": "code",
   "execution_count": 23,
   "metadata": {
    "collapsed": false
   },
   "outputs": [
    {
     "data": {
      "image/png": "[encoded data removed]",
      "text/plain": [
       "<matplotlib.figure.Figure at 0xabbf460c>"
      ]
     },
     "metadata": {},
     "output_type": "display_data"
    }
   ],
   "source": [
    "scatter( tau[start:], col=[0,1] )"
   ]
  },
  {
   "cell_type": "markdown",
   "metadata": {},
   "source": [
    "## What does the real price of gold say about TIPS?\n",
    "\n",
    "We use our deflator, constructed from four inflation series,\n",
    "to compute the *daily real price of gold in current dollars*.\n",
    "Our regression result is then used to extrapolate\n",
    "TIPS rates at notable points of interest."
   ]
  },
  {
   "cell_type": "code",
   "execution_count": 14,
   "metadata": {
    "collapsed": true
   },
   "outputs": [],
   "source": [
    "gold_month = monthly(gold)\n",
    "defl = get( m4defl )"
   ]
  },
  {
   "cell_type": "code",
   "execution_count": 15,
   "metadata": {
    "collapsed": true
   },
   "outputs": [],
   "source": [
    "gold_real = todf( gold_month * defl, 'RAU' )"
   ]
  },
  {
   "cell_type": "code",
   "execution_count": 16,
   "metadata": {
    "collapsed": false
   },
   "outputs": [
    {
     "name": "stdout",
     "output_type": "stream",
     "text": [
      "               RAU\n",
      "count   573.000000\n",
      "mean    728.477702\n",
      "std     391.061267\n",
      "min     188.708576\n",
      "25%     475.430045\n",
      "50%     619.718414\n",
      "75%     893.109792\n",
      "max    1906.319872\n"
     ]
    }
   ],
   "source": [
    "stat( gold_real )"
   ]
  },
  {
   "cell_type": "code",
   "execution_count": 17,
   "metadata": {
    "collapsed": false
   },
   "outputs": [
    {
     "data": {
      "image/png": "[encoded data removed]",
      "text/plain": [
       "<matplotlib.figure.Figure at 0xad155f8c>"
      ]
     },
     "metadata": {},
     "output_type": "display_data"
    }
   ],
   "source": [
    "plot(gold_real)"
   ]
  },
  {
   "cell_type": "markdown",
   "metadata": {},
   "source": [
    "It is not absolutely convincing that the entire series exhibits a trend.\n",
    "Perhaps it is a stationary series with sharp peaks,\n",
    "much like the two shown at the \\$ 1887 and \\$ 1906 price level in 2016 dollars\n",
    "(which are, by the way, three standard deviations away from the mean\n",
    "of \\$ 728).\n",
    "\n",
    "If the series is stationary, how is it bounded?"
   ]
  },
  {
   "cell_type": "code",
   "execution_count": 18,
   "metadata": {
    "collapsed": true
   },
   "outputs": [],
   "source": [
    "def xau2tips( xau, delta=-327.36, intercept=1477 ):\n",
    "    '''Given gold price, use regression equation to compute TIPS rate.'''\n",
    "    return (xau - intercept) / delta"
   ]
  },
  {
   "cell_type": "code",
   "execution_count": 19,
   "metadata": {
    "collapsed": false
   },
   "outputs": [
    {
     "data": {
      "text/plain": [
       "-1.3114609985448309"
      ]
     },
     "execution_count": 19,
     "metadata": {},
     "output_type": "execute_result"
    }
   ],
   "source": [
    "#  Convert max real gold:\n",
    "xau2tips( gold_real.RAU.max() )"
   ]
  },
  {
   "cell_type": "code",
   "execution_count": 20,
   "metadata": {
    "collapsed": false
   },
   "outputs": [
    {
     "data": {
      "text/plain": [
       "2.2865417228023786"
      ]
     },
     "execution_count": 20,
     "metadata": {},
     "output_type": "execute_result"
    }
   ],
   "source": [
    "#  Convert mean real gold:\n",
    "xau2tips( gold_real.RAU.mean() )"
   ]
  },
  {
   "cell_type": "code",
   "execution_count": 21,
   "metadata": {
    "collapsed": false
   },
   "outputs": [
    {
     "data": {
      "text/plain": [
       "3.9353965788680898"
      ]
     },
     "execution_count": 21,
     "metadata": {},
     "output_type": "execute_result"
    }
   ],
   "source": [
    "#  Convert min real gold:\n",
    "xau2tips( gold_real.RAU.min() )"
   ]
  },
  {
   "cell_type": "markdown",
   "metadata": {},
   "source": [
    "**Examining the extremes of real gold prices, they do seem bounded by real rates.**\n",
    "Here real rates are represented by TIPS, and the implied boundaries\n",
    "are [-1.31, +3.93] which seem very reasonable.\n",
    "The mean real gold price translates to a 10-year TIPS rate of +2.3%\n",
    "which is an estimate in line with the mean difference between\n",
    "nominal bond and inflation rates.\n",
    "\n",
    "The lower bound corresponds to what economists studying negative rates\n",
    "say is the approximate nominal rate at which depositors will start\n",
    "to withdrawn actual cash bills from banks to avoid carry charges."
   ]
  },
  {
   "cell_type": "markdown",
   "metadata": {},
   "source": [
    "## Conjecture in closing\n",
    "\n",
    "The real price of gold is a *stationary* series,\n",
    "where the soft maximum is \\$1900 in 2016 US dollars,\n",
    "or the regression equivalent to -1.3% in TIPS rate\n",
    "which is the (ten-year) forward-looking real rate\n",
    "actually locked-in by market transaction\n",
    "(as opposed to being statistically inferred,\n",
    "say, nominal bond yield minus inflation rate).\n",
    "\n",
    "Gold, which is an non-income producing asset,\n",
    "appears to be bounded by historically reasonable real rates.\n",
    "Our regression analysis, for example, shows the range [-1.3, +3.9]\n",
    "for 10-year TIPS covers the min and max of gold\n",
    "in terms of 2016 constant dollars.\n",
    "\n",
    "We expect the regression coefficients to vary,\n",
    "hence the boundaries are soft over time.\n",
    "However, the strong correlation makes economic sense:\n",
    "when real rates are persistently negative,\n",
    "the nominal yield on bonds is not expected to preserve real wealth,\n",
    "hence gold becomes an attractor.\n",
    "When real rates are positively high, reasons to own\n",
    "non-incoming producing assets such gold\n",
    "becomes less compelling.\n",
    "\n",
    "A TIPS rate below said lower bound would indicate a very depressed\n",
    "economy, or a hyperinflated one -- in which case,\n",
    "gold will take over as the \"currency\" of last resort\n",
    "since the European and Japanese economies now follow\n",
    "NIRP (Negative Interest Rate Policy)."
   ]
  },
  {
   "cell_type": "markdown",
   "metadata": {},
   "source": [
    "## Appendix 1: Stationary time-series\n",
    "\n",
    "Strictly speaking, parameters of a stationary process such as\n",
    "the mean and variance do not change over time,\n",
    "and no overall trend should be detectable as time goes to infinity.\n",
    "However, over small sample sizes, one will always observe\n",
    "time-varying parameters. \n",
    "\n",
    "Differencing is the first step to detecting trends.\n",
    "Here we shall reply on the geometric mean return,\n",
    "which should converge to zero as the sample size\n",
    "increases *indefinitely*, if real gold prices\n",
    "are truly stationary."
   ]
  },
  {
   "cell_type": "code",
   "execution_count": 22,
   "metadata": {
    "collapsed": false
   },
   "outputs": [
    {
     "data": {
      "text/plain": [
       "[3.19, 4.75, 17.68, 12, 573, '1968-04-01', '2015-12-01']"
      ]
     },
     "execution_count": 22,
     "metadata": {},
     "output_type": "execute_result"
    }
   ],
   "source": [
    "georet( gold_real, 12 )"
   ]
  },
  {
   "cell_type": "markdown",
   "metadata": {},
   "source": [
    "The geometric mean return on real gold is about 3.2% -- given\n",
    "a sample size of only 573 where the start and end points\n",
    "are still very influential.\n",
    "Arithmetic mean return is 4.8% (second element)\n",
    "and the volatility is 17.7% (third element).\n",
    "\n",
    "That sample size is not large enough to conclude anything definitive\n",
    "about asymptotic properties of a time-series,\n",
    "hence the use of term *\"conjecture\"* (as opposed to testable *hypothesis*). "
   ]
  }
 ],
 "metadata": {
  "kernelspec": {
   "display_name": "Python 2",
   "language": "python",
   "name": "python2"
  },
  "language_info": {
   "codemirror_mode": {
    "name": "ipython",
    "version": 2
   },
   "file_extension": ".py",
   "mimetype": "text/x-python",
   "name": "python",
   "nbconvert_exporter": "python",
   "pygments_lexer": "ipython2",
   "version": "2.7.11"
  }
 },
 "nbformat": 4,
 "nbformat_minor": 0
}
