{
 "metadata": {
  "name": "",
  "signature": "sha256:7aeddf5fc2de9c686a8999de37518b0edac5fa9cd21921f59b1b4303d1b1a9a4"
 },
 "nbformat": 3,
 "nbformat_minor": 0,
 "worksheets": [
  {
   "cells": [
    {
     "cell_type": "heading",
     "level": 1,
     "metadata": {},
     "source": [
      "Gold vs. SP500 returns :: XAU vs. SPX"
     ]
    },
    {
     "cell_type": "markdown",
     "metadata": {},
     "source": [
      "Long-term comparison of two asset classes: we boxplot their return distribution and also compute geometric mean returns. Correlation between the two is shown to be nil. We then look at the history of projected returns using Holt-Winters method, which also gives the latest forecasts. \n",
      "\n",
      "To conclude, we closely examine the relative value of the two assets in terms of gold troy ounces per equity share. **Analytically *short equities vs. long gold is favorable for an investor with log utility*, but hardly profitable over the long haul.** "
     ]
    },
    {
     "cell_type": "markdown",
     "metadata": {},
     "source": [
      "*Dependencies:*\n",
      "\n",
      "    - Linux, bash [not crucial, cross-platform prefered]\n",
      "    - Python: matplotlib, pandas [recommend Anaconda distribution]\n",
      "    - Modules: yi_1tools, yi_plot, yi_timeseries, yi_fred\n",
      "\n",
      "\n",
      "*CHANGE LOG*\n",
      "\n",
      "    2015-02-23  Code review and revision.\n",
      "    2014-08-05  Uses new boxplot routine with paste of dataframes."
     ]
    },
    {
     "cell_type": "code",
     "collapsed": false,
     "input": [
      "#  NOTEBOOK settings and system details:   [00-tpl v14.09.28]\n",
      "\n",
      "#  Assume that the backend is LINUX (our particular distro is Ubuntu, running bash shell):\n",
      "print '\\n ::  TIMESTAMP of last notebook execution:'\n",
      "!date\n",
      "print '\\n ::  IPython version:'\n",
      "!ipython --version\n",
      "\n",
      "#  Automatically reload modified modules:\n",
      "%load_ext autoreload\n",
      "%autoreload 2   \n",
      "#           0 will disable autoreload.\n",
      "#  Generate plots inside notebook:\n",
      "%matplotlib inline\n",
      "\n",
      "#  DISPLAY options\n",
      "from IPython.display import Image \n",
      "#  e.g. Image(filename='holt-winters-equations.png', embed=True)\n",
      "from IPython.display import YouTubeVideo\n",
      "#  e.g. YouTubeVideo('1j_HxD4iLn8')\n",
      "from IPython.display import HTML # useful for snippets\n",
      "#  e.g. HTML('<iframe src=http://en.mobile.wikipedia.org/?useformat=mobile width=700 height=350></iframe>')\n",
      "import pandas as pd\n",
      "print '\\n ::  pandas version:'\n",
      "print pd.__version__\n",
      "#      pandas DataFrames are represented as text by default; enable HTML representation:\n",
      "#      [Deprecated: pd.core.format.set_printoptions( notebook_repr_html=True ) ]\n",
      "pd.set_option( 'display.notebook_repr_html', False )\n",
      "\n",
      "#  MATH display, use %%latex, rather than the following:\n",
      "#                from IPython.display import Math\n",
      "#                from IPython.display import Latex\n",
      "\n",
      "print '\\n ::  Working directory (set as $workd):'\n",
      "workd, = !pwd\n",
      "print workd + '\\n'"
     ],
     "language": "python",
     "metadata": {},
     "outputs": [
      {
       "output_type": "stream",
       "stream": "stdout",
       "text": [
        "\n",
        " ::  TIMESTAMP of last notebook execution:\n"
       ]
      },
      {
       "output_type": "stream",
       "stream": "stdout",
       "text": [
        "Fri Mar  6 08:29:39 PST 2015\r\n"
       ]
      },
      {
       "output_type": "stream",
       "stream": "stdout",
       "text": [
        "\n",
        " ::  IPython version:\n"
       ]
      },
      {
       "output_type": "stream",
       "stream": "stdout",
       "text": [
        "2.3.0\r\n"
       ]
      },
      {
       "output_type": "stream",
       "stream": "stdout",
       "text": [
        "\n",
        " ::  pandas version:\n",
        "0.15.0\n",
        "\n",
        " ::  Working directory (set as $workd):\n"
       ]
      },
      {
       "output_type": "stream",
       "stream": "stdout",
       "text": [
        "/home/yaya/Dropbox/ipy/fecon235/nb\n",
        "\n"
       ]
      }
     ],
     "prompt_number": 1
    },
    {
     "cell_type": "code",
     "collapsed": false,
     "input": [
      "from yi_1tools import *\n",
      "from yi_fred import *\n",
      "from yi_plot import *\n",
      "from yi_timeseries import *"
     ],
     "language": "python",
     "metadata": {},
     "outputs": [],
     "prompt_number": 2
    },
    {
     "cell_type": "code",
     "collapsed": false,
     "input": [
      "#  Get SPX daily:\n",
      "sp = getfred( d4spx )"
     ],
     "language": "python",
     "metadata": {},
     "outputs": [
      {
       "output_type": "stream",
       "stream": "stdout",
       "text": [
        " ::  S&P 500 prepend successfully goes back to 1957.\n"
       ]
      }
     ],
     "prompt_number": 3
    },
    {
     "cell_type": "code",
     "collapsed": false,
     "input": [
      "#  Get Gold daily:\n",
      "au = getfred( d4xau )"
     ],
     "language": "python",
     "metadata": {},
     "outputs": [],
     "prompt_number": 4
    },
    {
     "cell_type": "code",
     "collapsed": false,
     "input": [
      "#  Create their dataframe:\n",
      "assets = paste( [au, sp])\n",
      "assets.columns = ['Au', 'SP']"
     ],
     "language": "python",
     "metadata": {},
     "outputs": [],
     "prompt_number": 5
    },
    {
     "cell_type": "code",
     "collapsed": false,
     "input": [
      "#  Compute returns as YoY percentage, assuming 256 days/year:\n",
      "returns = pcent( assets, 256 )"
     ],
     "language": "python",
     "metadata": {},
     "outputs": [],
     "prompt_number": 6
    },
    {
     "cell_type": "markdown",
     "metadata": {},
     "source": [
      "We can explore returns as far back as 1968-04-01, or any sub-section in time. The gold bubble crashes to its low point around 1982-03-19."
     ]
    },
    {
     "cell_type": "code",
     "collapsed": false,
     "input": [
      "start = '1969-07-01'"
     ],
     "language": "python",
     "metadata": {},
     "outputs": [],
     "prompt_number": 7
    },
    {
     "cell_type": "code",
     "collapsed": false,
     "input": [
      "#  Show subret distribution:\n",
      "boxplot( returns[start:] )"
     ],
     "language": "python",
     "metadata": {},
     "outputs": [
      {
       "metadata": {},
       "output_type": "display_data",
       "png": "[encoded data removed]",
       "text": [
        "<matplotlib.figure.Figure at 0xad1f41cc>"
       ]
      },
      {
       "output_type": "stream",
       "stream": "stdout",
       "text": [
        " ::  Finished: boxplot-tmp.png\n"
       ]
      }
     ],
     "prompt_number": 8
    },
    {
     "cell_type": "markdown",
     "metadata": {},
     "source": [
      "The red line within the box shows the *median*, while the red dot plots the most recent data point.\n",
      "\n",
      "Gold shows a wider range of returns to the upside. To best summarize performance, we compute geometric mean returns."
     ]
    },
    {
     "cell_type": "code",
     "collapsed": false,
     "input": [
      "#  Geometric mean return for gold in chosen period:\n",
      "georet( au[start:] )"
     ],
     "language": "python",
     "metadata": {},
     "outputs": [
      {
       "metadata": {},
       "output_type": "pyout",
       "prompt_number": 9,
       "text": [
        "[7.2, 9.2, 20.02, 256]"
       ]
      }
     ],
     "prompt_number": 9
    },
    {
     "cell_type": "code",
     "collapsed": false,
     "input": [
      "#  Geometric mean return for US equities in chosen period:\n",
      "georet( sp[start:] )"
     ],
     "language": "python",
     "metadata": {},
     "outputs": [
      {
       "metadata": {},
       "output_type": "pyout",
       "prompt_number": 10,
       "text": [
        "[6.59, 8.0, 16.78, 256]"
       ]
      }
     ],
     "prompt_number": 10
    },
    {
     "cell_type": "markdown",
     "metadata": {},
     "source": [
      "For start since 1970, gold's *geometric* return exceeds that of US equities by 65 bp. Note that dividends are not included in the SPX index, so we are not comparing total investment return. (Geometric mean returns implicitly penalizes volatility, and is compatible for an investor with logrithmic utility.) "
     ]
    },
    {
     "cell_type": "code",
     "collapsed": false,
     "input": [
      "stats( returns[start:] )"
     ],
     "language": "python",
     "metadata": {},
     "outputs": [
      {
       "output_type": "stream",
       "stream": "stdout",
       "text": [
        "                 Au            SP\n",
        "count  11918.000000  11918.000000\n",
        "mean      10.613677      7.976448\n",
        "std       28.282301     16.759750\n",
        "min      -41.473587    -48.779458\n",
        "25%       -6.891652     -2.075755\n",
        "50%        5.086154      9.821511\n",
        "75%       22.170530     19.348908\n",
        "max      261.010830     65.300874\n",
        "\n",
        " ::  Index on min:\n",
        "Au   1982-03-19\n",
        "SP   2008-11-20\n",
        "dtype: datetime64[ns]\n",
        "\n",
        " ::  Index on max:\n",
        "Au   1980-01-21\n",
        "SP   2010-03-02\n",
        "dtype: datetime64[ns]\n",
        "\n",
        " ::  Head:\n",
        "                  Au        SP\n",
        "T                             \n",
        "1969-07-01  0.734394 -3.786541\n",
        "1969-07-02  3.580402 -3.218233\n",
        "1969-07-03  3.615960 -2.562848\n",
        "1969-07-04  6.393862 -2.715109\n",
        "1969-07-07  6.488550 -3.234317\n",
        "1969-07-08  7.397959 -4.527675\n",
        "1969-07-09  8.636364 -4.739430"
       ]
      },
      {
       "output_type": "stream",
       "stream": "stdout",
       "text": [
        "\n",
        "\n",
        " ::  Tail:\n",
        "                   Au         SP\n",
        "T                               \n",
        "2015-02-25  -9.739652  12.804777\n",
        "2015-02-26  -9.629768  12.644292\n",
        "2015-02-27  -9.756551  12.118613\n",
        "2015-03-02  -9.193035  12.744670\n",
        "2015-03-03  -9.765625  12.284982\n",
        "2015-03-04 -10.900650  12.363263\n",
        "2015-03-05 -12.005857  12.463334\n",
        "\n",
        " ::  Correlation matrix:\n",
        "          Au        SP\n",
        "Au  1.000000 -0.103213\n",
        "SP -0.103213  1.000000"
       ]
      },
      {
       "output_type": "stream",
       "stream": "stdout",
       "text": [
        "\n"
       ]
      }
     ],
     "prompt_number": 11
    },
    {
     "cell_type": "markdown",
     "metadata": {},
     "source": [
      "Without the effects of volatility, the *arithmetic* mean of gold is 260 bp greater than US equities -- which might compensate for its lack of dividends cash flow."
     ]
    },
    {
     "cell_type": "heading",
     "level": 2,
     "metadata": {},
     "source": [
      "Correlation and regression fit"
     ]
    },
    {
     "cell_type": "heading",
     "level": 4,
     "metadata": {},
     "source": [
      "We expect practically zero correlation between gold and US equities in most periods."
     ]
    },
    {
     "cell_type": "code",
     "collapsed": false,
     "input": [
      "#  This also runs a linear regression: Au = f(SP)\n",
      "stat2( returns[start:]['Au'], returns[start:]['SP'] )"
     ],
     "language": "python",
     "metadata": {},
     "outputs": [
      {
       "output_type": "stream",
       "stream": "stdout",
       "text": [
        " ::  FIRST variable:\n",
        "count    11918.000000\n",
        "mean        10.613677\n",
        "std         28.282301\n",
        "min        -41.473587\n",
        "25%         -6.891652\n",
        "50%          5.086154\n",
        "75%         22.170530\n",
        "max        261.010830\n",
        "Name: Au, dtype: float64"
       ]
      },
      {
       "output_type": "stream",
       "stream": "stdout",
       "text": [
        "\n",
        "\n",
        " ::  SECOND variable:\n",
        "count    11918.000000\n",
        "mean         7.976448\n",
        "std         16.759750\n",
        "min        -48.779458\n",
        "25%         -2.075755\n",
        "50%          9.821511\n",
        "75%         19.348908\n",
        "max         65.300874\n",
        "Name: SP, dtype: float64"
       ]
      },
      {
       "output_type": "stream",
       "stream": "stdout",
       "text": [
        "\n",
        "\n",
        " ::  CORRELATION\n",
        "-0.103213213575\n",
        "\n",
        "-------------------------Summary of Regression Analysis-------------------------\n",
        "\n",
        "Formula: Y ~ <x> + <intercept>\n",
        "\n",
        "Number of Observations:         11918\n",
        "Number of Degrees of Freedom:   2\n",
        "\n",
        "R-squared:         0.0107\n",
        "Adj R-squared:     0.0106\n",
        "\n",
        "Rmse:             28.1324\n",
        "\n",
        "F-stat (1, 11916):   128.3076, p-value:     0.0000\n",
        "\n",
        "Degrees of Freedom: model 1, resid 11916\n",
        "\n",
        "-----------------------Summary of Estimated Coefficients------------------------\n",
        "      Variable       Coef    Std Err     t-stat    p-value    CI 2.5%   CI 97.5%\n",
        "--------------------------------------------------------------------------------\n",
        "             x    -0.1742     0.0154     -11.33     0.0000    -0.2043    -0.1440\n",
        "     intercept    12.0030     0.2854      42.06     0.0000    11.4436    12.5623\n",
        "---------------------------------End of Summary---------------------------------\n"
       ]
      },
      {
       "output_type": "stream",
       "stream": "stdout",
       "text": [
        "\n"
       ]
      }
     ],
     "prompt_number": 12
    },
    {
     "cell_type": "heading",
     "level": 1,
     "metadata": {},
     "source": [
      "History of projected returns"
     ]
    },
    {
     "cell_type": "markdown",
     "metadata": {},
     "source": [
      "We use the Holt-Winters technique to plot projected annual returns. Resampled monthly data, rather than raw daily data, is used to see the broader trends.\n",
      "\n",
      "The projected annual returns gives the best linear slope forecasts, thus it is a compact representation of many point predictions using the Holt-Winters technique. It may not be accurate at major turning points, but its path very far away from the (seemingly stationary) mean could indicate overbought or oversold conditions in the market."
     ]
    },
    {
     "cell_type": "heading",
     "level": 3,
     "metadata": {},
     "source": [
      "Forecasting gold"
     ]
    },
    {
     "cell_type": "code",
     "collapsed": false,
     "input": [
      "#  Gold: projected annual returns using monthly data:\n",
      "aupro = holtpc( monthly(au), 12 )"
     ],
     "language": "python",
     "metadata": {},
     "outputs": [],
     "prompt_number": 13
    },
    {
     "cell_type": "code",
     "collapsed": false,
     "input": [
      "#  Gold projections for the last 40 years:\n",
      "plotfred( aupro[-480:] )"
     ],
     "language": "python",
     "metadata": {},
     "outputs": [
      {
       "metadata": {},
       "output_type": "display_data",
       "png": "[encoded data removed]",
       "text": [
        "<matplotlib.figure.Figure at 0xad051a2c>"
       ]
      }
     ],
     "prompt_number": 14
    },
    {
     "cell_type": "code",
     "collapsed": false,
     "input": [
      "#  Long-term arithmetic mean return is 10.6%.\n",
      "#  Latest forecast of gold return for the coming year:\n",
      "tailvalue( aupro )"
     ],
     "language": "python",
     "metadata": {},
     "outputs": [
      {
       "metadata": {},
       "output_type": "pyout",
       "prompt_number": 15,
       "text": [
        "-4.884878533176684"
       ]
      }
     ],
     "prompt_number": 15
    },
    {
     "cell_type": "heading",
     "level": 3,
     "metadata": {},
     "source": [
      "Forecasting SPX"
     ]
    },
    {
     "cell_type": "code",
     "collapsed": false,
     "input": [
      "#  SPX: projected annual returns using monthly data:\n",
      "sppro = holtpc( monthly(sp), 12 )"
     ],
     "language": "python",
     "metadata": {},
     "outputs": [],
     "prompt_number": 16
    },
    {
     "cell_type": "code",
     "collapsed": false,
     "input": [
      "#  US equities projections for the last 40 years:\n",
      "plotfred( sppro[-480:] )"
     ],
     "language": "python",
     "metadata": {},
     "outputs": [
      {
       "metadata": {},
       "output_type": "display_data",
       "png": "[encoded data removed]",
       "text": [
        "<matplotlib.figure.Figure at 0xacfd214c>"
       ]
      }
     ],
     "prompt_number": 17
    },
    {
     "cell_type": "code",
     "collapsed": false,
     "input": [
      "#  Long-term arithmetic mean return is 8.0%.\n",
      "#  Latest forecast of SPX return for the coming year:\n",
      "tailvalue( sppro )"
     ],
     "language": "python",
     "metadata": {},
     "outputs": [
      {
       "metadata": {},
       "output_type": "pyout",
       "prompt_number": 18,
       "text": [
        "10.944655163915927"
       ]
      }
     ],
     "prompt_number": 18
    },
    {
     "cell_type": "heading",
     "level": 1,
     "metadata": {},
     "source": [
      "Relative value between SPX and XAU"
     ]
    },
    {
     "cell_type": "code",
     "collapsed": false,
     "input": [
      "#  SPX priced in USD per share:\n",
      "plotfred( sp['1968-04-01':] )"
     ],
     "language": "python",
     "metadata": {},
     "outputs": [
      {
       "metadata": {},
       "output_type": "display_data",
       "png": "[encoded data removed]",
       "text": [
        "<matplotlib.figure.Figure at 0xacf2c74c>"
       ]
      }
     ],
     "prompt_number": 42
    },
    {
     "cell_type": "code",
     "collapsed": false,
     "input": [
      "#  XAU priced in USD per troy ounce:\n",
      "plotfred( au['1968-04-01':] )"
     ],
     "language": "python",
     "metadata": {},
     "outputs": [
      {
       "metadata": {},
       "output_type": "display_data",
       "png": "[encoded data removed]",
       "text": [
        "<matplotlib.figure.Figure at 0xace77d4c>"
       ]
      }
     ],
     "prompt_number": 43
    },
    {
     "cell_type": "markdown",
     "metadata": {},
     "source": [
      "The previous section on forecasting looked the assets separately. **Now we shall look at SPX priced in terms of XAU, which can be interpretated as troy ounces of gold required to buy an equity share in the US.**"
     ]
    },
    {
     "cell_type": "code",
     "collapsed": false,
     "input": [
      "spau = todf( sp / au )\n",
      "#   Units are thus expressed in troy ounces per share."
     ],
     "language": "python",
     "metadata": {},
     "outputs": [],
     "prompt_number": 44
    },
    {
     "cell_type": "code",
     "collapsed": false,
     "input": [
      "#  USD as common denominator drops out, and \n",
      "#  Y plots the US equity in terms of troy ounces of gold:\n",
      "plotfred( spau )"
     ],
     "language": "python",
     "metadata": {},
     "outputs": [
      {
       "metadata": {},
       "output_type": "display_data",
       "png": "[encoded data removed]",
       "text": [
        "<matplotlib.figure.Figure at 0xacfd206c>"
       ]
      }
     ],
     "prompt_number": 45
    },
    {
     "cell_type": "markdown",
     "metadata": {},
     "source": [
      "That spike to 5.6 ounces is very noteworthy indicating overvalued equities, and a signal to buy gold. In fact, it is the all-time high since 1880."
     ]
    },
    {
     "cell_type": "code",
     "collapsed": false,
     "input": [
      "#  Longer view using monthly Schiller \"data,\" back to 1880, but in terms of grams:\n",
      "Image(url='http://pricedingold.com/charts/SP500-1880.png', embed=False)\n",
      "#  1 troy ounce = 31.1 grams"
     ],
     "language": "python",
     "metadata": {},
     "outputs": [
      {
       "html": [
        "<img src=\"http://pricedingold.com/charts/SP500-1880.png\"/>"
       ],
       "metadata": {},
       "output_type": "pyout",
       "prompt_number": 46,
       "text": [
        "<IPython.core.display.Image at 0xacffd2ec>"
       ]
      }
     ],
     "prompt_number": 46
    },
    {
     "cell_type": "code",
     "collapsed": false,
     "input": [
      "stats( spau )"
     ],
     "language": "python",
     "metadata": {},
     "outputs": [
      {
       "output_type": "stream",
       "stream": "stdout",
       "text": [
        "                  Y\n",
        "count  12244.000000\n",
        "mean       1.565869\n",
        "std        1.217546\n",
        "min        0.131882\n",
        "25%        0.644588\n",
        "50%        1.163509\n",
        "75%        2.306488\n",
        "max        5.565022\n",
        "\n",
        " ::  Index on min:\n",
        "Y   1980-01-21\n",
        "dtype: datetime64[ns]\n",
        "\n",
        " ::  Index on max:\n",
        "Y   1999-07-15\n",
        "dtype: datetime64[ns]\n",
        "\n",
        " ::  Head:\n",
        "                   Y\n",
        "T                   \n",
        "1968-04-01  2.453050\n",
        "1968-04-02  2.483646\n",
        "1968-04-03  2.485904\n",
        "1968-04-04  2.539648\n",
        "1968-04-05  2.521351\n",
        "1968-04-08  2.562753\n",
        "1968-04-09  2.532000\n",
        "\n",
        " ::  Tail:\n",
        "                   Y\n",
        "T                   \n",
        "2015-02-25  1.754605\n",
        "2015-02-26  1.746940\n",
        "2015-02-27  1.733526\n",
        "2015-03-02  1.746301\n",
        "2015-03-03  1.738017\n",
        "2015-03-04  1.749504\n",
        "2015-03-05  1.747953\n",
        "\n",
        " ::  Correlation matrix:\n",
        "   Y\n",
        "Y  1"
       ]
      },
      {
       "output_type": "stream",
       "stream": "stdout",
       "text": [
        "\n"
       ]
      }
     ],
     "prompt_number": 47
    },
    {
     "cell_type": "markdown",
     "metadata": {},
     "source": [
      "Over the long haul, it took an *average of 1.57 troy ounces of gold to purchase one US equity share*."
     ]
    },
    {
     "cell_type": "code",
     "collapsed": false,
     "input": [
      "#  What is the long-term trend?\n",
      "plotfred( trend(spau) )"
     ],
     "language": "python",
     "metadata": {},
     "outputs": [
      {
       "output_type": "stream",
       "stream": "stdout",
       "text": [
        " ::  regresstime slope = 9.67148719065e-05\n"
       ]
      },
      {
       "metadata": {},
       "output_type": "display_data",
       "png": "[encoded data removed]",
       "text": [
        "<matplotlib.figure.Figure at 0xad01802c>"
       ]
      }
     ],
     "prompt_number": 48
    },
    {
     "cell_type": "markdown",
     "metadata": {},
     "source": [
      "Simplistically, US equites has arithmetically doubled in value in terms of gold (from 1 oz. in the 70's to over 2 oz. recently). That trend looks good, going as far back as 1932."
     ]
    },
    {
     "cell_type": "code",
     "collapsed": false,
     "input": [
      "#  Compute the geometric mean return:\n",
      "georet( spau )"
     ],
     "language": "python",
     "metadata": {},
     "outputs": [
      {
       "metadata": {},
       "output_type": "pyout",
       "prompt_number": 49,
       "text": [
        "[-0.7, 2.71, 26.12, 256]"
       ]
      }
     ],
     "prompt_number": 49
    },
    {
     "cell_type": "markdown",
     "metadata": {},
     "source": [
      "### Conclusion for relative value\n",
      "\n",
      "The arithmetic mean return for spau is approximately 2.7% per annum (which is the trend shown graphically above), however, due to high volatility the geometric mean return is sub-zero. **This analytically implies *short equities vs. long gold is favorable for an investor with log utility*, but at high risk with hardly any profit over the long haul.** \n",
      "\n",
      "Including dividends in our analysis would reverse this conclusion as to positions, but would still leave us indifferent as to a definitive choice between the two assets. A complete treatment should also account for the taxation on dividends and capital gains (financial vs. commodity assets).\n",
      "\n",
      "Notice that the spau volatility is greater than that of SPX, and also that of XAU. **Opposing the two assets in a portfolio does not diminish risk, but rather increases risk.** \n",
      "\n",
      "It is worth noting that dividends are reduced generally when industries are not doing well. Interest rates may decrease in order to induce economic activity (cf. Great Recession), which would decrease *real* interest rates. Since gold has no income stream, it thus becomes more preferable over equities in such situations.\n",
      "\n",
      "Real interest rates also become negative when monetary policy allows inflation to rise above nominal interest rates. This is the classic scenario where gold is preferable because financial instruments will have difficulty merely preserving wealth."
     ]
    },
    {
     "cell_type": "markdown",
     "metadata": {},
     "source": [
      "#### TODO\n",
      "\n",
      "- [ ] - do a portfolio analysis with SPX and XAU jointly long.\n",
      "    - What allocation between the two assets has been risk minimal?\n",
      "    - Can the allocation be improved by using real interest rates as a factor?"
     ]
    },
    {
     "cell_type": "code",
     "collapsed": false,
     "input": [],
     "language": "python",
     "metadata": {},
     "outputs": [],
     "prompt_number": 49
    }
   ],
   "metadata": {}
  }
 ]
}