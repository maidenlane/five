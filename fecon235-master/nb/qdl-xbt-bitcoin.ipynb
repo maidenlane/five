{
 "cells": [
  {
   "cell_type": "markdown",
   "metadata": {},
   "source": [
    "## Bitcoin: XBTUSD, XBTXAU, XBTCNY\n",
    "\n",
    "Ben Bernanke, as Federal Reserve Chairman, in his 6 September 2013 letter \n",
    "to a Senate committee wrote that Bitcoin and other virtual currencies \n",
    "\"*may hold long-term promise, particularly if the innovations\n",
    "promote a faster, more secure and more efficient **payment system***.\" \n",
    "[See http://goo.gl/49I5ZI for the full letter.] \n",
    "\n",
    "Here we demonstrate how Bitcoin (\"XBT\") data can be statistically analyzed \n",
    "as a ***financial asset***.\n",
    "\n",
    "- 2016-12-30 *The annualized XBTUSD volatility is 112%, which is astonishing.* \n",
    "  This implies (within less than one standard deviation!) that it is \n",
    "  equally probable in the coming year that Bitcoin will be \n",
    "  totally worthless or roughly double in price.\n",
    "\n",
    "**This extremely high volatility may hinder its general acceptance as a payment system.** \n",
    "It role as store of value is speculative, but it may provide \n",
    "diversification for an optimal portfolio (see Appendix 2). \n",
    "*The annualized mean geometric return for XBTUSD is currently +128% \n",
    "over the last six years*, through two sharp peaks visible on our plots.\n",
    "\n",
    "\n",
    "- For comparative valuation, we investigate XBTXAU (in terms of gold troy ounces) and \n",
    "  XBTCNY (in terms of Chinese yuan, due to Bitcoin mining predominantly in China).\n",
    "\n",
    "    - As of 2017-02-07, one Bitcoin was insufficient to buy one troy ounce of gold, \n",
    "      but the peaks of XBTXAU indicates temporary surge efforts \n",
    "      (all-time high was 0.945 troy ounces on 2017-01-05 which is \n",
    "      comparable to the 2013-12-04 record).\n",
    "\n",
    "    - The correlation between XBTUSD and XBTCNY \n",
    "      is +0.998 as of 2017-02-19, \n",
    "      which is why their charts appear so similar if we disregard \n",
    "      the units shown for the y-axis.\n",
    "\n",
    "    - The computation of mean geometric return also shows that \n",
    "      the expected financial returns for XBTCNY is practically identical \n",
    "      to those for XBTUSD in their respective locale.\n",
    "\n",
    "\n",
    "- The upper bound on the number of Bitcoins is 21 million. \n",
    "  This limit has economic consequences [to be discussed in a forthcoming notebook].\n",
    "\n",
    "In 2013, the Foreign Exchange team at Bank of America (David Woo, Ian Gordan, et al.) \n",
    "produced its first assessment in an extensive 14-page report:\n",
    "\"our fair value analysis implies a maximum market capitalization of Bitcoin \n",
    "of \\$15bn (1 BTC = 1300 USD).\" *Capitalization is in fact currently about **16 billion USD***, \n",
    "and we provide a method to compute that statistic daily.\n",
    "\n",
    "The utility of Bitcoin as means of payment or transfer seems to\n",
    "outweight its speculative quality as store of value from the viewpoint \n",
    "of a Chinese user under government restrictions on capital flow out of China.\n",
    "\n",
    "The value of Bitcoin specifically as a decentralized timestamped database (\"blockchain\") \n",
    "verifiable by all users has not been determined.\n",
    "\n",
    "- Our robust optimization produces a model which outperforms an AR(1) with unit root \n",
    "for one-step ahead forecasts by using a median absolute error loss function. \n",
    "This finding is used to smooth the volatile Bitcoin price path (\"XBTema\")."
   ]
  },
  {
   "cell_type": "markdown",
   "metadata": {},
   "source": [
    "### Note on abbreviation\n",
    "\n",
    "“**BTC**” has been the generally accepted notation for Bitcoin. \n",
    "Its creator, Satoshi Nakamoto, refers to it as \"BTC\".\n",
    "Bitcoin is decentralized by design so there was no standard \n",
    "to dictate what its official symbol should be. \n",
    "There may be confusion with the Bhutanese colón currency.\n",
    "\n",
    "Then \"**XBT**\" was proposed via International Standards Organization (ISO 4217) \n",
    "which maintains a list of abbreviated currencies and precious metals \n",
    "(for example, XAU is gold). \n",
    "Some exchanges began to adopt \"XBT\" and it is currently used by Bloomberg. \n",
    "Major banks experimenting with blockchain technology seem to favor \"XBT\"."
   ]
  },
  {
   "cell_type": "markdown",
   "metadata": {},
   "source": [
    "*Dependencies:*\n",
    "\n",
    "- Repository: https://github.com/rsvp/fecon235\n",
    "- Python: matplotlib, pandas\n",
    "     \n",
    "*CHANGE LOG*\n",
    "\n",
    "    2017-02-19  Add XBTCNY analysis.\n",
    "    2017-02-07  Add references. Use newly defined quandlcodes.\n",
    "    2016-12-31  First version."
   ]
  },
  {
   "cell_type": "code",
   "execution_count": 1,
   "metadata": {
    "collapsed": false
   },
   "outputs": [],
   "source": [
    "from fecon235.fecon235 import *"
   ]
  },
  {
   "cell_type": "code",
   "execution_count": 2,
   "metadata": {
    "collapsed": false
   },
   "outputs": [
    {
     "name": "stdout",
     "output_type": "stream",
     "text": [
      " ::  Python 2.7.13\n",
      " ::  IPython 5.1.0\n",
      " ::  jupyter_core 4.2.1\n",
      " ::  notebook 4.1.0\n",
      " ::  matplotlib 1.5.1\n",
      " ::  numpy 1.11.0\n",
      " ::  pandas 0.19.2\n",
      " ::  pandas_datareader 0.2.1\n",
      " ::  Repository: fecon235 v5.16.1225 develop\n",
      " ::  Timestamp: 2017-02-21, 00:36:03 UTC\n",
      " ::  $pwd: /media/yaya/virt15h/virt/dbx/Dropbox/ipy/fecon235/nb\n"
     ]
    }
   ],
   "source": [
    "#  PREAMBLE-p6.15.1223 :: Settings and system details\n",
    "from __future__ import absolute_import, print_function\n",
    "system.specs()\n",
    "pwd = system.getpwd()   # present working directory as variable.\n",
    "print(\" ::  $pwd:\", pwd)\n",
    "#  If a module is modified, automatically reload it:\n",
    "%load_ext autoreload\n",
    "%autoreload 2\n",
    "#       Use 0 to disable this feature.\n",
    "\n",
    "#  Notebook DISPLAY options:\n",
    "#      Represent pandas DataFrames as text; not HTML representation:\n",
    "import pandas as pd\n",
    "pd.set_option( 'display.notebook_repr_html', False )\n",
    "from IPython.display import HTML # useful for snippets\n",
    "#  e.g. HTML('<iframe src=http://en.mobile.wikipedia.org/?useformat=mobile width=700 height=350></iframe>')\n",
    "from IPython.display import Image \n",
    "#  e.g. Image(filename='holt-winters-equations.png', embed=True) # url= also works\n",
    "from IPython.display import YouTubeVideo\n",
    "#  e.g. YouTubeVideo('1j_HxD4iLn8', start='43', width=600, height=400)\n",
    "from IPython.core import page\n",
    "get_ipython().set_hook('show_in_pager', page.as_hook(page.display_page), 0)\n",
    "#  Or equivalently in config file: \"InteractiveShell.display_page = True\", \n",
    "#  which will display results in secondary notebook pager frame in a cell.\n",
    "\n",
    "#  Generate PLOTS inside notebook, \"inline\" generates static png:\n",
    "%matplotlib inline   \n",
    "#          \"notebook\" argument allows interactive zoom and resize."
   ]
  },
  {
   "cell_type": "markdown",
   "metadata": {},
   "source": [
    "## Bitcoin data\n",
    "\n",
    "Source: https://www.quandl.com/data/BCHAIN-Blockchain which also offers:\n",
    "\n",
    "- Number of Unique Bitcoin Addresses Used\n",
    "- Total Number of Transactions\n",
    "- Average Transaction Confirmation Time\n",
    "- Miners Revenue\n",
    "\n",
    "We pre-defined quandcodes for Bitcoin count and USD price."
   ]
  },
  {
   "cell_type": "code",
   "execution_count": 3,
   "metadata": {
    "collapsed": true
   },
   "outputs": [],
   "source": [
    "#  d7 means frequency of 7 days per week:\n",
    "xbt = get( d7xbtusd )       # Bitcoin price in USD (approx. 960 USD)\n",
    "xbtN = get( d7xbtcount )    # number of Bitcoins mined thus far (approx. 16 million)\n",
    "\n",
    "#  Market capitalization will computed by multiplying the two: approx. 16 billion USD.\n",
    "#  Double check: d4xbtCap = 'BCHAIN/MKTCP' "
   ]
  },
  {
   "cell_type": "markdown",
   "metadata": {},
   "source": [
    "***The beginning of Bitcoin dates back to 2009.*** \n",
    "There is a period of novelty during which  \n",
    "prices could be approximated by zero.\n",
    "\n",
    "For the purpose of statistical analysis, we provide \n",
    "a convenient constant called \"***begin***\" for a starting date \n",
    "(which can be simply modified to redo this entire notebook).\n",
    "\n",
    "Unlike traditional financial assets, Bitcoin data \n",
    "is available daily, including weekends and holidays -- \n",
    "thus care must be exercised in any cross-asset comparisons \n",
    "(for example, in the annualization of volatility)."
   ]
  },
  {
   "cell_type": "code",
   "execution_count": 4,
   "metadata": {
    "collapsed": true
   },
   "outputs": [],
   "source": [
    "#  Define some constants which may be changed to redo this notebook:\n",
    "\n",
    "begin = '2011-01-01'  # NOT the actual historical Bitcoin start."
   ]
  },
  {
   "cell_type": "markdown",
   "metadata": {},
   "source": [
    "## Bitcoin capitalization\n",
    "\n",
    "What is valuation of the entire Bitcoin market?\n",
    "\n",
    "2016-12-29 approx. 15.7 million USD."
   ]
  },
  {
   "cell_type": "code",
   "execution_count": 5,
   "metadata": {
    "collapsed": true
   },
   "outputs": [],
   "source": [
    "#  Bitcoin CAPITALIZATION = price * Number\n",
    "xbtCap = todf(xbt * xbtN)\n",
    "\n",
    "#  See plot below..."
   ]
  },
  {
   "cell_type": "markdown",
   "metadata": {},
   "source": [
    "### Note on the Number of Bitcoins, xbtN\n",
    "\n",
    "*The number of Bitcoins generated per block is set to \n",
    "decrease geometrically, with a 50% reduction every 210,000 blocks.* \n",
    "**Thus the number of Bitcoins in existence is not expected to ever exceed 21 million.** \n",
    "(As of 2016-12-29 there were over 16 million Bitcoins mined.)\n",
    "\n",
    "[Ignoring the unspendable genesis block, the sundry lost coins \n",
    "and unclaimed rewards, the maximum number of Bitcoins is \n",
    "technically 20999999.9769.]\n",
    "\n",
    "**Currently about 98% of Bitcoin mining originates from China** (source: WSJ). \n",
    "David Woo at Bank of America back in 2013 pointed out: \n",
    "\"The correlation between CNY’s share of volume of all Bitcoin exchanges \n",
    "and price of Bitcoin is high and rising.\" \n",
    "Later we shall investigate Bitcoin's relationship to \n",
    "the Chinese yuan."
   ]
  },
  {
   "cell_type": "code",
   "execution_count": 6,
   "metadata": {
    "collapsed": false
   },
   "outputs": [
    {
     "data": {
      "image/png": "[encoded data removed]",
      "text/plain": [
       "<matplotlib.figure.Figure at 0xaa45bb0c>"
      ]
     },
     "metadata": {},
     "output_type": "display_data"
    }
   ],
   "source": [
    "#  Plot Number of Bitcoins:\n",
    "plot( xbtN[begin:] )\n",
    "\n",
    "#  Steady and concave, progressing toward maximum at slower rate..."
   ]
  },
  {
   "cell_type": "code",
   "execution_count": 7,
   "metadata": {
    "collapsed": false
   },
   "outputs": [
    {
     "data": {
      "image/png": "[encoded data removed]",
      "text/plain": [
       "<matplotlib.figure.Figure at 0xa8f9a16c>"
      ]
     },
     "metadata": {},
     "output_type": "display_data"
    }
   ],
   "source": [
    "#  Plot CAPITALIZATION in US dollar unit:\n",
    "plot( xbtCap[begin:] )"
   ]
  },
  {
   "cell_type": "code",
   "execution_count": 8,
   "metadata": {
    "collapsed": false
   },
   "outputs": [],
   "source": [
    "#  Plot PRICE in USD, ie XBTUSD:\n",
    "#  plot( xbt[begin:] )\n",
    "\n",
    "#  Instead, please see plot of its optimized model below..."
   ]
  },
  {
   "cell_type": "code",
   "execution_count": 9,
   "metadata": {
    "collapsed": true
   },
   "outputs": [],
   "source": [
    "#  List of dataframes:\n",
    "dflist = [xbt, xbtN, xbtCap]\n",
    "\n",
    "#  Create Bitcoin DataFrame:\n",
    "xbtdf = paste( dflist )\n",
    "xbtdf.columns = ['Price', 'Number', 'Capitalization']"
   ]
  },
  {
   "cell_type": "code",
   "execution_count": 10,
   "metadata": {
    "collapsed": false
   },
   "outputs": [
    {
     "name": "stdout",
     "output_type": "stream",
     "text": [
      "             Price        Number  Capitalization\n",
      "count  2242.000000  2.242000e+03    2.242000e+03\n",
      "mean    277.082251  1.181588e+07    3.922023e+09\n",
      "std     275.172251  3.134500e+06    4.067454e+09\n",
      "min       0.298998  5.027250e+06    1.508165e+06\n",
      "25%      11.492750  9.455012e+06    1.059641e+08\n",
      "50%     233.745000  1.231280e+07    3.323239e+09\n",
      "75%     453.080000  1.448108e+07    6.570283e+09\n",
      "max    1151.000000  1.617275e+07    1.812207e+10\n",
      "\n",
      " ::  Index on min:\n",
      "Price            2011-01-05\n",
      "Number           2011-01-01\n",
      "Capitalization   2011-01-01\n",
      "dtype: datetime64[ns]\n",
      "\n",
      " ::  Index on max:\n",
      "Price            2013-12-04\n",
      "Number           2017-02-20\n",
      "Capitalization   2017-01-05\n",
      "dtype: datetime64[ns]\n",
      "\n",
      " ::  Head:\n",
      "               Price     Number  Capitalization\n",
      "T                                              \n",
      "2011-01-01  0.299998  5027250.0    1.508165e+06\n",
      "2011-01-02  0.299996  5036250.0    1.510855e+06\n",
      "2011-01-03  0.299998  5044450.0    1.513325e+06\n",
      " ::  Tail:\n",
      "                  Price      Number  Capitalization\n",
      "T                                                  \n",
      "2017-02-18  1055.536850  16169187.5    1.706717e+10\n",
      "2017-02-19  1056.637138  16171075.0    1.708696e+10\n",
      "2017-02-20  1052.779286  16172750.0    1.702634e+10\n",
      "\n",
      " ::  Correlation matrix:\n",
      "                   Price    Number  Capitalization\n",
      "Price           1.000000  0.751677        0.988217\n",
      "Number          0.751677  1.000000        0.777885\n",
      "Capitalization  0.988217  0.777885        1.000000\n"
     ]
    }
   ],
   "source": [
    "stats( xbtdf[begin:] )"
   ]
  },
  {
   "cell_type": "markdown",
   "metadata": {},
   "source": [
    "The correlation matrix shows that capitalization \n",
    "is strongly correlated with price as expected, \n",
    "but an all-time high in capitalization may not \n",
    "necessarily indicate an all-time high in price.\n",
    "\n",
    "**The median Bitcoin price is \\$234 USD** (as of 2017-02-19)."
   ]
  },
  {
   "cell_type": "markdown",
   "metadata": {},
   "source": [
    "## Bitcoin price\n",
    "\n",
    "On a given day, Bitcoin is not traded on a single centralized exchange, \n",
    "but rather globally in many different foreign currencies. \n",
    "Therefore the daily price in USD must be considered a *polled* approximation.\n",
    "\n",
    "*Unlike traditional financial assets, price is discovered every \n",
    "single day of the year.* Weekends and holidays are trading days, \n",
    "so the *xbt* series reflects this fact.\n",
    "\n",
    "The price movement is highly erratic, \n",
    "so let us look at some statistical characteristics."
   ]
  },
  {
   "cell_type": "code",
   "execution_count": 11,
   "metadata": {
    "collapsed": true
   },
   "outputs": [],
   "source": [
    "#  See the raw price series by uncommenting:\n",
    "#  xbt"
   ]
  },
  {
   "cell_type": "code",
   "execution_count": 12,
   "metadata": {
    "collapsed": false
   },
   "outputs": [
    {
     "data": {
      "text/plain": [
       "[127.85, 189.76, 111.28, 365, 2243, '2011-01-01', '2017-02-20']"
      ]
     },
     "execution_count": 12,
     "metadata": {},
     "output_type": "execute_result"
    }
   ],
   "source": [
    "#  Geometric mean return, for explanation execute: \"georet??\"\n",
    "georet( xbt[begin:], yearly=365 )\n",
    "\n",
    "# Note that yearly=365, not 256 like usual business \"daily\" data."
   ]
  },
  {
   "cell_type": "markdown",
   "metadata": {},
   "source": [
    "2016-12-30  The annualized volatility is 112%, which is astonishing. \n",
    "This implies (within less than one standard deviation!) that \n",
    "it is **equally probable in the coming year that Bitcoin \n",
    "will be totally worthless or roughly double in price.**\n",
    "\n",
    "So \"investing\" in Bitcoins would be speculative indeed, \n",
    "but on the other hand, the annualized geometric mean return \n",
    "is approximately +130%.\n",
    "\n",
    "Given the above, it may be unreasonable to predict the price of \n",
    "Bitcoin just from time-series methods. \n",
    "Nonetheless, let us see how an optimized Holt-Winters model would fit."
   ]
  },
  {
   "cell_type": "code",
   "execution_count": 13,
   "metadata": {
    "collapsed": false
   },
   "outputs": [],
   "source": [
    "# optimize_holtforecast( xbt[begin:], grids=50 )"
   ]
  },
  {
   "cell_type": "markdown",
   "metadata": {},
   "source": [
    "[This time-consuming analysis can be run by uncommenting the previous input line.]\n",
    "\n",
    "Our robust optimization produces a model which outperforms an AR(1) with unit root \n",
    "for one-step ahead forecasts by using a median absolute error loss function. \n",
    "This finding is used to smooth the volatile Bitcoin price path (\"XBTema\"), \n",
    "and we summarize the Holt-Winters models as follows:\n",
    "\n",
    "$H( \\alpha, \\beta ) = H( 0.857, 0 )$\n",
    "\n",
    "which indicates no trend overall since beta is estimated to be zero. \n",
    "However, the state of Bitcoin can be captured solely by the alpha coefficient. \n",
    "Mathematically, our model reduces to an exponentially weighted moving average.\n",
    "\n",
    "Economically this smoothing process can also be justified due to the nature \n",
    "of the polled approximation of XBTUSD especially when the trading is thin."
   ]
  },
  {
   "cell_type": "code",
   "execution_count": 14,
   "metadata": {
    "collapsed": true
   },
   "outputs": [],
   "source": [
    "#  Define \"XBTema\"\n",
    "#  Exponential moving average using Holt-Winters alpha:\n",
    "xbtema = ema( xbt, 0.857 )"
   ]
  },
  {
   "cell_type": "code",
   "execution_count": 15,
   "metadata": {
    "collapsed": false
   },
   "outputs": [
    {
     "data": {
      "image/png": "[encoded data removed]",
      "text/plain": [
       "<matplotlib.figure.Figure at 0xa8ce96ac>"
      ]
     },
     "metadata": {},
     "output_type": "display_data"
    }
   ],
   "source": [
    "#  Plot PRICE in USD as exponential moving average:\n",
    "plot( xbtema[begin:])"
   ]
  },
  {
   "cell_type": "code",
   "execution_count": 16,
   "metadata": {
    "collapsed": false
   },
   "outputs": [
    {
     "data": {
      "text/plain": [
       "[129.68, 176.79, 97.07, 365, 2243, '2011-01-01', '2017-02-20']"
      ]
     },
     "execution_count": 16,
     "metadata": {},
     "output_type": "execute_result"
    }
   ],
   "source": [
    "#  Geometric mean return of smoothed process:\n",
    "georet( xbtema[begin:], yearly=365 )"
   ]
  },
  {
   "cell_type": "markdown",
   "metadata": {},
   "source": [
    "2017-02-19 Our H-W ema model yields an annualized volatility of 97%, \n",
    "down from 112% using raw price. \n",
    "But the annualized geometric mean return still remains around +130%.\n",
    "\n",
    "[For comparative stats, see Appendix 1.]"
   ]
  },
  {
   "cell_type": "markdown",
   "metadata": {},
   "source": [
    "## Relationship to Gold: XAU\n",
    "\n",
    "First we investigate whether any linear relationship \n",
    "exists between XBT and XAU, the perennial store of value. \n",
    "\n",
    "We shall rely on Python's *pandas* to handle the date alignment \n",
    "correctly in all our statistical analysis henceforth."
   ]
  },
  {
   "cell_type": "code",
   "execution_count": 17,
   "metadata": {
    "collapsed": true
   },
   "outputs": [],
   "source": [
    "#  Download daily Gold, its London PM fix, in USD:\n",
    "xau = get( d4xauusd )"
   ]
  },
  {
   "cell_type": "code",
   "execution_count": 18,
   "metadata": {
    "collapsed": false
   },
   "outputs": [
    {
     "name": "stdout",
     "output_type": "stream",
     "text": [
      " ::  FIRST variable:\n",
      "count    2243.000000\n",
      "mean      276.971940\n",
      "std       274.968526\n",
      "min         0.299018\n",
      "25%        11.546564\n",
      "50%       233.471013\n",
      "75%       452.661707\n",
      "max      1136.596698\n",
      "Name: Y, dtype: float64\n",
      "\n",
      " ::  SECOND variable:\n",
      "count    1601.000000\n",
      "mean     1382.739163\n",
      "std       206.886760\n",
      "min      1049.400000\n",
      "25%      1220.500000\n",
      "50%      1315.900000\n",
      "75%      1586.250000\n",
      "max      1895.000000\n",
      "Name: Y, dtype: float64\n",
      "\n",
      " ::  CORRELATION\n",
      "-0.660684513381\n",
      "                            OLS Regression Results                            \n",
      "==============================================================================\n",
      "Dep. Variable:                      Y   R-squared:                       0.437\n",
      "Model:                            OLS   Adj. R-squared:                  0.436\n",
      "Method:                 Least Squares   F-statistic:                     1239.\n",
      "Date:                Mon, 20 Feb 2017   Prob (F-statistic):          2.07e-201\n",
      "Time:                        16:36:27   Log-Likelihood:                -10804.\n",
      "No. Observations:                1601   AIC:                         2.161e+04\n",
      "Df Residuals:                    1599   BIC:                         2.162e+04\n",
      "Df Model:                           1                                         \n",
      "Covariance Type:            nonrobust                                         \n",
      "==============================================================================\n",
      "                 coef    std err          t      P>|t|      [95.0% Conf. Int.]\n",
      "------------------------------------------------------------------------------\n",
      "Intercept   1491.0384     34.875     42.754      0.000      1422.633  1559.444\n",
      "X             -0.8779      0.025    -35.194      0.000        -0.927    -0.829\n",
      "==============================================================================\n",
      "Omnibus:                      135.166   Durbin-Watson:                   0.011\n",
      "Prob(Omnibus):                  0.000   Jarque-Bera (JB):              170.347\n",
      "Skew:                           0.799   Prob(JB):                     1.02e-37\n",
      "Kurtosis:                       3.043   Cond. No.                     9.45e+03\n",
      "==============================================================================\n",
      "\n",
      "Warnings:\n",
      "[1] Standard Errors assume that the covariance matrix of the errors is correctly specified.\n",
      "[2] The condition number is large, 9.45e+03. This might indicate that there are\n",
      "strong multicollinearity or other numerical problems.\n"
     ]
    }
   ],
   "source": [
    "#  We shall use the fitted XBT price in our regression:\n",
    "stat2( xbtema[begin:]['Y'], xau[begin:]['Y'] )"
   ]
  },
  {
   "cell_type": "markdown",
   "metadata": {},
   "source": [
    "There is a weak negative correlation between Bitcoin and gold (-0.67 on 2016-12-30). \n",
    "The linear regression itself is unremarkable (R-squared of 0.44)."
   ]
  },
  {
   "cell_type": "markdown",
   "metadata": {},
   "source": [
    "### Bitcoin exchange rate, XBTXAU, in gold troy ounces\n",
    "\n",
    "Let us now visualize the relationship between gold \n",
    "and Bitcoin by pricing the former in terms of the latter, \n",
    "that is to say, amount of gold in troy ounces which can \n",
    "be purchased by one Bitcoin."
   ]
  },
  {
   "cell_type": "code",
   "execution_count": 19,
   "metadata": {
    "collapsed": false
   },
   "outputs": [],
   "source": [
    "#  Compute cross-rate in terms of troy ounces:\n",
    "xbtxau = todf( xbtema / xau )\n",
    "\n",
    "#  Note we use optimized xbt prices here."
   ]
  },
  {
   "cell_type": "code",
   "execution_count": 20,
   "metadata": {
    "collapsed": false
   },
   "outputs": [
    {
     "data": {
      "image/png": "[encoded data removed]",
      "text/plain": [
       "<matplotlib.figure.Figure at 0xa8be59ec>"
      ]
     },
     "metadata": {},
     "output_type": "display_data"
    }
   ],
   "source": [
    "plot( xbtxau[begin:] )"
   ]
  },
  {
   "cell_type": "markdown",
   "metadata": {},
   "source": [
    "The plots of *xbtema* (scaled in USD) and *xbtxau* (scaled in troy ounces) \n",
    "will look very similar since the correlation between the two \n",
    "ranges from 0.97 to 0.99 depending on the time frame.\n",
    "\n",
    "As of 2017-02-07, one Bitcoin was insufficient to buy one troy ounce \n",
    "of gold, but the peaks of XBTXAU indicates temporary surge efforts \n",
    "(all-time high was 0.945 troy ounces on 2017-01-05 \n",
    "which is comparable to the 2013-12-04 record)."
   ]
  },
  {
   "cell_type": "markdown",
   "metadata": {},
   "source": [
    "## Chinese point of view\n",
    "\n",
    "It is well-known that almost all Bitcoin mining takes place in China, \n",
    "and that Bitcoin is used to circumvent government and banking barriers \n",
    "on capital flows out of mainland China.\n",
    "\n",
    "We shall use the onshore Chinese Yuan (CNY) exchange rate, \n",
    "imposed upon subjects in China, rather then the offshore rate (CNH) \n",
    "freely traded in Hong Kong against the US dollar."
   ]
  },
  {
   "cell_type": "code",
   "execution_count": 21,
   "metadata": {
    "collapsed": true
   },
   "outputs": [],
   "source": [
    "#  Onshore \"official\" Chinese yuan rate against USD:\n",
    "cny = get( d4usdcny )\n",
    "\n",
    "#  The frequency here is the business daily, not 7 days/week."
   ]
  },
  {
   "cell_type": "code",
   "execution_count": 22,
   "metadata": {
    "collapsed": false
   },
   "outputs": [
    {
     "data": {
      "image/png": "[encoded data removed]",
      "text/plain": [
       "<matplotlib.figure.Figure at 0xa8605c4c>"
      ]
     },
     "metadata": {},
     "output_type": "display_data"
    }
   ],
   "source": [
    "plot( cny[begin:] )"
   ]
  },
  {
   "cell_type": "code",
   "execution_count": 23,
   "metadata": {
    "collapsed": false
   },
   "outputs": [
    {
     "name": "stdout",
     "output_type": "stream",
     "text": [
      " ::  FIRST variable:\n",
      "count    2243.000000\n",
      "mean      276.971940\n",
      "std       274.968526\n",
      "min         0.299018\n",
      "25%        11.546564\n",
      "50%       233.471013\n",
      "75%       452.661707\n",
      "max      1136.596698\n",
      "Name: Y, dtype: float64\n",
      "\n",
      " ::  SECOND variable:\n",
      "count    1595.000000\n",
      "mean        6.344414\n",
      "std         0.204290\n",
      "min         6.040200\n",
      "25%         6.202100\n",
      "50%         6.306500\n",
      "75%         6.477200\n",
      "max         6.958000\n",
      "Name: Y, dtype: float64\n",
      "\n",
      " ::  CORRELATION\n",
      "0.25054988374\n",
      "                            OLS Regression Results                            \n",
      "==============================================================================\n",
      "Dep. Variable:                      Y   R-squared:                       0.063\n",
      "Model:                            OLS   Adj. R-squared:                  0.062\n",
      "Method:                 Least Squares   F-statistic:                     106.7\n",
      "Date:                Mon, 20 Feb 2017   Prob (F-statistic):           2.96e-24\n",
      "Time:                        16:36:37   Log-Likelihood:                -11150.\n",
      "No. Observations:                1595   AIC:                         2.230e+04\n",
      "Df Residuals:                    1593   BIC:                         2.231e+04\n",
      "Df Model:                           1                                         \n",
      "Covariance Type:            nonrobust                                         \n",
      "==============================================================================\n",
      "                 coef    std err          t      P>|t|      [95.0% Conf. Int.]\n",
      "------------------------------------------------------------------------------\n",
      "Intercept  -1839.1711    204.716     -8.984      0.000     -2240.713 -1437.629\n",
      "X            333.1319     32.250     10.330      0.000       269.874   396.390\n",
      "==============================================================================\n",
      "Omnibus:                       93.852   Durbin-Watson:                   0.004\n",
      "Prob(Omnibus):                  0.000   Jarque-Bera (JB):              103.909\n",
      "Skew:                           0.603   Prob(JB):                     2.73e-23\n",
      "Kurtosis:                       2.669   Cond. No.                         202.\n",
      "==============================================================================\n",
      "\n",
      "Warnings:\n",
      "[1] Standard Errors assume that the covariance matrix of the errors is correctly specified.\n"
     ]
    }
   ],
   "source": [
    "stat2( xbtema[begin:]['Y'], cny[begin:]['Y'] )\n",
    "\n",
    "#  The differing frequencies are properly handled by pandas."
   ]
  },
  {
   "cell_type": "markdown",
   "metadata": {},
   "source": [
    "2017-02-19 **The claim that the USDCNY rate drives XBTUSD price is wrong**, \n",
    "since the correlation between the yuan and Bitcoin is a mere +0.25, \n",
    "while the R-squared is nearly zero.\n",
    "\n",
    "### Repricing Bitcoin in terms of yuan: XBTCNY "
   ]
  },
  {
   "cell_type": "code",
   "execution_count": 24,
   "metadata": {
    "collapsed": true
   },
   "outputs": [],
   "source": [
    "xbtcny = todf( xbtema * cny )"
   ]
  },
  {
   "cell_type": "code",
   "execution_count": 25,
   "metadata": {
    "collapsed": false
   },
   "outputs": [
    {
     "data": {
      "image/png": "[encoded data removed]",
      "text/plain": [
       "<matplotlib.figure.Figure at 0xa8664dac>"
      ]
     },
     "metadata": {},
     "output_type": "display_data"
    }
   ],
   "source": [
    "#  Bitcoin price in terms of Chinese yuan:\n",
    "plot( xbtcny[begin:] )"
   ]
  },
  {
   "cell_type": "code",
   "execution_count": 26,
   "metadata": {
    "collapsed": false
   },
   "outputs": [
    {
     "data": {
      "text/plain": [
       "[127.74, 174.13, 96.33, 256, 1595, '2011-01-03', '2017-02-10']"
      ]
     },
     "execution_count": 26,
     "metadata": {},
     "output_type": "execute_result"
    }
   ],
   "source": [
    "georet( xbtcny[begin:], yearly=256 )"
   ]
  },
  {
   "cell_type": "markdown",
   "metadata": {},
   "source": [
    "As shown in Appendix 1, the correlation between XBTema and XBTCNY \n",
    "is virtually +1 (in fact, 0.998 as of 2017-02-19) \n",
    "which is why their charts appear so similar if we disregard \n",
    "the units shown for the y-axis.\n",
    "\n",
    "The computation of mean geometric return also shows that \n",
    "the financial returns for XBTCNY is practically identical \n",
    "to those for XBTUSD in their respective locale.\n",
    "\n",
    "The valuation of Bitcoin, from the Chinese point of view, \n",
    "is *perhaps* driven more by its usage as means of payment \n",
    "(or transfer, cf. volume data cross-borders) \n",
    "than as store of speculative value (relative to gold \n",
    "and the US dollar) -- *further geo-localized data would be \n",
    "required for this to be convincing*.\n",
    "\n",
    "The Chinese government exercises considerable influence \n",
    "on Bitcoin middlemen under their jurisdiction. \n",
    "For example, recently the government imposed mandatory fees \n",
    "on Bitcoin transactions through the major Chinese exchanges. \n",
    "This demonstrates the *civil* friction which can be introduced by law, \n",
    "but it is not inconceivable that Bitcoin may become \n",
    "*criminally unlawful* in China. Such an event would \n",
    "obviously cause a severe decrease in Bitcoin valuation.\n",
    "\n",
    "\n",
    "## [Our overall conclusion is summarized at the top]"
   ]
  },
  {
   "cell_type": "markdown",
   "metadata": {},
   "source": [
    "---\n",
    "\n",
    "## Appendix 1: Summary stats"
   ]
  },
  {
   "cell_type": "code",
   "execution_count": 27,
   "metadata": {
    "collapsed": true
   },
   "outputs": [],
   "source": [
    "#  BitGoldYuan DataFrame\n",
    "bitgoldyuan = paste( [xbt, xbtema, xau, xbtxau, cny, xbtcny] )\n",
    "bitgoldyuan.columns = ['XBT', 'XBTema', 'XAU', 'XBTXAU', 'CNY', 'XBTCNY']"
   ]
  },
  {
   "cell_type": "code",
   "execution_count": 28,
   "metadata": {
    "collapsed": false
   },
   "outputs": [
    {
     "name": "stdout",
     "output_type": "stream",
     "text": [
      "               XBT       XBTema          XAU       XBTXAU          CNY  \\\n",
      "count  1595.000000  1595.000000  1595.000000  1595.000000  1595.000000   \n",
      "mean    274.452680   274.355836  1383.302947     0.221033     6.344414   \n",
      "std     271.780217   271.625002   207.070416     0.220080     0.204290   \n",
      "min       0.298998     0.299018  1049.400000     0.000213     6.040200   \n",
      "25%      11.443827    11.476160  1219.750000     0.006758     6.202100   \n",
      "50%     233.190000   232.765119  1316.500000     0.196279     6.306500   \n",
      "75%     451.450000   450.512217  1587.000000     0.372805     6.477200   \n",
      "max    1151.000000  1136.596698  1895.000000     0.944786     6.958000   \n",
      "\n",
      "            XBTCNY  \n",
      "count  1595.000000  \n",
      "mean   1754.521315  \n",
      "std    1767.368008  \n",
      "min       1.969764  \n",
      "25%      72.971237  \n",
      "50%    1460.722594  \n",
      "75%    2912.209840  \n",
      "max    7656.480390  \n",
      "\n",
      " ::  Index on min:\n",
      "XBT      2011-01-05\n",
      "XBTema   2011-01-06\n",
      "XAU      2015-12-17\n",
      "XBTXAU   2011-01-03\n",
      "CNY      2014-01-14\n",
      "XBTCNY   2011-01-05\n",
      "dtype: datetime64[ns]\n",
      "\n",
      " ::  Index on max:\n",
      "XBT      2013-12-04\n",
      "XBTema   2013-12-04\n",
      "XAU      2011-09-05\n",
      "XBTXAU   2017-01-05\n",
      "CNY      2016-12-16\n",
      "XBTCNY   2017-01-05\n",
      "dtype: datetime64[ns]\n",
      "\n",
      " ::  Head:\n",
      "                 XBT    XBTema     XAU    XBTXAU     CNY    XBTCNY\n",
      "T                                                                 \n",
      "2011-01-03  0.299998  0.299998  1405.5  0.000213  6.5895  1.976834\n",
      "2011-01-04  0.299899  0.299913  1388.5  0.000216  6.6065  1.981376\n",
      "2011-01-05  0.298998  0.299129  1368.0  0.000219  6.5850  1.969764\n",
      " ::  Tail:\n",
      "                    XBT       XBTema     XAU    XBTXAU     CNY       XBTCNY\n",
      "T                                                                          \n",
      "2017-02-08  1050.110000  1046.229752  1242.1  0.842307  6.8700  7187.598397\n",
      "2017-02-09  1052.376612  1051.497611  1236.8  0.850176  6.8660  7219.582600\n",
      "2017-02-10   976.103000   986.884429  1228.3  0.803456  6.8775  6787.297663\n",
      "\n",
      " ::  Correlation matrix:\n",
      "             XBT    XBTema       XAU    XBTXAU       CNY    XBTCNY\n",
      "XBT     1.000000  0.999958 -0.663020  0.996624  0.250515  0.997627\n",
      "XBTema  0.999958  1.000000 -0.663125  0.996628  0.250550  0.997666\n",
      "XAU    -0.663020 -0.663125  1.000000 -0.689451 -0.075158 -0.654955\n",
      "XBTXAU  0.996624  0.996628 -0.689451  1.000000  0.266048  0.995647\n",
      "CNY     0.250515  0.250550 -0.075158  0.266048  1.000000  0.307005\n",
      "XBTCNY  0.997627  0.997666 -0.654955  0.995647  0.307005  1.000000\n"
     ]
    }
   ],
   "source": [
    "stats( bitgoldyuan[begin:] )"
   ]
  },
  {
   "cell_type": "markdown",
   "metadata": {},
   "source": [
    "Notes: XAU and CNY are uncorrelated."
   ]
  },
  {
   "cell_type": "markdown",
   "metadata": {
    "collapsed": true
   },
   "source": [
    "---\n",
    "\n",
    "## Appendix 2: Reference notes\n",
    "\n",
    "- Brière M., K. Oosterlinck and A. Szafarz, “*Virtual Currency, Tangible  Return: Portfolio Diversification with Bitcoins*\", SSRN Working Paper N°2324780, 2013. http://goo.gl/40VIxr\n",
    "\n",
    "Despite the extreme volatilty, Brière et al. claim Bitcoin-inclusive portfolios \n",
    "will deliver superior mean-variance trade-offs than similar Bitcoin-free portfolios. \n",
    "They advocated for about 3% Bitcoin inclusion.\n",
    "\n"
   ]
  }
 ],
 "metadata": {
  "kernelspec": {
   "display_name": "Python 2",
   "language": "python",
   "name": "python2"
  },
  "language_info": {
   "codemirror_mode": {
    "name": "ipython",
    "version": 2
   },
   "file_extension": ".py",
   "mimetype": "text/x-python",
   "name": "python",
   "nbconvert_exporter": "python",
   "pygments_lexer": "ipython2",
   "version": "2.7.13"
  }
 },
 "nbformat": 4,
 "nbformat_minor": 0
}
