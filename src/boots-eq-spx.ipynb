{
 "cells": [
  {
   "cell_type": "markdown",
   "metadata": {},
   "source": [
    "## Bootstrap leptokurtotic equity returns :: SPX\n",
    "\n",
    "Bootstrapping has two benefits: small-sample statistics\n",
    "and simulation from controlled population.\n",
    "\n",
    "Our source code is sufficiently general to be applied to other\n",
    "financial assets besides the equities market index SPX:\n",
    "\n",
    "- Efficient storage and rescaling of empirical data.\n",
    "    - Normalize, but retain features of the empirical distribution.\n",
    "- Design bootstrap to study alternate histories.\n",
    "    - Visualize sample price paths.\n",
    "    - Bootstrap for small-sample statistics.\n",
    "    - Bootstrap for estimating probabilities of events.\n",
    "\n",
    "Bootstrapping facilitates the study of small-sample behaviour for which\n",
    "asymptotic statistical theory is unsuitable, or where closed-form\n",
    "mathematical analysis is intractable.\n",
    "\n",
    "In particular, we demonstrate:\n",
    "\n",
    "- \"geovolatility\" is greater than volatility (approximately 10% to 20% more),\n",
    "  thus there is more uncertainty surrounding the geometric mean rate,\n",
    "  relative to the arithmetic mean rate, especially during downturns.\n",
    "\n",
    "-  how one can estimate the probability that an asset will reach\n",
    "   below a certain price level during some fixed time duration.\n",
    "\n",
    "The idea in **Appendix 1** is to mix in synthetic data\n",
    "derived from a theoretical model of the market.\n",
    "We can express anticipated market conditions by\n",
    "altering the parametization of the population array,\n",
    "and also by overlaying the structure of a theoretical\n",
    "model to produce hybrid results.\n",
    "\n",
    "- Specify *hybrid population array* using synthetic rates of return\n",
    "  from GM(2) Gaussian Mixture model."
   ]
  },
  {
   "cell_type": "markdown",
   "metadata": {},
   "source": [
    "### What is bootstrapping?\n",
    "\n",
    "> In statistics, *bootstrapping* is any test or metric that relies\n",
    "on random sampling with replacement. Bootstrapping allows assigning\n",
    "measures of accuracy (defined in terms of bias, variance, confidence\n",
    "intervals, prediction error) to sample estimates.\n",
    "This technique allows estimation of the sampling distribution\n",
    "of almost any statistic using resampling methods.\n",
    "\n",
    "> Bootstrapping is the practice of estimating properties of an estimator\n",
    "(such as its variance) by measuring those properties sampling from\n",
    "an approximating distribution. One standard choice for an approximating\n",
    "distribution is the empirical distribution function of the observed data.\n",
    "In the case where a set of observations can be assumed to be from an\n",
    "independent and identically distributed population, this can be\n",
    "implemented by constructing a number of resamples with replacement.\n",
    "\n",
    "> It may also be used for constructing hypothesis tests.\n",
    "It is often used as an alternative to statistical inference\n",
    "based on the assumption of a parametric model when that\n",
    "assumption is in doubt, or where parametric inference is\n",
    "impossible or requires complicated formulas for the\n",
    "calculation of standard errors.\n",
    "\n",
    "> ***The KEY IDEA of bootstrapping is that inference about a population\n",
    "from sample data (sample → population) can be modelled by resampling\n",
    "the sample data and performing inference about a sample from\n",
    "resampled data (resampled → sample). As the population is unknown,\n",
    "the true error in a sample statistic against its population value is unknown.\n",
    "In bootstrap-resamples, the 'population' is in fact the sample, and this\n",
    "is known; hence the quality of inference of the \n",
    "\"true\" sample from resampled data (resampled → sample) is measurable.***\n",
    "(Credit goes to Bradley Efron at Stanford University.)\n",
    "\n",
    "Reference: our edit of\n",
    "https://en.wikipedia.org/wiki/Bootstrapping_(statistics)"
   ]
  },
  {
   "cell_type": "markdown",
   "metadata": {},
   "source": [
    "### How can bootstrapping be applied in finance?\n",
    "\n",
    "In theory, asset prices are generally modeled by Lévy stochastic processes.\n",
    "Some parametizations lead to infinite-variance models which empirically\n",
    "exhibit so-called \"fat tails.\" Athreya (1987) states,\n",
    "\"Unless one is reasonably sure that the underlying distribution\n",
    "is not heavy tailed, one should hesitate to use the naive bootstrap.\"\n",
    "Our data analysis shows that Gaussian mixture models which have\n",
    "finite variance are sufficient to model leptokurtotic assets.\n",
    "\n",
    "*If* the data is temporally correlated, bootstrapping will destroy the\n",
    "inherent correlations. Our broad practical justification\n",
    "in favor of bootstrapping here is that for short-term financial\n",
    "time-series, most frequently, the best in-sample fit of an\n",
    "ARIMA model to log(price) is AR(1) with unit root.\n",
    "This implies that the underlying stochastic process is *memoryless*.\n",
    "To add further credence, studies of post-sample performances\n",
    "regularly show that it is extremely difficult to surpass the\n",
    "most current price as the best forecast of prices over long\n",
    "future horizons among all competing models.\n",
    "\n",
    "The bootstrap procedure is ideal when the theoretical distribution\n",
    "of a statistic of interest is analytically complicated.\n",
    "Here we cover the *geometric* (not the traditional,\n",
    "arithmetic) mean rates of return for very small sample sizes.\n",
    "Our computation of geometric mean rates includes the effect\n",
    "of varying non-Gaussian kurtosis (fourth central moment),\n",
    "hence bootstrapping will give us numerical estimates\n",
    "where the mathematics is analytically intractable.\n",
    "\n",
    "\n",
    "References:\n",
    "\n",
    "- fecon235, 2017 Jupyter notebook, Gaussian Mixture and Leptokurtotic Assets,\n",
    "  https://git.io/gmix\n",
    "\n",
    "- Athreya, K.B., 1987, Bootstrap of the mean in the infinite variance case,\n",
    "  [Ann. Stats. 15:2:724-731](https://projecteuclid.org/download/pdf_1/euclid.aos/1176350371).\n",
    "  \n",
    "- URL shortcut for this notebook: https://git.io/bootspx  "
   ]
  },
  {
   "cell_type": "markdown",
   "metadata": {},
   "source": [
    "*Dependencies:*\n",
    "\n",
    "- fecon236 >= 10.7.1, source code, https://github.com/MathSci/fecon236\n",
    "- fecon235 data file in `nb` directory, `boots_ndl_d4spx_1957-2018.csv.gz`\n",
    "     \n",
    "*CHANGE LOG*\n",
    "\n",
    "    2018-07-31  First draft version."
   ]
  },
  {
   "cell_type": "code",
   "execution_count": 1,
   "metadata": {},
   "outputs": [],
   "source": [
    "import fecon236 as fe\n",
    "#  esp. the sim and bootstap modules."
   ]
  },
  {
   "cell_type": "code",
   "execution_count": 2,
   "metadata": {},
   "outputs": [
    {
     "name": "stdout",
     "output_type": "stream",
     "text": [
      " !:  Code for this project straddles python27 and python3.\n",
      " ::  Python 2.7.14\n",
      " ::  IPython 5.7.0\n",
      " ::  jupyter_core 4.4.0\n",
      " ::  notebook 5.4.0\n",
      " ::  matplotlib 1.5.1\n",
      " ::  numpy 1.11.3\n",
      " ::  scipy 1.0.0\n",
      " ::  statsmodels 0.8.0\n",
      " ::  sympy 1.1.1\n",
      " ::  pandas 0.22.0\n",
      " ::  pandas_datareader 0.6.0\n",
      " ::  fecon236 10.7.1\n",
      " ::  Repository: fecon235 v6.18.0623 develop\n",
      " ::  Timestamp: 2018-08-01T18:42:07Z\n"
     ]
    }
   ],
   "source": [
    "#  PREAMBLE-p10.18.0714 :: Settings, https://git.io/236pa\n",
    "from __future__ import absolute_import, print_function, division\n",
    "fe.system.specs()\n",
    "%load_ext autoreload\n",
    "%autoreload 2\n",
    "#       Use 0 to disable autoreload when a module is modified.\n",
    "#  NOTEBOOK DISPLAY OPTIONS...\n",
    "fe.pd.set_option('display.notebook_repr_html', False)\n",
    "#       Represent pandas DataFrames as text; not HTML representation.\n",
    "from IPython.display import HTML  # Useful for snippets from web.\n",
    "#  e.g. HTML('<iframe src=http://en.mobile.wikipedia.org/?useformat=mobile \\\n",
    "#            width=700 height=350></iframe>')\n",
    "from IPython.display import Image\n",
    "#  e.g. Image(filename='holt-winters-equations.png', embed=True)\n",
    "#                  url= Also works instead of filename.\n",
    "from IPython.display import YouTubeVideo\n",
    "#  e.g. YouTubeVideo('1j_HxD4iLn8', start='43', width=600, height=400)\n",
    "from IPython.core import page\n",
    "get_ipython().set_hook('show_in_pager', page.as_hook(page.display_page), 0)\n",
    "#  Or equivalently in config file: \"InteractiveShell.display_page = True\",\n",
    "#  which will display results in secondary notebook pager frame in a cell.\n",
    "%matplotlib inline\n",
    "#  Generate PLOTS inside notebook, \"inline\" generates static png,\n",
    "#  whereas \"notebook\" argument allows interactive zoom and resize."
   ]
  },
  {
   "cell_type": "markdown",
   "metadata": {
    "collapsed": true
   },
   "source": [
    "### Pre-computing the data file\n",
    "\n",
    "We have created a CSV data file readable by Python which encodes\n",
    "51 years of S&P 500 index data, SPX rates of return.\n",
    "\n",
    "This routine may be applied to *any* time-series:\n",
    "\n",
    "- Take differences of logged price, then normalize.\n",
    "- Rates of return retain original features, but rescaled to N(0,1).\n",
    "- Archive resulting file on disk to minimize download and computing time.\n",
    "- Optionally, compress file (.gz works best) to save on disk space.\n",
    "\n",
    "We show the **RECIPE** below for replication purposes. \n",
    "\n",
    "\n",
    "```\n",
    "On 2018-06-30, we let fecon235/nb for notebooks\n",
    "be our working directory...\n",
    "\n",
    ">>> spx = fe.get(fe.d4spx)\n",
    " ::  S&P 500 prepend successfully goes back to 1957.\n",
    "\n",
    ">>> fe.stat(spx)\n",
    "                  Y\n",
    "count  16043.000000\n",
    "mean     611.773980\n",
    "std      662.320517\n",
    "min       38.980000\n",
    "25%       95.755000\n",
    "50%      267.050000\n",
    "75%     1129.500000\n",
    "max     2872.870000\n",
    "kurtosis  3.393829\n",
    "\n",
    ">>> fe.gm2gem(spx, yearly=256, b=3.5)\n",
    "Geometric  mean rate: 5.0103\n",
    "Arithmetic mean rate: 6.5026\n",
    "sigma: 15.4936\n",
    "kurtosis (Pearson): 31.5192\n",
    "GM(2), sigma1: 6.0996\n",
    "GM(2), sigma2: 54.2276\n",
    "GM(2), q:  0.0699\n",
    "GM(2), b:  3.5\n",
    "yearly: 256\n",
    "N: 16042\n",
    "\n",
    "GM(2) refers to the parameters of a Gaussian mixture distribution.\n",
    "In https://git.io/gmix we analytically and visually show how a\n",
    "Gaussian Mixture model handles \"fat tail\" risk of leptokurtotic\n",
    "financial assets under small-sample conditions.\n",
    "\n",
    "Interestingly, b=2.5 and b=3.0 were inadequate for real solutions.\n",
    "Kurtosis for a Gaussian distribution in theory is 3, but here\n",
    "that statistic is extremely high at 31.52, so b=3.5 finally worked.\n",
    "\n",
    "The initial price of the SPX series is 46.20 on 1957-01-02.\n",
    "And the tailvalue is 2718.37 on 2018-06-29.\n",
    "Sample size N for prices is 16043, while it is obviously one\n",
    "less for data with one-period lag.\n",
    "\n",
    ">>> fe.bs.writefile_normdiflog(spx, 'boots_ndl_d4spx_1957-2018.csv')\n",
    " ::  Dataframe written to file: boots_ndl_d4spx_1957-2018.csv\n",
    "\n",
    "The size of the CSV file is 422805 bytes, but after gz compression\n",
    "it shrank to 155776 bytes: boots_ndl_d4spx_1957-2018.csv.gz\n",
    "which shall be git preserved in fecon235/nb.\n",
    "```"
   ]
  },
  {
   "cell_type": "markdown",
   "metadata": {},
   "source": [
    "### Decrypt the CSV data file\n",
    "\n",
    "We read the file on disk to create a numpy array of pre-computed values\n",
    "into computer memory. This array will be *repetitively* called\n",
    "to be bootstrapped into prices which are constructed from\n",
    "the cumulative product of financial returns."
   ]
  },
  {
   "cell_type": "code",
   "execution_count": 3,
   "metadata": {},
   "outputs": [
    {
     "data": {
      "text/plain": [
       "\u001b[0;31mSignature:\u001b[0m \u001b[0mfe\u001b[0m\u001b[0;34m.\u001b[0m\u001b[0mbs\u001b[0m\u001b[0;34m.\u001b[0m\u001b[0mcsv2ret\u001b[0m\u001b[0;34m(\u001b[0m\u001b[0mdatafile\u001b[0m\u001b[0;34m,\u001b[0m \u001b[0mmean\u001b[0m\u001b[0;34m=\u001b[0m\u001b[0;36m0.065026\u001b[0m\u001b[0;34m,\u001b[0m \u001b[0msigma\u001b[0m\u001b[0;34m=\u001b[0m\u001b[0;36m0.154936\u001b[0m\u001b[0;34m,\u001b[0m \u001b[0myearly\u001b[0m\u001b[0;34m=\u001b[0m\u001b[0;36m256\u001b[0m\u001b[0;34m)\u001b[0m\u001b[0;34m\u001b[0m\u001b[0m\n",
       "\u001b[0;31mSource:\u001b[0m   \n",
       "\u001b[0;32mdef\u001b[0m \u001b[0mcsv2ret\u001b[0m\u001b[0;34m(\u001b[0m\u001b[0mdatafile\u001b[0m\u001b[0;34m,\u001b[0m \u001b[0mmean\u001b[0m\u001b[0;34m=\u001b[0m\u001b[0mSPXmean\u001b[0m\u001b[0;34m,\u001b[0m \u001b[0msigma\u001b[0m\u001b[0;34m=\u001b[0m\u001b[0mSPXsigma\u001b[0m\u001b[0;34m,\u001b[0m \u001b[0myearly\u001b[0m\u001b[0;34m=\u001b[0m\u001b[0;36m256\u001b[0m\u001b[0;34m)\u001b[0m\u001b[0;34m:\u001b[0m\u001b[0;34m\u001b[0m\n",
       "\u001b[0;34m\u001b[0m    \u001b[0;34m'''Reform empirical N(0, 1) rates distribution as returns array.'''\u001b[0m\u001b[0;34m\u001b[0m\n",
       "\u001b[0;34m\u001b[0m    \u001b[0mdf\u001b[0m \u001b[0;34m=\u001b[0m \u001b[0mreadcsv\u001b[0m\u001b[0;34m(\u001b[0m\u001b[0mdatafile\u001b[0m\u001b[0;34m)\u001b[0m    \u001b[0;31m# Dataframe of normalized RATES of return.\u001b[0m\u001b[0;34m\u001b[0m\n",
       "\u001b[0;34m\u001b[0m    \u001b[0mnormarr\u001b[0m \u001b[0;34m=\u001b[0m \u001b[0mdf\u001b[0m\u001b[0;34m[\u001b[0m\u001b[0;34m'Y'\u001b[0m\u001b[0;34m]\u001b[0m\u001b[0;34m.\u001b[0m\u001b[0mvalues\u001b[0m  \u001b[0;31m# That dataframe expressed as array.\u001b[0m\u001b[0;34m\u001b[0m\n",
       "\u001b[0;34m\u001b[0m    \u001b[0;31m#                .values converts to numpy ARRAY form.\u001b[0m\u001b[0;34m\u001b[0m\n",
       "\u001b[0;34m\u001b[0m    \u001b[0;31m#      The pandas index will no longer matter.\u001b[0m\u001b[0;34m\u001b[0m\n",
       "\u001b[0;34m\u001b[0m    \u001b[0;31m#      Next, form an array to efficiently bootstrap later.\u001b[0m\u001b[0;34m\u001b[0m\n",
       "\u001b[0;34m\u001b[0m    \u001b[0mpoparr\u001b[0m \u001b[0;34m=\u001b[0m \u001b[0msim\u001b[0m\u001b[0;34m.\u001b[0m\u001b[0mnorat2ret\u001b[0m\u001b[0;34m(\u001b[0m\u001b[0mnormarr\u001b[0m\u001b[0;34m,\u001b[0m \u001b[0mmean\u001b[0m\u001b[0;34m,\u001b[0m \u001b[0msigma\u001b[0m\u001b[0;34m,\u001b[0m \u001b[0myearly\u001b[0m\u001b[0;34m)\u001b[0m\u001b[0;34m\u001b[0m\n",
       "\u001b[0;34m\u001b[0m    \u001b[0;31m#  TIP: For repetitive simulations, poparr should be PRE-COMPUTED.\u001b[0m\u001b[0;34m\u001b[0m\n",
       "\u001b[0;34m\u001b[0m    \u001b[0;31m#     \"POPULATION\" array in RETURNS form (no longer rates):\u001b[0m\u001b[0;34m\u001b[0m\n",
       "\u001b[0;34m\u001b[0m    \u001b[0;32mreturn\u001b[0m \u001b[0mpoparr\u001b[0m\u001b[0;34m\u001b[0m\u001b[0m\n",
       "\u001b[0;31mFile:\u001b[0m      /media/yaya/virt18g/virt/dbx/Dropbox/ipy/fecon236/fecon236/boots/bootstrap.py\n",
       "\u001b[0;31mType:\u001b[0m      function\n"
      ]
     },
     "metadata": {},
     "output_type": "display_data"
    }
   ],
   "source": [
    "# A look under the hood:\n",
    "fe.bs.csv2ret??"
   ]
  },
  {
   "cell_type": "code",
   "execution_count": 4,
   "metadata": {},
   "outputs": [
    {
     "data": {
      "text/plain": [
       "(0.065026, 0.154936)"
      ]
     },
     "execution_count": 4,
     "metadata": {},
     "output_type": "execute_result"
    }
   ],
   "source": [
    "#  Let's document the numerical values of (mean, sigma) for the record:\n",
    "(fe.bs.SPXmean, fe.bs.SPXsigma)"
   ]
  },
  {
   "cell_type": "code",
   "execution_count": 5,
   "metadata": {},
   "outputs": [],
   "source": [
    "#  At this point, the user could specify their mean and sigma,\n",
    "#  but we shall use actual values computed from 51-year history:\n",
    "\n",
    "poparr = fe.bs.csv2ret('boots_ndl_d4spx_1957-2018.csv.gz',\n",
    "                       mean=fe.bs.SPXmean, sigma=fe.bs.SPXsigma,\n",
    "                       yearly=256)"
   ]
  },
  {
   "cell_type": "markdown",
   "metadata": {},
   "source": [
    "For our custom array, we use the fitted values corresponding\n",
    "to the first two centralized moments, arithmetic `mean` and `sigma`^2.\n",
    "But they can be set to any reasonable values.\n",
    "We can regards them as the *gross* Gaussian descriptors,\n",
    "since the *empirical data still contains non-Gaussian events.*\n",
    "\n",
    "Given the initial price, `poparr` contains all the information\n",
    "necessary to reconstitute the original price time-series,\n",
    "if we process `poparr` sequentially with the original Gaussian descriptors.\n",
    "\n",
    "Our key bootstrap idea is to resample from the rescaled `poparr` randomly\n",
    "with our choice of the gross \"population\" descriptors."
   ]
  },
  {
   "cell_type": "code",
   "execution_count": 6,
   "metadata": {},
   "outputs": [
    {
     "data": {
      "text/plain": [
       "(16042,)"
      ]
     },
     "execution_count": 6,
     "metadata": {},
     "output_type": "execute_result"
    }
   ],
   "source": [
    "#  Sanity check on array shape, expect: (16042,)\n",
    "#  from which we can see the population size:\n",
    "poparr.shape"
   ]
  },
  {
   "cell_type": "code",
   "execution_count": 8,
   "metadata": {},
   "outputs": [
    {
     "data": {
      "text/plain": [
       "array([ 0.99566548,  1.00098084,  1.00317372])"
      ]
     },
     "execution_count": 8,
     "metadata": {},
     "output_type": "execute_result"
    }
   ],
   "source": [
    "#  Illustrate the KEY IDEA by our helper function:\n",
    "fe.bs.bootstrap(3, poparr)\n",
    "\n",
    "#  which outputs an array of three random values from poparr.\n",
    "#  Rerun this cell, to see how resampling would work."
   ]
  },
  {
   "cell_type": "markdown",
   "metadata": {},
   "source": [
    "### Simulation by boostrap from empirical data\n",
    "\n",
    "It is very interesting to simulate from past observations,\n",
    "rather than directly from a RNG random number generator,\n",
    "and then to *visually see* the results.\n",
    "\n",
    "For enthusiasts of \"technical chart analysis\"\n",
    "our bootstrapped charts may exhibit familiar patterns\n",
    "such as regions of support and resistance, trendlines, etc.\n",
    "This sense of familiarity is good indication that\n",
    "the simulation has been reasonable derived.\n",
    "\n",
    "The important point here is that we know the\n",
    "generating mechanism which reverse-engineers\n",
    "the gross statistics of the \"population\" (see RECIPE above).\n",
    "We can verify that the statistics estimated from ***subsamples***\n",
    "*deviate much further than what we would expect*.\n",
    "This happens because our bootstrapping technique\n",
    "retains the non-Gaussian distributional features of the population\n",
    "(despite normalization which is merely rescaling).\n",
    "\n",
    "For example, the subsample statistics show signs\n",
    "of leptokurtotic returns, where kurtosis varys\n",
    "considerably, though the population kurtosis is\n",
    "31.52 (one would theoretically expect 3 exactly if\n",
    "the underlying stochastic process was Gaussian)."
   ]
  },
  {
   "cell_type": "code",
   "execution_count": 9,
   "metadata": {},
   "outputs": [
    {
     "data": {
      "image/png": "[encoded data removed]",
      "text/plain": [
       "<matplotlib.figure.Figure at 0xac770dcc>"
      ]
     },
     "metadata": {},
     "output_type": "display_data"
    },
    {
     "name": "stdout",
     "output_type": "stream",
     "text": [
      "Geometric  mean rate: 0.4954\n",
      "Arithmetic mean rate: 1.4273\n",
      "sigma: 13.4077\n",
      "kurtosis (Pearson): 6.4581\n",
      "GM(2), sigma1: 12.7022\n",
      "GM(2), sigma2: 46.9268\n",
      "GM(2), q:  0.009\n",
      "GM(2), b:  3.5\n",
      "yearly: 256\n",
      "N: 255\n",
      "---------------------------------------0\n"
     ]
    },
    {
     "data": {
      "image/png": "[encoded data removed]",
      "text/plain": [
       "<matplotlib.figure.Figure at 0xac770b4c>"
      ]
     },
     "metadata": {},
     "output_type": "display_data"
    },
    {
     "name": "stdout",
     "output_type": "stream",
     "text": [
      "Geometric  mean rate: 4.0988\n",
      "Arithmetic mean rate: 5.4955\n",
      "sigma: 16.6041\n",
      "kurtosis (Pearson): 6.1374\n",
      "GM(2), sigma1: 15.8135\n",
      "GM(2), sigma2: 58.1144\n",
      "GM(2), q:  0.0082\n",
      "GM(2), b:  3.5\n",
      "yearly: 256\n",
      "N: 255\n",
      "---------------------------------------1\n"
     ]
    },
    {
     "data": {
      "image/png": "[encoded data removed]",
      "text/plain": [
       "<matplotlib.figure.Figure at 0xa849948c>"
      ]
     },
     "metadata": {},
     "output_type": "display_data"
    },
    {
     "name": "stdout",
     "output_type": "stream",
     "text": [
      "Geometric  mean rate: -41.6493\n",
      "Arithmetic mean rate: -38.5637\n",
      "sigma: 17.3047\n",
      "kurtosis (Pearson): 7.5373\n",
      "GM(2), sigma1: 16.0995\n",
      "GM(2), sigma2: 60.5664\n",
      "GM(2), q:  0.0118\n",
      "GM(2), b:  3.5\n",
      "yearly: 256\n",
      "N: 255\n",
      "---------------------------------------2\n"
     ]
    }
   ],
   "source": [
    "#  ENCOURAGE RE-RUNS of this cell\n",
    "#  showing one-year of simulated price histories...\n",
    "\n",
    "fe.bs.bootshow(256, poparr, repeat=3)\n",
    "\n",
    "#  ... like playing with a kaleidoscope."
   ]
  },
  {
   "cell_type": "markdown",
   "metadata": {},
   "source": [
    "### Small-sample study of \"geovolatility\"\n",
    "\n",
    "*Volatility* is the term in general use for the\n",
    "square root of the variance of the *arithmetic* mean rate.\n",
    "\n",
    "We shall define \"**geovolatility**\" to be the\n",
    "square root of the variance of the *geometric* mean rate.\n",
    "\n",
    "Bootstrapping facilitates the study of small-sample behaviour\n",
    "for which asymptotic statistical theory is unsuitable,\n",
    "or where closed-form mathematical analysis is intractable."
   ]
  },
  {
   "cell_type": "code",
   "execution_count": 10,
   "metadata": {},
   "outputs": [
    {
     "data": {
      "text/plain": [
       "\u001b[0;31mSignature:\u001b[0m \u001b[0mfe\u001b[0m\u001b[0;34m.\u001b[0m\u001b[0mbs\u001b[0m\u001b[0;34m.\u001b[0m\u001b[0msmallsample_gmr\u001b[0m\u001b[0;34m(\u001b[0m\u001b[0mN\u001b[0m\u001b[0;34m,\u001b[0m \u001b[0mpoparr\u001b[0m\u001b[0;34m,\u001b[0m \u001b[0myearly\u001b[0m\u001b[0;34m=\u001b[0m\u001b[0;36m256\u001b[0m\u001b[0;34m,\u001b[0m \u001b[0mrepeat\u001b[0m\u001b[0;34m=\u001b[0m\u001b[0;36m100\u001b[0m\u001b[0;34m,\u001b[0m \u001b[0minprice\u001b[0m\u001b[0;34m=\u001b[0m\u001b[0;36m1.0\u001b[0m\u001b[0;34m,\u001b[0m \u001b[0mreplace\u001b[0m\u001b[0;34m=\u001b[0m\u001b[0mTrue\u001b[0m\u001b[0;34m)\u001b[0m\u001b[0;34m\u001b[0m\u001b[0m\n",
       "\u001b[0;31mSource:\u001b[0m   \n",
       "\u001b[0;32mdef\u001b[0m \u001b[0msmallsample_gmr\u001b[0m\u001b[0;34m(\u001b[0m\u001b[0mN\u001b[0m\u001b[0;34m,\u001b[0m \u001b[0mpoparr\u001b[0m\u001b[0;34m,\u001b[0m \u001b[0myearly\u001b[0m\u001b[0;34m=\u001b[0m\u001b[0;36m256\u001b[0m\u001b[0;34m,\u001b[0m \u001b[0mrepeat\u001b[0m\u001b[0;34m=\u001b[0m\u001b[0;36m100\u001b[0m\u001b[0;34m,\u001b[0m\u001b[0;34m\u001b[0m\n",
       "\u001b[0;34m\u001b[0m                    \u001b[0minprice\u001b[0m\u001b[0;34m=\u001b[0m\u001b[0;36m1.0\u001b[0m\u001b[0;34m,\u001b[0m \u001b[0mreplace\u001b[0m\u001b[0;34m=\u001b[0m\u001b[0mTrue\u001b[0m\u001b[0;34m)\u001b[0m\u001b[0;34m:\u001b[0m\u001b[0;34m\u001b[0m\n",
       "\u001b[0;34m\u001b[0m    \u001b[0;34m'''Demo small sample statistics: repeat geometric mean rates.'''\u001b[0m\u001b[0;34m\u001b[0m\n",
       "\u001b[0;34m\u001b[0m    \u001b[0mssarr\u001b[0m \u001b[0;34m=\u001b[0m \u001b[0mnp\u001b[0m\u001b[0;34m.\u001b[0m\u001b[0mones\u001b[0m\u001b[0;34m(\u001b[0m\u001b[0;34m(\u001b[0m\u001b[0mrepeat\u001b[0m\u001b[0;34m,\u001b[0m\u001b[0;34m)\u001b[0m\u001b[0;34m)\u001b[0m  \u001b[0;31m# small sample array to fill-in.\u001b[0m\u001b[0;34m\u001b[0m\n",
       "\u001b[0;34m\u001b[0m    \u001b[0;32mfor\u001b[0m \u001b[0mi\u001b[0m \u001b[0;32min\u001b[0m \u001b[0mrange\u001b[0m\u001b[0;34m(\u001b[0m\u001b[0mrepeat\u001b[0m\u001b[0;34m)\u001b[0m\u001b[0;34m:\u001b[0m\u001b[0;34m\u001b[0m\n",
       "\u001b[0;34m\u001b[0m        \u001b[0mprices\u001b[0m \u001b[0;34m=\u001b[0m \u001b[0mbsret2prices\u001b[0m\u001b[0;34m(\u001b[0m\u001b[0mN\u001b[0m\u001b[0;34m,\u001b[0m \u001b[0mpoparr\u001b[0m\u001b[0;34m,\u001b[0m \u001b[0minprice\u001b[0m\u001b[0;34m=\u001b[0m\u001b[0minprice\u001b[0m\u001b[0;34m,\u001b[0m \u001b[0mreplace\u001b[0m\u001b[0;34m=\u001b[0m\u001b[0mreplace\u001b[0m\u001b[0;34m)\u001b[0m\u001b[0;34m\u001b[0m\n",
       "\u001b[0;34m\u001b[0m        \u001b[0mout\u001b[0m \u001b[0;34m=\u001b[0m \u001b[0mgemrat\u001b[0m\u001b[0;34m(\u001b[0m\u001b[0mprices\u001b[0m\u001b[0;34m,\u001b[0m \u001b[0myearly\u001b[0m\u001b[0;34m=\u001b[0m\u001b[0myearly\u001b[0m\u001b[0;34m,\u001b[0m \u001b[0mpc\u001b[0m\u001b[0;34m=\u001b[0m\u001b[0mFalse\u001b[0m\u001b[0;34m)\u001b[0m\u001b[0;34m\u001b[0m\n",
       "\u001b[0;34m\u001b[0m        \u001b[0mssarr\u001b[0m\u001b[0;34m[\u001b[0m\u001b[0mi\u001b[0m\u001b[0;34m]\u001b[0m \u001b[0;34m=\u001b[0m \u001b[0mout\u001b[0m\u001b[0;34m[\u001b[0m\u001b[0;36m0\u001b[0m\u001b[0;34m]\u001b[0m\u001b[0;34m\u001b[0m\n",
       "\u001b[0;34m\u001b[0m    \u001b[0;31m#  For user's convenience, we convert array to DataFrame format:\u001b[0m\u001b[0;34m\u001b[0m\n",
       "\u001b[0;34m\u001b[0m    \u001b[0;32mreturn\u001b[0m \u001b[0mtool\u001b[0m\u001b[0;34m.\u001b[0m\u001b[0mtodf\u001b[0m\u001b[0;34m(\u001b[0m\u001b[0mssarr\u001b[0m\u001b[0;34m)\u001b[0m\u001b[0;34m\u001b[0m\u001b[0m\n",
       "\u001b[0;31mFile:\u001b[0m      /media/yaya/virt18g/virt/dbx/Dropbox/ipy/fecon236/fecon236/boots/bootstrap.py\n",
       "\u001b[0;31mType:\u001b[0m      function\n"
      ]
     },
     "metadata": {},
     "output_type": "display_data"
    }
   ],
   "source": [
    "fe.bs.smallsample_gmr??"
   ]
  },
  {
   "cell_type": "code",
   "execution_count": 11,
   "metadata": {},
   "outputs": [],
   "source": [
    "#  Large \"repeat\" values obviously increases computing time...\n",
    "\n",
    "ss = fe.bs.smallsample_gmr(256, poparr, yearly=256, repeat=300)\n",
    "#  Repeatly generate daily prices for one-year, record gmr each time."
   ]
  },
  {
   "cell_type": "code",
   "execution_count": 12,
   "metadata": {},
   "outputs": [
    {
     "name": "stdout",
     "output_type": "stream",
     "text": [
      "                Y\n",
      "count  300.000000\n",
      "mean     0.031953\n",
      "std      0.173524\n",
      "min     -0.782441\n",
      "25%     -0.063238\n",
      "50%      0.046733\n",
      "75%      0.141318\n",
      "max      0.450167\n",
      "kurtosis  6.507513\n"
     ]
    }
   ],
   "source": [
    "fe.stat(ss)"
   ]
  },
  {
   "cell_type": "code",
   "execution_count": 13,
   "metadata": {},
   "outputs": [
    {
     "data": {
      "image/png": "[encoded data removed]",
      "text/plain": [
       "<matplotlib.figure.Figure at 0xa86b892c>"
      ]
     },
     "metadata": {},
     "output_type": "display_data"
    }
   ],
   "source": [
    "#  Quantile-Quantile plot of geovolatility\n",
    "fe.plots.plotqq(ss)"
   ]
  },
  {
   "cell_type": "markdown",
   "metadata": {},
   "source": [
    "Analytically the geometric mean rate should decrease\n",
    "as volatility and kurtosis increases\n",
    "(think of the arithmetic mean rate being\n",
    "penalized by risk factors).\n",
    "\n",
    "The Quantile-Quantile plot shows that the\n",
    "geometric mean rate is clearly not distributed normally.\n",
    "(This is expected since the same goes for the\n",
    "arithmetic mean rate.)\n",
    "\n",
    "What is remarkable about the Q-Q plot is that the\n",
    "geometric mean rates show the greatest deviation\n",
    "from normal behavior (green line) on the downside.\n",
    "This captures the frequent observation by traders that\n",
    "there is more *violence* (extreme absolute percentage changes)\n",
    "during sell-offs to the bottom that blow-offs to the top."
   ]
  },
  {
   "cell_type": "code",
   "execution_count": 14,
   "metadata": {},
   "outputs": [
    {
     "data": {
      "text/plain": [
       "0.17352364223386499"
      ]
     },
     "execution_count": 14,
     "metadata": {},
     "output_type": "execute_result"
    }
   ],
   "source": [
    "#  Compute \"geovolatility\" per our definition.\n",
    "geovol = fe.std(ss)\n",
    "geovol"
   ]
  },
  {
   "cell_type": "code",
   "execution_count": 15,
   "metadata": {},
   "outputs": [
    {
     "data": {
      "text/plain": [
       "1.119969808397435"
      ]
     },
     "execution_count": 15,
     "metadata": {},
     "output_type": "execute_result"
    }
   ],
   "source": [
    "geovol / fe.bs.SPXsigma"
   ]
  },
  {
   "cell_type": "markdown",
   "metadata": {},
   "source": [
    "We are most interested in the **relationship\n",
    "between geovolatility and volatility**.\n",
    "\n",
    "Since this is only an informal demonstration, let's just\n",
    "*hypothesize that geovolatility is larger than volatility*\n",
    "(say between 10% and 20% more), given U.S. stock market conditions\n",
    "over the last 51 years, for short-term price paths.\n",
    "\n",
    "Thus, **there is more *uncertainty* surrounding the geometric mean rate,\n",
    "relative to the arithmetic mean rate, especially during downturns.**\n",
    "\n",
    "More formal small-sample studies should adopt\n",
    "Bradley Efron's recommendations in regards to methodology.\n",
    "All the necessary tools are available in fecon236."
   ]
  },
  {
   "cell_type": "markdown",
   "metadata": {},
   "source": [
    "### Bootstrap to estimate probability\n",
    "\n",
    "Probabilities are difficult to calculate analytically,\n",
    "especially for non-symmetrical non-Gaussian processes.\n",
    "Bootstrapping can help here.\n",
    "\n",
    "For example, relative to an investment made at current price,\n",
    "***what is the probability that an asset will reach below\n",
    "a certain price level during some fixed time duration?***\n",
    "\n",
    "The gist of the next function is the conditional `prices < level`\n",
    "embedded in the pandas syntax.\n",
    "\n",
    "In the general, complex questions regarding probability may be asked\n",
    "by forming conditionals, which in turn, will have applications,\n",
    "for example, in pricing exotic derivatives."
   ]
  },
  {
   "cell_type": "code",
   "execution_count": 16,
   "metadata": {},
   "outputs": [
    {
     "data": {
      "text/plain": [
       "\u001b[0;31mSignature:\u001b[0m \u001b[0mfe\u001b[0m\u001b[0;34m.\u001b[0m\u001b[0mbs\u001b[0m\u001b[0;34m.\u001b[0m\u001b[0msmallsample_loss\u001b[0m\u001b[0;34m(\u001b[0m\u001b[0mN\u001b[0m\u001b[0;34m,\u001b[0m \u001b[0mpoparr\u001b[0m\u001b[0;34m,\u001b[0m \u001b[0myearly\u001b[0m\u001b[0;34m=\u001b[0m\u001b[0;36m256\u001b[0m\u001b[0;34m,\u001b[0m \u001b[0mrepeat\u001b[0m\u001b[0;34m=\u001b[0m\u001b[0;36m100\u001b[0m\u001b[0;34m,\u001b[0m \u001b[0mlevel\u001b[0m\u001b[0;34m=\u001b[0m\u001b[0;36m0.9\u001b[0m\u001b[0;34m,\u001b[0m \u001b[0minprice\u001b[0m\u001b[0;34m=\u001b[0m\u001b[0;36m1.0\u001b[0m\u001b[0;34m,\u001b[0m \u001b[0mreplace\u001b[0m\u001b[0;34m=\u001b[0m\u001b[0mTrue\u001b[0m\u001b[0;34m)\u001b[0m\u001b[0;34m\u001b[0m\u001b[0m\n",
       "\u001b[0;31mSource:\u001b[0m   \n",
       "\u001b[0;32mdef\u001b[0m \u001b[0msmallsample_loss\u001b[0m\u001b[0;34m(\u001b[0m\u001b[0mN\u001b[0m\u001b[0;34m,\u001b[0m \u001b[0mpoparr\u001b[0m\u001b[0;34m,\u001b[0m \u001b[0myearly\u001b[0m\u001b[0;34m=\u001b[0m\u001b[0;36m256\u001b[0m\u001b[0;34m,\u001b[0m \u001b[0mrepeat\u001b[0m\u001b[0;34m=\u001b[0m\u001b[0;36m100\u001b[0m\u001b[0;34m,\u001b[0m \u001b[0mlevel\u001b[0m\u001b[0;34m=\u001b[0m\u001b[0;36m0.90\u001b[0m\u001b[0;34m,\u001b[0m\u001b[0;34m\u001b[0m\n",
       "\u001b[0;34m\u001b[0m                     \u001b[0minprice\u001b[0m\u001b[0;34m=\u001b[0m\u001b[0;36m1.0\u001b[0m\u001b[0;34m,\u001b[0m \u001b[0mreplace\u001b[0m\u001b[0;34m=\u001b[0m\u001b[0mTrue\u001b[0m\u001b[0;34m)\u001b[0m\u001b[0;34m:\u001b[0m\u001b[0;34m\u001b[0m\n",
       "\u001b[0;34m\u001b[0m    \u001b[0;34m'''Demo small sample statistics: probability of loss: price < level.\u001b[0m\n",
       "\u001b[0;34m       Relative to investment at initial price, inprice.\u001b[0m\n",
       "\u001b[0;34m    '''\u001b[0m\u001b[0;34m\u001b[0m\n",
       "\u001b[0;34m\u001b[0m    \u001b[0mssarr\u001b[0m \u001b[0;34m=\u001b[0m \u001b[0mnp\u001b[0m\u001b[0;34m.\u001b[0m\u001b[0mones\u001b[0m\u001b[0;34m(\u001b[0m\u001b[0;34m(\u001b[0m\u001b[0mrepeat\u001b[0m\u001b[0;34m,\u001b[0m\u001b[0;34m)\u001b[0m\u001b[0;34m)\u001b[0m  \u001b[0;31m# small sample array to fill-in.\u001b[0m\u001b[0;34m\u001b[0m\n",
       "\u001b[0;34m\u001b[0m    \u001b[0;32mfor\u001b[0m \u001b[0mi\u001b[0m \u001b[0;32min\u001b[0m \u001b[0mrange\u001b[0m\u001b[0;34m(\u001b[0m\u001b[0mrepeat\u001b[0m\u001b[0;34m)\u001b[0m\u001b[0;34m:\u001b[0m\u001b[0;34m\u001b[0m\n",
       "\u001b[0;34m\u001b[0m        \u001b[0mprices\u001b[0m \u001b[0;34m=\u001b[0m \u001b[0mbsret2prices\u001b[0m\u001b[0;34m(\u001b[0m\u001b[0mN\u001b[0m\u001b[0;34m,\u001b[0m \u001b[0mpoparr\u001b[0m\u001b[0;34m,\u001b[0m \u001b[0minprice\u001b[0m\u001b[0;34m=\u001b[0m\u001b[0minprice\u001b[0m\u001b[0;34m,\u001b[0m \u001b[0mreplace\u001b[0m\u001b[0;34m=\u001b[0m\u001b[0mreplace\u001b[0m\u001b[0;34m)\u001b[0m\u001b[0;34m\u001b[0m\n",
       "\u001b[0;34m\u001b[0m        \u001b[0mcount\u001b[0m \u001b[0;34m=\u001b[0m \u001b[0mprices\u001b[0m\u001b[0;34m[\u001b[0m\u001b[0mprices\u001b[0m \u001b[0;34m<\u001b[0m \u001b[0mlevel\u001b[0m\u001b[0;34m]\u001b[0m\u001b[0;34m.\u001b[0m\u001b[0mdropna\u001b[0m\u001b[0;34m(\u001b[0m\u001b[0;34m)\u001b[0m\u001b[0;34m.\u001b[0m\u001b[0mshape\u001b[0m\u001b[0;34m[\u001b[0m\u001b[0;36m0\u001b[0m\u001b[0;34m]\u001b[0m\u001b[0;34m\u001b[0m\n",
       "\u001b[0;34m\u001b[0m        \u001b[0mprob\u001b[0m \u001b[0;34m=\u001b[0m \u001b[0mcount\u001b[0m \u001b[0;34m/\u001b[0m \u001b[0mfloat\u001b[0m\u001b[0;34m(\u001b[0m\u001b[0mN\u001b[0m\u001b[0;34m)\u001b[0m\u001b[0;34m\u001b[0m\n",
       "\u001b[0;34m\u001b[0m        \u001b[0mssarr\u001b[0m\u001b[0;34m[\u001b[0m\u001b[0mi\u001b[0m\u001b[0;34m]\u001b[0m \u001b[0;34m=\u001b[0m \u001b[0mprob\u001b[0m\u001b[0;34m\u001b[0m\n",
       "\u001b[0;34m\u001b[0m    \u001b[0;31m#  For user's convenience, we convert array to DataFrame format:\u001b[0m\u001b[0;34m\u001b[0m\n",
       "\u001b[0;34m\u001b[0m    \u001b[0;32mreturn\u001b[0m \u001b[0mtool\u001b[0m\u001b[0;34m.\u001b[0m\u001b[0mtodf\u001b[0m\u001b[0;34m(\u001b[0m\u001b[0mssarr\u001b[0m\u001b[0;34m)\u001b[0m\u001b[0;34m\u001b[0m\u001b[0m\n",
       "\u001b[0;31mFile:\u001b[0m      /media/yaya/virt18g/virt/dbx/Dropbox/ipy/fecon236/fecon236/boots/bootstrap.py\n",
       "\u001b[0;31mType:\u001b[0m      function\n"
      ]
     },
     "metadata": {},
     "output_type": "display_data"
    }
   ],
   "source": [
    "fe.bs.smallsample_loss??"
   ]
  },
  {
   "cell_type": "markdown",
   "metadata": {},
   "source": [
    "#### Example: prob(Loss > 10% during 10-year horizon)\n",
    "\n",
    "The estimated probability will vary according to the\n",
    "market conditions which are parameterized to produce poparr."
   ]
  },
  {
   "cell_type": "code",
   "execution_count": 17,
   "metadata": {},
   "outputs": [],
   "source": [
    "#  Invest at inprice, then\n",
    "#  assuming market conditions embedded in poparr:\n",
    "lossprob = fe.bs.smallsample_loss(2560, poparr, yearly=256, repeat=500, level=0.90, inprice=1.0)\n",
    "\n",
    "#  ... effectively simulates 5,000 years of bootstrapped daily data."
   ]
  },
  {
   "cell_type": "code",
   "execution_count": 18,
   "metadata": {
    "scrolled": true
   },
   "outputs": [
    {
     "name": "stdout",
     "output_type": "stream",
     "text": [
      "                Y\n",
      "count  500.000000\n",
      "mean     0.126914\n",
      "std      0.225565\n",
      "min      0.000000\n",
      "25%      0.000000\n",
      "50%      0.007227\n",
      "75%      0.151172\n",
      "max      0.968359\n",
      "kurtosis  6.808142\n"
     ]
    }
   ],
   "source": [
    "fe.stat(lossprob)"
   ]
  },
  {
   "cell_type": "markdown",
   "metadata": {},
   "source": [
    "The mean probability of loss is around 13%,\n",
    "but the median probability is around 1%.\n",
    "This could lead to complacency with respect to risk,\n",
    "as the next graph shows that a fifth\n",
    "of subsamples meet outcomes far worst\n",
    "than being submerged 10% temporarily."
   ]
  },
  {
   "cell_type": "code",
   "execution_count": 19,
   "metadata": {},
   "outputs": [
    {
     "data": {
      "image/png": "[encoded data removed]",
      "text/plain": [
       "<matplotlib.figure.Figure at 0xa848ea6c>"
      ]
     },
     "metadata": {},
     "output_type": "display_data"
    }
   ],
   "source": [
    "#  toar() is for conversion to numpy array:\n",
    "probarr = fe.toar(lossprob)\n",
    "fe.plotn(fe.np.sort(probarr), title=\"tmp-SORTED-prob\")"
   ]
  },
  {
   "cell_type": "markdown",
   "metadata": {},
   "source": [
    "### SUMMARY\n",
    "\n",
    "(Please see top of this notebook.)\n",
    "\n",
    "---\n",
    "\n",
    "### APPENDIX 1: Hybrid population of empirical and synthetic returns\n",
    "\n",
    "Thus far the source of our \"population\" has been truly empirical.\n",
    "The idea in this appendix is to mix in synthetic data derived\n",
    "from a theoretical model of the market.\n",
    "\n",
    "We can express anticipated market conditions by altering the\n",
    "parametization of the population array, and also by\n",
    "overlaying the structure of a theoretical model to\n",
    "produce hybrid results.\n",
    "\n",
    "\n",
    "#### A look at the synthetic Gaussian Mixture\n",
    "\n",
    "We covered the mathematics and fitting of GM(2) models\n",
    "in detail at https://git.io/gmix -- here we focus\n",
    "on generating synthetic GM(2) returns algorithmically.\n",
    "The code is located in this module: `fecon236/fecon236/prob/sim.py`"
   ]
  },
  {
   "cell_type": "code",
   "execution_count": 20,
   "metadata": {},
   "outputs": [],
   "source": [
    "#  This show is generated purely by algorithm.\n",
    "#  Empirical returns and bootstrapping are NOT involved.\n",
    "\n",
    "#  Uncomment for the show:\n",
    "#  fe.sim.gmixshow(N=256, mean=fe.bs.SPXmean, sigma=fe.bs.SPXsigma, yearly=256, repeat=3)"
   ]
  },
  {
   "cell_type": "markdown",
   "metadata": {},
   "source": [
    "Feeding the historical gross descriptors back into GM(2),\n",
    "it visually appears as though we have synthetically generated\n",
    "returns from a ***jump-diffusion process***, sometimes characterized\n",
    "by \"choppy\" returns, self-similar to minute transactional data\n",
    "or returns in liquid markets during periods of extreme uncertainty.\n",
    "\n",
    "We can express our own pseudo-Bayesian prior\n",
    "with respect to the empirical distribution\n",
    "by appending *custom* synthetic returns to empirical returns.\n",
    "\n",
    "In the next cell, we shall express a complete reversal of the mean,\n",
    "such that the hybrid population has mean zero.\n",
    "The number of synthetic returns to be appended shall equal\n",
    "the number of empirical returns, thus doubling the population size."
   ]
  },
  {
   "cell_type": "code",
   "execution_count": 21,
   "metadata": {},
   "outputs": [],
   "source": [
    "#  The mean and sigma arguments are the gross descriptors of the GM(2).\n",
    "#  But note here that the sign of the mean here is REVERSED.\n",
    "poparr2 = fe.bs.hybrid2ret(poparr,\n",
    "                           mean=-fe.bs.SPXmean, sigma=fe.bs.SPXsigma,\n",
    "                           yearly=256)"
   ]
  },
  {
   "cell_type": "code",
   "execution_count": 22,
   "metadata": {},
   "outputs": [
    {
     "data": {
      "text/plain": [
       "(32084,)"
      ]
     },
     "execution_count": 22,
     "metadata": {},
     "output_type": "execute_result"
    }
   ],
   "source": [
    "#  Population size should double, expect (32084,)\n",
    "poparr2.shape"
   ]
  },
  {
   "cell_type": "code",
   "execution_count": 23,
   "metadata": {},
   "outputs": [
    {
     "data": {
      "image/png": "[encoded data removed]",
      "text/plain": [
       "<matplotlib.figure.Figure at 0xa86a0e8c>"
      ]
     },
     "metadata": {},
     "output_type": "display_data"
    },
    {
     "name": "stdout",
     "output_type": "stream",
     "text": [
      "Geometric  mean rate: -8.2519\n",
      "Arithmetic mean rate: -5.938\n",
      "sigma: 17.5196\n",
      "kurtosis (Pearson): 25.1325\n",
      "GM(2), sigma1: 10.2788\n",
      "GM(2), sigma2: 61.3187\n",
      "GM(2), q:  0.0551\n",
      "GM(2), b:  3.5\n",
      "yearly: 256\n",
      "N: 255\n",
      "---------------------------------------0\n"
     ]
    },
    {
     "data": {
      "image/png": "[encoded data removed]",
      "text/plain": [
       "<matplotlib.figure.Figure at 0xa846eb4c>"
      ]
     },
     "metadata": {},
     "output_type": "display_data"
    },
    {
     "name": "stdout",
     "output_type": "stream",
     "text": [
      "Geometric  mean rate: 10.0225\n",
      "Arithmetic mean rate: 11.0864\n",
      "sigma: 14.5729\n",
      "kurtosis (Pearson): 13.7587\n",
      "GM(2), sigma1: 12.028\n",
      "GM(2), sigma2: 51.0053\n",
      "GM(2), q:  0.0276\n",
      "GM(2), b:  3.5\n",
      "yearly: 256\n",
      "N: 255\n",
      "---------------------------------------1\n"
     ]
    },
    {
     "data": {
      "image/png": "[encoded data removed]",
      "text/plain": [
       "<matplotlib.figure.Figure at 0xa842b9ac>"
      ]
     },
     "metadata": {},
     "output_type": "display_data"
    },
    {
     "name": "stdout",
     "output_type": "stream",
     "text": [
      "Geometric  mean rate: 0.4107\n",
      "Arithmetic mean rate: 1.8471\n",
      "sigma: 16.3552\n",
      "kurtosis (Pearson): 7.8755\n",
      "GM(2), sigma1: 15.1278\n",
      "GM(2), sigma2: 57.2434\n",
      "GM(2), q:  0.0127\n",
      "GM(2), b:  3.5\n",
      "yearly: 256\n",
      "N: 255\n",
      "---------------------------------------2\n"
     ]
    }
   ],
   "source": [
    "#  ENCOURAGE re-running this cell, like playing with a kaleidoscope:\n",
    "fe.bs.bootshow(256, poparr2, repeat=3)\n",
    "\n",
    "#  Visually see the increased \"choppiness\" due to GM(2) overlay.\n",
    "#  Local \"downtrends\" are more likely. "
   ]
  },
  {
   "cell_type": "markdown",
   "metadata": {},
   "source": [
    "#### Example: prob(Loss > 10% during 10-year horizon)\n",
    "\n",
    "Repeat the earlier experiment, but instead ***with the hybrid population***."
   ]
  },
  {
   "cell_type": "code",
   "execution_count": 24,
   "metadata": {},
   "outputs": [],
   "source": [
    "#  Invest at inprice, then\n",
    "#  assuming market conditions embedded in poparr2:\n",
    "lossprob2 = fe.bs.smallsample_loss(2560, poparr2, yearly=256, repeat=500, level=0.90, inprice=1.0)\n",
    "\n",
    "#  ... effectively simulates 5,000 years of bootstrapped hybrid daily data."
   ]
  },
  {
   "cell_type": "code",
   "execution_count": 25,
   "metadata": {
    "scrolled": true
   },
   "outputs": [
    {
     "name": "stdout",
     "output_type": "stream",
     "text": [
      "                Y\n",
      "count  500.000000\n",
      "mean     0.423160\n",
      "std      0.346069\n",
      "min      0.000000\n",
      "25%      0.075000\n",
      "50%      0.369531\n",
      "75%      0.767188\n",
      "max      0.989453\n",
      "kurtosis  1.498012\n"
     ]
    }
   ],
   "source": [
    "fe.stat(lossprob2)"
   ]
  },
  {
   "cell_type": "markdown",
   "metadata": {},
   "source": [
    "The mean probability of loss for the hybrid population is around 42%,\n",
    "which is far higher than 13% for the empirical population.\n",
    "This was expected since our synthetic data overlayed a\n",
    "negative view of the market (but the magnitudes were not\n",
    "easy to estimate, cf. mean versus median, relative to std)."
   ]
  },
  {
   "cell_type": "code",
   "execution_count": 26,
   "metadata": {},
   "outputs": [
    {
     "data": {
      "image/png": "[encoded data removed]",
      "text/plain": [
       "<matplotlib.figure.Figure at 0xa857c24c>"
      ]
     },
     "metadata": {},
     "output_type": "display_data"
    }
   ],
   "source": [
    "#  toar() is for conversion to numpy array:\n",
    "probarr2 = fe.toar(lossprob2)\n",
    "fe.plotn(fe.np.sort(probarr2), title=\"tmp-SORTED-prob\")"
   ]
  },
  {
   "cell_type": "markdown",
   "metadata": {},
   "source": [
    "---\n",
    "\n",
    "### Questions or bugs?\n",
    "\n",
    "- Chat with fellow users at Gitter: https://gitter.im/rsvp/fecon235\n",
    "\n",
    "- Chat with fellow developers at Gitter: https://gitter.im/MathSci/fecon236\n",
    "\n",
    "\n",
    "- Report issues regarding our Jupyter notebooks at https://github.com/rsvp/fecon235/issues\n",
    "\n",
    "- Report issues regarding our Python code at https://github.com/MathSci/fecon236/issues\n",
    "\n",
    "- Please see https://git.io/econ for orientation and installation details."
   ]
  }
 ],
 "metadata": {
  "kernelspec": {
   "display_name": "Python 2",
   "language": "python",
   "name": "python2"
  },
  "language_info": {
   "codemirror_mode": {
    "name": "ipython",
    "version": 2
   },
   "file_extension": ".py",
   "mimetype": "text/x-python",
   "name": "python",
   "nbconvert_exporter": "python",
   "pygments_lexer": "ipython2",
   "version": "2.7.14"
  }
 },
 "nbformat": 4,
 "nbformat_minor": 1
}
