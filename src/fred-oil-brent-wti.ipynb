{
 "cells": [
  {
   "cell_type": "markdown",
   "metadata": {},
   "source": [
    "## Crude Oil :: Brent vs. West Texas Intermediate (WTI)\n",
    "\n",
    "We examine the history of crude oil prices, and their spreads.\n",
    "A Boltzmann portfolio is computed for *optimal* financial positions.\n",
    "\n",
    "Deflated prices give additional insight, along with some of the\n",
    "statistical tools useful in financial economics.\n",
    "\n",
    "***Although WTI is more desirable than Brent from a petrochemical\n",
    "perspective, that preference is reversed when the metrics\n",
    "are financial.***\n",
    "\n",
    "Unless otherwise noted, the price per barrel is in U.S. dollars.\n",
    "The source of the data is the U.S. Department of Energy via FRED.\n",
    "We will use Federal Reserve USD index units to compute oil prices in non-dollar terms."
   ]
  },
  {
   "cell_type": "markdown",
   "metadata": {},
   "source": [
    "## Petrochemical background\n",
    "\n",
    "Before exploring our financial metrics, let's get familiar\n",
    "with the physical aspects.\n",
    "\n",
    "> **Crude oil is arguably the most crucial commodity in the world today.**\n",
    "An important issue is the different benchmarks for crude oil prices. \n",
    "\n",
    "> The American Petroleum Institute ***API gravity*** is a measure that is\n",
    "used to compare a petroleum liquid's density to water.\n",
    "This scale generally falls between 10 and 70, with \"light\" crude oil\n",
    "typically having an API gravity on the higher side of the range, while\n",
    "\"heavy\" oil has a reading that falls on the lower end of the range.\n",
    "\n",
    "> The sulfur content of petroleum must also be considered.\n",
    "***Sulfur content of 0.50% is a key benchmark.***\n",
    "When oil has a total sulfur level greater than the benchmark, it is considered \"sour.\"\n",
    "Sulfur content less than the benchmark indicates that an oil is \"sweet.\"\n",
    "Sour crude oil is more prevalent than its sweet counterpart and comes from\n",
    "oil sands in Canada, the Gulf of Mexico, some South American nations,\n",
    "as well as most of the Middle East.\n",
    "Sweet crude is typically produced in the central United States,\n",
    "the North Sea region of Europe, and much of Africa and the Asia Pacific region.\n",
    "*End users generally prefer sweet crude as it requires less processing\n",
    "to remove impurities than its sour counterpart.*\n",
    "\n",
    "> [Edited source: Daniela Pylypczak-Wasylyszyn](http://commodityhq.com/education/crude-oil-guide-brent-vs-wti-whats-the-difference)\n",
    "\n",
    "Light and sweet forms of crude oil are generally valued higher while\n",
    "heavy and sour types often trade at a discount.\n",
    "These two key factors distinguish the two major benchmarks for\n",
    "world oil prices: West Texas Intermediate (WTI) and Brent crude oil.\n",
    "\n",
    "***WTI is generally lighter and sweeter than Brent, but the supply of each\n",
    "can differ considerably over time, thus their price difference will vary.***\n",
    "\n",
    "WTI is refined mostly in the Midwest and Gulf Coast regions of the United States,\n",
    "while Brent oil is typically refined in Northwest Europe.\n",
    "\n",
    "#### Approximate characteristics:\n",
    "- **Brent**: API gravity 38.06, sulfur 0.37%\n",
    "- **WTI**: API gravity 39.6, sulfur 0.24%\n",
    "\n",
    "---"
   ]
  },
  {
   "cell_type": "markdown",
   "metadata": {},
   "source": [
    "*Dependencies:*\n",
    "\n",
    "- Repository: https://github.com/rsvp/fecon235\n",
    "\n",
    "*CHANGE LOG*\n",
    "\n",
    "    2017-08-08  Fix #2 and introduce Boltzmann portfolio of oils.\n",
    "    2015-05-26  Code review and revision.\n",
    "    2014-10-09  First version for oil, using 2014-09-28 Template."
   ]
  },
  {
   "cell_type": "code",
   "execution_count": 1,
   "metadata": {
    "collapsed": true
   },
   "outputs": [],
   "source": [
    "from fecon235.fecon235 import *"
   ]
  },
  {
   "cell_type": "code",
   "execution_count": 2,
   "metadata": {
    "collapsed": false
   },
   "outputs": [
    {
     "name": "stdout",
     "output_type": "stream",
     "text": [
      " ::  Python 2.7.13\n",
      " ::  IPython 5.1.0\n",
      " ::  jupyter_core 4.2.1\n",
      " ::  notebook 4.1.0\n",
      " ::  matplotlib 1.5.1\n",
      " ::  numpy 1.11.0\n",
      " ::  scipy 0.17.0\n",
      " ::  sympy 1.0\n",
      " ::  pandas 0.19.2\n",
      " ::  pandas_datareader 0.2.1\n",
      " ::  Repository: fecon235 v5.17.0722 develop\n",
      " ::  Timestamp: 2017-08-09T09:31:30Z\n",
      " ::  $pwd: /media/yaya/virt15h/virt/dbx/Dropbox/ipy/fecon235/nb\n"
     ]
    }
   ],
   "source": [
    "#  PREAMBLE-p6.15.1223d :: Settings and system details\n",
    "from __future__ import absolute_import, print_function, division\n",
    "system.specs()\n",
    "pwd = system.getpwd()   # present working directory as variable.\n",
    "print(\" ::  $pwd:\", pwd)\n",
    "#  If a module is modified, automatically reload it:\n",
    "%load_ext autoreload\n",
    "%autoreload 2\n",
    "#       Use 0 to disable this feature.\n",
    "\n",
    "#  Notebook DISPLAY options:\n",
    "#      Represent pandas DataFrames as text; not HTML representation:\n",
    "import pandas as pd\n",
    "pd.set_option( 'display.notebook_repr_html', False )\n",
    "from IPython.display import HTML # useful for snippets\n",
    "#  e.g. HTML('<iframe src=http://en.mobile.wikipedia.org/?useformat=mobile width=700 height=350></iframe>')\n",
    "from IPython.display import Image \n",
    "#  e.g. Image(filename='holt-winters-equations.png', embed=True) # url= also works\n",
    "from IPython.display import YouTubeVideo\n",
    "#  e.g. YouTubeVideo('1j_HxD4iLn8', start='43', width=600, height=400)\n",
    "from IPython.core import page\n",
    "get_ipython().set_hook('show_in_pager', page.as_hook(page.display_page), 0)\n",
    "#  Or equivalently in config file: \"InteractiveShell.display_page = True\", \n",
    "#  which will display results in secondary notebook pager frame in a cell.\n",
    "\n",
    "#  Generate PLOTS inside notebook, \"inline\" generates static png:\n",
    "%matplotlib inline   \n",
    "#          \"notebook\" argument allows interactive zoom and resize."
   ]
  },
  {
   "cell_type": "code",
   "execution_count": 3,
   "metadata": {
    "collapsed": false
   },
   "outputs": [],
   "source": [
    "#  Define dictionary for dataframe:\n",
    "oils4d = { 'Brent' : d4brent, 'WTI' : d4wti }"
   ]
  },
  {
   "cell_type": "code",
   "execution_count": 4,
   "metadata": {
    "collapsed": true
   },
   "outputs": [],
   "source": [
    "#  Retrieve data:\n",
    "oils = groupget( oils4d )"
   ]
  },
  {
   "cell_type": "markdown",
   "metadata": {},
   "source": [
    "## BoW spread := Brent - WTI\n",
    "\n",
    "***Brent over WTI spread***"
   ]
  },
  {
   "cell_type": "code",
   "execution_count": 5,
   "metadata": {
    "collapsed": false
   },
   "outputs": [],
   "source": [
    "#  Define price variables individually for convenience:\n",
    "brent = oils['Brent']\n",
    "wti   = oils['WTI']"
   ]
  },
  {
   "cell_type": "code",
   "execution_count": 6,
   "metadata": {
    "collapsed": false
   },
   "outputs": [],
   "source": [
    "#  Define BoW: Brent over WTI spread:\n",
    "bow = todf( brent - wti, 'BoW' )"
   ]
  },
  {
   "cell_type": "markdown",
   "metadata": {},
   "source": [
    "#### The difference between Brent and WTI is not superficial in the 21st century. Brent over WTI, bow, can represent over 20% of the underlying oil price!"
   ]
  },
  {
   "cell_type": "code",
   "execution_count": 7,
   "metadata": {
    "collapsed": false
   },
   "outputs": [
    {
     "data": {
      "image/png": "[encoded data removed]",
      "text/plain": [
       "<matplotlib.figure.Figure at 0xa982910c>"
      ]
     },
     "metadata": {},
     "output_type": "display_data"
    }
   ],
   "source": [
    "plot( bow )"
   ]
  },
  {
   "cell_type": "markdown",
   "metadata": {},
   "source": [
    "## Define \"Oil\" as weighted average price\n",
    "\n",
    "When BoW is non-zero, the price of \"Oil\" is ambiguous,\n",
    "thus we define a weighted average price of oil\n",
    "between Brent and WTI.\n",
    "\n",
    "Note that the composition of Brent oil benchmark no longer\n",
    "really represents Brent as an location."
   ]
  },
  {
   "cell_type": "code",
   "execution_count": 8,
   "metadata": {
    "collapsed": false
   },
   "outputs": [],
   "source": [
    "#  Set wtbrent, the primary weight for Oil:\n",
    "wtbrent = 0.50\n",
    "#         0.50 represents the mean\n",
    "#  ==================================\n",
    "wtwti   = 1 - wtbrent\n",
    "\n",
    "#  Weighted average:\n",
    "oil = todf( (wtbrent * brent) + (wtwti * wti), 'Oil' )"
   ]
  },
  {
   "cell_type": "code",
   "execution_count": 9,
   "metadata": {
    "collapsed": false
   },
   "outputs": [
    {
     "data": {
      "image/png": "[encoded data removed]",
      "text/plain": [
       "<matplotlib.figure.Figure at 0xa97d138c>"
      ]
     },
     "metadata": {},
     "output_type": "display_data"
    }
   ],
   "source": [
    "plot( oil )"
   ]
  },
  {
   "cell_type": "markdown",
   "metadata": {},
   "source": [
    "**The Great Recession plunge from \\$140 to \\$40 is extraordinary.**\n",
    "*But so is the post-2014 crash which wiped out legendary traders.*\n",
    "The volatility is around 33% annualized, as we shall see later.\n",
    "\n",
    "[Using equal weights, we have created two synthetic series called `d4oil` and `m4oil`\n",
    "for future convenience.]"
   ]
  },
  {
   "cell_type": "code",
   "execution_count": 10,
   "metadata": {
    "collapsed": false
   },
   "outputs": [
    {
     "name": "stdout",
     "output_type": "stream",
     "text": [
      "             Brent          WTI          Oil\n",
      "count  7879.000000  7879.000000  7879.000000\n",
      "mean     45.011701    44.248576    44.630138\n",
      "std      33.469778    30.000004    31.660557\n",
      "min       9.100000    10.820000     9.960000\n",
      "25%      18.500000    19.850000    19.177500\n",
      "50%      28.560000    30.080000    29.275000\n",
      "75%      64.985000    64.870000    64.987500\n",
      "max     143.950000   145.310000   144.630000\n",
      "\n",
      " ::  Index on min:\n",
      "Brent   1998-12-10\n",
      "WTI     1998-12-10\n",
      "Oil     1998-12-10\n",
      "dtype: datetime64[ns]\n",
      "\n",
      " ::  Index on max:\n",
      "Brent   2008-07-03\n",
      "WTI     2008-07-03\n",
      "Oil     2008-07-03\n",
      "dtype: datetime64[ns]\n",
      "\n",
      " ::  Head:\n",
      "            Brent    WTI     Oil\n",
      "T                               \n",
      "1987-05-20  18.63  19.75  19.190\n",
      "1987-05-21  18.45  19.95  19.200\n",
      "1987-05-22  18.55  19.68  19.115\n",
      " ::  Tail:\n",
      "            Brent    WTI    Oil\n",
      "T                              \n",
      "2017-07-27  50.67  49.05  49.86\n",
      "2017-07-28  52.00  49.72  50.86\n",
      "2017-07-31  51.99  50.21  51.10\n",
      "\n",
      " ::  Correlation matrix:\n",
      "          Brent       WTI       Oil\n",
      "Brent  1.000000  0.990614  0.997901\n",
      "WTI    0.990614  1.000000  0.997386\n",
      "Oil    0.997901  0.997386  1.000000\n"
     ]
    }
   ],
   "source": [
    "#  Temporarily combine data for Brent, WTI, and weighted Oil:\n",
    "stats( paste([oils, oil]) )"
   ]
  },
  {
   "cell_type": "markdown",
   "metadata": {},
   "source": [
    "The very tight correlation between Brent and WTI (> 99%)\n",
    "can mask the potential turbulence of the BoW spread. \n",
    "\n",
    "## BoW spread as a function of Oil price"
   ]
  },
  {
   "cell_type": "code",
   "execution_count": 11,
   "metadata": {
    "collapsed": false
   },
   "outputs": [
    {
     "name": "stdout",
     "output_type": "stream",
     "text": [
      " ::  FIRST variable:\n",
      "count    7879.000000\n",
      "mean        0.763125\n",
      "std         5.557796\n",
      "min       -22.180000\n",
      "25%        -1.810000\n",
      "50%        -1.160000\n",
      "75%         0.685000\n",
      "max        29.590000\n",
      "Name: BoW, dtype: float64\n",
      "\n",
      " ::  SECOND variable:\n",
      "count    7879.000000\n",
      "mean       44.630138\n",
      "std        31.660557\n",
      "min         9.960000\n",
      "25%        19.177500\n",
      "50%        29.275000\n",
      "75%        64.987500\n",
      "max       144.630000\n",
      "Name: Oil, dtype: float64\n",
      "\n",
      " ::  CORRELATION\n",
      "0.625773327194\n",
      "                            OLS Regression Results                            \n",
      "==============================================================================\n",
      "Dep. Variable:                      Y   R-squared:                       0.392\n",
      "Model:                            OLS   Adj. R-squared:                  0.392\n",
      "Method:                 Least Squares   F-statistic:                     5070.\n",
      "Date:                Wed, 09 Aug 2017   Prob (F-statistic):               0.00\n",
      "Time:                        02:31:49   Log-Likelihood:                -22736.\n",
      "No. Observations:                7879   AIC:                         4.548e+04\n",
      "Df Residuals:                    7877   BIC:                         4.549e+04\n",
      "Df Model:                           1                                         \n",
      "Covariance Type:            nonrobust                                         \n",
      "==============================================================================\n",
      "                 coef    std err          t      P>|t|      [95.0% Conf. Int.]\n",
      "------------------------------------------------------------------------------\n",
      "Intercept     -4.1395      0.084    -49.036      0.000        -4.305    -3.974\n",
      "X              0.1099      0.002     71.203      0.000         0.107     0.113\n",
      "==============================================================================\n",
      "Omnibus:                     1718.842   Durbin-Watson:                   0.053\n",
      "Prob(Omnibus):                  0.000   Jarque-Bera (JB):            10202.633\n",
      "Skew:                           0.913   Prob(JB):                         0.00\n",
      "Kurtosis:                       8.267   Cond. No.                         94.6\n",
      "==============================================================================\n",
      "\n",
      "Warnings:\n",
      "[1] Standard Errors assume that the covariance matrix of the errors is correctly specified.\n"
     ]
    }
   ],
   "source": [
    "#  Do the regression:\n",
    "stat2( bow['BoW'], oil['Oil'] )"
   ]
  },
  {
   "cell_type": "markdown",
   "metadata": {},
   "source": [
    "Does the price of Oil influence the BoW spread?\n",
    "Not much, the correlation is about 63%, and the linear regression is not robust.\n",
    "\n",
    "*To roughly estimate BoW*: take 11% of Oil price and subtract $4.\n",
    "So higher Oil prices imply greater Brent premium over WTI."
   ]
  },
  {
   "cell_type": "markdown",
   "metadata": {},
   "source": [
    "## Record LOW: Oil on 1998-12-10 at 9.96 USD\n",
    "\n",
    "We use that date to define the variable `tmin`."
   ]
  },
  {
   "cell_type": "code",
   "execution_count": 12,
   "metadata": {
    "collapsed": false
   },
   "outputs": [],
   "source": [
    "tmin = '1998-12-10'"
   ]
  },
  {
   "cell_type": "markdown",
   "metadata": {},
   "source": [
    "**What is the geometric mean rate since tmin?**"
   ]
  },
  {
   "cell_type": "code",
   "execution_count": 13,
   "metadata": {
    "collapsed": false
   },
   "outputs": [
    {
     "data": {
      "text/plain": [
       "[1.9017090903568512,\n",
       " 8.6098951245776831,\n",
       " 33.342833957643094,\n",
       " 7.4891318245988723,\n",
       " 256,\n",
       " 4862]"
      ]
     },
     "execution_count": 13,
     "metadata": {},
     "output_type": "execute_result"
    }
   ],
   "source": [
    "gemrat( oil[tmin:], yearly=256 )"
   ]
  },
  {
   "cell_type": "markdown",
   "metadata": {},
   "source": [
    "May 2015: The geometric mean rate since tmin is around 11%\n",
    "with volatility of 33% -- both very high relative to traditional assets.\n",
    "\n",
    "Aug 2017: The geometric mean rate since tmin is down to around 2%\n",
    "with volatility still of 33%. The kurtosis of 7.5 is very high\n",
    "since it would be 3 for a Gaussian distribution:\n",
    "hence oil returns are leptokurtotic, i.e. have \"fat tails.\""
   ]
  },
  {
   "cell_type": "markdown",
   "metadata": {},
   "source": [
    "## Oil trend since tmin on 1998-12-10\n",
    "\n",
    "Given the high price volatility,\n",
    "what seems to be underlying trend?"
   ]
  },
  {
   "cell_type": "code",
   "execution_count": 14,
   "metadata": {
    "collapsed": false
   },
   "outputs": [
    {
     "name": "stdout",
     "output_type": "stream",
     "text": [
      " ::  regresstime slope = 0.0131256573363\n"
     ]
    },
    {
     "data": {
      "image/png": "[encoded data removed]",
      "text/plain": [
       "<matplotlib.figure.Figure at 0xa9b6698c>"
      ]
     },
     "metadata": {},
     "output_type": "display_data"
    }
   ],
   "source": [
    "plot( trend(todf(oil[tmin:])) )"
   ]
  },
  {
   "cell_type": "markdown",
   "metadata": {},
   "source": [
    "Oil prices can easily go +/- 40% off their statistical trend (about 1.2 std).\n",
    "So the trend is very deceptive.\n",
    "\n",
    "Aug 2017: the trend indicates \\$92 oil, but the\n",
    "current market average is in fact around \\$50."
   ]
  },
  {
   "cell_type": "markdown",
   "metadata": {},
   "source": [
    "## Boltzmann portfolio of oils\n",
    "\n",
    "Given the BoW spread, correlations, volatilities, and overall uptrend --\n",
    "what would be an *optimal* portfolio structure out-of-sample?\n",
    "\n",
    "We shall compute a **Boltzmann portfolio**\n",
    "(see https://git.io/boltz1 for details),\n",
    "consisting of Brent and WTI, which uses cross-entropy\n",
    "as its foundation for best geometric growth at minimized risk.\n",
    "\n",
    "The short-side shall be practically unrestricted (floor=level=-25)\n",
    "since we assume that crude oil derivatives will be used\n",
    "to implement the strategy.\n",
    "\n",
    "The history since *tmin* will be the base,\n",
    "but the user can modify the date interactively\n",
    "(see https://git.io/boltz2 for details on sequential decisions)."
   ]
  },
  {
   "cell_type": "code",
   "execution_count": 15,
   "metadata": {
    "collapsed": false
   },
   "outputs": [
    {
     "data": {
      "text/plain": [
       "[0.7845, [[0.9814, 0.8337, 'Brent'], [0.0186, -1.82, 'WTI']]]"
      ]
     },
     "execution_count": 15,
     "metadata": {},
     "output_type": "execute_result"
    }
   ],
   "source": [
    "prtf = boltzportfolio( oils[tmin:], temp=55, floor=-25, level=-25, n=4 )\n",
    "prtf"
   ]
  },
  {
   "cell_type": "markdown",
   "metadata": {},
   "source": [
    "Brent has a higher geometric mean rate (0.83% vs. -1.82 for WTI),\n",
    "hence ***0.98 of the portfolio's notional principal is dedicated to Brent***,\n",
    "and 0.02 towards WTI.\n",
    "The expected geometric mean rate of this particular\n",
    "Boltzmann portfolio is a mere 0.78%,\n",
    "hardly better than a Treasury note.\n",
    "\n",
    "In a Boltzmann portfolio, the second and fourth centralized moments\n",
    "are taken into account to properly access risk,\n",
    "and to adjust the geometric mean rates.\n",
    "\n",
    "This component analysis is more accurate out-of-sample than a\n",
    "treatment of a single time-series such as the weighted average."
   ]
  },
  {
   "cell_type": "markdown",
   "metadata": {},
   "source": [
    "## Deflated oil prices\n",
    "\n",
    "We use our monthly deflator consisting of CPI and PCE,\n",
    "both core and headline versions for each,\n",
    "to compute ***real*** oil prices."
   ]
  },
  {
   "cell_type": "code",
   "execution_count": 16,
   "metadata": {
    "collapsed": false
   },
   "outputs": [],
   "source": [
    "#  First change the sampling frequency to match inflation data:\n",
    "oilmth = todf(monthly( oil ))\n",
    "defl = todf(get( m4defl ))\n",
    "oildefl = todf( oilmth * defl )"
   ]
  },
  {
   "cell_type": "code",
   "execution_count": 17,
   "metadata": {
    "collapsed": false
   },
   "outputs": [
    {
     "data": {
      "image/png": "[encoded data removed]",
      "text/plain": [
       "<matplotlib.figure.Figure at 0xa9b8c3ec>"
      ]
     },
     "metadata": {},
     "output_type": "display_data"
    }
   ],
   "source": [
    "#  Deflated Oil price:\n",
    "plot( oildefl )"
   ]
  },
  {
   "cell_type": "markdown",
   "metadata": {},
   "source": [
    "The supportive 1998 uptrend is broken by the post-2014 crash in prices.\n",
    "The level support from the 1990's is around \\$20 in current US dollars."
   ]
  },
  {
   "cell_type": "markdown",
   "metadata": {},
   "source": [
    "## Oil price ex-USD\n",
    "\n",
    "Here we are interested in how oil prices appear when priced in\n",
    "foreign currencies (outside the United States).\n",
    "A basket of trade-weighted currencies against USD helps\n",
    "our foreign exchange viewpoint."
   ]
  },
  {
   "cell_type": "code",
   "execution_count": 18,
   "metadata": {
    "collapsed": false
   },
   "outputs": [],
   "source": [
    "#  rtb is the real trade-weighted USD index,\n",
    "#      computed monthly by the Federal Reserve.\n",
    "rtb = get( m4usdrtb )\n",
    "oilrtb = todf( oilmth / rtb )"
   ]
  },
  {
   "cell_type": "code",
   "execution_count": 19,
   "metadata": {
    "collapsed": false
   },
   "outputs": [
    {
     "data": {
      "image/png": "[encoded data removed]",
      "text/plain": [
       "<matplotlib.figure.Figure at 0xa82bfa6c>"
      ]
     },
     "metadata": {},
     "output_type": "display_data"
    }
   ],
   "source": [
    "#  Oil priced in rtb index units:\n",
    "plot( oilrtb )"
   ]
  },
  {
   "cell_type": "markdown",
   "metadata": {},
   "source": [
    "No big suprises here. Oil from world-ex-USD perspective looks very similar to the dollar-only perspective."
   ]
  },
  {
   "cell_type": "markdown",
   "metadata": {},
   "source": [
    "##  Concluding remarks\n",
    "\n",
    "Although WTI has more desirable petrochemical properties than Brent oil,\n",
    "our analysis of their prices reveal that Brent is preferable over WTI\n",
    "in the context of a financial portfolio -- denominated in practically\n",
    "any currency.\n",
    "\n",
    "Before taking a position in oil, carefully evaluate the premium of Brent over WTI,\n",
    "i.e. the BoW spread.\n",
    "\n",
    "The post-2014 crash in oil prices portends a downward look at\n",
    "the \\$20 support level in current U.S. dollars especially in view\n",
    "of the caveats listed below.\n",
    "This would be a major concern for oil companies worldwide\n",
    "(for example, in August 2017 BP announced their break-even point\n",
    "was \\$47 with respect to the price of oil). \n",
    "\n",
    "\n",
    "### Caveats\n",
    "\n",
    "- A complete analysis would include the impact of shale oil and *alternate energy sources*.\n",
    "\n",
    "- As electric cars become more popular, the demand for petroleum will obviously diminish.\n",
    "\n",
    "- If ISIS becomes dominate over oil fields, expect some minor supply at half the market price.\n",
    "\n",
    "- Be attentive to offshore storage of crude oil, literally on non-active tanker ships with no destinations."
   ]
  },
  {
   "cell_type": "markdown",
   "metadata": {},
   "source": [
    "---\n",
    "\n",
    "*Dedicated to recently retired Andrew Hall: the name of the game has changed.*"
   ]
  }
 ],
 "metadata": {
  "kernelspec": {
   "display_name": "Python 2",
   "language": "python",
   "name": "python2"
  },
  "language_info": {
   "codemirror_mode": {
    "name": "ipython",
    "version": 2
   },
   "file_extension": ".py",
   "mimetype": "text/x-python",
   "name": "python",
   "nbconvert_exporter": "python",
   "pygments_lexer": "ipython2",
   "version": "2.7.13"
  }
 },
 "nbformat": 4,
 "nbformat_minor": 0
}
