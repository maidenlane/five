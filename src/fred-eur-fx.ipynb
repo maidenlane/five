{
 "metadata": {
  "name": "",
  "signature": "sha256:897810651ad3dbb97a5563f259d8296e0534d9fbcc0c456facb9a376e802bc6b"
 },
 "nbformat": 3,
 "nbformat_minor": 0,
 "worksheets": [
  {
   "cells": [
    {
     "cell_type": "heading",
     "level": 1,
     "metadata": {},
     "source": [
      "Euro currency qua Foreign Exchange"
     ]
    },
    {
     "cell_type": "markdown",
     "metadata": {},
     "source": [
      "INTRO:_ We examine euro FX data from the Fed Reserve FRED database. Our synthetic time-series, which takes us far back as 1971, give additional perspective to observe the cross-rates against U.S. dollar and Japanese yen."
     ]
    },
    {
     "cell_type": "markdown",
     "metadata": {},
     "source": [
      "*Dependencies:*\n",
      "\n",
      "    - Linux, bash [not crucial, cross-platform prefered]\n",
      "    - Python: matplotlib, pandas [recommend Anaconda distribution]\n",
      "    - Modules: yi_1tools, yi_plot, yi_timeseries, yi_fred\n",
      "     \n",
      "*CHANGE LOG*\n",
      "\n",
      "    2015-05-16  Code review and revision.\n",
      "    2014-10-09  First version using template dated 2014-09-28."
     ]
    },
    {
     "cell_type": "code",
     "collapsed": false,
     "input": [
      "#  NOTEBOOK settings and system details:   [00-tpl v14.12.21]\n",
      "\n",
      "#  Assume that the backend is LINUX (our particular distro is Ubuntu, running bash shell):\n",
      "print '\\n ::  TIMESTAMP of last notebook execution:'\n",
      "!date\n",
      "print '\\n ::  IPython version:'\n",
      "!ipython --version\n",
      "\n",
      "#  Automatically reload modified modules:\n",
      "%load_ext autoreload\n",
      "%autoreload 2\n",
      "#           0 disables autoreload.\n",
      "#  Generate plots inside notebook:\n",
      "%matplotlib inline\n",
      "\n",
      "#  DISPLAY options\n",
      "from IPython.display import Image \n",
      "#  e.g. Image(filename='holt-winters-equations.png', embed=True) # url= also works\n",
      "from IPython.display import YouTubeVideo\n",
      "#  e.g. YouTubeVideo('1j_HxD4iLn8', start='43', width=600, height=400)\n",
      "from IPython.display import HTML # useful for snippets\n",
      "#  e.g. HTML('<iframe src=http://en.mobile.wikipedia.org/?useformat=mobile width=700 height=350></iframe>')\n",
      "\n",
      "import pandas as pd\n",
      "print '\\n ::  pandas version:'\n",
      "print pd.__version__\n",
      "#      pandas DataFrames are represented as text by default; enable HTML representation:\n",
      "#      [Deprecated: pd.core.format.set_printoptions( notebook_repr_html=True ) ]\n",
      "pd.set_option( 'display.notebook_repr_html', False )\n",
      "\n",
      "#  MATH display, use %%latex, rather than the following:\n",
      "#                from IPython.display import Math\n",
      "#                from IPython.display import Latex\n",
      "\n",
      "print '\\n ::  Working directory (set as $workd):'\n",
      "workd, = !pwd\n",
      "print workd + '\\n'"
     ],
     "language": "python",
     "metadata": {},
     "outputs": [
      {
       "output_type": "stream",
       "stream": "stdout",
       "text": [
        "\n",
        " ::  TIMESTAMP of last notebook execution:\n"
       ]
      },
      {
       "output_type": "stream",
       "stream": "stdout",
       "text": [
        "Tue May 19 17:03:53 PDT 2015\r\n"
       ]
      },
      {
       "output_type": "stream",
       "stream": "stdout",
       "text": [
        "\n",
        " ::  IPython version:\n"
       ]
      },
      {
       "output_type": "stream",
       "stream": "stdout",
       "text": [
        "2.3.0\r\n"
       ]
      },
      {
       "output_type": "stream",
       "stream": "stdout",
       "text": [
        "\n",
        " ::  pandas version:\n",
        "0.15.0\n",
        "\n",
        " ::  Working directory (set as $workd):\n"
       ]
      },
      {
       "output_type": "stream",
       "stream": "stdout",
       "text": [
        "/home/yaya/Dropbox/ipy/fecon235/nb\n",
        "\n"
       ]
      }
     ],
     "prompt_number": 1
    },
    {
     "cell_type": "code",
     "collapsed": false,
     "input": [
      "from yi_1tools import *\n",
      "from yi_plot import *\n",
      "from yi_timeseries import *\n",
      "from yi_fred import *"
     ],
     "language": "python",
     "metadata": {},
     "outputs": [],
     "prompt_number": 2
    },
    {
     "cell_type": "heading",
     "level": 1,
     "metadata": {},
     "source": [
      " ::  EURUSD"
     ]
    },
    {
     "cell_type": "code",
     "collapsed": false,
     "input": [
      "#  Daily frequency:\n",
      "eurusd = getfred( d4eurusd )\n",
      "#  Note that the synthetic preprend back to 1971 is only for monthly data."
     ],
     "language": "python",
     "metadata": {},
     "outputs": [],
     "prompt_number": 3
    },
    {
     "cell_type": "code",
     "collapsed": false,
     "input": [
      "plotfred( eurusd )"
     ],
     "language": "python",
     "metadata": {},
     "outputs": [
      {
       "metadata": {},
       "output_type": "display_data",
       "png": "[encoded data removed]",
       "text": [
        "<matplotlib.figure.Figure at 0xad285cec>"
       ]
      }
     ],
     "prompt_number": 4
    },
    {
     "cell_type": "markdown",
     "metadata": {},
     "source": [
      "The 2006 support for EURUSD as of Oct 2014 was around 1.24. Its breach requires us to know the resistance from the synthetic euro series. "
     ]
    },
    {
     "cell_type": "code",
     "collapsed": false,
     "input": [
      "#  Monthly frequency (daily frequency is not available):\n",
      "eursyn = getfred( m4eurusd )"
     ],
     "language": "python",
     "metadata": {},
     "outputs": [
      {
       "output_type": "stream",
       "stream": "stdout",
       "text": [
        " ::  EURUSD synthetically goes back monthly to 1971.\n"
       ]
      }
     ],
     "prompt_number": 5
    },
    {
     "cell_type": "code",
     "collapsed": false,
     "input": [
      "plotfred(eursyn, 'EURUSD synthetic')"
     ],
     "language": "python",
     "metadata": {},
     "outputs": [
      {
       "metadata": {},
       "output_type": "display_data",
       "png": "[encoded data removed]",
       "text": [
        "<matplotlib.figure.Figure at 0xad26d7ec>"
       ]
      },
      {
       "output_type": "stream",
       "stream": "stdout",
       "text": [
        " ::  Finished: plotdf-EURUSD_synthetic.png\n"
       ]
      }
     ],
     "prompt_number": 6
    },
    {
     "cell_type": "markdown",
     "metadata": {},
     "source": [
      "The support from 1985 implies the euro could easily descend to the 1.06 level based on the *synthetic series composed of the mean between DEM and FRF (converted at their official euro rates).*"
     ]
    },
    {
     "cell_type": "markdown",
     "metadata": {},
     "source": [
      "\"**On 22 January 2015, Mario Draghi committed the ECB to a QE quantitative easing program worth at least 1.1 trillion euros** to counter the threat of a deflationary spiral. The ECB president shrugged off determined opposition led by German officials with a pledge to buy 60 billion euros every month through September 2016 in a once-and-for-all push to put more cash into circulation and revive inflation. To assuage critics, the region\u2019s 19 national central banks will make 80 percent of the purchases and take on any risk they carry.\" "
     ]
    },
    {
     "cell_type": "code",
     "collapsed": false,
     "input": [
      "#  Define the day before QE-EU:\n",
      "qeeu = '2015-01-21'"
     ],
     "language": "python",
     "metadata": {},
     "outputs": [],
     "prompt_number": 7
    },
    {
     "cell_type": "code",
     "collapsed": false,
     "input": [
      "#  What is the EURUSD low since QE-EU announcement?\n",
      "#  On the day before, on 2015-01-21, the rate was 1.1584.\n",
      "stats( eurusd[qeeu:] )"
     ],
     "language": "python",
     "metadata": {},
     "outputs": [
      {
       "output_type": "stream",
       "stream": "stdout",
       "text": [
        "               Y\n",
        "count  83.000000\n",
        "mean    1.106006\n",
        "std     0.029410\n",
        "min     1.052400\n",
        "25%     1.079750\n",
        "50%     1.114500\n",
        "75%     1.133350\n",
        "max     1.158400\n",
        "\n",
        " ::  Index on min:\n",
        "Y   2015-03-13\n",
        "dtype: datetime64[ns]\n",
        "\n",
        " ::  Index on max:\n",
        "Y   2015-01-21\n",
        "dtype: datetime64[ns]\n",
        "\n",
        " ::  Head:\n",
        "                 Y\n",
        "T                 \n",
        "2015-01-21  1.1584\n",
        "2015-01-22  1.1414\n",
        "2015-01-23  1.1279\n",
        "2015-01-26  1.1290\n",
        "2015-01-27  1.1370\n",
        "2015-01-28  1.1342\n",
        "2015-01-29  1.1308\n",
        "\n",
        " ::  Tail:\n",
        "                 Y\n",
        "T                 \n",
        "2015-05-07  1.1283\n",
        "2015-05-08  1.1241\n",
        "2015-05-11  1.1142\n",
        "2015-05-12  1.1240\n",
        "2015-05-13  1.1372\n",
        "2015-05-14  1.1368\n",
        "2015-05-15  1.1428\n",
        "\n",
        " ::  Correlation matrix:\n",
        "   Y\n",
        "Y  1"
       ]
      },
      {
       "output_type": "stream",
       "stream": "stdout",
       "text": [
        "\n"
       ]
      }
     ],
     "prompt_number": 8
    },
    {
     "cell_type": "markdown",
     "metadata": {},
     "source": [
      "As of 2015-05-16: the EURUSD low post-QE-EU is **1.0524** on 2015-03-13 -- which a 9% decline in less than two months."
     ]
    },
    {
     "cell_type": "heading",
     "level": 3,
     "metadata": {},
     "source": [
      "EURUSD deviation from long-term trend"
     ]
    },
    {
     "cell_type": "code",
     "collapsed": false,
     "input": [
      "syntrend = trend( eursyn )"
     ],
     "language": "python",
     "metadata": {},
     "outputs": [
      {
       "output_type": "stream",
       "stream": "stdout",
       "text": [
        " ::  regresstime slope = 0.000783027874247\n"
       ]
      }
     ],
     "prompt_number": 9
    },
    {
     "cell_type": "code",
     "collapsed": false,
     "input": [
      "plotfred( syntrend )"
     ],
     "language": "python",
     "metadata": {},
     "outputs": [
      {
       "metadata": {},
       "output_type": "display_data",
       "png": "[encoded data removed]",
       "text": [
        "<matplotlib.figure.Figure at 0xad273fcc>"
       ]
      }
     ],
     "prompt_number": 10
    },
    {
     "cell_type": "code",
     "collapsed": false,
     "input": [
      "#  Detrend:\n",
      "plotfred( eursyn - syntrend )"
     ],
     "language": "python",
     "metadata": {},
     "outputs": [
      {
       "metadata": {},
       "output_type": "display_data",
       "png": "[encoded data removed]",
       "text": [
        "<matplotlib.figure.Figure at 0xac9efccc>"
       ]
      }
     ],
     "prompt_number": 11
    },
    {
     "cell_type": "code",
     "collapsed": false,
     "input": [
      "tailvalue( syntrend )"
     ],
     "language": "python",
     "metadata": {},
     "outputs": [
      {
       "metadata": {},
       "output_type": "pyout",
       "prompt_number": 12,
       "text": [
        "1.3243276659569534"
       ]
      }
     ],
     "prompt_number": 12
    },
    {
     "cell_type": "markdown",
     "metadata": {},
     "source": [
      "October 2014: Looking at the detrended series, a deviation of -0.3 (i.e. -3000 pips) is plausible from the trend. Thus the statistically 1.3280 - 0.3 = 1.0280 is realistic. Given ECB implicitly wants the euro to weaken (LSAP not yet in effect, as of October 2014), we see the long-term support between 1.03 and 1.06."
     ]
    },
    {
     "cell_type": "markdown",
     "metadata": {},
     "source": [
      "May 2015: Given QE announcement in January, 1.0524 definitively is the technical support dating back to 1985. The uptrend is unbroken, however, ..."
     ]
    },
    {
     "cell_type": "markdown",
     "metadata": {},
     "source": [
      "Though monetary policy is the primary reason for weakening euro, Greece is expected to face default conditions beginning the start of 2016, intensifying into the summer of 2016. *The euro crisis will be revisited as Grexit is a possibility on the horizon.*"
     ]
    },
    {
     "cell_type": "code",
     "collapsed": false,
     "input": [
      "#  Forecast monthly for next 24 months:\n",
      "holtfred( eursyn )"
     ],
     "language": "python",
     "metadata": {},
     "outputs": [
      {
       "metadata": {},
       "output_type": "pyout",
       "prompt_number": 13,
       "text": [
        "    Forecast\n",
        "0   1.124100\n",
        "1   1.065482\n",
        "2   1.038455\n",
        "3   1.011428\n",
        "4   0.984401\n",
        "5   0.957374\n",
        "6   0.930347\n",
        "7   0.903320\n",
        "8   0.876293\n",
        "9   0.849266\n",
        "10  0.822239\n",
        "11  0.795212\n",
        "12  0.768185\n",
        "13  0.741158\n",
        "14  0.714131\n",
        "15  0.687104\n",
        "16  0.660077\n",
        "17  0.633050\n",
        "18  0.606023\n",
        "19  0.578996\n",
        "20  0.551969\n",
        "21  0.524942\n",
        "22  0.497915\n",
        "23  0.470888\n",
        "24  0.443861"
       ]
      }
     ],
     "prompt_number": 13
    },
    {
     "cell_type": "code",
     "collapsed": false,
     "input": [
      "#  Look at geometric return since 2006:\n",
      "georet( eurusd[t06:] )"
     ],
     "language": "python",
     "metadata": {},
     "outputs": [
      {
       "metadata": {},
       "output_type": "pyout",
       "prompt_number": 14,
       "text": [
        "[-0.37, 0.12, 9.95, 256]"
       ]
      }
     ],
     "prompt_number": 14
    },
    {
     "cell_type": "markdown",
     "metadata": {},
     "source": [
      "October 2014: Interestingly the annual geometric return post-US-Great-Recession is positive at 0.62% (which does not seem so in the charts visually). The volatility for EURUSD going back to 2006 is 10%."
     ]
    },
    {
     "cell_type": "markdown",
     "metadata": {},
     "source": [
      "May 2015: The annual geometric return on EURUSD as FX has become negative at -0.55% due chiefly to QE-EU. That does not include negative rates on euro deposits! The one-year ahead forecast is 0.7662 which means the long-term trend will be broken. "
     ]
    },
    {
     "cell_type": "heading",
     "level": 1,
     "metadata": {},
     "source": [
      " ::  EURJPY"
     ]
    },
    {
     "cell_type": "markdown",
     "metadata": {},
     "source": [
      "Let's derive the long-term synthetic rates for EURJPY."
     ]
    },
    {
     "cell_type": "code",
     "collapsed": false,
     "input": [
      "#  We retrieve the monthly frequency:\n",
      "usdjpy = getfred( m4usdjpy )"
     ],
     "language": "python",
     "metadata": {},
     "outputs": [],
     "prompt_number": 15
    },
    {
     "cell_type": "code",
     "collapsed": false,
     "input": [
      "#  Since monthly eursysn is expressed in terms of EURUSD:\n",
      "eurjpy = todf( eursyn * usdjpy )"
     ],
     "language": "python",
     "metadata": {},
     "outputs": [],
     "prompt_number": 16
    },
    {
     "cell_type": "code",
     "collapsed": false,
     "input": [
      "plotfred( eurjpy, 'EURJPY synthetic' )"
     ],
     "language": "python",
     "metadata": {},
     "outputs": [
      {
       "metadata": {},
       "output_type": "display_data",
       "png": "[encoded data removed]",
       "text": [
        "<matplotlib.figure.Figure at 0xac89474c>"
       ]
      },
      {
       "output_type": "stream",
       "stream": "stdout",
       "text": [
        " ::  Finished: plotdf-EURJPY_synthetic.png\n"
       ]
      }
     ],
     "prompt_number": 17
    },
    {
     "cell_type": "markdown",
     "metadata": {},
     "source": [
      "*The EURJPY trend since 1995 looks sideways, bouncing between 90 and 170.*"
     ]
    },
    {
     "cell_type": "code",
     "collapsed": false,
     "input": [
      "#  Verify trend claim:\n",
      "ej95trend = trend( eurjpy['1995-01-01':] )"
     ],
     "language": "python",
     "metadata": {},
     "outputs": [
      {
       "output_type": "stream",
       "stream": "stdout",
       "text": [
        " ::  regresstime slope = -0.00246059121507\n"
       ]
      }
     ],
     "prompt_number": 18
    },
    {
     "cell_type": "code",
     "collapsed": false,
     "input": [
      "#  The plot is uninteresting, just a straight line along 129.50 !\n",
      "#  Look at the slope and the std for confirmation:\n",
      "ej95trend.describe()"
     ],
     "language": "python",
     "metadata": {},
     "outputs": [
      {
       "metadata": {},
       "output_type": "pyout",
       "prompt_number": 19,
       "text": [
        "                Y\n",
        "count  245.000000\n",
        "mean   129.483756\n",
        "std      0.174381\n",
        "min    129.183564\n",
        "25%    129.333660\n",
        "50%    129.483756\n",
        "75%    129.633852\n",
        "max    129.783949"
       ]
      }
     ],
     "prompt_number": 19
    },
    {
     "cell_type": "markdown",
     "metadata": {},
     "source": [
      "So basically the **EURJPY range is 130 \u00b1 40 since 1995.** *This is only apparent by observing the synthetic time-series.* \n",
      "\n",
      "It has large width, \u00b1 31% -- but the 130 level provides \"fair\" benchmark (cf. IMF assessment) for quick comparison."
     ]
    },
    {
     "cell_type": "code",
     "collapsed": false,
     "input": [
      "#  Euro strength against the yen on a scale of 100:\n",
      "int((tailvalue( eurjpy ) - 90) / 0.80) \n",
      "\n",
      "#  2014-12-22: 71  One month prior to QE-EU, EURJPY = 146.83\n",
      "#  2015-01-21: 58  One day prior to QE-EU, EURJPY = 136.52\n",
      "#  2015-04-01: 51  Two months after QE-EU, EURJPY = 130.80\n",
      "#  2015-05-18: 55  Four months after QE-EU"
     ],
     "language": "python",
     "metadata": {},
     "outputs": [
      {
       "metadata": {},
       "output_type": "pyout",
       "prompt_number": 37,
       "text": [
        "55"
       ]
      }
     ],
     "prompt_number": 37
    },
    {
     "cell_type": "heading",
     "level": 3,
     "metadata": {},
     "source": [
      "Following the Great Recession, which devaluing faster, EUR or JPY, against the USD?"
     ]
    },
    {
     "cell_type": "code",
     "collapsed": false,
     "input": [
      "georet( eurjpy[t06:], 12 )"
     ],
     "language": "python",
     "metadata": {},
     "outputs": [
      {
       "metadata": {},
       "output_type": "pyout",
       "prompt_number": 21,
       "text": [
        "[-0.39, 0.24, 11.23, 12]"
       ]
      }
     ],
     "prompt_number": 21
    },
    {
     "cell_type": "markdown",
     "metadata": {},
     "source": [
      "Surprisingly, the answer seems to be: neither, i.e. equally fast, from solely the FX viewpoint. Japan though embarked on its QE program many years ago, and still has not reversed that policy. Japan seems on its way out of economic misery whereas Europe seems to be under economic suppression."
     ]
    },
    {
     "cell_type": "markdown",
     "metadata": {},
     "source": [
      "# Concluding remarks:_ \n",
      "\n",
      "- From the viewpoint of carry trades, the short side has to be the euro, simply because of the negative deposit rates. One is paid to go short!\n",
      "\n",
      "- The US is only country among the three major FX countries considering a upward hike in rates. Thus fundamentally the long side would be the dollar.\n",
      "\n",
      "- May 2015: EU has just begun their QE, and there is the possibility of Grexit looming -- all which indicate further weakening of the euro. The euro against the dollar may test the synthetic lows registered during the 1980's [All-time EURUSD low: 0.62 circa Feb 1985].\n",
      "\n",
      "- May 2015: Given 130 as fair EURJPY benchmark, Euro becomes a buy against the yen as it approaches 90 yen. "
     ]
    },
    {
     "cell_type": "code",
     "collapsed": false,
     "input": [],
     "language": "python",
     "metadata": {},
     "outputs": [],
     "prompt_number": 21
    }
   ],
   "metadata": {}
  }
 ]
}