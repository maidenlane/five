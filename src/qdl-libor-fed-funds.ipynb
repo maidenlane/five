{
 "cells": [
  {
   "cell_type": "markdown",
   "metadata": {},
   "source": [
    "# LIBOR futures and forecasting the Fed Funds rate\n",
    "\n",
    "We examine the two key interest rates: LIBOR and Fed Funds. \n",
    "The former has a much greater depth in the futures market in terms of \n",
    "volume and maturity horizon, which implies richer information content. \n",
    "We will extrapolate an implied forward Fed Funds rate. \n",
    "This is useful in gauging market expectations regarding Fed policy.\n",
    "\n",
    "The **30-day Federal Funds *futures* incorporates market expectations of the \n",
    "average *daily* Federal Funds Effective Rate (FFER) levels *during* a given contract month**. \n",
    "The FFER is published by the Federal Reserve Bank of New York each day, and is \n",
    "calculated as a transaction-volume weighted average of the previous day’s rates on \n",
    "trades arranged by major brokers for overnight unsecured loans between depository institutions. \n",
    "Trading of the futures contracts is considered thin, \n",
    "especially in the distant months, suitable more for speculation \n",
    "than risk management purposes.\n",
    "\n",
    "In contrast, the **futures on LIBOR (CME Eurodollar contract)** has a \n",
    "tenor of 3-months with tremendous trading volume extending out for years. \n",
    "The LIBOR reference is the key interest rate for pricing \n",
    "floating-rate debt obligations in USD worldwide. \n",
    "Futures trading is precisely arbitraged with the enormous swap market. \n",
    "In 2014 assets linked to LIBOR were valued over \\$300 trillion. \n",
    "\n",
    "Our implied forward Fed Funds *estimates* the expected average FFER \n",
    "at a given time in the future. \n",
    "This is measure is more meaningful than the \n",
    "probability of Fed rate hike currently in vogue, since it is a point estimate \n",
    "generated from a highly active futures market curve. \n",
    "A point estimate is also more useful for quantifying valuations \n",
    "than a single probability of a Fed action.\n",
    "\n",
    "In conclusion, we shall sum up with one number to this simple \n",
    "question: **How much is the Fed Funds expected to change over the next 12 months?** \n",
    "and from that, likely Fed policy decisions.\n",
    "\n",
    "2016-01-11 **Addendum: we distilled this notebook into one function *forefunds()* \n",
    "given in Appendix 3.** \n",
    "That function has been generalized to accept arguments further out than 12 months.\n",
    "\n",
    "2016-12-23 **Major revision** using Appendix 3 as template whose \n",
    "derivation is documented in an older \n",
    "[notebook dated 2016-01-11](https://github.com/rsvp/fecon235/blob/v5.16.1107/nb/qdl-libor-fed-funds.ipynb). \n",
    "We clarify our presentation by explicitly stating our transposition and tenor assumptions.\n",
    "\n",
    "REFERENCE: \n",
    "\n",
    "- John W. Labuszewski, *Understanding Eurodollar Futures*, https://www.cmegroup.com/trading/interest-rates/files/understanding-eurodollar-futures.pdf\n",
    "\n",
    "- Scoring the Fed's *dual mandate*, https://git.io/fed -- economic conditions which motivate FOMC policy decisions.\n",
    "\n",
    "Shortcut for this current notebook: https://git.io/fedfunds"
   ]
  },
  {
   "cell_type": "markdown",
   "metadata": {},
   "source": [
    "*Dependencies:*\n",
    "\n",
    "- Repository: https://github.com/rsvp/fecon235\n",
    "- Python: matplotlib, pandas\n",
    "     \n",
    "*CHANGE LOG*\n",
    "\n",
    "    2016-12-23  Major revision using transposition and tenor assumptions. \n",
    "                   Include 2016-12-14 Fed rate hike.\n",
    "    2016-01-11  Fix issue #2 by v4 and p6 updates.\n",
    "                   Include 2015-12-16 Fed rate hike.\n",
    "                   Rollover from Dec to June futures cycle.\n",
    "                   Deprecate ratio_av estimation.\n",
    "                   Add Appendix 2 for forwards as predictors.\n",
    "                   Add Appendix 3 for forefunds() summary.\n",
    "    2015-11-02  Include October Fed no-change announcement.\n",
    "    2015-09-22  Include post-FOMC meeting of 2015-09-17.\n",
    "    2015-09-16  First version."
   ]
  },
  {
   "cell_type": "code",
   "execution_count": 1,
   "metadata": {
    "collapsed": false
   },
   "outputs": [],
   "source": [
    "from fecon235.fecon235 import *"
   ]
  },
  {
   "cell_type": "code",
   "execution_count": 2,
   "metadata": {
    "collapsed": false
   },
   "outputs": [
    {
     "name": "stdout",
     "output_type": "stream",
     "text": [
      " ::  Python 2.7.11\n",
      " ::  IPython 4.2.0\n",
      " ::  jupyter_core 4.1.0\n",
      " ::  notebook 4.1.0\n",
      " ::  matplotlib 1.5.1\n",
      " ::  numpy 1.10.4\n",
      " ::  pandas 0.18.0\n",
      " ::  pandas_datareader 0.2.1\n",
      " ::  Repository: fecon235 v5.16.1107 develop\n",
      " ::  Timestamp: 2016-12-25, 17:48:15 UTC\n",
      " ::  $pwd: /media/yaya/virt15h/virt/dbx/Dropbox/ipy/fecon235/nb\n"
     ]
    }
   ],
   "source": [
    "#  PREAMBLE-p6.15.1223 :: Settings and system details\n",
    "from __future__ import absolute_import, print_function\n",
    "system.specs()\n",
    "pwd = system.getpwd()   # present working directory as variable.\n",
    "print(\" ::  $pwd:\", pwd)\n",
    "#  If a module is modified, automatically reload it:\n",
    "%load_ext autoreload\n",
    "%autoreload 2\n",
    "#       Use 0 to disable this feature.\n",
    "\n",
    "#  Notebook DISPLAY options:\n",
    "#      Represent pandas DataFrames as text; not HTML representation:\n",
    "import pandas as pd\n",
    "pd.set_option( 'display.notebook_repr_html', False )\n",
    "from IPython.display import HTML # useful for snippets\n",
    "#  e.g. HTML('<iframe src=http://en.mobile.wikipedia.org/?useformat=mobile width=700 height=350></iframe>')\n",
    "from IPython.display import Image \n",
    "#  e.g. Image(filename='holt-winters-equations.png', embed=True) # url= also works\n",
    "from IPython.display import YouTubeVideo\n",
    "#  e.g. YouTubeVideo('1j_HxD4iLn8', start='43', width=600, height=400)\n",
    "from IPython.core import page\n",
    "get_ipython().set_hook('show_in_pager', page.as_hook(page.display_page), 0)\n",
    "#  Or equivalently in config file: \"InteractiveShell.display_page = True\", \n",
    "#  which will display results in secondary notebook pager frame in a cell.\n",
    "\n",
    "#  Generate PLOTS inside notebook, \"inline\" generates static png:\n",
    "%matplotlib inline   \n",
    "#          \"notebook\" argument allows interactive zoom and resize."
   ]
  },
  {
   "cell_type": "markdown",
   "metadata": {},
   "source": [
    "## FFER, Fed Funds Effective Rate\n",
    "\n",
    "In this section, we cover the actual Fed Funds rate (not the futures contracts based on it)."
   ]
  },
  {
   "cell_type": "code",
   "execution_count": 3,
   "metadata": {
    "collapsed": true
   },
   "outputs": [],
   "source": [
    "#  Data source is FRED, Federal Reserve Bank of St. Louis:\n",
    "ffer = get( d4ff )\n",
    "#           ^Daily Fed Funds, effective rate"
   ]
  },
  {
   "cell_type": "code",
   "execution_count": 4,
   "metadata": {
    "collapsed": false
   },
   "outputs": [],
   "source": [
    "#  To see the raw FFER over the last year:\n",
    "#  plot( tail( ffer, 256 ))"
   ]
  },
  {
   "cell_type": "code",
   "execution_count": 5,
   "metadata": {
    "collapsed": true
   },
   "outputs": [],
   "source": [
    "#  Fed Funds trading can be very erratic (sometimes jumping 200 bp in minutes), \n",
    "#  so we apply the 30-period exponential moving average:\n",
    "\n",
    "ff30 = ema(ffer, 0.0645)"
   ]
  },
  {
   "cell_type": "markdown",
   "metadata": {},
   "source": [
    "This series of exponential moving averages serves to \n",
    "simulate the *running spot rate* of the futures contracts on Fed Funds \n",
    "(per CME contract settlement specifications)."
   ]
  },
  {
   "cell_type": "code",
   "execution_count": 6,
   "metadata": {
    "collapsed": false
   },
   "outputs": [
    {
     "data": {
      "image/png": "[encoded data removed]",
      "text/plain": [
       "<matplotlib.figure.Figure at 0xaaf895ec>"
      ]
     },
     "metadata": {},
     "output_type": "display_data"
    }
   ],
   "source": [
    "plot( tail(ff30, 64) )\n",
    "#  Smoothed ffer "
   ]
  },
  {
   "cell_type": "markdown",
   "metadata": {},
   "source": [
    "2015-09-16  We can safely say that FFER has been trading around mid-range [0, 0.25] for the last year.\n",
    "\n",
    "2015-11-02  FFER estimated at 12 bp currently (this is mid-target range).\n",
    "\n",
    "2016-01-11  Smoothed FFER estimated at 28 bp.\n",
    "\n",
    "2016-12-23  Fed rate hike of 2016-12-14 means we should expect FFER \n",
    "to trade in the [0.50, 0.75] range.\n",
    "\n",
    "\n",
    "#### Tip: ff30 is directly accessible: ff30 = get( d4ff30 ) "
   ]
  },
  {
   "cell_type": "code",
   "execution_count": 7,
   "metadata": {
    "collapsed": false
   },
   "outputs": [
    {
     "data": {
      "text/plain": [
       "                   Y\n",
       "T                   \n",
       "2016-12-16  0.438434\n",
       "2016-12-17  0.452725\n",
       "2016-12-18  0.466094\n",
       "2016-12-19  0.478601\n",
       "2016-12-20  0.490301\n",
       "2016-12-21  0.501247\n",
       "2016-12-22  0.511486"
      ]
     },
     "execution_count": 7,
     "metadata": {},
     "output_type": "execute_result"
    }
   ],
   "source": [
    "tail(ff30)"
   ]
  },
  {
   "cell_type": "markdown",
   "metadata": {},
   "source": [
    "## Set up LIBOR futures"
   ]
  },
  {
   "cell_type": "code",
   "execution_count": 8,
   "metadata": {
    "collapsed": true
   },
   "outputs": [],
   "source": [
    "#  SET UP symbols for the particular (f4) futures contracts:\n",
    "s_libor  = 'f4libor17h'\n",
    "s_libory = 'f4libor18h'\n",
    "\n",
    "#  f4libor* refers to the CME Eurodollar futures. \n",
    "#  s_libory should be one year further out than s_libor.\n",
    "#  h refers to March contract, m to June, u to Sep, z to Dec.\n",
    "\n",
    "#  RE-RUN this entire study by merely changing the string symbols."
   ]
  },
  {
   "cell_type": "code",
   "execution_count": 9,
   "metadata": {
    "collapsed": true
   },
   "outputs": [],
   "source": [
    "#  Retrieve futures data:\n",
    "libor   = todf( 100 - get(s_libor) )\n",
    "libory  = todf( 100 - get(s_libory) )\n",
    "#               ^convert futures quotes to conventional % format"
   ]
  },
  {
   "cell_type": "markdown",
   "metadata": {},
   "source": [
    "When we later take the difference between the two futures contracts \n",
    "we effectively strip out the credit risk involved with primary international banks, \n",
    "focusing purely on the yield differential across maturity.\n",
    "\n",
    "Our implicit **transposition assumption** traverses the futures and swap markets: \n",
    "\n",
    "$ libory - libor \\approx LIBOR\\_1y\\_forward - LIBOR\\_day0 $"
   ]
  },
  {
   "cell_type": "markdown",
   "metadata": {},
   "source": [
    "### Event log\n",
    "\n",
    "2015-11-02  No press conference for October Fed announcement \n",
    "so no major changes were expected, and indeed there was \n",
    "no change in policy regarding Fed funds. Fed statement removed \n",
    "its concern about economic developments *abroad* and \n",
    "hinted possible rate hike in December.\n",
    "\n",
    "2016-01-09  **The Fed had its first rate hike, in almost a decade, on 2015-12-16.** \n",
    "It was widely anticipated, and largely discounted in the markets. \n",
    "Although the hike was +25 bp, the response in the traded rate was only +7 bp.\n",
    "\n",
    "2016-12-23  **Fed rate hike rate of +25 bp on 2016-12-14.** \n",
    "This means the range will be [0.50, 0.75]. Currently trading at 0.66%. \n",
    "The announcement included the FOMC expectation of *three further \n",
    "rate hikes* during the course of 2017."
   ]
  },
  {
   "cell_type": "markdown",
   "metadata": {},
   "source": [
    "## On rate hike probabilities and forecasting\n",
    "\n",
    "The media is fond of releasing the probability of a rate hike based on Fed Funds futures, however, the assumptions behind the calculation are often dubious \n",
    "given that the Fed currently operates within a *range*:\n",
    "\n",
    "- Zero to 25 bp range since 2008-12-16 \n",
    "- Effective 2015-12-17: 25 to 50 bp\n",
    "- Effective 2016-12-14: 50 to 75 bp\n",
    "\n",
    "rather than a single target rate. \n",
    "Only the nearby Fed Funds futures is actively traded \n",
    "which means its importance to relative only to the next FOMC meeting.\n",
    "\n",
    "Our technique gives point forecasts (rather than probabilities) \n",
    "on all horizons on which the Eurodollar futures trade.\n",
    "\n",
    "As an example, we now estimate the expected \n",
    "Fed Funds effective rate, one year out. \n",
    "\n",
    "The key idea is to use the difference between expected LIBOR rates. \n",
    "We implicitly use the **tenor assumption**: \n",
    "\n",
    "$ (ffy - ff) \\approx (ffy - ff30) \\approx (LIBOR\\_1y\\_forward - LIBOR\\_day0) $ \n",
    "\n",
    "which extrapolates the Fed Funds rate one-year forward *ffy* \n",
    "(such an instrument would actually be very uninteresting \n",
    "since the underlying duration is overnight) from 3-month LIBOR. \n",
    "Then for computational purposes we utilize the transposition assumption, hereby:\n",
    "\n",
    "$ ffy \\approx libory - libor + ff30 $\n",
    "\n",
    "**Notice how the tenor and transpositions assumptions \n",
    "makes the use of Fed Fund *futures* unnecessary.** "
   ]
  },
  {
   "cell_type": "code",
   "execution_count": 10,
   "metadata": {
    "collapsed": true
   },
   "outputs": [],
   "source": [
    "#  MAIN IDEA distilled...\n",
    "#  Estimate Fed Funds one year out:\n",
    "\n",
    "ffy = todf( libory - libor + ff30 )"
   ]
  },
  {
   "cell_type": "code",
   "execution_count": 11,
   "metadata": {
    "collapsed": false
   },
   "outputs": [
    {
     "data": {
      "image/png": "[encoded data removed]",
      "text/plain": [
       "<matplotlib.figure.Figure at 0xa97f186c>"
      ]
     },
     "metadata": {},
     "output_type": "display_data"
    }
   ],
   "source": [
    "#  Fed Funds, implied 1-year forward rate:\n",
    "plot( tail(ffy, 64) )"
   ]
  },
  {
   "cell_type": "code",
   "execution_count": 12,
   "metadata": {
    "collapsed": false
   },
   "outputs": [
    {
     "data": {
      "text/plain": [
       "                   Y\n",
       "2016-12-14  1.001828\n",
       "2016-12-15  1.088157\n",
       "2016-12-16  1.103434\n",
       "2016-12-19  1.118601\n",
       "2016-12-20  1.145301\n",
       "2016-12-21  1.136247\n",
       "2016-12-22  1.151486"
      ]
     },
     "execution_count": 12,
     "metadata": {},
     "output_type": "execute_result"
    }
   ],
   "source": [
    "tail(ffy)"
   ]
  },
  {
   "cell_type": "markdown",
   "metadata": {},
   "source": [
    "## CONCLUSION: point forecast for Fed Funds\n",
    "\n",
    "Let's address this simple question: **How much is the Fed Funds \n",
    "expected to change over the next 12 months?**"
   ]
  },
  {
   "cell_type": "code",
   "execution_count": 13,
   "metadata": {
    "collapsed": false
   },
   "outputs": [
    {
     "data": {
      "text/plain": [
       "0.6400000000000006"
      ]
     },
     "execution_count": 13,
     "metadata": {},
     "output_type": "execute_result"
    }
   ],
   "source": [
    "#  Should be equivalent to intra-LIBOR spread:\n",
    "tailvalue( ffy ) - tailvalue( ff30 )\n",
    "\n",
    "#  2015-09-16  Answer: +43 bp from current 14 bp effective rate, \n",
    "#                             so FFER est. at 0.57% in one year.\n",
    "#\n",
    "#  2015-09-22  Answer: +38 bp from current 14 bp effective rate,\n",
    "#                             so FFER est. at 0.52% in one year.\n",
    "#\n",
    "#  2015-11-02  Answer: +38 bp from current 12 bp effective rate,\n",
    "#                             so FFER est. at 0.50% in one year.\n",
    "#\n",
    "#  2016-01-11  Answer: +45 bp from current 28 bp effective rate,\n",
    "#                             so FFER est. at 0.73% in one year.\n",
    "#\n",
    "#  2016-12-23  Answer: +64 bp from current 51 bp effective rate,\n",
    "#                             so FFER est. at 1.15 in one year."
   ]
  },
  {
   "cell_type": "markdown",
   "metadata": {},
   "source": [
    "2015-09-22  Currently our **point forecast for FFER one-year out is 0.52%**. Given our standard error computed above, this implies in terms of expected Fed action: one rate hike of 25 bp (keeping actual in the upper range) or two rate hikes of 25 bp (keeping actual in the lower [0.50, 0.75] range).\n",
    "\n",
    "2015-11-02  **Point forecast for FFER one-year out is 0.50%**, thus no change in conclusion is warranted.\n",
    "\n",
    "2016-01-11  Point forecast for FFER one-year out is 0.73%. **Given the 2015-12-16 rate hike, this implies in terms of expected Fed action: one further rate hike of 25 bp \n",
    "(keeping actual in the upper range), or two rate hikes of 25 bp \n",
    "(keeping actual in the lower [0.75, 1.00] range).**\n",
    "Interestingly, the Fed's own blue dot plot seems to suggest 1.0% is reasonable in one year.\n",
    "\n",
    "2016-12-23  Point forecast for FFER one-year out is 1.15%. **Given the 2016-12-14 rate hike, this implies in two further rate hikes of 25 bp each, then possibly a third \n",
    "(to trade mid-range) during the course of 2017.** \n",
    "Thus we can say the market is aligned with Fed's 2016-12-14 announced intention \n",
    "of three hikes during 2017."
   ]
  },
  {
   "cell_type": "markdown",
   "metadata": {},
   "source": [
    "- - -"
   ]
  },
  {
   "cell_type": "markdown",
   "metadata": {},
   "source": [
    "## Appendix 1: [moved to FFER section above]"
   ]
  },
  {
   "cell_type": "markdown",
   "metadata": {},
   "source": [
    "## Appendix 2: Forward rates as predictors\n",
    "\n",
    "We have implicitly assumed in this notebook that rates which are \n",
    "traded forward in time are market predictions. But are they \n",
    "accurate predictors? This is will require a backtesting framework. \n",
    "It is fairly common to see this type of assumption tested \n",
    "in commodity and foreign exchange markets.\n",
    "\n",
    "For now, we will just leave some visual evidence as a teaser. \n",
    "LIBOR forwards can be persistently wrong-headed, \n",
    "for example, see the 2009-2012 period below. \n",
    "The long end of the forward curve is dominated by \n",
    "the yield curve, but generally the short end does \n",
    "reflect news narratives of market expectations."
   ]
  },
  {
   "cell_type": "code",
   "execution_count": 14,
   "metadata": {
    "collapsed": false
   },
   "outputs": [
    {
     "data": {
      "text/html": [
       "<img src=\"http://bit.ly/libor-fwd_jpg\"/>"
      ],
      "text/plain": [
       "<IPython.core.display.Image object>"
      ]
     },
     "execution_count": 14,
     "metadata": {},
     "output_type": "execute_result"
    }
   ],
   "source": [
    "Image(url='http://bit.ly/libor-fwd_jpg', embed=False)"
   ]
  },
  {
   "cell_type": "markdown",
   "metadata": {},
   "source": [
    "## Appendix 3: Forecasting Fed Funds, distilled\n",
    "\n",
    "[Note regarding pre-2016-12-23 versions of this notebook: \n",
    "After data exploration and doing the \"algebra\" behind the \n",
    "individual computations, it is interesting to see that *what \n",
    "we suspected to be important can in fact be dropped as \n",
    "redundant: the synthetic Fed Funds futures.*]\n",
    "\n",
    "From the smoothed Fed Funds effective rate, \n",
    "we can just simply add the differential between Libor forwards \n",
    "to arrive at our forecast. We distill the technique as *forefunds()* \n",
    "which shall be in the main fecon235.py module.\n",
    "\n",
    "We can generalize the notebook logic to make forecasts \n",
    "long-term since Libor futures is very active \n",
    "extending out to distant contract years (unlike the Fed Funds futures)."
   ]
  },
  {
   "cell_type": "code",
   "execution_count": 15,
   "metadata": {
    "collapsed": false
   },
   "outputs": [
    {
     "data": {
      "text/plain": [
       "\u001b[1;31mSignature: \u001b[0m\u001b[0mforefunds\u001b[0m\u001b[1;33m(\u001b[0m\u001b[0mnearby\u001b[0m\u001b[1;33m=\u001b[0m\u001b[1;34m'16m'\u001b[0m\u001b[1;33m,\u001b[0m \u001b[0mdistant\u001b[0m\u001b[1;33m=\u001b[0m\u001b[1;34m'17m'\u001b[0m\u001b[1;33m)\u001b[0m\u001b[1;33m\u001b[0m\u001b[0m\n",
       "\u001b[1;31mSource:\u001b[0m\n",
       "\u001b[1;32mdef\u001b[0m \u001b[0mforefunds\u001b[0m\u001b[1;33m(\u001b[0m \u001b[0mnearby\u001b[0m\u001b[1;33m=\u001b[0m\u001b[1;34m'16m'\u001b[0m\u001b[1;33m,\u001b[0m \u001b[0mdistant\u001b[0m\u001b[1;33m=\u001b[0m\u001b[1;34m'17m'\u001b[0m \u001b[1;33m)\u001b[0m\u001b[1;33m:\u001b[0m\u001b[1;33m\u001b[0m\n",
       "\u001b[1;33m\u001b[0m    \u001b[1;34m'''Forecast distant Fed Funds rate using Eurodollar futures.'''\u001b[0m\u001b[1;33m\u001b[0m\n",
       "\u001b[1;33m\u001b[0m    \u001b[1;31m#  Long derivation is given in qdl-libor-fed-funds.ipynb\u001b[0m\u001b[1;33m\u001b[0m\n",
       "\u001b[1;33m\u001b[0m    \u001b[0mffer\u001b[0m \u001b[1;33m=\u001b[0m \u001b[0mgetfred\u001b[0m\u001b[1;33m(\u001b[0m\u001b[1;34m'DFF'\u001b[0m\u001b[1;33m)\u001b[0m\u001b[1;33m\u001b[0m\n",
       "\u001b[1;33m\u001b[0m    \u001b[1;31m#      ^Retrieve Fed Funds effective rate, daily since 1954.\u001b[0m\u001b[1;33m\u001b[0m\n",
       "\u001b[1;33m\u001b[0m    \u001b[0mffer_ema\u001b[0m \u001b[1;33m=\u001b[0m \u001b[0mema\u001b[0m\u001b[1;33m(\u001b[0m \u001b[0mffer\u001b[0m\u001b[1;33m[\u001b[0m\u001b[1;34m'1981'\u001b[0m\u001b[1;33m:\u001b[0m\u001b[1;33m]\u001b[0m\u001b[1;33m,\u001b[0m \u001b[1;36m0.0645\u001b[0m \u001b[1;33m)\u001b[0m\u001b[1;33m\u001b[0m\n",
       "\u001b[1;33m\u001b[0m    \u001b[1;31m#                    ^Eurodollar futures debut.\u001b[0m\u001b[1;33m\u001b[0m\n",
       "\u001b[1;33m\u001b[0m    \u001b[1;31m#          ^Exponentially Weighted Moving Average, 30-period.\u001b[0m\u001b[1;33m\u001b[0m\n",
       "\u001b[1;33m\u001b[0m    \u001b[0mlibor_nearby\u001b[0m  \u001b[1;33m=\u001b[0m \u001b[0mget\u001b[0m\u001b[1;33m(\u001b[0m \u001b[1;34m'f4libor'\u001b[0m \u001b[1;33m+\u001b[0m \u001b[0mnearby\u001b[0m  \u001b[1;33m)\u001b[0m \u001b[1;33m\u001b[0m\n",
       "\u001b[1;33m\u001b[0m    \u001b[0mlibor_distant\u001b[0m \u001b[1;33m=\u001b[0m \u001b[0mget\u001b[0m\u001b[1;33m(\u001b[0m \u001b[1;34m'f4libor'\u001b[0m \u001b[1;33m+\u001b[0m \u001b[0mdistant\u001b[0m \u001b[1;33m)\u001b[0m\u001b[1;33m\u001b[0m\n",
       "\u001b[1;33m\u001b[0m    \u001b[0mlibor_spread\u001b[0m \u001b[1;33m=\u001b[0m \u001b[0mtodf\u001b[0m\u001b[1;33m(\u001b[0m \u001b[0mlibor_nearby\u001b[0m \u001b[1;33m-\u001b[0m \u001b[0mlibor_distant\u001b[0m \u001b[1;33m)\u001b[0m\u001b[1;33m\u001b[0m\n",
       "\u001b[1;33m\u001b[0m    \u001b[1;31m#     spread in forward style quote since futures uses 100-rate.\u001b[0m\u001b[1;33m\u001b[0m\n",
       "\u001b[1;33m\u001b[0m    \u001b[1;32mreturn\u001b[0m \u001b[0mtodf\u001b[0m\u001b[1;33m(\u001b[0m \u001b[0mffer_ema\u001b[0m \u001b[1;33m+\u001b[0m \u001b[0mlibor_spread\u001b[0m \u001b[1;33m)\u001b[0m\u001b[1;33m\u001b[0m\u001b[0m\n",
       "\n",
       "\u001b[1;31mFile:      \u001b[0m~/Dropbox/ipy/fecon235/fecon235.py\n",
       "\u001b[1;31mType:      \u001b[0mfunction"
      ]
     },
     "metadata": {},
     "output_type": "display_data"
    }
   ],
   "source": [
    "forefunds??"
   ]
  },
  {
   "cell_type": "code",
   "execution_count": 16,
   "metadata": {
    "collapsed": false
   },
   "outputs": [
    {
     "name": "stdout",
     "output_type": "stream",
     "text": [
      "TEST PASSED: forefunds() agrees with its notebook derivation.\n"
     ]
    }
   ],
   "source": [
    "#  Illustrate direct forefunds() usage by TEST example:\n",
    "\n",
    "ffy_equivalent = forefunds( nearby=s_libor[-3:], distant=s_libory[-3:] )\n",
    "#  That [-3:] is slicing of the last three parts of the string.\n",
    "\n",
    "if abs(tailvalue(ffy) - tailvalue(ffy_equivalent)) < 0.005:\n",
    "    print(\"TEST PASSED: forefunds() agrees with its notebook derivation.\")\n",
    "else:\n",
    "    system.warn(\"TEST FAILED: forefunds() disagrees with its notebook derivation.\")"
   ]
  }
 ],
 "metadata": {
  "kernelspec": {
   "display_name": "Python 2",
   "language": "python",
   "name": "python2"
  },
  "language_info": {
   "codemirror_mode": {
    "name": "ipython",
    "version": 2
   },
   "file_extension": ".py",
   "mimetype": "text/x-python",
   "name": "python",
   "nbconvert_exporter": "python",
   "pygments_lexer": "ipython2",
   "version": "2.7.11"
  }
 },
 "nbformat": 4,
 "nbformat_minor": 0
}
