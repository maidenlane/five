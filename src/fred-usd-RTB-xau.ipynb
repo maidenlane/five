{
 "metadata": {
  "name": "",
  "signature": "sha256:574c6f03ce0d936349c4ccea175c7374d37b4539ee358bd98c747910e4fd62a8"
 },
 "nbformat": 3,
 "nbformat_minor": 0,
 "worksheets": [
  {
   "cells": [
    {
     "cell_type": "heading",
     "level": 1,
     "metadata": {},
     "source": [
      "Real trade-weighted index values of USD, gold, and SPX"
     ]
    },
    {
     "cell_type": "markdown",
     "metadata": {},
     "source": [
      "We examine the value of USD against a basket of 26 foreign currencies using real trade numbers. Trade statistics are released annually, however, the Fed uses international inflation data to adjust the weights monthly."
     ]
    },
    {
     "cell_type": "markdown",
     "metadata": {},
     "source": [
      "*Dependencies:*\n",
      "     - Linux, bash\n",
      "     - Python: matplotlib, pandas\n",
      "     - Modules: yi_1tools, yi_fred, yi_plot, yi_timeseries\n",
      "     \n",
      "*CHANGE LOG*\n",
      "\n",
      "    2015-01-20  Code review.\n",
      "    2014-08-24  First version.\n",
      "    \n",
      "Reference: Mico Loretan, Federal Reserve Bulletin, Winter 2005, \n",
      "*\"Indexes of the Foreign Exchange Value of the Dollar\",* \n",
      "[http://www.federalreserve.gov/pubs/bulletin/2005/winter05_index.pdf](http://www.federalreserve.gov/pubs/bulletin/2005/winter05_index.pdf)    "
     ]
    },
    {
     "cell_type": "code",
     "collapsed": false,
     "input": [
      "#  NOTEBOOK settings and system details:   [00-tpl v14.09.28]\n",
      "\n",
      "#  Assume that the backend is LINUX (our particular distro is Ubuntu, running bash shell):\n",
      "print '\\n ::  TIMESTAMP of last notebook execution:'\n",
      "!date\n",
      "print '\\n ::  IPython version:'\n",
      "!ipython --version\n",
      "\n",
      "#  Automatically reload modified modules:\n",
      "%load_ext autoreload\n",
      "%autoreload 2   \n",
      "#           0 will disable autoreload.\n",
      "#  Generate plots inside notebook:\n",
      "%matplotlib inline\n",
      "\n",
      "#  DISPLAY options\n",
      "from IPython.display import Image \n",
      "#  e.g. Image(filename='holt-winters-equations.png', embed=True)\n",
      "from IPython.display import YouTubeVideo\n",
      "#  e.g. YouTubeVideo('1j_HxD4iLn8')\n",
      "from IPython.display import HTML # useful for snippets\n",
      "#  e.g. HTML('<iframe src=http://en.mobile.wikipedia.org/?useformat=mobile width=700 height=350></iframe>')\n",
      "import pandas as pd\n",
      "print '\\n ::  pandas version:'\n",
      "print pd.__version__\n",
      "#      pandas DataFrames are represented as text by default; enable HTML representation:\n",
      "#      [Deprecated: pd.core.format.set_printoptions( notebook_repr_html=True ) ]\n",
      "pd.set_option( 'display.notebook_repr_html', False )\n",
      "\n",
      "#  MATH display, use %%latex, rather than the following:\n",
      "#                from IPython.display import Math\n",
      "#                from IPython.display import Latex\n",
      "\n",
      "print '\\n ::  Working directory (set as $workd):'\n",
      "workd, = !pwd\n",
      "print workd + '\\n'"
     ],
     "language": "python",
     "metadata": {},
     "outputs": [
      {
       "output_type": "stream",
       "stream": "stdout",
       "text": [
        "\n",
        " ::  TIMESTAMP of last notebook execution:\n",
        "Fri Jan 23 22:29:33 PST 2015"
       ]
      },
      {
       "output_type": "stream",
       "stream": "stdout",
       "text": [
        "\r\n"
       ]
      },
      {
       "output_type": "stream",
       "stream": "stdout",
       "text": [
        "\n",
        " ::  IPython version:\n"
       ]
      },
      {
       "output_type": "stream",
       "stream": "stdout",
       "text": [
        "2.3.0\r\n"
       ]
      },
      {
       "output_type": "stream",
       "stream": "stdout",
       "text": [
        "\n",
        " ::  pandas version:\n",
        "0.15.0\n",
        "\n",
        " ::  Working directory (set as $workd):\n"
       ]
      },
      {
       "output_type": "stream",
       "stream": "stdout",
       "text": [
        "/home/yaya/Dropbox/ipy/fecon235/nb\n",
        "\n"
       ]
      }
     ],
     "prompt_number": 1
    },
    {
     "cell_type": "code",
     "collapsed": false,
     "input": [
      "from yi_1tools import *\n",
      "from yi_fred import *\n",
      "from yi_plot import *\n",
      "from yi_timeseries import *"
     ],
     "language": "python",
     "metadata": {},
     "outputs": [],
     "prompt_number": 2
    },
    {
     "cell_type": "heading",
     "level": 3,
     "metadata": {},
     "source": [
      "RTB stands for \"real trade-weighted: broad\" where broad consists of 26 currencies. There is a sub-index for \"major\" currencies where the weights are adjusted annually."
     ]
    },
    {
     "cell_type": "code",
     "collapsed": false,
     "input": [
      "#  USD in RTB terms:\n",
      "usdrtb = getfred( m4usdrtb )\n",
      "plotfred( usdrtb, 'm4 USDRTB' )"
     ],
     "language": "python",
     "metadata": {},
     "outputs": [
      {
       "metadata": {},
       "output_type": "display_data",
       "png": "[encoded data removed]",
       "text": [
        "<matplotlib.figure.Figure at 0xad3b9e4c>"
       ]
      },
      {
       "output_type": "stream",
       "stream": "stdout",
       "text": [
        " ::  Finished: plotdf-m4_USDRTB.png\n"
       ]
      }
     ],
     "prompt_number": 3
    },
    {
     "cell_type": "code",
     "collapsed": false,
     "input": [
      "stats( usdrtb )"
     ],
     "language": "python",
     "metadata": {},
     "outputs": [
      {
       "output_type": "stream",
       "stream": "stdout",
       "text": [
        "                Y\n",
        "count  503.000000\n",
        "mean    95.749771\n",
        "std      9.473351\n",
        "min     80.536000\n",
        "25%     88.508500\n",
        "50%     94.007000\n",
        "75%    100.410000\n",
        "max    128.437000\n",
        "\n",
        " ::  Index on min:\n",
        "Y   2011-07-01\n",
        "dtype: datetime64[ns]\n",
        "\n",
        " ::  Index on max:\n",
        "Y   1985-03-01\n",
        "dtype: datetime64[ns]\n",
        "\n",
        " ::  Head:\n",
        "                  Y\n",
        "T                  \n",
        "1973-01-01  107.616\n",
        "1973-02-01  103.046\n",
        "1973-03-01  100.000\n",
        "1973-04-01  100.376\n",
        "1973-05-01   99.263\n",
        "1973-06-01   97.483\n",
        "1973-07-01   94.995"
       ]
      },
      {
       "output_type": "stream",
       "stream": "stdout",
       "text": [
        "\n",
        "\n",
        " ::  Tail:\n",
        "                 Y\n",
        "T                 \n",
        "2014-05-01  84.993\n",
        "2014-06-01  85.118\n",
        "2014-07-01  84.848\n",
        "2014-08-01  85.362\n",
        "2014-09-01  86.582\n",
        "2014-10-01  87.561\n",
        "2014-11-01  89.007\n",
        "\n",
        " ::  Correlation matrix:\n",
        "   Y\n",
        "Y  1"
       ]
      },
      {
       "output_type": "stream",
       "stream": "stdout",
       "text": [
        "\n"
       ]
      }
     ],
     "prompt_number": 4
    },
    {
     "cell_type": "heading",
     "level": 3,
     "metadata": {},
     "source": [
      "We can also value other assets in terms of RTB, i.e. their international valuations ex-USD."
     ]
    },
    {
     "cell_type": "code",
     "collapsed": false,
     "input": [
      "#  Gold in RTB terms:\n",
      "xaurtb = getfred( m4xaurtb )\n",
      "plotfred( xaurtb, 'm4 XAURTB' )"
     ],
     "language": "python",
     "metadata": {},
     "outputs": [
      {
       "metadata": {},
       "output_type": "display_data",
       "png": "[encoded data removed]",
       "text": [
        "<matplotlib.figure.Figure at 0xad2e102c>"
       ]
      },
      {
       "output_type": "stream",
       "stream": "stdout",
       "text": [
        " ::  Finished: plotdf-m4_XAURTB.png\n"
       ]
      }
     ],
     "prompt_number": 5
    },
    {
     "cell_type": "code",
     "collapsed": false,
     "input": [
      "#  SP500 -- US equities in international RTB terms:\n",
      "spxrtb = getfred( m4spxrtb )\n",
      "plotfred( spxrtb )"
     ],
     "language": "python",
     "metadata": {},
     "outputs": [
      {
       "output_type": "stream",
       "stream": "stdout",
       "text": [
        " ::  S&P 500 prepend successfully goes back to 1957.\n"
       ]
      },
      {
       "metadata": {},
       "output_type": "display_data",
       "png": "[encoded data removed]",
       "text": [
        "<matplotlib.figure.Figure at 0xad1df30c>"
       ]
      }
     ],
     "prompt_number": 6
    },
    {
     "cell_type": "markdown",
     "metadata": {},
     "source": [
      "American equities see record high even in international terms."
     ]
    },
    {
     "cell_type": "heading",
     "level": 3,
     "metadata": {},
     "source": [
      "To evaluate the above as financial assets, we compute the geometric mean returns. "
     ]
    },
    {
     "cell_type": "code",
     "collapsed": false,
     "input": [
      "georet(usdrtb, 12)"
     ],
     "language": "python",
     "metadata": {},
     "outputs": [
      {
       "metadata": {},
       "output_type": "pyout",
       "prompt_number": 7,
       "text": [
        "[-0.45, -0.36, 4.4, 12]"
       ]
      }
     ],
     "prompt_number": 7
    },
    {
     "cell_type": "code",
     "collapsed": false,
     "input": [
      "georet(xaurtb, 12)"
     ],
     "language": "python",
     "metadata": {},
     "outputs": [
      {
       "metadata": {},
       "output_type": "pyout",
       "prompt_number": 8,
       "text": [
        "[6.4, 7.93, 17.51, 12]"
       ]
      }
     ],
     "prompt_number": 8
    },
    {
     "cell_type": "code",
     "collapsed": false,
     "input": [
      "georet(spxrtb, 12)"
     ],
     "language": "python",
     "metadata": {},
     "outputs": [
      {
       "metadata": {},
       "output_type": "pyout",
       "prompt_number": 9,
       "text": [
        "[6.38, 7.21, 12.95, 12]"
       ]
      }
     ],
     "prompt_number": 9
    },
    {
     "cell_type": "markdown",
     "metadata": {},
     "source": [
      "Going back to 1973, we expect USD to decline around 50 bp each year against a basket of 26 currencies. \n",
      "\n",
      "For non-Americans, gold appears to equal US equities returns despite much higher volatility. "
     ]
    },
    {
     "cell_type": "heading",
     "level": 4,
     "metadata": {},
     "source": [
      "Caution: SPX above does not include dividends, thus US equities would be superior to gold as investment."
     ]
    },
    {
     "cell_type": "markdown",
     "metadata": {},
     "source": [
      "[We do not forecast here, because of the lag in data release.]"
     ]
    },
    {
     "cell_type": "heading",
     "level": 2,
     "metadata": {},
     "source": [
      "Thus RTB allows us to view assets from a global non-dollar perspective."
     ]
    },
    {
     "cell_type": "code",
     "collapsed": false,
     "input": [],
     "language": "python",
     "metadata": {},
     "outputs": [],
     "prompt_number": 9
    }
   ],
   "metadata": {}
  }
 ]
}