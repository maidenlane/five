{
 "metadata": {
  "name": "",
  "signature": "sha256:6f30cd257aa9ac10585ead728649fb253b01d95e78019f8727a0deda1c3aeb57"
 },
 "nbformat": 3,
 "nbformat_minor": 0,
 "worksheets": [
  {
   "cells": [
    {
     "cell_type": "heading",
     "level": 1,
     "metadata": {},
     "source": [
      "Inflation, money velocity, and interest rates"
     ]
    },
    {
     "cell_type": "markdown",
     "metadata": {},
     "source": [
      "We examine and attempt to replicate the results of two interesting articles by **Yi Wen**, Economist at the St. Louis Federal Reserve Bank, and **Maria A. Arias**:\n",
      "\n",
      "*What Does Money Velocity Tell Us about Low Inflation in the U.S.?*, 9/1/14 http://www.stlouisfed.org/on-the-economy/what-does-money-velocity-tell-us-about-low-inflation-in-the-u-s/\n",
      "\n",
      "*The Liquidity Trap: An Alternative Explanation for Today's Low Inflation*, April 2014, http://www.stlouisfed.org/publications/re/articles/?id=2505\n",
      "\n",
      "from which we shall quote and edit extensively. \n",
      "\n",
      "Along the way, we take a detour and explore the connection between money velocity and bond rates. This will tie together their relationship with GDP and the money supply in a fitted equation."
     ]
    },
    {
     "cell_type": "markdown",
     "metadata": {},
     "source": [
      "*Dependencies:*\n",
      "\n",
      "    - Linux, bash [not crucial, cross-platform prefered]\n",
      "    - Python: matplotlib, pandas [recommend Anaconda distribution]\n",
      "    - Modules: yi_1tools, yi_plot, yi_timeseries, yi_fred\n",
      "     \n",
      "*CHANGE LOG*\n",
      "\n",
      "    2015-05-15  Code review and revision.\n",
      "    2014-09-03  First version."
     ]
    },
    {
     "cell_type": "code",
     "collapsed": false,
     "input": [
      "#  NOTEBOOK settings and system details:   [00-tpl v14.09.28]\n",
      "\n",
      "#  Assume that the backend is LINUX (our particular distro is Ubuntu, running bash shell):\n",
      "print '\\n ::  TIMESTAMP of last notebook execution:'\n",
      "!date\n",
      "print '\\n ::  IPython version:'\n",
      "!ipython --version\n",
      "\n",
      "#  Automatically reload modified modules:\n",
      "%load_ext autoreload\n",
      "%autoreload 2   \n",
      "#           0 will disable autoreload.\n",
      "#  Generate plots inside notebook:\n",
      "%matplotlib inline\n",
      "\n",
      "#  DISPLAY options\n",
      "from IPython.display import Image \n",
      "#  e.g. Image(filename='holt-winters-equations.png', embed=True)\n",
      "from IPython.display import YouTubeVideo\n",
      "#  e.g. YouTubeVideo('1j_HxD4iLn8')\n",
      "from IPython.display import HTML # useful for snippets\n",
      "#  e.g. HTML('<iframe src=http://en.mobile.wikipedia.org/?useformat=mobile width=700 height=350></iframe>')\n",
      "import pandas as pd\n",
      "print '\\n ::  pandas version:'\n",
      "print pd.__version__\n",
      "#      pandas DataFrames are represented as text by default; enable HTML representation:\n",
      "#      [Deprecated: pd.core.format.set_printoptions( notebook_repr_html=True ) ]\n",
      "pd.set_option( 'display.notebook_repr_html', False )\n",
      "\n",
      "#  MATH display, use %%latex, rather than the following:\n",
      "#                from IPython.display import Math\n",
      "#                from IPython.display import Latex\n",
      "\n",
      "print '\\n ::  Working directory (set as $workd):'\n",
      "workd, = !pwd\n",
      "print workd + '\\n'"
     ],
     "language": "python",
     "metadata": {},
     "outputs": [
      {
       "output_type": "stream",
       "stream": "stdout",
       "text": [
        "\n",
        " ::  TIMESTAMP of last notebook execution:\n"
       ]
      },
      {
       "output_type": "stream",
       "stream": "stdout",
       "text": [
        "Fri May 15 14:37:44 PDT 2015\r\n"
       ]
      },
      {
       "output_type": "stream",
       "stream": "stdout",
       "text": [
        "\n",
        " ::  IPython version:\n"
       ]
      },
      {
       "output_type": "stream",
       "stream": "stdout",
       "text": [
        "2.3.0\r\n"
       ]
      },
      {
       "output_type": "stream",
       "stream": "stdout",
       "text": [
        "\n",
        " ::  pandas version:\n",
        "0.15.0\n",
        "\n",
        " ::  Working directory (set as $workd):\n"
       ]
      },
      {
       "output_type": "stream",
       "stream": "stdout",
       "text": [
        "/home/yaya/Dropbox/ipy/fecon235/nb\n",
        "\n"
       ]
      }
     ],
     "prompt_number": 1
    },
    {
     "cell_type": "code",
     "collapsed": false,
     "input": [
      "from yi_1tools import *\n",
      "from yi_fred import *\n",
      "from yi_plot import *\n",
      "from yi_timeseries import *"
     ],
     "language": "python",
     "metadata": {},
     "outputs": [],
     "prompt_number": 2
    },
    {
     "cell_type": "heading",
     "level": 1,
     "metadata": {},
     "source": [
      "Quick intro to monetarist theory"
     ]
    },
    {
     "cell_type": "markdown",
     "metadata": {},
     "source": [
      "One of the most important theories to explain inflation is the monetarist view: according to Milton Friedman, \u201cInflation is always and everywhere a monetary phenomenon.\u201d In other words, inflation occurs because there is too much money available to buy the same amount of goods and services produced in the economy. This view can also be represented by the so-called \u201c**quantity theory of money**,\u201d which relates the general price level, the total goods and services produced in a given period, the total money supply and the speed (velocity) at which money circulates in the economy in facilitating transactions in the following equation:\n",
      "\n",
      "    M V = P Q\n",
      "\n",
      "where:\n",
      "\n",
      "    M stands for money.\n",
      "    V stands for the velocity of money (or the rate at which people spend money).\n",
      "    P stands for the general price level (not the rate of its growth).\n",
      "    Q stands for the quantity of goods and services produced (in real terms, e.g. real GDP).\n",
      "\n",
      "Based on this equation, *holding the money velocity constant,* if the money supply (M) increases at a faster rate than real economic output (Q), the price level (P) must increase to make up the difference.\n",
      "\n",
      "[See details in David Colander, 2010, *Macroeconomics*, pp. 387ff for theories of inflation where the tautological equation becomes interpreted as bi-causal given added assumptions.]\n",
      "\n",
      "[For small percentage changes, we can thus write the so-called *inflation identity*:\n",
      "\n",
      "$ \\Delta P = \\Delta M + \\Delta V - \\Delta Q $ \n",
      "\n",
      "where \u0394P represents the inflation rate. This equation is only useful if \u0394V follows regular behavior (studied below). It also loses usefulness if the central bank lacks control over \u0394M.]\n",
      "\n",
      "In equilibrium, real money demand is understood to be Q/V."
     ]
    },
    {
     "cell_type": "markdown",
     "metadata": {},
     "source": [
      "## Money expanded enormously due to QE \"quantitative easing\" during the Great Recession, yet inflation did not rage upwards\n",
      "\n",
      "From January 2009 to December 2013, the Federal Reserve's balance sheet grew by approximately $3.5 trillion due to the large-scale asset purchase (LSAP) policies implemented to aid the ailing economy after the Great Recession. These unconventional monetary policies, also known as quantitative easing (QE), increased credit availability in the private lending markets and put downward pressure on real interest rates.\n",
      "\n",
      "*According to the monetarist view, inflation in the U.S. should have been about 31 percent per year between 2008 and 2013, when the money supply grew at an average pace of 33 percent per year and output grew at an average pace around 2 percent.* \n",
      "\n",
      "# Question:  **Why, then, has inflation remained persistently low (below 2%) during this period (\"Great Recession\")?** \n",
      "\n",
      "[\"Normal times\" (1960-2007) shall refer to the postwar period prior to the Great Recession.]"
     ]
    },
    {
     "cell_type": "code",
     "collapsed": false,
     "input": [
      "#  Define our start of the Great Recession:\n",
      "recession = '2006-12-31'\n",
      "#                ^this would include 2007-Q1 data.\n",
      "\n",
      "#  According to the U.S. National Bureau of Economic Research \n",
      "#  (the official arbiter) the US recession began in December 2007. \n",
      "#  But the emergence of sub-prime loan losses in 2007 \n",
      "#  began the global crisis. \n",
      "#  Lehman Brothers went bankrupt during September 2008."
     ],
     "language": "python",
     "metadata": {},
     "outputs": [],
     "prompt_number": 3
    },
    {
     "cell_type": "code",
     "collapsed": false,
     "input": [
      "#  Let us look at headline price levels averaged, including core versions:\n",
      "P = getfred( m4infl )\n",
      "\n",
      "#  Compute YoY percentage change for INFLATION:\n",
      "Prate = pcent(P, 12)"
     ],
     "language": "python",
     "metadata": {},
     "outputs": [],
     "prompt_number": 4
    },
    {
     "cell_type": "code",
     "collapsed": false,
     "input": [
      "#  Plot INFLATION rate:\n",
      "plotfred( Prate, 'Infl rate' )"
     ],
     "language": "python",
     "metadata": {},
     "outputs": [
      {
       "metadata": {},
       "output_type": "display_data",
       "png": "[encoded data removed]",
       "text": [
        "<matplotlib.figure.Figure at 0xad29f88c>"
       ]
      },
      {
       "output_type": "stream",
       "stream": "stdout",
       "text": [
        " ::  Finished: plotdf-Infl_rate.png\n"
       ]
      }
     ],
     "prompt_number": 5
    },
    {
     "cell_type": "code",
     "collapsed": false,
     "input": [
      "#  Before Great Recession, our so-called \"normal times\":\n",
      "georet( P[:recession], 12 )"
     ],
     "language": "python",
     "metadata": {},
     "outputs": [
      {
       "metadata": {},
       "output_type": "pyout",
       "prompt_number": 6,
       "text": [
        "[3.8, 3.8, 0.79, 12]"
       ]
      }
     ],
     "prompt_number": 6
    },
    {
     "cell_type": "code",
     "collapsed": false,
     "input": [
      "#  Great Recession through the present:\n",
      "georet( P[recession:], 12 )"
     ],
     "language": "python",
     "metadata": {},
     "outputs": [
      {
       "metadata": {},
       "output_type": "pyout",
       "prompt_number": 7,
       "text": [
        "[1.65, 1.66, 0.57, 12]"
       ]
      }
     ],
     "prompt_number": 7
    },
    {
     "cell_type": "markdown",
     "metadata": {},
     "source": [
      "2015-03-21 The geometric mean return for prices is more than double for \"normal times\" 3.78% vs. \"Great Recession\" 1.64%. \n",
      "\n",
      "**Several reasons have been provided for the persistently low inflation.** For example, Janet Yellen said in 2009 that inflation would not take hold during a recession because of *little pressure for prices and wages to increase given that resources through the economy were underused.* \n",
      "\n",
      "Others say the unusually low inflation stems from the weakening of the money multiplier, as *banks continue to hold excess reserves instead of extending more credit through loans.* \n",
      "\n",
      "While others point to the FOMC's increased communications and forward guidance in anchoring future inflation expectations, as well as to the knowledge that the LSAPs will eventually be reversed.\n",
      "\n",
      "Andolfatto and Li note when describing the effect of QE in Japan during the 2000s, **\"even large changes in the monetary base are not likely to have any inflationary consequences if people generally believe the program will be reversed at some future date.\"** (*\"Quantitative Easing in Japan: Past and Present.\"* Federal Reserve Bank of St. Louis Economic Synopses, 2014, No. 1, Jan. 10, 2014. See http://research.stlouisfed.org/publications/es/article/10024 )"
     ]
    },
    {
     "cell_type": "markdown",
     "metadata": {},
     "source": [
      "# Answer: Velocity has not been constant, in fact, declining...\n",
      "\n",
      "The issue has to do with the velocity of money, which has never been constant, as can be seen below. **If for some reason the money velocity declines rapidly during an expansionary monetary policy period, it can offset the increase in money supply and even lead to deflation instead of inflation.**\n",
      "\n",
      "*The velocity of money can be calculated as the ratio of nominal gross domestic product (GDP) to the money supply (V=PQ/M), which can be used to gauge the economy\u2019s strength or people\u2019s willingness to spend money.* When there are more transactions being made throughout the economy, velocity increases, and the economy is likely to expand. The opposite is also true: Money velocity decreases when fewer transactions are being made; therefore the economy is likely to shrink.\n",
      "\n",
      "    G := P*Q i.e. nominal GDP \n",
      "    \n",
      "To measure money supply, we use the monetary base which includes notes and coins in circulation as well as bank reserves.    "
     ]
    },
    {
     "cell_type": "code",
     "collapsed": false,
     "input": [
      "#  M used in the article is the St. Louis Adjusted Monetary Base:\n",
      "M = getfred( m4baseus )\n",
      "\n",
      "#  Monetary base is traditionally the most liquid measure of the money supply.\n",
      "#  Note that bank reserves are not included in \"M1\" \n",
      "#  which is another measure of the money supply.\n",
      "#  Ref: https://en.wikipedia.org/wiki/Money_supply"
     ],
     "language": "python",
     "metadata": {},
     "outputs": [],
     "prompt_number": 8
    },
    {
     "cell_type": "code",
     "collapsed": false,
     "input": [
      "#  Data for M goes back to 1918:\n",
      "plotfred( M['1960':], 'Mbase' )"
     ],
     "language": "python",
     "metadata": {},
     "outputs": [
      {
       "metadata": {},
       "output_type": "display_data",
       "png": "[encoded data removed]",
       "text": [
        "<matplotlib.figure.Figure at 0xad167b4c>"
       ]
      },
      {
       "output_type": "stream",
       "stream": "stdout",
       "text": [
        " ::  Finished: plotdf-Mbase.png\n"
       ]
      }
     ],
     "prompt_number": 9
    },
    {
     "cell_type": "code",
     "collapsed": false,
     "input": [
      "#  Plot for log( M ):\n",
      "plotfred( np.log( M['1960':] ))"
     ],
     "language": "python",
     "metadata": {},
     "outputs": [
      {
       "metadata": {},
       "output_type": "display_data",
       "png": "[encoded data removed]",
       "text": [
        "<matplotlib.figure.Figure at 0xad24196c>"
       ]
      }
     ],
     "prompt_number": 10
    },
    {
     "cell_type": "code",
     "collapsed": false,
     "input": [
      "#  M goes parabolic after the Great Recession due to quantitative easing:\n",
      "georet( M[recession:], 12)"
     ],
     "language": "python",
     "metadata": {},
     "outputs": [
      {
       "metadata": {},
       "output_type": "pyout",
       "prompt_number": 11,
       "text": [
        "[19.15, 20.44, 16.04, 12]"
       ]
      }
     ],
     "prompt_number": 11
    },
    {
     "cell_type": "markdown",
     "metadata": {},
     "source": [
      "2015-03-22: As of the Great Recession, the money supply, per M the monetary base, has exploded at an annual geometric rate of 19%"
     ]
    },
    {
     "cell_type": "heading",
     "level": 2,
     "metadata": {},
     "source": [
      "\"How The Economic Machine Works\""
     ]
    },
    {
     "cell_type": "markdown",
     "metadata": {},
     "source": [
      "For background information, we embed a 30-minute video by Ray Dalio (founder of the largest hedge fund, Bridgewater), which shows the fundamental importance of *transactions* both from the money and credit standpoint. This sets the stage for **velocity** which is a way of quantifying transactional turnovers in the economy."
     ]
    },
    {
     "cell_type": "code",
     "collapsed": false,
     "input": [
      "YouTubeVideo( 'PHe0bXAIuk0' )"
     ],
     "language": "python",
     "metadata": {},
     "outputs": [
      {
       "html": [
        "\n",
        "        <iframe\n",
        "            width=\"400\"\n",
        "            height=300\"\n",
        "            src=\"https://www.youtube.com/embed/PHe0bXAIuk0\"\n",
        "            frameborder=\"0\"\n",
        "            allowfullscreen\n",
        "        ></iframe>\n",
        "        "
       ],
       "metadata": {},
       "output_type": "pyout",
       "prompt_number": 12,
       "text": [
        "<IPython.lib.display.YouTubeVideo at 0xad1f262c>"
       ]
      }
     ],
     "prompt_number": 12
    },
    {
     "cell_type": "heading",
     "level": 2,
     "metadata": {},
     "source": [
      "Velocity computed and plotted"
     ]
    },
    {
     "cell_type": "code",
     "collapsed": false,
     "input": [
      "#  Nominal GDP, resampled monthly:\n",
      "G = getfred( m4gdpus )"
     ],
     "language": "python",
     "metadata": {},
     "outputs": [],
     "prompt_number": 13
    },
    {
     "cell_type": "code",
     "collapsed": false,
     "input": [
      "V = todf( G / M )"
     ],
     "language": "python",
     "metadata": {},
     "outputs": [],
     "prompt_number": 14
    },
    {
     "cell_type": "code",
     "collapsed": false,
     "input": [
      "plotfred( V, 'Velocity Mbase' )"
     ],
     "language": "python",
     "metadata": {},
     "outputs": [
      {
       "metadata": {},
       "output_type": "display_data",
       "png": "[encoded data removed]",
       "text": [
        "<matplotlib.figure.Figure at 0xad205a0c>"
       ]
      },
      {
       "output_type": "stream",
       "stream": "stdout",
       "text": [
        " ::  Finished: plotdf-Velocity_Mbase.png\n"
       ]
      }
     ],
     "prompt_number": 15
    },
    {
     "cell_type": "markdown",
     "metadata": {},
     "source": [
      "**Clearly velocity is not constant over time. The plunge after 2008 Q1 is very dramatic and  significant.**"
     ]
    },
    {
     "cell_type": "code",
     "collapsed": false,
     "input": [
      "stats( V )"
     ],
     "language": "python",
     "metadata": {},
     "outputs": [
      {
       "output_type": "stream",
       "stream": "stdout",
       "text": [
        "                Y\n",
        "count  817.000000\n",
        "mean    15.458331\n",
        "std      4.587706\n",
        "min      4.304107\n",
        "25%     12.502377\n",
        "50%     16.727152\n",
        "75%     18.523686\n",
        "max     22.257864\n",
        "\n",
        " ::  Index on min:\n",
        "Y   2014-08-01\n",
        "dtype: datetime64[ns]\n",
        "\n",
        " ::  Index on max:\n",
        "Y   1981-07-01\n",
        "dtype: datetime64[ns]\n",
        "\n",
        " ::  Head:\n",
        "                   Y\n",
        "T                   \n",
        "1947-01-01  7.212152\n",
        "1947-02-01  7.336959\n",
        "1947-03-01  7.368347\n",
        "1947-04-01  7.429192\n",
        "1947-05-01  7.471004\n",
        "1947-06-01  7.473595\n",
        "1947-07-01  7.486007\n",
        "\n",
        " ::  Tail:\n",
        "                   Y\n",
        "T                   \n",
        "2014-07-01  4.390173\n",
        "2014-08-01  4.304107\n",
        "2014-09-01  4.339132\n",
        "2014-10-01  4.380710\n",
        "2014-11-01  4.601357\n",
        "2014-12-01  4.542387\n",
        "2015-01-01  4.405736\n",
        "\n",
        " ::  Correlation matrix:\n",
        "   Y\n",
        "Y  1"
       ]
      },
      {
       "output_type": "stream",
       "stream": "stdout",
       "text": [
        "\n"
       ]
      }
     ],
     "prompt_number": 16
    },
    {
     "cell_type": "markdown",
     "metadata": {},
     "source": [
      "During the second quarter of 2014, the velocity of the monetary base was at 4.4, its slowest pace on record. This means that every dollar in the monetary base was spent only 4.4 times in the economy, severely down from 17.2 times just prior to the Great Recession. \n",
      "\n",
      "This implies that the unprecedented monetary base increase driven by the Fed\u2019s large money injections through its large-scale [QE] asset purchase programs has failed to cause at least a one-for-one proportional increase in nominal GDP. Thus, **it is precisely the sharp decline in velocity that has offset the sharp increase in money supply, leading to the almost no change in nominal GDP** (either P or Q)."
     ]
    },
    {
     "cell_type": "code",
     "collapsed": false,
     "input": [
      "#  Okay, so let's look at nominal GDP:\n",
      "plotfred( G[recession:] )"
     ],
     "language": "python",
     "metadata": {},
     "outputs": [
      {
       "metadata": {},
       "output_type": "display_data",
       "png": "[encoded data removed]",
       "text": [
        "<matplotlib.figure.Figure at 0xb63ff48c>"
       ]
      }
     ],
     "prompt_number": 17
    },
    {
     "cell_type": "code",
     "collapsed": false,
     "input": [
      "#  Well, their research needs correction, for there's is indeed change in nominal GDP. \n",
      "\n",
      "georet( G[recession:], 12 )\n",
      "\n",
      "#  2015-03-22: about +2.8% per annum since 2007:"
     ],
     "language": "python",
     "metadata": {},
     "outputs": [
      {
       "metadata": {},
       "output_type": "pyout",
       "prompt_number": 18,
       "text": [
        "[2.73, 2.74, 0.92, 12]"
       ]
      }
     ],
     "prompt_number": 18
    },
    {
     "cell_type": "code",
     "collapsed": false,
     "input": [
      "#  So where is velocity heading in the next 12 months?\n",
      "holtfred( V, 12 )"
     ],
     "language": "python",
     "metadata": {},
     "outputs": [
      {
       "metadata": {},
       "output_type": "pyout",
       "prompt_number": 19,
       "text": [
        "    Forecast\n",
        "0   4.405736\n",
        "1   4.376337\n",
        "2   4.385083\n",
        "3   4.393830\n",
        "4   4.402577\n",
        "5   4.411323\n",
        "6   4.420070\n",
        "7   4.428816\n",
        "8   4.437563\n",
        "9   4.446309\n",
        "10  4.455056\n",
        "11  4.463802\n",
        "12  4.472549"
       ]
      }
     ],
     "prompt_number": 19
    },
    {
     "cell_type": "code",
     "collapsed": false,
     "input": [
      "#  If M and Q are held fixed, then the \n",
      "#  change in V should predict the change in P,\n",
      "#  i.e. the inflation rate:\n",
      "\n",
      "(3.87 / 4.38) - 1\n",
      "#  as of 2015-03-23 = -11.6% which is very deflationary, \n",
      "#  even given modest GDP growth. M probably will stabilize \n",
      "#  since QE has ceased."
     ],
     "language": "python",
     "metadata": {},
     "outputs": [
      {
       "metadata": {},
       "output_type": "pyout",
       "prompt_number": 20,
       "text": [
        "-0.11643835616438347"
       ]
      }
     ],
     "prompt_number": 20
    },
    {
     "cell_type": "markdown",
     "metadata": {},
     "source": [
      "## Near zero rates lead many to hoard money, thus the decline in velocity\n",
      "\n",
      "So why did the monetary base increase not cause a proportionate increase in either the general price level or GDP? The answer lies in the private sector\u2019s dramatic increase in their willingness to hoard money instead of spend it. **Why would people suddenly decide to hoard money instead of spending it?** A possible answer lies in the combination of two issues:\n",
      "\n",
      "- **A glooming economy after the financial crisis**\n",
      "    \n",
      "- **The dramatic decrease in interest rates (to zero) that has forced investors to readjust their portfolios toward liquid money and away from interest-bearing assets such as government bonds**\n",
      "\n",
      "In this regard, the unconventional monetary policy has reinforced the recession by stimulating the private sector\u2019s money demand through pursuing an excessively low interest rate policy (i.e., the zero-interest rate policy, ZIRP). Indeed, during the pre-recession period, for every 1 percentage point decrease in 10-year Treasury note interest rates, the velocity of the monetary base decreased 0.17 points, based on a linear regression model of the velocity onto interest rates. Since 10-year interest rates declined by about 0.5 percentage points between 2008 and 2013, the velocity of the monetary base should have decreased by about 0.085 points. But the actual velocity has gone down by 5.85 points, 69 times larger than predicted. This happened because *the nominal interest rate on short-term bonds has declined essentially to zero, and, in this case, **the best form of risk-free liquid asset is no longer the short-term government bonds, but money.** * \n",
      "\n",
      "*Notes:*\n",
      "\n",
      "- [Bond rates can be expected to drop *ceteris paribus* if economic transactions decline. But the numbers provided in the last paragraph need to be double-checked -- which we will do next. ]\n",
      "\n",
      "- [In a negative interest rate environment, there's even talk of starting ETFs which buys currency notes and stores them in a vault as an investment. Such notes can be considered as zero-coupon perpetual bearer bonds at 0%.] \n",
      "\n",
      "- [Since the Great Recession, qualification for credit has become extremely strict, which would of course diminish consumer spending. The financial instruments used to manage credit risk have become heavily regulated and discouraged under the Volker rule.]"
     ]
    },
    {
     "cell_type": "heading",
     "level": 1,
     "metadata": {},
     "source": [
      "Velocity as a function of bond rates?"
     ]
    },
    {
     "cell_type": "code",
     "collapsed": false,
     "input": [
      "#  We try replicate the findings above:\n",
      "bond = getfred( m4bond10 )\n",
      "#  Yields for 10-year Treasuries, resampled monthly."
     ],
     "language": "python",
     "metadata": {},
     "outputs": [],
     "prompt_number": 21
    },
    {
     "cell_type": "code",
     "collapsed": false,
     "input": [
      "#  Actual yields (not the model):\n",
      "plotfred( bond )"
     ],
     "language": "python",
     "metadata": {},
     "outputs": [
      {
       "metadata": {},
       "output_type": "display_data",
       "png": "[encoded data removed]",
       "text": [
        "<matplotlib.figure.Figure at 0xac1ecf8c>"
       ]
      }
     ],
     "prompt_number": 22
    },
    {
     "cell_type": "code",
     "collapsed": false,
     "input": [
      "#   First before the Great Recession:\n",
      "stat2( V['Y'][:recession], bond['Y'][:recession] )"
     ],
     "language": "python",
     "metadata": {},
     "outputs": [
      {
       "output_type": "stream",
       "stream": "stdout",
       "text": [
        " ::  FIRST variable:\n",
        "count    720.000000\n",
        "mean      16.372415\n",
        "std        3.738999\n",
        "min        7.212152\n",
        "25%       14.536636\n",
        "50%       16.976360\n",
        "75%       19.204933\n",
        "max       22.257864\n",
        "Name: Y, dtype: float64"
       ]
      },
      {
       "output_type": "stream",
       "stream": "stdout",
       "text": [
        "\n",
        "\n",
        " ::  SECOND variable:\n",
        "count    645.000000\n",
        "mean       6.496310\n",
        "std        2.693331\n",
        "min        2.290000\n",
        "25%        4.260000\n",
        "50%        6.110000\n",
        "75%        7.900000\n",
        "max       15.320000\n",
        "Name: Y, dtype: float64"
       ]
      },
      {
       "output_type": "stream",
       "stream": "stdout",
       "text": [
        "\n",
        "\n",
        " ::  CORRELATION\n",
        "0.900602164492\n",
        "\n",
        "-------------------------Summary of Regression Analysis-------------------------\n",
        "\n",
        "Formula: Y ~ <x> + <intercept>\n",
        "\n",
        "Number of Observations:         645\n",
        "Number of Degrees of Freedom:   2\n",
        "\n",
        "R-squared:         0.8111\n",
        "Adj R-squared:     0.8108\n",
        "\n",
        "Rmse:              1.2711\n",
        "\n",
        "F-stat (1, 643):  2760.6338, p-value:     0.0000\n",
        "\n",
        "Degrees of Freedom: model 1, resid 643\n",
        "\n",
        "-----------------------Summary of Estimated Coefficients------------------------\n",
        "      Variable       Coef    Std Err     t-stat    p-value    CI 2.5%   CI 97.5%\n",
        "--------------------------------------------------------------------------------\n",
        "             x     0.9771     0.0186      52.54     0.0000     0.9407     1.0136\n",
        "     intercept    10.8727     0.1308      83.14     0.0000    10.6164    11.1290\n",
        "---------------------------------End of Summary---------------------------------\n"
       ]
      },
      {
       "output_type": "stream",
       "stream": "stdout",
       "text": [
        "\n"
       ]
      }
     ],
     "prompt_number": 23
    },
    {
     "cell_type": "markdown",
     "metadata": {},
     "source": [
      "For 55 years before the Great Recession, there is nice relationship between bond rates and velocity ($R^2 = 0.80$). A 100 basis point change in yield translated to 0.97 velocity points. \n",
      "\n",
      "$ V = 0.97 B + 10.96 $\n",
      "\n",
      "The bond rate B can be approximated as follows (before QE):\n",
      "\n",
      "$ B \\approx (PQ/M) - 10.72 $\n",
      "\n"
     ]
    },
    {
     "cell_type": "heading",
     "level": 2,
     "metadata": {},
     "source": [
      "Bond rates in terms of money supply and nominal GDP"
     ]
    },
    {
     "cell_type": "markdown",
     "metadata": {},
     "source": [
      "Now we can see how the ratio of nominal GDP to money supply influences bond rates.  "
     ]
    },
    {
     "cell_type": "code",
     "collapsed": false,
     "input": [
      "#  Recall that P*Q is our variable G for nominal GDP.\n",
      "bondmodel = todf((G / M) - 10.7242)\n",
      "\n",
      "#  We plot the DEVIATIONS for our bond rate model:\n",
      "#  (actual - model) through today.\n",
      "bonddev = todf( bond - bondmodel )\n",
      "\n",
      "plotfred( bonddev )"
     ],
     "language": "python",
     "metadata": {},
     "outputs": [
      {
       "metadata": {},
       "output_type": "display_data",
       "png": "[encoded data removed]",
       "text": [
        "<matplotlib.figure.Figure at 0xac21930c>"
       ]
      }
     ],
     "prompt_number": 24
    },
    {
     "cell_type": "code",
     "collapsed": false,
     "input": [
      "#  Let's plot the model itself, i.e. bond rate approximations:\n",
      "plotfred( bondmodel )"
     ],
     "language": "python",
     "metadata": {},
     "outputs": [
      {
       "metadata": {},
       "output_type": "display_data",
       "png": "[encoded data removed]",
       "text": [
        "<matplotlib.figure.Figure at 0xad2b19ac>"
       ]
      }
     ],
     "prompt_number": 25
    },
    {
     "cell_type": "code",
     "collapsed": false,
     "input": [
      "#  Deviations before the Great Recession\n",
      "bonddev[:recession].describe()"
     ],
     "language": "python",
     "metadata": {},
     "outputs": [
      {
       "metadata": {},
       "output_type": "pyout",
       "prompt_number": 26,
       "text": [
        "                Y\n",
        "count  645.000000\n",
        "mean    -0.000021\n",
        "std      1.271619\n",
        "min     -3.132862\n",
        "25%     -0.897922\n",
        "50%     -0.209418\n",
        "75%      0.805700\n",
        "max      3.839600"
       ]
      }
     ],
     "prompt_number": 26
    },
    {
     "cell_type": "markdown",
     "metadata": {},
     "source": [
      "**The bond rate model seems to work $\\pm$ 128 basis points per one standard deviation for almost six decades until the Great Recession wacks it out-of-order.** It was a very broad-stroke model anyways, not fine enough for trading bonds -- but adequate to show a definite change in interest rate regime.\n",
      "\n",
      "(The constant 10.7242 was adjusted until we got *zero mean* for bonddev before the Great Recession.)\n",
      "\n",
      "2015-03-23: The \"normal\" bond rate model estimates a 10-year Treasury rate 900 basis points *below* the current yield of +2%, i.e. a negative yield around -7%. This of course is due to the upward explosion in the monetary base M in a dampened inflation environment. (Notice the negative rates during the 1950's as projected by the the model.)\n",
      "\n",
      "*Next we look at the relationship since the Great Recession:*"
     ]
    },
    {
     "cell_type": "code",
     "collapsed": false,
     "input": [
      "#   Since the Great Recession:\n",
      "stat2( V['Y'][recession:], bond['Y'][recession:] )"
     ],
     "language": "python",
     "metadata": {},
     "outputs": [
      {
       "output_type": "stream",
       "stream": "stdout",
       "text": [
        " ::  FIRST variable:\n",
        "count    97.000000\n",
        "mean      8.673375\n",
        "std       4.627410\n",
        "min       4.304107\n",
        "25%       5.765366\n",
        "50%       6.857381\n",
        "75%       8.650080\n",
        "max      17.317375\n",
        "Name: Y, dtype: float64\n",
        "\n",
        " ::  SECOND variable:\n",
        "count    100.000000\n",
        "mean       2.988000\n",
        "std        0.913625\n",
        "min        1.530000\n",
        "25%        2.200000\n",
        "50%        2.840000\n",
        "75%        3.682500\n",
        "max        5.100000\n",
        "Name: Y, dtype: float64"
       ]
      },
      {
       "output_type": "stream",
       "stream": "stdout",
       "text": [
        "\n",
        "\n",
        " ::  CORRELATION\n",
        "0.790552012441\n",
        "\n",
        "-------------------------Summary of Regression Analysis-------------------------\n",
        "\n",
        "Formula: Y ~ <x> + <intercept>\n",
        "\n",
        "Number of Observations:         97\n",
        "Number of Degrees of Freedom:   2\n",
        "\n",
        "R-squared:         0.6250\n",
        "Adj R-squared:     0.6210\n",
        "\n",
        "Rmse:              2.8487\n",
        "\n",
        "F-stat (1, 95):   158.3147, p-value:     0.0000\n",
        "\n",
        "Degrees of Freedom: model 1, resid 95\n",
        "\n",
        "-----------------------Summary of Estimated Coefficients------------------------\n",
        "      Variable       Coef    Std Err     t-stat    p-value    CI 2.5%   CI 97.5%\n",
        "--------------------------------------------------------------------------------\n",
        "             x     4.0192     0.3194      12.58     0.0000     3.3931     4.6453\n",
        "     intercept    -3.4604     1.0068      -3.44     0.0009    -5.4337    -1.4871\n",
        "---------------------------------End of Summary---------------------------------\n"
       ]
      },
      {
       "output_type": "stream",
       "stream": "stdout",
       "text": [
        "\n"
       ]
      }
     ],
     "prompt_number": 27
    },
    {
     "cell_type": "markdown",
     "metadata": {},
     "source": [
      "2015-03-23: Since the Great Recession, the relationship between bond rates and velocity has deteriorated ($R^2 = 0.61$). A 100 basis point change in yield now translates to 4.00 velocity points -- which is about four times \"normal.\" But the relationship in this period is not very significant, and **also QE obviously distorted market yields for bonds**. "
     ]
    },
    {
     "cell_type": "heading",
     "level": 1,
     "metadata": {},
     "source": [
      "Alternative explanation for low inflation: the *liquidity trap*"
     ]
    },
    {
     "cell_type": "markdown",
     "metadata": {},
     "source": [
      "Conventionally, the expansion of the money supply will generate inflation as more money is chasing after the same amount of goods available. **During a liquidity trap, however, increases in money supply are fully absorbed by excess demand for money (liquidity); investors hoard the increased money instead of spending it because the opportunity cost of holding cash \u2014 the forgone earnings from interest \u2014 is zero when the nominal interest rate is zero.** *Even worse, if the increased money supply is through LSAPs on long-term debts (as is the case under QE), investors are prompted to further shift their portfolio holdings from interest-bearing assets to cash.*\n",
      "\n",
      "On one hand, if the increase in money demand is proportional to the increase in money supply, inflation remains stable. On the other hand, if money demand increases more than proportionally to the change in money supply due to the downward pressure LSAPs exert on the interest rate, the price level must fall to absorb the difference between the supply and demand of money. That is, *the increase in aggregate demand for real money balances then has to be accommodated by an overall decrease in the price level for any given money supply in the goods market. Therefore, the lower the interest rate through LSAPs, the lower the price level (due to the disproportionately higher money demand). The Fed's policy to pay positive interest rates on reserves can only reinforce the problem by making cash more attractive as a store of value.*\n",
      "\n",
      "Yi Wen showed in 2013 that large-scale asset purchases by the Fed could reduce the real interest rate by 2 percentage points, but would have an insignificant effect on aggregate employment and fixed capital investment, would reduce the aggregate price level significantly, and would put severe downward pressure on the inflation rate \u2014 thanks to firms' portfolio adjustments between cash and financial assets in a liquidity trap.\n",
      "\n",
      "### Risks of Declining Inflation\n",
      "\n",
      "Not only high inflation, but low inflation can be bad for the economy. Low inflation makes cash more attractive to investors as a store of value, everything else being equal. This makes the liquidity trap easier to occur and gives the Fed less room to reduce the real interest rate as desired during a recession. Furthermore, quantitative easing through LSAPs can reinforce the liquidity trap by further reducing the long-term interest rate. In other words, *more monetary injections during a liquidity trap can only reinforce the liquidity trap by keeping the inflation rate low* (or the real return to money high).\n",
      "\n",
      "Therefore, the correct monetary policy during a liquidity trap is not to further increase money supply or reduce the interest rate but to *raise inflation expectations by raising the nominal interest rate.* If LSAP policies are reversed and the money supply decreases as the Fed sells assets in the marketplace, the nominal interest rate will increase and investors will be more likely to shift their portfolios away from cash toward interest-bearing assets. If demand for money decreases more than proportional to the decrease in money supply due to upward pressure on the interest rate, inflation will increase. In other words, **only when financial assets become more attractive than cash can the aggregate price level increase.**\n",
      "\n"
     ]
    },
    {
     "cell_type": "markdown",
     "metadata": {},
     "source": [
      "*Notes*\n",
      "\n",
      "- [Keynesians have pointed to a major example of ineffectiveness of Fed's open market operations on managing the money supply during the Great Recession. Short-term interest rates went as low as they could go in nominal terms, but no more monetary stimulus could occur. This zero bound problem has been called the liquidity trap or *\"pushing on a string\"* (the pusher being the central bank and the string being the real economy).]"
     ]
    },
    {
     "cell_type": "code",
     "collapsed": false,
     "input": [
      "#  Flow has obviously shifted to equities (record highs), \n",
      "#  but let's look at the classic risk-free financial asset:\n",
      "#  90-day T-bills\n",
      "bills = getfred( m4bills )"
     ],
     "language": "python",
     "metadata": {},
     "outputs": [],
     "prompt_number": 28
    },
    {
     "cell_type": "code",
     "collapsed": false,
     "input": [
      "plotfred( bills[recession:] )"
     ],
     "language": "python",
     "metadata": {},
     "outputs": [
      {
       "metadata": {},
       "output_type": "display_data",
       "png": "[encoded data removed]",
       "text": [
        "<matplotlib.figure.Figure at 0xac9b86ec>"
       ]
      }
     ],
     "prompt_number": 29
    },
    {
     "cell_type": "code",
     "collapsed": false,
     "input": [
      "#  T-bill stats since 2010:\n",
      "stats(bills['2010':])"
     ],
     "language": "python",
     "metadata": {},
     "outputs": [
      {
       "output_type": "stream",
       "stream": "stdout",
       "text": [
        "               Y\n",
        "count  64.000000\n",
        "mean    0.070156\n",
        "std     0.046067\n",
        "min     0.010000\n",
        "25%     0.030000\n",
        "50%     0.060000\n",
        "75%     0.100000\n",
        "max     0.160000\n",
        "\n",
        " ::  Index on min:\n",
        "Y   2011-09-01\n",
        "dtype: datetime64[ns]\n",
        "\n",
        " ::  Index on max:\n",
        "Y   2010-04-01\n",
        "dtype: datetime64[ns]\n",
        "\n",
        " ::  Head:\n",
        "               Y\n",
        "T               \n",
        "2010-01-01  0.06\n",
        "2010-02-01  0.11\n",
        "2010-03-01  0.15\n",
        "2010-04-01  0.16\n",
        "2010-05-01  0.16\n",
        "2010-06-01  0.12\n",
        "2010-07-01  0.16\n",
        "\n",
        " ::  Tail:\n",
        "               Y\n",
        "T               \n",
        "2014-10-01  0.02\n",
        "2014-11-01  0.02\n",
        "2014-12-01  0.03\n",
        "2015-01-01  0.03\n",
        "2015-02-01  0.02\n",
        "2015-03-01  0.03\n",
        "2015-04-01  0.02"
       ]
      },
      {
       "output_type": "stream",
       "stream": "stdout",
       "text": [
        "\n",
        "\n",
        " ::  Correlation matrix:\n",
        "   Y\n",
        "Y  1\n"
       ]
      }
     ],
     "prompt_number": 30
    },
    {
     "cell_type": "markdown",
     "metadata": {},
     "source": [
      "2015-03-22: The annual average return for Treasury bills since 2010 is a mere 7 basis points. (So \\$100,000 only yields \\$70 annually -- and, any reasonable fees would certainly wipe out interest income!)"
     ]
    },
    {
     "cell_type": "heading",
     "level": 2,
     "metadata": {},
     "source": [
      "Concluding remarks"
     ]
    },
    {
     "cell_type": "markdown",
     "metadata": {},
     "source": [
      "Of course, this type of *policy-reinforced liquidity trap would take place only if the economy is in a deep recession in the first place. If the economy is not in a recession, monetary injections should lead to more inflation instead of less inflation because a lower interest rate generally reduces people's incentive to save and increases their incentive to spend.*\n",
      "\n",
      "The irony is that expansionary monetary policy is often called for only when the economy is in a recession. This policy dilemma makes economics a dismal science. One way to escape from it is to use expansionary fiscal policy (as suggested by the economist John Maynard Keynes). However, with the already high level of government debt across industrial countries, it takes courage and vision to implement bold expansionary fiscal policies."
     ]
    },
    {
     "cell_type": "heading",
     "level": 2,
     "metadata": {},
     "source": [
      "Addendum"
     ]
    },
    {
     "cell_type": "markdown",
     "metadata": {},
     "source": [
      "- **On 29 October 2014, the Federal Reserve announced it would stop its sprawling six-year-old stimulus program, known as quantitative easing (a.k.a. QE or LSAP).** The Fed\u2019s balance sheet was under \\$1 trillion when it started buying bonds through QE -- currently its balance sheet is over \\$4 trillion. To get back to \"normal,\" the Fed will need find an orderly way to sell lots of bonds (without market panic). "
     ]
    }
   ],
   "metadata": {}
  }
 ]
}