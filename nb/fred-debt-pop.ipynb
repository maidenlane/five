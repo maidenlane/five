{
 "cells": [
  {
   "cell_type": "markdown",
   "metadata": {},
   "source": [
    "## Growth of Federal debt and its burden on the US population\n",
    "\n",
    "We examine government debt in real (inflation-adjusted) terms, \n",
    "and the current Federal debt per capita in the United States.\n",
    "\n",
    "As of 2017Q2:\n",
    "\n",
    "- Federal debt is \\$61,480 per American (including children and seniors).\n",
    "- Federal debt is \\$99,170 per worker (excluding the unemployed).\n",
    "- Average maturity of Treasury bonds is 5.73 years.\n",
    "- Interest rate on Federal debt is approximately 2.15%.\n",
    "\n",
    "Government debt per capita will more than double over 14 years \n",
    "in real terms, given current annualized geometric mean rate of +5.13%.\n",
    "\n",
    "---\n",
    "\n",
    "Shortcut to this notebook: https://git.io/debtpop"
   ]
  },
  {
   "cell_type": "markdown",
   "metadata": {},
   "source": [
    "*Dependencies:*\n",
    "\n",
    "- Repository: https://github.com/rsvp/fecon235\n",
    "     \n",
    "*CHANGE LOG*\n",
    "\n",
    "    2017-11-14  Appendix 1: Average Maturity of Treasury Bonds\n",
    "    2017-11-13  Update preamble to p6.15.1223d and the data, esp. for CSC 223.\n",
    "    2015-01-16  Code review.\n",
    "    2014-08-16  First version."
   ]
  },
  {
   "cell_type": "code",
   "execution_count": 1,
   "metadata": {
    "collapsed": false
   },
   "outputs": [],
   "source": [
    "from fecon235.fecon235 import *"
   ]
  },
  {
   "cell_type": "code",
   "execution_count": 2,
   "metadata": {
    "collapsed": false
   },
   "outputs": [
    {
     "name": "stdout",
     "output_type": "stream",
     "text": [
      " ::  Python 2.7.13\n",
      " ::  IPython 5.1.0\n",
      " ::  jupyter_core 4.2.1\n",
      " ::  notebook 4.1.0\n",
      " ::  matplotlib 1.5.1\n",
      " ::  numpy 1.11.0\n",
      " ::  scipy 0.17.0\n",
      " ::  sympy 1.0\n",
      " ::  pandas 0.19.2\n",
      " ::  pandas_datareader 0.2.1\n",
      " ::  Repository: fecon235 v5.17.0722 develop\n",
      " ::  Timestamp: 2017-11-14T15:42:52Z\n",
      " ::  $pwd: /media/yaya/virt15h/virt/dbx/Dropbox/ipy/fecon235/nb\n"
     ]
    }
   ],
   "source": [
    "#  PREAMBLE-p6.15.1223d :: Settings and system details\n",
    "from __future__ import absolute_import, print_function, division\n",
    "system.specs()\n",
    "pwd = system.getpwd()   # present working directory as variable.\n",
    "print(\" ::  $pwd:\", pwd)\n",
    "#  If a module is modified, automatically reload it:\n",
    "%load_ext autoreload\n",
    "%autoreload 2\n",
    "#       Use 0 to disable this feature.\n",
    "\n",
    "#  Notebook DISPLAY options:\n",
    "#      Represent pandas DataFrames as text; not HTML representation:\n",
    "import pandas as pd\n",
    "pd.set_option( 'display.notebook_repr_html', False )\n",
    "from IPython.display import HTML # useful for snippets\n",
    "#  e.g. HTML('<iframe src=http://en.mobile.wikipedia.org/?useformat=mobile width=700 height=350></iframe>')\n",
    "from IPython.display import Image \n",
    "#  e.g. Image(filename='holt-winters-equations.png', embed=True) # url= also works\n",
    "from IPython.display import YouTubeVideo\n",
    "#  e.g. YouTubeVideo('1j_HxD4iLn8', start='43', width=600, height=400)\n",
    "from IPython.core import page\n",
    "get_ipython().set_hook('show_in_pager', page.as_hook(page.display_page), 0)\n",
    "#  Or equivalently in config file: \"InteractiveShell.display_page = True\", \n",
    "#  which will display results in secondary notebook pager frame in a cell.\n",
    "\n",
    "#  Generate PLOTS inside notebook, \"inline\" generates static png:\n",
    "%matplotlib inline   \n",
    "#          \"notebook\" argument allows interactive zoom and resize."
   ]
  },
  {
   "cell_type": "markdown",
   "metadata": {},
   "source": [
    "### Retrieving the data\n",
    "\n",
    "The source of the data is FRED which is a public server \n",
    "operated by the Federal Reserve Bank of St. Louis.\n",
    "\n",
    "Details on the individual series are covered in our Python module: \n",
    "[yi_fred.py](https://github.com/rsvp/fecon235/blob/master/lib/yi_fred.py) \n",
    "and it also explains useful transformations on raw data \n",
    "for financial economics. "
   ]
  },
  {
   "cell_type": "code",
   "execution_count": 3,
   "metadata": {
    "collapsed": false
   },
   "outputs": [],
   "source": [
    "#  Federal debt monthly (resampled from original quarterly series):\n",
    "debt = get( m4debt )"
   ]
  },
  {
   "cell_type": "code",
   "execution_count": 4,
   "metadata": {
    "collapsed": false
   },
   "outputs": [
    {
     "data": {
      "text/plain": [
       "                     Y\n",
       "T                     \n",
       "2016-10-01  19976827.0\n",
       "2016-11-01  19933358.0\n",
       "2016-12-01  19889889.0\n",
       "2017-01-01  19846420.0\n",
       "2017-02-01  19845798.0\n",
       "2017-03-01  19845176.0\n",
       "2017-04-01  19844554.0"
      ]
     },
     "execution_count": 4,
     "metadata": {},
     "output_type": "execute_result"
    }
   ],
   "source": [
    "#  See just the tail end of the debt time-series:\n",
    "tail( debt )"
   ]
  },
  {
   "cell_type": "code",
   "execution_count": 5,
   "metadata": {
    "collapsed": false
   },
   "outputs": [
    {
     "data": {
      "image/png": "[encoded data removed]",
      "text/plain": [
       "<matplotlib.figure.Figure at 0xa9b6516c>"
      ]
     },
     "metadata": {},
     "output_type": "display_data"
    }
   ],
   "source": [
    "plot( debt )\n",
    "#  This series is denominated in millions of dollars,\n",
    "#  so we are looking at Federal debt around \n",
    "#  1.8 * 10^7 * 10^6 = $18 trillion circa 2014Q3.\n",
    "#  tail() indicates $19.84 trillion circa 2017Q2."
   ]
  },
  {
   "cell_type": "code",
   "execution_count": 6,
   "metadata": {
    "collapsed": false
   },
   "outputs": [],
   "source": [
    "#  Deflator is an aggregated monthly time-series,\n",
    "#  derived from core and headline versions of both CPI and PCE, \n",
    "#  normalized to 1 at the most current point:\n",
    "defl = get( m4defl )"
   ]
  },
  {
   "cell_type": "code",
   "execution_count": 7,
   "metadata": {
    "collapsed": false
   },
   "outputs": [
    {
     "data": {
      "text/plain": [
       "                   Y\n",
       "T                   \n",
       "2017-03-01  1.008585\n",
       "2017-04-01  1.006966\n",
       "2017-05-01  1.007095\n",
       "2017-06-01  1.006415\n",
       "2017-07-01  1.005338\n",
       "2017-08-01  1.002943\n",
       "2017-09-01  1.000000"
      ]
     },
     "execution_count": 7,
     "metadata": {},
     "output_type": "execute_result"
    }
   ],
   "source": [
    "tail( defl )"
   ]
  },
  {
   "cell_type": "code",
   "execution_count": 8,
   "metadata": {
    "collapsed": false
   },
   "outputs": [],
   "source": [
    "#  Real debt is defined by...\n",
    "rdebt = todf( defl * debt )\n",
    "#  ... in terms of _current_ dollars.\n",
    "\n",
    "#  Pandas will align the timestamps between the two series \n",
    "#  to correctly perform the multiplication."
   ]
  },
  {
   "cell_type": "code",
   "execution_count": 9,
   "metadata": {
    "collapsed": false
   },
   "outputs": [
    {
     "data": {
      "image/png": "[encoded data removed]",
      "text/plain": [
       "<matplotlib.figure.Figure at 0xa831436c>"
      ]
     },
     "metadata": {},
     "output_type": "display_data"
    }
   ],
   "source": [
    "#  Plot real debt:\n",
    "plot( rdebt )"
   ]
  },
  {
   "cell_type": "code",
   "execution_count": 10,
   "metadata": {
    "collapsed": false
   },
   "outputs": [],
   "source": [
    "#  Total population of the USA:\n",
    "pop = get( m4pop )"
   ]
  },
  {
   "cell_type": "code",
   "execution_count": 11,
   "metadata": {
    "collapsed": false
   },
   "outputs": [],
   "source": [
    "#  Real debt per capita:\n",
    "rdebtcap = todf( rdebt / pop )"
   ]
  },
  {
   "cell_type": "code",
   "execution_count": 12,
   "metadata": {
    "collapsed": false
   },
   "outputs": [
    {
     "data": {
      "image/png": "[encoded data removed]",
      "text/plain": [
       "<matplotlib.figure.Figure at 0xa825896c>"
      ]
     },
     "metadata": {},
     "output_type": "display_data"
    }
   ],
   "source": [
    "#  Plot real debt per American...\n",
    "plot( rdebtcap )\n",
    "#  ... shown in thousands of dollars."
   ]
  },
  {
   "cell_type": "markdown",
   "metadata": {},
   "source": [
    "***In current dollars***, each American (including children and seniors) \n",
    "incurred Federal debt of around \\$10,000 before the 1980s. \n",
    "Then there is a steady climb to around \\$35,000 in 2008. \n",
    "Thereafter, it is seen **rocketing** (more than doubling since 2002) \n",
    "to over $60,000. "
   ]
  },
  {
   "cell_type": "markdown",
   "metadata": {},
   "source": [
    "### Computing geometric mean rates\n",
    "\n",
    "Here we use a feature of the pandas DataFrame, \n",
    "called *index slicing*, to study different regimes."
   ]
  },
  {
   "cell_type": "code",
   "execution_count": 13,
   "metadata": {
    "collapsed": false
   },
   "outputs": [],
   "source": [
    "##  What does gemrat() compute?\n",
    "##  [geometric mean rate, arithmetic mean rate, volatility, \n",
    "##   kurtosis, yearly factor for annualization, sample size]\n",
    "\n",
    "#  gemrat??  # Uncomment to inspect the function."
   ]
  },
  {
   "cell_type": "code",
   "execution_count": 14,
   "metadata": {
    "collapsed": false
   },
   "outputs": [
    {
     "data": {
      "text/plain": [
       "[2.592800173927734,\n",
       " 2.6088053152349113,\n",
       " 1.8119127705741984,\n",
       " 3.4485312228497524,\n",
       " 12,\n",
       " 432]"
      ]
     },
     "execution_count": 14,
     "metadata": {},
     "output_type": "execute_result"
    }
   ],
   "source": [
    "gemrat( rdebtcap[:'2002-01-01'], yearly=12 )"
   ]
  },
  {
   "cell_type": "code",
   "execution_count": 15,
   "metadata": {
    "collapsed": false
   },
   "outputs": [
    {
     "data": {
      "text/plain": [
       "[5.129853393980599,\n",
       " 5.1435435778879377,\n",
       " 1.6962579494616916,\n",
       " 4.7146215771006936,\n",
       " 12,\n",
       " 183]"
      ]
     },
     "execution_count": 15,
     "metadata": {},
     "output_type": "execute_result"
    }
   ],
   "source": [
    "gemrat( rdebtcap['2002-01-01':], yearly=12 )"
   ]
  },
  {
   "cell_type": "markdown",
   "metadata": {},
   "source": [
    "Through 2002, the *geometric* growth rate of real debt per capita was +2.59%. \n",
    "Since 2002, that rate has increased to +5.13% per annum. \n",
    "\n",
    "(The underlying series is also becoming increasingly leptokurtotic \n",
    "since Pearson kurtosis should be 3 for a Gaussian.)"
   ]
  },
  {
   "cell_type": "code",
   "execution_count": 16,
   "metadata": {
    "collapsed": false
   },
   "outputs": [
    {
     "data": {
      "text/plain": [
       "2.014527971014615"
      ]
     },
     "execution_count": 16,
     "metadata": {},
     "output_type": "execute_result"
    }
   ],
   "source": [
    "#  To confirm doubling over 14 years at the geometric rate of 5.13% per annum:\n",
    "1.0513 ** 14"
   ]
  },
  {
   "cell_type": "markdown",
   "metadata": {},
   "source": [
    "**Government debt per capita will more than double over 14 years \n",
    "in real terms, given current annualized geometric mean rate of +5.13%.**"
   ]
  },
  {
   "cell_type": "markdown",
   "metadata": {},
   "source": [
    "### Federal debt is currently \\$61,480 per capita. "
   ]
  },
  {
   "cell_type": "code",
   "execution_count": 17,
   "metadata": {
    "collapsed": false
   },
   "outputs": [
    {
     "data": {
      "text/plain": [
       "                    Y\n",
       "T                    \n",
       "2016-10-01  62.598000\n",
       "2016-11-01  62.347526\n",
       "2016-12-01  62.054464\n",
       "2017-01-01  61.646121\n",
       "2017-02-01  61.523670\n",
       "2017-03-01  61.616266\n",
       "2017-04-01  61.484023"
      ]
     },
     "execution_count": 17,
     "metadata": {},
     "output_type": "execute_result"
    }
   ],
   "source": [
    "#  Most recent:\n",
    "tail( rdebtcap )"
   ]
  },
  {
   "cell_type": "code",
   "execution_count": 18,
   "metadata": {
    "collapsed": false
   },
   "outputs": [
    {
     "data": {
      "text/plain": [
       "99.16777878148672"
      ]
     },
     "execution_count": 18,
     "metadata": {},
     "output_type": "execute_result"
    }
   ],
   "source": [
    "#  Prorate to only WORKERS:\n",
    "tailvalue(rdebtcap) / 0.62"
   ]
  },
  {
   "cell_type": "markdown",
   "metadata": {},
   "source": [
    "Assuming 62% of the population are workers, see \n",
    "[fred-gdp-wage.ipynb](https://git.io/gdpwage), \n",
    "**each worker carries approximately $99,170 of Federal debt**. \n",
    "That figure is equivalent to more than two years of average wage income. "
   ]
  },
  {
   "cell_type": "markdown",
   "metadata": {},
   "source": [
    "---\n",
    "\n",
    "### Appendix 1: Average Maturity of Treasury Bonds\n",
    "\n",
    "The US government debt is securitized by Treasury Bills and Bonds \n",
    "which are issued at various maturities.\n",
    "The weighted average maturity *statistically* summarizes \n",
    "the \"due date\" on which the principal must be repaid, \n",
    "and it can serve to estimate a single interest rate \n",
    "on the US debt (see Treasury yield curve).\n",
    "Of course, new Treasury obligations are periodically\n",
    "issued which rolls over the US government debt into the future."
   ]
  },
  {
   "cell_type": "code",
   "execution_count": 19,
   "metadata": {
    "collapsed": true
   },
   "outputs": [],
   "source": [
    "#  Get weighted average maturity of \n",
    "#  \"Total Outstanding Treasury Marketable Securities\",\n",
    "#  monthly time-series from the US Treasury, \n",
    "#             via Quandl code:\n",
    "avmat = get( 'USTREASURY/AVMAT' )\n",
    "#  ... expressed in number of months."
   ]
  },
  {
   "cell_type": "code",
   "execution_count": 20,
   "metadata": {
    "collapsed": false
   },
   "outputs": [
    {
     "data": {
      "text/plain": [
       "                    Y\n",
       "T                    \n",
       "2015-09-30  69.808297\n",
       "2015-10-31  70.000000\n",
       "2015-11-30  69.000000\n",
       "2015-12-31  69.000000\n",
       "2016-01-31  69.310000\n",
       "2016-02-29  69.000000\n",
       "2016-03-31  68.810000"
      ]
     },
     "execution_count": 20,
     "metadata": {},
     "output_type": "execute_result"
    }
   ],
   "source": [
    "#  Most recently available:\n",
    "tail( avmat )"
   ]
  },
  {
   "cell_type": "code",
   "execution_count": 21,
   "metadata": {
    "collapsed": false
   },
   "outputs": [
    {
     "data": {
      "text/plain": [
       "5.734166666666667"
      ]
     },
     "execution_count": 21,
     "metadata": {},
     "output_type": "execute_result"
    }
   ],
   "source": [
    "#  Just the LATEST avmat, expressed in YEARS:\n",
    "tailvalue(avmat) / 12."
   ]
  },
  {
   "cell_type": "markdown",
   "metadata": {},
   "source": [
    "[WSJ Treasury quotes](http://www.wsj.com/mdc/public/page/2_3020-treasury.html?mod=mdc_bnd_pglnk)\n",
    "provides the following:\n",
    "\n",
    "```\n",
    "Maturity       Coupon     Yield\n",
    "1/31/2023      1.750      2.117\n",
    "2/15/2023      2.000      2.117\n",
    "2/15/2023      7.125      2.090\n",
    "2/28/2023      1.500      2.122\n",
    "3/31/2023      1.500      2.132\n",
    "4/30/2023      1.625      2.141\n",
    "5/15/2023      1.750      2.146\n",
    "5/31/2023      1.625      2.151\n",
    "6/30/2023      1.375      2.159\n",
    "7/31/2023      1.250      2.162\n",
    "8/15/2023      2.500      2.154\n",
    "8/15/2023      6.250      2.132\n",
    "8/31/2023      1.375      2.164\n",
    "9/30/2023      1.375      2.176\n",
    "10/31/2023     1.625      2.177\n",
    "11/15/2023     2.750      2.177\n",
    "11/30/2023     2.125      2.182\n",
    "12/31/2023     2.250      2.199\n",
    "```\n",
    "\n",
    "So we can estimate the **interest rate on the US debt\n",
    "to be approximately 2.15%.**\n",
    "\n",
    "The typical American worker thus implicitly \n",
    "owes \\$2,130 per year just in interest expenses \n",
    "(on principal amount of \\$99,170)\n",
    "to maintain the national debt."
   ]
  }
 ],
 "metadata": {
  "kernelspec": {
   "display_name": "Python 2",
   "language": "python",
   "name": "python2"
  },
  "language_info": {
   "codemirror_mode": {
    "name": "ipython",
    "version": 2
   },
   "file_extension": ".py",
   "mimetype": "text/x-python",
   "name": "python",
   "nbconvert_exporter": "python",
   "pygments_lexer": "ipython2",
   "version": "2.7.13"
  }
 },
 "nbformat": 4,
 "nbformat_minor": 0
}
