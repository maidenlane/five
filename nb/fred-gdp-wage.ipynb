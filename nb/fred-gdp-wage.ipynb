{
 "cells": [
  {
   "cell_type": "markdown",
   "metadata": {},
   "source": [
    "## U.S. GDP vs. Wage Income\n",
    "\n",
    "### For every wage dollar paid, what is GDP output?\n",
    "\n",
    "- Each worker on average currently contributes over \n",
    "  90,000 dollars annually of goods and services valued as GDP.\n",
    "  \n",
    "- Each worker on average currently earns about \n",
    "  43,300 dollars annually (steadily up from 35,000 since the 1990's).\n",
    "  \n",
    "- So one dollar in paid wages currently yields \n",
    "  2.23 dollars of products and services -- \n",
    "  but that multiplier is not a constant historically.\n",
    "\n",
    "### What can we say about GDP growth by observing wage growth?\n",
    "\n",
    "We find the assumption of time-invariant multiplier \n",
    "gives poor results, whereas we obtain a reasonable \n",
    "regression fit (Appendix 3) by treating the multiplier as \n",
    "time-variant (workers are increasingly more productive):\n",
    "\n",
    "$\\%(G) \\approx 1.3 * \\%(m w)$\n",
    "\n",
    "In contrast, our *local numerical approximation* \n",
    "derived in the conclusion suggests using the most \n",
    "recent estimated parameters: \n",
    "\n",
    "$\\%(G) \\approx 1.9 * \\%(w)$\n",
    "\n",
    "So roughly speaking, 1.0% wage growth equates to 1.9% GDP growth \n",
    "(yet data shows real wages can decline substantially due to the economy).\n",
    "\n",
    "The abuse of notation is due to the fact that \n",
    "our observations are not in continuous-time, \n",
    "but rather in interpolated discrete-time \n",
    "and in (non-logarithmic) percentage terms.\n",
    "\n",
    "\n",
    "Short URL: https://git.io/gdpwage"
   ]
  },
  {
   "cell_type": "markdown",
   "metadata": {},
   "source": [
    "*Dependencies:*\n",
    "\n",
    "- Repository: https://github.com/rsvp/fecon235\n",
    "- Python: matplotlib, pandas\n",
    "     \n",
    "*CHANGE LOG*\n",
    "\n",
    "    2016-11-10  Revisit after two years. Use PREAMBLE-p6.16.0428.\n",
    "                   Update results with newly estimated parameters.\n",
    "                   This notebook should run under Python 2.7 or 3.\n",
    "                   Appendix 3 modified to reflect trend fit of multiplier.\n",
    "    2014-12-07  Update code and commentary.\n",
    "    2014-08-15  First version."
   ]
  },
  {
   "cell_type": "code",
   "execution_count": 1,
   "metadata": {
    "collapsed": false
   },
   "outputs": [],
   "source": [
    "from fecon235.fecon235 import *"
   ]
  },
  {
   "cell_type": "code",
   "execution_count": 2,
   "metadata": {
    "collapsed": false
   },
   "outputs": [
    {
     "name": "stdout",
     "output_type": "stream",
     "text": [
      " ::  Python 2.7.11\n",
      " ::  IPython 4.2.0\n",
      " ::  jupyter_core 4.1.0\n",
      " ::  notebook 4.1.0\n",
      " ::  matplotlib 1.5.1\n",
      " ::  numpy 1.10.4\n",
      " ::  pandas 0.18.0\n",
      " ::  pandas_datareader 0.2.1\n",
      " ::  Repository: fecon235 v5.16.1107 develop\n",
      " ::  Timestamp: 2016-11-11, 02:48:07 UTC\n",
      " ::  $pwd: /media/yaya/virt15h/virt/dbx/Dropbox/ipy/fecon235/nb\n"
     ]
    }
   ],
   "source": [
    "#  PREAMBLE-p6.16.0428 :: Settings and system details\n",
    "from __future__ import absolute_import, print_function\n",
    "system.specs()\n",
    "pwd = system.getpwd()   # present working directory as variable.\n",
    "print(\" ::  $pwd:\", pwd)\n",
    "#  If a module is modified, automatically reload it:\n",
    "%load_ext autoreload\n",
    "%autoreload 2\n",
    "#       Use 0 to disable this feature.\n",
    "\n",
    "#  Notebook DISPLAY options:\n",
    "#      Represent pandas DataFrames as text; not HTML representation:\n",
    "import pandas as pd\n",
    "pd.set_option( 'display.notebook_repr_html', False )\n",
    "from IPython.display import HTML # useful for snippets\n",
    "#  e.g. HTML('<iframe src=http://en.mobile.wikipedia.org/?useformat=mobile width=700 height=350></iframe>')\n",
    "from IPython.display import Image \n",
    "#  e.g. Image(filename='holt-winters-equations.png', embed=True) # url= also works\n",
    "from IPython.display import YouTubeVideo\n",
    "#  e.g. YouTubeVideo('1j_HxD4iLn8', start='43', width=600, height=400)\n",
    "from IPython.core import page\n",
    "get_ipython().set_hook('show_in_pager', page.as_hook(page.display_page), 0)\n",
    "#  Or equivalently in config file: \"InteractiveShell.display_page = True\", \n",
    "#  which will display results in secondary notebook pager frame in a cell.\n",
    "\n",
    "#  Generate PLOTS inside notebook, \"inline\" generates static png:\n",
    "%matplotlib inline   \n",
    "#          \"notebook\" argument allows interactive zoom and resize."
   ]
  },
  {
   "cell_type": "markdown",
   "metadata": {},
   "source": [
    "## Examine U.S. population statistics"
   ]
  },
  {
   "cell_type": "code",
   "execution_count": 3,
   "metadata": {
    "collapsed": false
   },
   "outputs": [],
   "source": [
    "#  Total US population in millions, released monthly:\n",
    "pop = get( m4pop ) / 1000.0"
   ]
  },
  {
   "cell_type": "code",
   "execution_count": 4,
   "metadata": {
    "collapsed": false
   },
   "outputs": [
    {
     "data": {
      "image/png": "[encoded data removed]",
      "text/plain": [
       "<matplotlib.figure.Figure at 0xab09698c>"
      ]
     },
     "metadata": {},
     "output_type": "display_data"
    }
   ],
   "source": [
    "plot( pop )"
   ]
  },
  {
   "cell_type": "code",
   "execution_count": 5,
   "metadata": {
    "collapsed": false
   },
   "outputs": [
    {
     "data": {
      "text/plain": [
       "[1.13, 1.13, 0.09, 12, 780, '1952-01-01', '2016-12-01']"
      ]
     },
     "execution_count": 5,
     "metadata": {},
     "output_type": "execute_result"
    }
   ],
   "source": [
    "georet( pop, 12 )"
   ]
  },
  {
   "cell_type": "markdown",
   "metadata": {},
   "source": [
    "This gives the annualized geometric growth rate of about 1.13%, \n",
    "but one might also look at fertility rates which supports the population, \n",
    "e.g. 2.1 children per female will ensure growth \n",
    "(cf. fertility rates in Japan which has been declining over the decades)."
   ]
  },
  {
   "cell_type": "code",
   "execution_count": 6,
   "metadata": {
    "collapsed": false
   },
   "outputs": [],
   "source": [
    "#  Fraction of population which works:\n",
    "emppop = get( m4emppop ) / 100.0"
   ]
  },
  {
   "cell_type": "markdown",
   "metadata": {},
   "source": [
    "Workers would be employed adults, which presumably exclude children \n",
    "(20% of pop) and most elderly persons (14% of pop). \n",
    "There is a dramatic drop in working% from about 64% in 2001 \n",
    "to about 59% recently."
   ]
  },
  {
   "cell_type": "code",
   "execution_count": 7,
   "metadata": {
    "collapsed": false
   },
   "outputs": [
    {
     "data": {
      "image/png": "[encoded data removed]",
      "text/plain": [
       "<matplotlib.figure.Figure at 0xa9821e6c>"
      ]
     },
     "metadata": {},
     "output_type": "display_data"
    }
   ],
   "source": [
    "plot( emppop )"
   ]
  },
  {
   "cell_type": "code",
   "execution_count": 8,
   "metadata": {
    "collapsed": false
   },
   "outputs": [],
   "source": [
    "#  Total US workers in millions:\n",
    "workers = todf( pop * emppop )"
   ]
  },
  {
   "cell_type": "code",
   "execution_count": 9,
   "metadata": {
    "collapsed": false
   },
   "outputs": [
    {
     "data": {
      "image/png": "[encoded data removed]",
      "text/plain": [
       "<matplotlib.figure.Figure at 0xa97808ac>"
      ]
     },
     "metadata": {},
     "output_type": "display_data"
    }
   ],
   "source": [
    "plot( workers )"
   ]
  },
  {
   "cell_type": "code",
   "execution_count": 10,
   "metadata": {
    "collapsed": false
   },
   "outputs": [
    {
     "data": {
      "text/plain": [
       "[1.18, 1.19, 1.16, 12, 778, '1952-01-01', '2016-10-01']"
      ]
     },
     "execution_count": 10,
     "metadata": {},
     "output_type": "execute_result"
    }
   ],
   "source": [
    "georet( workers, 12 )"
   ]
  },
  {
   "cell_type": "code",
   "execution_count": 11,
   "metadata": {
    "collapsed": false
   },
   "outputs": [
    {
     "data": {
      "text/plain": [
       "                     Y\n",
       "T                     \n",
       "2016-04-01  193.131888\n",
       "2016-05-01  193.247109\n",
       "2016-06-01  193.050956\n",
       "2016-07-01  193.502625\n",
       "2016-08-01  193.645905\n",
       "2016-09-01  194.116182\n",
       "2016-10-01  193.931271"
      ]
     },
     "execution_count": 11,
     "metadata": {},
     "output_type": "execute_result"
    }
   ],
   "source": [
    "tail( workers )"
   ]
  },
  {
   "cell_type": "markdown",
   "metadata": {},
   "source": [
    "**Total population and the number of workers grow annually around 1.15% -- \n",
    "but the annualized volatility for workers is much larger than the \n",
    "total population (1.16% vs 0.09%). The decrease in workers due to the\n",
    "Great Recession is remarkably, and since that period there has \n",
    "been a steady increase north of 190 million workers.**"
   ]
  },
  {
   "cell_type": "markdown",
   "metadata": {},
   "source": [
    "## Examine U.S. Gross Domestic Product"
   ]
  },
  {
   "cell_type": "code",
   "execution_count": 12,
   "metadata": {
    "collapsed": false
   },
   "outputs": [],
   "source": [
    "#  Deflator, scaled to 1 current dollar:\n",
    "defl = get( m4defl )"
   ]
  },
  {
   "cell_type": "code",
   "execution_count": 13,
   "metadata": {
    "collapsed": false
   },
   "outputs": [],
   "source": [
    "#  Nominal GDP in billions:\n",
    "gdp = get( m4gdpus )\n",
    "#  The release cycle is quarterly, but we resample to monthly,\n",
    "#  in order to sync with the deflator.\n",
    "#  We do NOT use m4gdpusr directly because that is in 2009 dollars.\n",
    "\n",
    "#  Real GDP in current billions:\n",
    "gdpr = todf( defl * gdp )"
   ]
  },
  {
   "cell_type": "code",
   "execution_count": 14,
   "metadata": {
    "collapsed": false
   },
   "outputs": [
    {
     "data": {
      "text/plain": [
       "                       Y\n",
       "T                       \n",
       "2016-01-01  18500.467764\n",
       "2016-02-01  18546.746023\n",
       "2016-03-01  18589.942684\n",
       "2016-04-01  18594.323425\n",
       "2016-05-01  18626.808527\n",
       "2016-06-01  18667.648188\n",
       "2016-07-01  18723.722889"
      ]
     },
     "execution_count": 14,
     "metadata": {},
     "output_type": "execute_result"
    }
   ],
   "source": [
    "tail( gdpr )"
   ]
  },
  {
   "cell_type": "code",
   "execution_count": 15,
   "metadata": {
    "collapsed": false
   },
   "outputs": [
    {
     "data": {
      "image/png": "[encoded data removed]",
      "text/plain": [
       "<matplotlib.figure.Figure at 0xa97353ec>"
      ]
     },
     "metadata": {},
     "output_type": "display_data"
    }
   ],
   "source": [
    "#  Real GDP: showing rise from $4 trillion economy\n",
    "#  in the 1960's to nearly $19 trillion dollars.\n",
    "plot( gdpr )"
   ]
  },
  {
   "cell_type": "code",
   "execution_count": 16,
   "metadata": {
    "collapsed": false
   },
   "outputs": [
    {
     "data": {
      "text/plain": [
       "[2.82, 2.83, 1.07, 12, 691, '1959-01-01', '2016-07-01']"
      ]
     },
     "execution_count": 16,
     "metadata": {},
     "output_type": "execute_result"
    }
   ],
   "source": [
    "georet( gdpr, 12 )"
   ]
  },
  {
   "cell_type": "markdown",
   "metadata": {},
   "source": [
    "Real GDP geometric rate of growth is 2.8% per annum \n",
    "(presumably due to the working population). \n",
    "We could say that is the *natural growth rate* \n",
    "of the US economy."
   ]
  },
  {
   "cell_type": "markdown",
   "metadata": {},
   "source": [
    "### Real GDP per worker (NOT per capita)"
   ]
  },
  {
   "cell_type": "code",
   "execution_count": 17,
   "metadata": {
    "collapsed": false
   },
   "outputs": [],
   "source": [
    "#  Real GDP per worker -- NOT per capita:\n",
    "gdprworker = todf( gdpr / workers )"
   ]
  },
  {
   "cell_type": "code",
   "execution_count": 18,
   "metadata": {
    "collapsed": false
   },
   "outputs": [
    {
     "data": {
      "image/png": "[encoded data removed]",
      "text/plain": [
       "<matplotlib.figure.Figure at 0xa96afa0c>"
      ]
     },
     "metadata": {},
     "output_type": "display_data"
    }
   ],
   "source": [
    "plot( gdprworker )\n",
    "#  plotted in thousands of dollars"
   ]
  },
  {
   "cell_type": "markdown",
   "metadata": {},
   "source": [
    "**Chart shows each worker on average currently contributes \n",
    "over *90,000 dollars annually* \n",
    "of goods and services valued as GDP.**"
   ]
  },
  {
   "cell_type": "code",
   "execution_count": 19,
   "metadata": {
    "collapsed": false
   },
   "outputs": [
    {
     "data": {
      "text/plain": [
       "[1.64, 1.65, 1.36, 12, 691, '1959-01-01', '2016-07-01']"
      ]
     },
     "execution_count": 19,
     "metadata": {},
     "output_type": "execute_result"
    }
   ],
   "source": [
    "georet( gdprworker, 12 )"
   ]
  },
  {
   "cell_type": "markdown",
   "metadata": {},
   "source": [
    "Workers have generally been more *productive* since WW2, \n",
    "increasingly contributing to GDP at an annual pace of 1.6%."
   ]
  },
  {
   "cell_type": "markdown",
   "metadata": {},
   "source": [
    "## Examine wage income"
   ]
  },
  {
   "cell_type": "code",
   "execution_count": 20,
   "metadata": {
    "collapsed": false
   },
   "outputs": [],
   "source": [
    "#  Nominal annual INCOME, assuming 40 working hours per week, 50 weeks per year:\n",
    "inc = get( m4wage ) * 2000"
   ]
  },
  {
   "cell_type": "code",
   "execution_count": 21,
   "metadata": {
    "collapsed": false
   },
   "outputs": [],
   "source": [
    "#  REAL income in thousands per worker:\n",
    "rinc = todf((defl * inc) / 1000.0)"
   ]
  },
  {
   "cell_type": "code",
   "execution_count": 22,
   "metadata": {
    "collapsed": false
   },
   "outputs": [
    {
     "data": {
      "image/png": "[encoded data removed]",
      "text/plain": [
       "<matplotlib.figure.Figure at 0xa974b50c>"
      ]
     },
     "metadata": {},
     "output_type": "display_data"
    }
   ],
   "source": [
    "#  Income in thousands, current dollars per worker:\n",
    "plot( rinc )"
   ]
  },
  {
   "cell_type": "markdown",
   "metadata": {},
   "source": [
    "**INCOME chart shows each worker on average currently earns \n",
    "about *43,300 dollars annually* \n",
    "(steadily up from 35,000 since the 1990's).**"
   ]
  },
  {
   "cell_type": "code",
   "execution_count": 23,
   "metadata": {
    "collapsed": false
   },
   "outputs": [
    {
     "data": {
      "text/plain": [
       "                    Y\n",
       "T                    \n",
       "2016-03-01  43.256085\n",
       "2016-04-01  43.255503\n",
       "2016-05-01  43.214448\n",
       "2016-06-01  43.233339\n",
       "2016-07-01  43.347900\n",
       "2016-08-01  43.318762\n",
       "2016-09-01  43.360000"
      ]
     },
     "execution_count": 23,
     "metadata": {},
     "output_type": "execute_result"
    }
   ],
   "source": [
    "tail( rinc )"
   ]
  },
  {
   "cell_type": "code",
   "execution_count": 24,
   "metadata": {
    "collapsed": false
   },
   "outputs": [
    {
     "data": {
      "text/plain": [
       "[0.48, 0.48, 0.82, 12, 633, '1964-01-01', '2016-09-01']"
      ]
     },
     "execution_count": 24,
     "metadata": {},
     "output_type": "execute_result"
    }
   ],
   "source": [
    "georet( rinc, 12 )"
   ]
  },
  {
   "cell_type": "markdown",
   "metadata": {},
   "source": [
    "In general, real income does not always steadily go up, \n",
    "as the chart demonstrates. A stagnating economy with high inflation \n",
    "will wear away real wages.\n",
    "\n",
    "Since 1964, the geometric rate of real wage growth has been \n",
    "approximately 0.5% -- far less in comparison to the \n",
    "natural growth rate of the economy."
   ]
  },
  {
   "cell_type": "markdown",
   "metadata": {},
   "source": [
    "## How do wages multiply out to GDP?"
   ]
  },
  {
   "cell_type": "code",
   "execution_count": 25,
   "metadata": {
    "collapsed": false
   },
   "outputs": [],
   "source": [
    "#  Ratio of real GDP to real income per worker:\n",
    "gdpinc = todf( gdprworker / rinc )"
   ]
  },
  {
   "cell_type": "markdown",
   "metadata": {},
   "source": [
    "Implicitly our assumption is that workers earn wages at the \n",
    "nonfarm non-supervisory private-sector rate. \n",
    "This is not a bad assumption for our purposes, \n",
    "provided changes in labor rates are uniformly applied \n",
    "across other various categories since we are \n",
    "focusing on the multiplier effect."
   ]
  },
  {
   "cell_type": "code",
   "execution_count": 26,
   "metadata": {
    "collapsed": false
   },
   "outputs": [
    {
     "data": {
      "image/png": "[encoded data removed]",
      "text/plain": [
       "<matplotlib.figure.Figure at 0xa96e88cc>"
      ]
     },
     "metadata": {},
     "output_type": "display_data"
    }
   ],
   "source": [
    "plot( gdpinc )"
   ]
  },
  {
   "cell_type": "code",
   "execution_count": 27,
   "metadata": {
    "collapsed": false
   },
   "outputs": [
    {
     "data": {
      "text/plain": [
       "                   Y\n",
       "T                   \n",
       "2016-01-01  2.226120\n",
       "2016-02-01  2.222326\n",
       "2016-03-01  2.219059\n",
       "2016-04-01  2.225794\n",
       "2016-05-01  2.230470\n",
       "2016-06-01  2.236654\n",
       "2016-07-01  2.232221"
      ]
     },
     "execution_count": 27,
     "metadata": {},
     "output_type": "execute_result"
    }
   ],
   "source": [
    "tail( gdpinc )"
   ]
  },
  {
   "cell_type": "markdown",
   "metadata": {},
   "source": [
    "*The ratio of real GDP to real income per worker has increased \n",
    "from 1.4 in the 1970's to 2.2 recently.* \n",
    "(There is a noticeable temporary dip after the 2007 crisis.) \n",
    "\n",
    "**One dollar in paid wages currently \n",
    "yields 2.23 dollars of products and services.**  \n",
    "\n",
    "The time-series shows workers have become \n",
    "more productive in producing national wealth.\n",
    "\n",
    "Hypothesis: over the years, *technology* has exerted \n",
    "upward pressure on productivity, and downward pressure on wages. \n",
    "In other words, the slope of gdpinc is a function of \n",
    "technological advances. \n",
    "(Look for counterexamples in other countries.)"
   ]
  },
  {
   "cell_type": "code",
   "execution_count": 28,
   "metadata": {
    "collapsed": false
   },
   "outputs": [
    {
     "name": "stdout",
     "output_type": "stream",
     "text": [
      " ::  regresstime slope = 0.00171483954109\n"
     ]
    },
    {
     "data": {
      "image/png": "[encoded data removed]",
      "text/plain": [
       "<matplotlib.figure.Figure at 0xa9ac2aec>"
      ]
     },
     "metadata": {},
     "output_type": "display_data"
    }
   ],
   "source": [
    "#  Let's fit and plot the simplified time trend:\n",
    "gdpinc_trend = trend( gdpinc )\n",
    "#  The computed slope will be relative to one month.\n",
    "\n",
    "plot( gdpinc_trend )"
   ]
  },
  {
   "cell_type": "markdown",
   "metadata": {},
   "source": [
    "The estimated slope implies that each year adds 0.02 to gdpinc multiplier.\n",
    "\n",
    "Clearly, we can rule out a *constant* gdpinc multiplier effect.\n",
    "\n",
    "Rather than a straight line estimator, we can forecast \n",
    "the gdpinc multiplier using the Holt-Winters method, \n",
    "one year ahead, month-by-month..."
   ]
  },
  {
   "cell_type": "code",
   "execution_count": 29,
   "metadata": {
    "collapsed": false
   },
   "outputs": [
    {
     "data": {
      "text/plain": [
       "    Forecast\n",
       "0   2.232221\n",
       "1   2.222580\n",
       "2   2.220730\n",
       "3   2.218881\n",
       "4   2.217031\n",
       "5   2.215182\n",
       "6   2.213332\n",
       "7   2.211483\n",
       "8   2.209633\n",
       "9   2.207784\n",
       "10  2.205934\n",
       "11  2.204085\n",
       "12  2.202235"
      ]
     },
     "execution_count": 29,
     "metadata": {},
     "output_type": "execute_result"
    }
   ],
   "source": [
    "#  Holt-Winters monthly forecasts:\n",
    "holtfred( gdpinc, 12 )"
   ]
  },
  {
   "cell_type": "markdown",
   "metadata": {},
   "source": [
    "Interestingly, forecasting the local terrain is more complex \n",
    "than a global linear regression. \n",
    "The Holt-Winters forecast for mid-2017 shows a \n",
    "0.03 *decrease* in the gdpinc multiplier.\n",
    "\n",
    "If gdpinc multiplier is constant, then mathematically a \n",
    "x% change in wages would translate to a straightforward x% change in GDP. \n",
    "This is why the Fed Reserve, especially Janet Yellen, \n",
    "pays so much attention to wage growth. \n",
    "But our analysis clearly shows the multiplier is not stable.\n",
    "\n",
    "Linear regression between real GDP growth and real wage growth \n",
    "performs poorly when the multiplier is treated \n",
    "as if it is time-invariant (see Appendix 1)."
   ]
  },
  {
   "cell_type": "markdown",
   "metadata": {},
   "source": [
    "## CONCLUSION: Numerical approximation for GDP growth based on observations from wage growth"
   ]
  },
  {
   "cell_type": "markdown",
   "metadata": {},
   "source": [
    "We found evidence of a **time-variant multiplier** \n",
    "$m_t$ such that $G_t = m_t w_t$. \n",
    "Let us express GDP growth as the percentage change:\n",
    "\n",
    "$\\begin{aligned}\n",
    "\\frac{G_{t+1} - G_t}{G_t} = \\frac{m_{t+1} w_{t+1}}{m_t w_t} - 1\n",
    "\\end{aligned}$\n",
    "\n",
    "Notice that LHS is just the growth rate of $m_t w_t$. \n",
    "Abusing notation, we could write $\\%(G) = \\%(m w)$"
   ]
  },
  {
   "cell_type": "markdown",
   "metadata": {},
   "source": [
    "Empirically the multiplier varies linearly as a function of time. \n",
    "\n",
    "Let us evaluate the GDP growth numerically on the LHS, \n",
    "using the most recent multiplier and its expected linear incrementation, \n",
    "assuming wage increase of 1% *year-over-year*:\n",
    "\n",
    "$\\begin{aligned}\n",
    "(\\frac{2.23 + 0.02}{2.23}) {1.01} - 1 = 0.0191\n",
    "\\end{aligned}$\n",
    "\n",
    "Under such assumptions, GDP increases 1.91% over one year.\n",
    "\n",
    "In other words, **as a rough current approximation: \n",
    "GDP_growth = 1.9 \\* wage_growth,** i.e.\n",
    "\n",
    "$\\%(G) \\approx 1.9 * \\%(w)$ at current estimated parameters.\n",
    "\n",
    "This is an useful approximation since GDP is only released quarterly, \n",
    "whereas wage data is released monthly. \n",
    "(The result also depends on the interpolation\n",
    "method used in our *resample_main()*.)\n",
    "\n",
    "Appendix 3 arrives at the following linear regression result:\n",
    "\n",
    "$\\%(G) \\approx 1.3 * \\%(m w)$\n",
    "\n",
    "which takes the entire dataset since 1964 into account, \n",
    "using gdpinc_trend as time-varying multipler."
   ]
  },
  {
   "cell_type": "markdown",
   "metadata": {},
   "source": [
    "- - - -"
   ]
  },
  {
   "cell_type": "markdown",
   "metadata": {},
   "source": [
    "### APPENDIX 1: Linear regression of 0.49 R-squared if gdpinc multiplier is mistakenly treated as a constant"
   ]
  },
  {
   "cell_type": "code",
   "execution_count": 30,
   "metadata": {
    "collapsed": false
   },
   "outputs": [
    {
     "name": "stdout",
     "output_type": "stream",
     "text": [
      " ::  FIRST variable:\n",
      "count    691.000000\n",
      "mean      66.485116\n",
      "std       16.522582\n",
      "min       37.386155\n",
      "25%       55.670744\n",
      "50%       65.051719\n",
      "75%       79.089637\n",
      "max       96.832448\n",
      "Name: Y, dtype: float64\n",
      "\n",
      " ::  SECOND variable:\n",
      "count    633.000000\n",
      "mean      38.031736\n",
      "std        2.434287\n",
      "min       33.713467\n",
      "25%       35.911289\n",
      "50%       37.667098\n",
      "75%       39.439192\n",
      "max       43.360000\n",
      "Name: Y, dtype: float64\n",
      "\n",
      " ::  CORRELATION\n",
      "0.70095718007\n",
      "                            OLS Regression Results                            \n",
      "==============================================================================\n",
      "Dep. Variable:                      Y   R-squared:                       0.491\n",
      "Model:                            OLS   Adj. R-squared:                  0.491\n",
      "Method:                 Least Squares   F-statistic:                     607.6\n",
      "Date:                Thu, 10 Nov 2016   Prob (F-statistic):           2.12e-94\n",
      "Time:                        18:48:39   Log-Likelihood:                -2386.8\n",
      "No. Observations:                 631   AIC:                             4778.\n",
      "Df Residuals:                     629   BIC:                             4786.\n",
      "Df Model:                           1                                         \n",
      "Covariance Type:            nonrobust                                         \n",
      "==============================================================================\n",
      "                 coef    std err          t      P>|t|      [95.0% Conf. Int.]\n",
      "------------------------------------------------------------------------------\n",
      "Intercept    -95.1989      6.677    -14.257      0.000      -108.311   -82.087\n",
      "X              4.3208      0.175     24.649      0.000         3.977     4.665\n",
      "==============================================================================\n",
      "Omnibus:                     1052.387   Durbin-Watson:                   0.001\n",
      "Prob(Omnibus):                  0.000   Jarque-Bera (JB):               68.013\n",
      "Skew:                          -0.477   Prob(JB):                     1.70e-15\n",
      "Kurtosis:                       1.705   Cond. No.                         601.\n",
      "==============================================================================\n",
      "\n",
      "Warnings:\n",
      "[1] Standard Errors assume that the covariance matrix of the errors is correctly specified.\n"
     ]
    }
   ],
   "source": [
    "stat2( gdprworker[Y], rinc[Y] )"
   ]
  },
  {
   "cell_type": "markdown",
   "metadata": {},
   "source": [
    "- - - -"
   ]
  },
  {
   "cell_type": "markdown",
   "metadata": {},
   "source": [
    "### APPENDIX 2: Linear regression between real GDP growth and real wage growth: 0.19 R-squared when multiplier is treated as time-invariant"
   ]
  },
  {
   "cell_type": "markdown",
   "metadata": {},
   "source": [
    "Note: an alternative is to use the difference betweeen \n",
    "logarithmic values, but we intentionally use the pcent() function YoY \n",
    "since our data frequency is not even remotely continuous-time."
   ]
  },
  {
   "cell_type": "code",
   "execution_count": 31,
   "metadata": {
    "collapsed": false
   },
   "outputs": [
    {
     "name": "stdout",
     "output_type": "stream",
     "text": [
      " ::  FIRST variable:\n",
      "count    679.000000\n",
      "mean       2.884252\n",
      "std        2.437540\n",
      "min       -3.832416\n",
      "25%        1.656733\n",
      "50%        3.006804\n",
      "75%        4.260688\n",
      "max        9.206530\n",
      "Name: Y, dtype: float64\n",
      "\n",
      " ::  SECOND variable:\n",
      "count    621.000000\n",
      "mean       0.471273\n",
      "std        1.359933\n",
      "min       -3.716831\n",
      "25%       -0.508176\n",
      "50%        0.580607\n",
      "75%        1.355072\n",
      "max        4.590047\n",
      "Name: Y, dtype: float64\n",
      "\n",
      " ::  CORRELATION\n",
      "0.43615914959\n",
      "                            OLS Regression Results                            \n",
      "==============================================================================\n",
      "Dep. Variable:                      Y   R-squared:                       0.190\n",
      "Model:                            OLS   Adj. R-squared:                  0.189\n",
      "Method:                 Least Squares   F-statistic:                     144.9\n",
      "Date:                Thu, 10 Nov 2016   Prob (F-statistic):           3.92e-30\n",
      "Time:                        18:48:39   Log-Likelihood:                -1361.0\n",
      "No. Observations:                 619   AIC:                             2726.\n",
      "Df Residuals:                     617   BIC:                             2735.\n",
      "Df Model:                           1                                         \n",
      "Covariance Type:            nonrobust                                         \n",
      "==============================================================================\n",
      "                 coef    std err          t      P>|t|      [95.0% Conf. Int.]\n",
      "------------------------------------------------------------------------------\n",
      "Intercept      2.3898      0.093     25.728      0.000         2.207     2.572\n",
      "X              0.7768      0.065     12.039      0.000         0.650     0.904\n",
      "==============================================================================\n",
      "Omnibus:                       54.393   Durbin-Watson:                   0.035\n",
      "Prob(Omnibus):                  0.000   Jarque-Bera (JB):               98.036\n",
      "Skew:                          -0.568   Prob(JB):                     5.15e-22\n",
      "Kurtosis:                       4.584   Cond. No.                         1.65\n",
      "==============================================================================\n",
      "\n",
      "Warnings:\n",
      "[1] Standard Errors assume that the covariance matrix of the errors is correctly specified.\n"
     ]
    }
   ],
   "source": [
    "#  Examine year-over-year percentage growth:\n",
    "stat2( pcent(gdpr, 12)[Y], pcent(rinc, 12)[Y] ) "
   ]
  },
  {
   "cell_type": "markdown",
   "metadata": {},
   "source": [
    "- - - -"
   ]
  },
  {
   "cell_type": "markdown",
   "metadata": {},
   "source": [
    "### Appendix 3: Improved linear regression of growth model: 0.60 R-squared with time-variant multiplier (trend based)"
   ]
  },
  {
   "cell_type": "markdown",
   "metadata": {},
   "source": [
    "Let the Python variable mw represents the series $m_t w_t$ \n",
    "in our analytical model described in the conclusion:"
   ]
  },
  {
   "cell_type": "code",
   "execution_count": 32,
   "metadata": {
    "collapsed": false
   },
   "outputs": [],
   "source": [
    "#  The string argument allows us to label a DataFrame column:\n",
    "mw     = todf( gdpinc_trend * rinc, 'mw' )\n",
    "mwpc   = todf( pcent( mw, 12), 'mwpc' )\n",
    "gdprpc = todf( pcent( gdpr, 12), 'Gpc' )\n",
    "dataf = paste( [gdprpc, mwpc] )"
   ]
  },
  {
   "cell_type": "code",
   "execution_count": 33,
   "metadata": {
    "collapsed": false
   },
   "outputs": [
    {
     "name": "stdout",
     "output_type": "stream",
     "text": [
      "                            OLS Regression Results                            \n",
      "==============================================================================\n",
      "Dep. Variable:                    Gpc   R-squared:                       0.602\n",
      "Model:                            OLS   Adj. R-squared:                  0.601\n",
      "Method:                 Least Squares   F-statistic:                     933.7\n",
      "Date:                Thu, 10 Nov 2016   Prob (F-statistic):          1.17e-125\n",
      "Time:                        18:48:40   Log-Likelihood:                -1398.1\n",
      "No. Observations:                 619   AIC:                             2798.\n",
      "Df Residuals:                     618   BIC:                             2803.\n",
      "Df Model:                           1                                         \n",
      "Covariance Type:            nonrobust                                         \n",
      "==============================================================================\n",
      "                 coef    std err          t      P>|t|      [95.0% Conf. Int.]\n",
      "------------------------------------------------------------------------------\n",
      "mwpc           1.3131      0.043     30.557      0.000         1.229     1.397\n",
      "==============================================================================\n",
      "Omnibus:                       85.296   Durbin-Watson:                   0.044\n",
      "Prob(Omnibus):                  0.000   Jarque-Bera (JB):              202.796\n",
      "Skew:                          -0.736   Prob(JB):                     9.19e-45\n",
      "Kurtosis:                       5.387   Cond. No.                         1.00\n",
      "==============================================================================\n",
      "\n",
      "Warnings:\n",
      "[1] Standard Errors assume that the covariance matrix of the errors is correctly specified.\n"
     ]
    }
   ],
   "source": [
    "#  The 0 in the formula means no intercept:\n",
    "result = regressformula( dataf['1964':], 'Gpc ~ 0 + mwpc' )\n",
    "print(result.summary())"
   ]
  },
  {
   "cell_type": "markdown",
   "metadata": {},
   "source": [
    "R-squared after 1964 looks respectable at around 0.60, however, \n",
    "the fit is terrible after the Great Recession. \n",
    "\n",
    "The estimated coefficent implies this fitted equation: \n",
    "\n",
    "$\\%(G) \\approx 1.3 * \\%(m w)$\n",
    "\n",
    "In contrast, our *local numerical approximation* derived in the conclusion \n",
    "suggests for the most recent estimated parameters: \n",
    "\n",
    "$\\%(G) \\approx 1.9 * \\%(w)$"
   ]
  }
 ],
 "metadata": {
  "kernelspec": {
   "display_name": "Python 2",
   "language": "python",
   "name": "python2"
  },
  "language_info": {
   "codemirror_mode": {
    "name": "ipython",
    "version": 2
   },
   "file_extension": ".py",
   "mimetype": "text/x-python",
   "name": "python",
   "nbconvert_exporter": "python",
   "pygments_lexer": "ipython2",
   "version": "2.7.11"
  }
 },
 "nbformat": 4,
 "nbformat_minor": 0
}
