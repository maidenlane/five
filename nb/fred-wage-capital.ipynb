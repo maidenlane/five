{
 "metadata": {
  "name": "",
  "signature": "sha256:3b8a80ab8a88756d2556468924f438828e0f0c5cab0a85a2ae3bdedf3a68dd48"
 },
 "nbformat": 3,
 "nbformat_minor": 0,
 "worksheets": [
  {
   "cells": [
    {
     "cell_type": "heading",
     "level": 1,
     "metadata": {},
     "source": [
      "Real capital equivalence to wage-income"
     ]
    },
    {
     "cell_type": "heading",
     "level": 2,
     "metadata": {},
     "source": [
      "How much real capital has been necessary for risk-free interest to match annual wage?"
     ]
    },
    {
     "cell_type": "markdown",
     "metadata": {},
     "source": [
      "*Dependencies:*\n",
      "     - Linux, bash\n",
      "     - Python: matplotlib, pandas, numpy\n",
      "     - Modules: yi_1tools, yi_fred, yi_timeseries\n",
      "     \n",
      "*CHANGE LOG*\n",
      "    \n",
      "    2014-12-06  Update code and commentary.\n",
      "    2014-08-11  First version."
     ]
    },
    {
     "cell_type": "code",
     "collapsed": false,
     "input": [
      "#  NOTEBOOK settings and system details:\n",
      "\n",
      "#  Assume that the backend is LINUX (our particular distro is Ubuntu, running bash shell):\n",
      "print '\\n ::  TIMESTAMP of last notebook execution:'\n",
      "!date\n",
      "print '\\n ::  IPython version:'\n",
      "!ipython --version\n",
      "\n",
      "#  Automatically reload modified modules:\n",
      "%load_ext autoreload\n",
      "%autoreload 2   #  0 will disable autoreload.\n",
      "#  Generate plots inside notebook:\n",
      "%matplotlib inline\n",
      "\n",
      "#  DISPLAY options\n",
      "from IPython.display import Image \n",
      "#  e.g. Image(filename='holt-winters-equations.png', embed=True)\n",
      "from IPython.display import YouTubeVideo\n",
      "#  e.g. YouTubeVideo('1j_HxD4iLn8')\n",
      "from IPython.display import HTML # useful for snippets\n",
      "#  e.g. HTML('<iframe src=http://en.mobile.wikipedia.org/?useformat=mobile width=700 height=350></iframe>')\n",
      "import pandas as pd\n",
      "print '\\n ::  pandas version:'\n",
      "print pd.__version__\n",
      "#      pandas DataFrames are represented as text by default; enable HTML representation:\n",
      "#      [Deprecated: pd.core.format.set_printoptions( notebook_repr_html=True ) ]\n",
      "pd.set_option( 'display.notebook_repr_html', False )\n",
      "\n",
      "#  MATH display, use %%latex, rather than the following:\n",
      "#                from IPython.display import Math\n",
      "#                from IPython.display import Latex\n",
      "\n",
      "print '\\n ::  Working directory (set as $workd):'\n",
      "workd, = !pwd\n",
      "print workd + '\\n'"
     ],
     "language": "python",
     "metadata": {},
     "outputs": [
      {
       "output_type": "stream",
       "stream": "stdout",
       "text": [
        "\n",
        " ::  TIMESTAMP of last notebook execution:\n"
       ]
      },
      {
       "output_type": "stream",
       "stream": "stdout",
       "text": [
        "Sun Dec  7 11:45:35 PST 2014\r\n"
       ]
      },
      {
       "output_type": "stream",
       "stream": "stdout",
       "text": [
        "\n",
        " ::  IPython version:\n"
       ]
      },
      {
       "output_type": "stream",
       "stream": "stdout",
       "text": [
        "2.3.0"
       ]
      },
      {
       "output_type": "stream",
       "stream": "stdout",
       "text": [
        "\r\n"
       ]
      },
      {
       "output_type": "stream",
       "stream": "stdout",
       "text": [
        "\n",
        " ::  pandas version:\n",
        "0.15.0\n",
        "\n",
        " ::  Working directory (set as $workd):\n"
       ]
      },
      {
       "output_type": "stream",
       "stream": "stdout",
       "text": [
        "/home/yaya/Dropbox/ipy/fecon235/nb\n",
        "\n"
       ]
      }
     ],
     "prompt_number": 1
    },
    {
     "cell_type": "code",
     "collapsed": false,
     "input": [
      "#  Some useful modules:       \n",
      "from yi_1tools import *\n",
      "from yi_fred import *\n",
      "from yi_timeseries import *"
     ],
     "language": "python",
     "metadata": {},
     "outputs": [],
     "prompt_number": 2
    },
    {
     "cell_type": "heading",
     "level": 3,
     "metadata": {},
     "source": [
      "From wage data to real annual income"
     ]
    },
    {
     "cell_type": "code",
     "collapsed": false,
     "input": [
      "#      GET DATA released monthly since 1964\n",
      "#      for private-sector nonfarm production/nonsupervisory jobs:\n",
      "wage = getfred( m4wage  )"
     ],
     "language": "python",
     "metadata": {},
     "outputs": [],
     "prompt_number": 3
    },
    {
     "cell_type": "code",
     "collapsed": false,
     "input": [
      "#     wage in dollars/hour\n",
      "inc = wage * 2000\n",
      "#     Assume 40 hours/week at 50 weeks/year \n",
      "#     to derive ANNUAL INCOME for average nonfarm worker."
     ],
     "language": "python",
     "metadata": {},
     "outputs": [],
     "prompt_number": 4
    },
    {
     "cell_type": "code",
     "collapsed": false,
     "input": [
      "#  We also want to consider dollars in today's real terms:\n",
      "deflator = getfred(m4defl)\n",
      "tail( deflator )"
     ],
     "language": "python",
     "metadata": {},
     "outputs": [
      {
       "metadata": {},
       "output_type": "pyout",
       "prompt_number": 5,
       "text": [
        "                   Y\n",
        "T                   \n",
        "2014-04-01  1.007236\n",
        "2014-05-01  1.004633\n",
        "2014-06-01  1.002719\n",
        "2014-07-01  1.001779\n",
        "2014-08-01  1.002172\n",
        "2014-09-01  1.001099\n",
        "2014-10-01  1.000000"
       ]
      }
     ],
     "prompt_number": 5
    },
    {
     "cell_type": "code",
     "collapsed": false,
     "input": [
      "#    = REAL annual income\n",
      "rinc = todf( inc * deflator )\n",
      "stats( rinc )"
     ],
     "language": "python",
     "metadata": {},
     "outputs": [
      {
       "output_type": "stream",
       "stream": "stdout",
       "text": [
        "                  Y\n",
        "count    610.000000\n",
        "mean   36882.474376\n",
        "std     2224.209179\n",
        "min    32852.481683\n",
        "25%    34894.258560\n",
        "50%    36603.214874\n",
        "75%    38345.660801\n",
        "max    41441.690745\n",
        "\n",
        " ::  Index on min:\n",
        "Y   1964-03-01\n",
        "dtype: datetime64[ns]\n",
        "\n",
        " ::  Index on max:\n",
        "Y   2014-02-01\n",
        "dtype: datetime64[ns]\n",
        "\n",
        " ::  Head:\n",
        "                       Y\n",
        "T                       \n",
        "1964-01-01  32899.763431\n",
        "1964-02-01  32874.224674\n",
        "1964-03-01  32852.481683\n",
        "1964-04-01  33096.498702\n",
        "1964-05-01  33080.111205\n",
        "1964-06-01  33160.762789\n",
        "1964-07-01  33137.010060\n",
        "\n",
        " ::  Tail:\n",
        "                       Y\n",
        "T                       \n",
        "2014-04-01  41296.675599\n",
        "2014-05-01  41270.318117\n",
        "2014-06-01  41271.898392\n",
        "2014-07-01  41293.348465\n",
        "2014-08-01  41429.776439\n",
        "2014-09-01  41385.426582\n",
        "2014-10-01  41400.000000"
       ]
      },
      {
       "output_type": "stream",
       "stream": "stdout",
       "text": [
        "\n",
        "\n",
        " ::  Correlation matrix:\n",
        "   Y\n",
        "Y  1\n"
       ]
      }
     ],
     "prompt_number": 6
    },
    {
     "cell_type": "code",
     "collapsed": false,
     "input": [
      "#  plot of inc is an uninteresting upward slope, \n",
      "#     and it is difficult to gauge worth of \n",
      "#     old dollars from decades ago.\n",
      "#  Therefore, plot rinc\n",
      "plotfred(rinc, 'Real annual wage')"
     ],
     "language": "python",
     "metadata": {},
     "outputs": [
      {
       "metadata": {},
       "output_type": "display_data",
       "png": "[encoded data removed]",
       "text": [
        "<matplotlib.figure.Figure at 0xad328dac>"
       ]
      },
      {
       "output_type": "stream",
       "stream": "stdout",
       "text": [
        " ::  Finished: plotdf-Real_annual_wage.png\n"
       ]
      }
     ],
     "prompt_number": 7
    },
    {
     "cell_type": "markdown",
     "metadata": {},
     "source": [
      "It is interesting that **real annual income ranges from 34K to 42K** in a non-monotonic way historically. Real earnings can go down dramatically when inflation rages."
     ]
    },
    {
     "cell_type": "code",
     "collapsed": false,
     "input": [
      "#  Let see what the geometric growth rate of real annual income:\n",
      "georet( rinc, 12 )"
     ],
     "language": "python",
     "metadata": {},
     "outputs": [
      {
       "metadata": {},
       "output_type": "pyout",
       "prompt_number": 8,
       "text": [
        "[0.45, 0.46, 0.83, 12]"
       ]
      }
     ],
     "prompt_number": 8
    },
    {
     "cell_type": "markdown",
     "metadata": {},
     "source": [
      "Thus real growth in wages (and thus income) since 1964 is about 0.45% per annum."
     ]
    },
    {
     "cell_type": "heading",
     "level": 3,
     "metadata": {},
     "source": [
      "Interest rate used to derive capital equivalence"
     ]
    },
    {
     "cell_type": "code",
     "collapsed": false,
     "input": [
      "#     We use three-month Treasury bills as our \"risk-free\" interest rate.\n",
      "irate = monthly(getfred( d4bills ))"
     ],
     "language": "python",
     "metadata": {},
     "outputs": [],
     "prompt_number": 9
    },
    {
     "cell_type": "code",
     "collapsed": false,
     "input": [
      "#  irate is used as a divisor in our calculations, \n",
      "#       so if it is zero or negative, that's a numerical disaster!\n",
      "\n",
      "#  Assert 25 bp FLOOR, esp. in the event of negative interest rates!\n",
      "irate[ irate < 0.25 ] = 0.25\n",
      "#            ^conditional example in pandas,\n",
      "#             no need for apply or max functions here.\n",
      "\n",
      "#  In practice, the floor could be maintained by increasing \n",
      "#  the duration of our Treasury bill, perhaps to a Treasury note.\n",
      "\n",
      "plotfred( irate )"
     ],
     "language": "python",
     "metadata": {},
     "outputs": [
      {
       "metadata": {},
       "output_type": "display_data",
       "png": "[encoded data removed]",
       "text": [
        "<matplotlib.figure.Figure at 0xad308eec>"
       ]
      }
     ],
     "prompt_number": 10
    },
    {
     "cell_type": "markdown",
     "metadata": {},
     "source": [
      "Note how that **25 basis point FLOOR** will make a vast difference at the zero end of interest rates: for otherwise, capital equivalence could be absurdly high as \\$350 million."
     ]
    },
    {
     "cell_type": "heading",
     "level": 3,
     "metadata": {},
     "source": [
      "So how much real capital is required for risk-free investment to equal annual wages?"
     ]
    },
    {
     "cell_type": "code",
     "collapsed": false,
     "input": [
      "rcap = todf( rinc / (irate * 10000.0) )\n",
      "# Real capital expressed in $million\n",
      "stats(rcap)"
     ],
     "language": "python",
     "metadata": {},
     "outputs": [
      {
       "output_type": "stream",
       "stream": "stdout",
       "text": [
        "                Y\n",
        "count  610.000000\n",
        "mean     2.711055\n",
        "std      5.048234\n",
        "min      0.221214\n",
        "25%      0.542302\n",
        "50%      0.718531\n",
        "75%      1.085734\n",
        "max     16.576676\n",
        "\n",
        " ::  Index on min:\n",
        "Y   1981-05-01\n",
        "dtype: datetime64[ns]\n",
        "\n",
        " ::  Index on max:\n",
        "Y   2014-02-01\n",
        "dtype: datetime64[ns]\n",
        "\n",
        " ::  Head:\n",
        "                   Y\n",
        "T                   \n",
        "1964-01-01  0.932005\n",
        "1964-02-01  0.933927\n",
        "1964-03-01  0.928036\n",
        "1964-04-01  0.956546\n",
        "1964-05-01  0.953317\n",
        "1964-06-01  0.955642\n",
        "1964-07-01  0.957717\n",
        "\n",
        " ::  Tail:\n",
        "                    Y\n",
        "T                    \n",
        "2014-04-01  16.518670\n",
        "2014-05-01  16.508127\n",
        "2014-06-01  16.508759\n",
        "2014-07-01  16.517339\n",
        "2014-08-01  16.571911\n",
        "2014-09-01  16.554171\n",
        "2014-10-01  16.560000"
       ]
      },
      {
       "output_type": "stream",
       "stream": "stdout",
       "text": [
        "\n",
        "\n",
        " ::  Correlation matrix:\n",
        "   Y\n",
        "Y  1\n"
       ]
      }
     ],
     "prompt_number": 11
    },
    {
     "cell_type": "heading",
     "level": 3,
     "metadata": {},
     "source": [
      "\"Normalcy\" before 2008, real capital equivalent looked like:"
     ]
    },
    {
     "cell_type": "code",
     "collapsed": false,
     "input": [
      "plotfred(rcap[:'2007-12-31'])"
     ],
     "language": "python",
     "metadata": {},
     "outputs": [
      {
       "metadata": {},
       "output_type": "display_data",
       "png": "[encoded data removed]",
       "text": [
        "<matplotlib.figure.Figure at 0xad2c120c>"
       ]
      }
     ],
     "prompt_number": 12
    },
    {
     "cell_type": "heading",
     "level": 3,
     "metadata": {},
     "source": [
      "Before the Great Recession, the real capital equivalent stayed under \\$4 million, most of time below \\$1 million. However, with the Fed's zero rate policy, the real capital equivalent has zoomed past \\$16 million! "
     ]
    },
    {
     "cell_type": "code",
     "collapsed": false,
     "input": [
      "plotfred(rcap)"
     ],
     "language": "python",
     "metadata": {},
     "outputs": [
      {
       "metadata": {},
       "output_type": "display_data",
       "png": "[encoded data removed]",
       "text": [
        "<matplotlib.figure.Figure at 0xad28172c>"
       ]
      }
     ],
     "prompt_number": 13
    },
    {
     "cell_type": "heading",
     "level": 3,
     "metadata": {},
     "source": [
      "Since the capital equivalence has gotten stratospheric recently due to the Fed's zero rate policy, it's easy to understand why investment has shifted into long-term bonds and risky equities."
     ]
    },
    {
     "cell_type": "markdown",
     "metadata": {},
     "source": [
      "The mean since 1964 of the real capital equivalent (computed around the risk-free interest rate) to real wages is around **\\$2.7 million**. Clearly one should be cautious of that figure because of the extraordinary range."
     ]
    },
    {
     "cell_type": "heading",
     "level": 2,
     "metadata": {},
     "source": [
      "Equivalency break-even return"
     ]
    },
    {
     "cell_type": "markdown",
     "metadata": {},
     "source": [
      "So **supposing real capital is fixed at \\$1 million**, let's compute the equivalency rate of return to break-even with real wage. "
     ]
    },
    {
     "cell_type": "code",
     "collapsed": false,
     "input": [
      "bereturn = todf( rinc / 10000.0 )\n",
      "plotfred( bereturn )"
     ],
     "language": "python",
     "metadata": {},
     "outputs": [
      {
       "metadata": {},
       "output_type": "display_data",
       "png": "[encoded data removed]",
       "text": [
        "<matplotlib.figure.Figure at 0xad26a66c>"
       ]
      }
     ],
     "prompt_number": 14
    },
    {
     "cell_type": "code",
     "collapsed": false,
     "input": [
      "bereturn.describe()"
     ],
     "language": "python",
     "metadata": {},
     "outputs": [
      {
       "metadata": {},
       "output_type": "pyout",
       "prompt_number": 15,
       "text": [
        "                Y\n",
        "count  610.000000\n",
        "mean     3.688247\n",
        "std      0.222421\n",
        "min      3.285248\n",
        "25%      3.489426\n",
        "50%      3.660321\n",
        "75%      3.834566\n",
        "max      4.144169"
       ]
      }
     ],
     "prompt_number": 15
    },
    {
     "cell_type": "heading",
     "level": 2,
     "metadata": {},
     "source": [
      "Conclusion: historically one needs around a 3.7% return on current \\$1 million to approximate the earnings of a nonfarm employee."
     ]
    }
   ],
   "metadata": {}
  }
 ]
}